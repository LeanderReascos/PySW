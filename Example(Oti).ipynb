{
 "cells": [
  {
   "cell_type": "code",
   "execution_count": null,
   "id": "adb5308e",
   "metadata": {},
   "outputs": [],
   "source": [
    "from IPython.display import display, Math\n",
    "def solver(H, order):\n",
    "    H_expanded = H.domain_expansion()[0]\n",
    "    H_0 = H_expanded.group_by_order()[0]\n",
    "    H_final = deepcopy(H_0)\n",
    "    Bk = 0\n",
    "\n",
    "    S = 0\n",
    "\n",
    "    for k in range(1, order+1):\n",
    "        print(f\"Order {k}\")\n",
    "        H_below_k = sum(H_expanded.group_by_order().get(j, 0) for j in range(k+1))\n",
    "        Vk = H_below_k.group_by_diagonal()[False].group_by_order().get(k, 0)\n",
    "        S_k, symbols_sk = get_ansatz(Vk + Bk)\n",
    "        solution_sk = dict(zip(symbols_sk, [0 for _ in symbols_sk]))\n",
    "        #display(Bk)\n",
    "        for key, value in ((H_0 | S_k) + (Vk + Bk)).group_by_infinite_terms().items():\n",
    "            print(\"Im here 1\")\n",
    "            mats = sp.Add(*[sp.Mul(*map(lambda x: x.representation , term.info[\"coeff\"])) * term.mat_representation[\"finite\"] for term in value.terms])\n",
    "            solution_sk.update(sp.solve(mats, symbols_sk))\n",
    "        \n",
    "        S_k_solved = 0\n",
    "        for term in S_k.terms:\n",
    "            print(\"Im here 2\")\n",
    "            term.mat_representation[\"finite\"] = term.mat_representation[\"finite\"].subs(solution_sk)\n",
    "            if sum(sp.Abs(term.mat_representation[\"finite\"])) == 0:\n",
    "                continue\n",
    "            S_k_solved += term\n",
    "        S += S_k_solved\n",
    "        display(S)\n",
    "        tmp_H = float(1 / sp.factorial(k)) * H_below_k.nested_commutator(S, k)\n",
    "        H_final += tmp_H.group_by_diagonal().get(True, Expression(Term(Coefficient(0)))).group_by_order().get(k, 0)\n",
    "        display(H_final)\n",
    "        Bk = tmp_H.group_by_diagonal()[False].group_by_order()[k+1]\n",
    "    \n",
    "    return H_final\n"
   ]
  },
  {
   "cell_type": "markdown",
   "id": "16e5dbb9",
   "metadata": {},
   "source": [
    "# Trying out sympy module"
   ]
  },
  {
   "cell_type": "code",
   "execution_count": 1,
   "id": "ce5eff91",
   "metadata": {},
   "outputs": [],
   "source": [
    "%load_ext autoreload\n",
    "%autoreload 2"
   ]
  },
  {
   "cell_type": "code",
   "execution_count": 2,
   "id": "ddf2a6b7",
   "metadata": {},
   "outputs": [],
   "source": [
    "import sympy as sp\n",
    "import numpy as np\n",
    "from Modules.sympy.classes import *\n",
    "from Modules.sympy.utils import *\n",
    "from sympy.physics.quantum import Dagger"
   ]
  },
  {
   "cell_type": "code",
   "execution_count": 3,
   "id": "1f42ca56",
   "metadata": {},
   "outputs": [],
   "source": [
    "sx = RDOperator(\"sigma_x\", subspace = \"spin\", dim = 2, matrix=sp.Matrix([[0,1],[1,0]]))\n",
    "sz = RDOperator(\"sigma_z\", subspace = \"spin\", dim = 2, matrix=sp.Matrix([[1,0],[0,-1]]))\n"
   ]
  },
  {
   "cell_type": "code",
   "execution_count": 24,
   "id": "79863889",
   "metadata": {},
   "outputs": [
    {
     "data": {
      "text/latex": [
       "$\\displaystyle \\frac{\\hbar \\Omega_{z} \\sigma_{z}}{2} + \\hbar g \\left(a + {a^\\dagger}\\right) \\sigma_{x} + \\hbar \\omega {a^\\dagger} a$"
      ],
      "text/plain": [
       "hbar*Omega_z*sigma_z/2 + hbar*g*(a + {a^\\dagger})*sigma_x + hbar*omega*{a^\\dagger}*a"
      ]
     },
     "execution_count": 24,
     "metadata": {},
     "output_type": "execute_result"
    }
   ],
   "source": [
    "names = [\"sigma_x\", \"sigma_z\"]\n",
    "subspaces = [\"spin\", \"spin\"]\n",
    "dims = [2, 2, 2]\n",
    "matrices = [sp.Matrix([[0,1],[1,0]]), sp.Matrix([[1,0],[0,-1]])]\n",
    "''\n",
    "sx, sz = get_finite_operators(names, subspaces, dims, matrices)\n",
    "a = RDBoson(\"a\", subspace =\"b\")\n",
    "ad = RDBoson(\"{a^\\\\dagger}\", subspace =\"b\", is_annihilation=False)\n",
    "\n",
    "hbar = RDsymbol(\"hbar\", order = 0)\n",
    "omega = RDsymbol(\"omega\", order = 0)\n",
    "Omega_z = RDsymbol(\"Omega_z\", order = 0)\n",
    "g = RDsymbol(\"g\", order = 1)\n",
    "f = RDsymbol(\"f\", order = 2)\n",
    "\n",
    "H = hbar * omega * ad * a + hbar * Omega_z * sp.Rational(1,2) * sz + hbar * g * (a + ad) * sx\n",
    "H"
   ]
  },
  {
   "cell_type": "code",
   "execution_count": 25,
   "id": "c9e49733",
   "metadata": {},
   "outputs": [
    {
     "data": {
      "text/latex": [
       "$\\displaystyle \\frac{\\hbar \\Omega_{z} \\sigma_{z}}{2} + \\hbar g a \\sigma_{x} + \\hbar g {a^\\dagger} \\sigma_{x} + \\hbar \\omega {a^\\dagger} a$"
      ],
      "text/plain": [
       "hbar*Omega_z*sigma_z/2 + hbar*g*a*sigma_x + hbar*g*{a^\\dagger}*sigma_x + hbar*omega*{a^\\dagger}*a"
      ]
     },
     "execution_count": 25,
     "metadata": {},
     "output_type": "execute_result"
    }
   ],
   "source": [
    "H_ordered = group_by_order(H)\n",
    "H0 = H_ordered.get(0, 0)\n",
    "Vk = H_ordered.get(1, 0)\n",
    "H0 + Vk"
   ]
  },
  {
   "cell_type": "code",
   "execution_count": 68,
   "id": "9386907d",
   "metadata": {},
   "outputs": [],
   "source": [
    "def make_matrix(name='a', n=2):\n",
    "    symbolss = [[sp.symbols(f'{name}_'+ '{' +f'{i}{j}' + '}') for j in range(n)] for i in range(n)]\n",
    "    s = sp.Matrix(symbolss)\n",
    "    return s, s.reshape(1,n*n)"
   ]
  },
  {
   "cell_type": "code",
   "execution_count": 69,
   "id": "1c44cc1b",
   "metadata": {},
   "outputs": [],
   "source": [
    "S1 = RDOperator('S1', subspace='finite', dim=2, matrix=make_matrix('S1', 2)[0])\n",
    "S2 = RDOperator('S2', subspace='finite', dim=2, matrix=make_matrix('S2', 2)[0])\n",
    "S1_total = S1 * a + S2 * ad\n",
    "equations_to_solve = group_by_infinite_operators(expand_commutator(Commutator(H0, S1_total)).doit() + Vk)\n",
    "equations = []\n",
    "for _, value in equations_to_solve.items():\n",
    "    equations.append(value)\n",
    "matrices = [get_matrix(eq) for eq in equations if eq != 0]"
   ]
  },
  {
   "cell_type": "code",
   "execution_count": 70,
   "id": "034344e3",
   "metadata": {},
   "outputs": [
    {
     "data": {
      "text/latex": [
       "$\\displaystyle \\left[\\begin{matrix}- S1_{00} \\hbar \\omega & S1_{01} \\hbar \\Omega_{z} - S1_{01} \\hbar \\omega + \\hbar g\\\\- S1_{10} \\hbar \\Omega_{z} - S1_{10} \\hbar \\omega + \\hbar g & - S1_{11} \\hbar \\omega\\end{matrix}\\right]$"
      ],
      "text/plain": [
       "Matrix([\n",
       "[                                -S1_{00}*hbar*omega, S1_{01}*hbar*Omega_z - S1_{01}*hbar*omega + hbar*g],\n",
       "[-S1_{10}*hbar*Omega_z - S1_{10}*hbar*omega + hbar*g,                                -S1_{11}*hbar*omega]])"
      ]
     },
     "execution_count": 70,
     "metadata": {},
     "output_type": "execute_result"
    }
   ],
   "source": [
    "matrices[0]"
   ]
  },
  {
   "cell_type": "code",
   "execution_count": 71,
   "id": "8e56bdfc",
   "metadata": {},
   "outputs": [
    {
     "data": {
      "text/latex": [
       "$\\displaystyle \\left[\\begin{matrix}S2_{00} \\hbar \\omega & S2_{01} \\hbar \\Omega_{z} + S2_{01} \\hbar \\omega + \\hbar g\\\\- S2_{10} \\hbar \\Omega_{z} + S2_{10} \\hbar \\omega + \\hbar g & S2_{11} \\hbar \\omega\\end{matrix}\\right]$"
      ],
      "text/plain": [
       "Matrix([\n",
       "[                                 S2_{00}*hbar*omega, S2_{01}*hbar*Omega_z + S2_{01}*hbar*omega + hbar*g],\n",
       "[-S2_{10}*hbar*Omega_z + S2_{10}*hbar*omega + hbar*g,                                 S2_{11}*hbar*omega]])"
      ]
     },
     "execution_count": 71,
     "metadata": {},
     "output_type": "execute_result"
    }
   ],
   "source": [
    "matrices[1] "
   ]
  },
  {
   "cell_type": "code",
   "execution_count": 113,
   "id": "ca95bfce",
   "metadata": {},
   "outputs": [
    {
     "ename": "ValueError",
     "evalue": "\nCan't calculate derivative wrt Omega_z.",
     "output_type": "error",
     "traceback": [
      "\u001b[0;31m---------------------------------------------------------------------------\u001b[0m",
      "\u001b[0;31mValueError\u001b[0m                                Traceback (most recent call last)",
      "Cell \u001b[0;32mIn[113], line 1\u001b[0m\n\u001b[0;32m----> 1\u001b[0m sp\u001b[38;5;241m.\u001b[39msolve(\u001b[38;5;28mlist\u001b[39m(matrices[\u001b[38;5;241m0\u001b[39m]\u001b[38;5;241m.\u001b[39mreshape(\u001b[38;5;241m4\u001b[39m,\u001b[38;5;241m1\u001b[39m))[\u001b[38;5;241m1\u001b[39m], \u001b[38;5;28mtuple\u001b[39m(make_matrix(\u001b[38;5;124m'\u001b[39m\u001b[38;5;124mS1\u001b[39m\u001b[38;5;124m'\u001b[39m, \u001b[38;5;241m2\u001b[39m)[\u001b[38;5;241m0\u001b[39m])[\u001b[38;5;241m1\u001b[39m])\n",
      "File \u001b[0;32m~/miniconda3/envs/main/lib/python3.11/site-packages/sympy/solvers/solvers.py:1112\u001b[0m, in \u001b[0;36msolve\u001b[0;34m(f, *symbols, **flags)\u001b[0m\n\u001b[1;32m   1108\u001b[0m \u001b[38;5;66;03m#\u001b[39;00m\n\u001b[1;32m   1109\u001b[0m \u001b[38;5;66;03m# try to get a solution\u001b[39;00m\n\u001b[1;32m   1110\u001b[0m \u001b[38;5;66;03m###########################################################################\u001b[39;00m\n\u001b[1;32m   1111\u001b[0m \u001b[38;5;28;01mif\u001b[39;00m bare_f:\n\u001b[0;32m-> 1112\u001b[0m     solution \u001b[38;5;241m=\u001b[39m _solve(f[\u001b[38;5;241m0\u001b[39m], \u001b[38;5;241m*\u001b[39msymbols, \u001b[38;5;241m*\u001b[39m\u001b[38;5;241m*\u001b[39mflags)\n\u001b[1;32m   1113\u001b[0m \u001b[38;5;28;01melse\u001b[39;00m:\n\u001b[1;32m   1114\u001b[0m     solution \u001b[38;5;241m=\u001b[39m _solve_system(f, symbols, \u001b[38;5;241m*\u001b[39m\u001b[38;5;241m*\u001b[39mflags)\n",
      "File \u001b[0;32m~/miniconda3/envs/main/lib/python3.11/site-packages/sympy/solvers/solvers.py:1473\u001b[0m, in \u001b[0;36m_solve\u001b[0;34m(f, *symbols, **flags)\u001b[0m\n\u001b[1;32m   1469\u001b[0m     flags[\u001b[38;5;124m'\u001b[39m\u001b[38;5;124msimplify\u001b[39m\u001b[38;5;124m'\u001b[39m] \u001b[38;5;241m=\u001b[39m \u001b[38;5;28;01mFalse\u001b[39;00m\n\u001b[1;32m   1470\u001b[0m \u001b[38;5;28;01melse\u001b[39;00m:\n\u001b[1;32m   1471\u001b[0m     \u001b[38;5;66;03m# first see if it really depends on symbol and whether there\u001b[39;00m\n\u001b[1;32m   1472\u001b[0m     \u001b[38;5;66;03m# is only a linear solution\u001b[39;00m\n\u001b[0;32m-> 1473\u001b[0m     f_num, sol \u001b[38;5;241m=\u001b[39m solve_linear(f, symbols\u001b[38;5;241m=\u001b[39msymbols)\n\u001b[1;32m   1474\u001b[0m     \u001b[38;5;28;01mif\u001b[39;00m f_num\u001b[38;5;241m.\u001b[39mis_zero \u001b[38;5;129;01mor\u001b[39;00m sol \u001b[38;5;129;01mis\u001b[39;00m S\u001b[38;5;241m.\u001b[39mNaN:\n\u001b[1;32m   1475\u001b[0m         \u001b[38;5;28;01mreturn\u001b[39;00m []\n",
      "File \u001b[0;32m~/miniconda3/envs/main/lib/python3.11/site-packages/sympy/solvers/solvers.py:2182\u001b[0m, in \u001b[0;36msolve_linear\u001b[0;34m(lhs, rhs, symbols, exclude)\u001b[0m\n\u001b[1;32m   2179\u001b[0m \u001b[38;5;66;03m# dnewn_dxi can be nonzero if it survives differentation by any\u001b[39;00m\n\u001b[1;32m   2180\u001b[0m \u001b[38;5;66;03m# of its free symbols\u001b[39;00m\n\u001b[1;32m   2181\u001b[0m free \u001b[38;5;241m=\u001b[39m dnewn_dxi\u001b[38;5;241m.\u001b[39mfree_symbols\n\u001b[0;32m-> 2182\u001b[0m \u001b[38;5;28;01mif\u001b[39;00m dnewn_dxi \u001b[38;5;129;01mand\u001b[39;00m (\u001b[38;5;129;01mnot\u001b[39;00m free \u001b[38;5;129;01mor\u001b[39;00m \u001b[38;5;28many\u001b[39m(dnewn_dxi\u001b[38;5;241m.\u001b[39mdiff(s) \u001b[38;5;28;01mfor\u001b[39;00m s \u001b[38;5;129;01min\u001b[39;00m free) \u001b[38;5;129;01mor\u001b[39;00m free \u001b[38;5;241m==\u001b[39m symbols):\n\u001b[1;32m   2183\u001b[0m     all_zero \u001b[38;5;241m=\u001b[39m \u001b[38;5;28;01mFalse\u001b[39;00m\n\u001b[1;32m   2184\u001b[0m     \u001b[38;5;28;01mif\u001b[39;00m dnewn_dxi \u001b[38;5;129;01mis\u001b[39;00m S\u001b[38;5;241m.\u001b[39mNaN:\n",
      "File \u001b[0;32m~/miniconda3/envs/main/lib/python3.11/site-packages/sympy/solvers/solvers.py:2182\u001b[0m, in \u001b[0;36m<genexpr>\u001b[0;34m(.0)\u001b[0m\n\u001b[1;32m   2179\u001b[0m \u001b[38;5;66;03m# dnewn_dxi can be nonzero if it survives differentation by any\u001b[39;00m\n\u001b[1;32m   2180\u001b[0m \u001b[38;5;66;03m# of its free symbols\u001b[39;00m\n\u001b[1;32m   2181\u001b[0m free \u001b[38;5;241m=\u001b[39m dnewn_dxi\u001b[38;5;241m.\u001b[39mfree_symbols\n\u001b[0;32m-> 2182\u001b[0m \u001b[38;5;28;01mif\u001b[39;00m dnewn_dxi \u001b[38;5;129;01mand\u001b[39;00m (\u001b[38;5;129;01mnot\u001b[39;00m free \u001b[38;5;129;01mor\u001b[39;00m \u001b[38;5;28many\u001b[39m(dnewn_dxi\u001b[38;5;241m.\u001b[39mdiff(s) \u001b[38;5;28;01mfor\u001b[39;00m s \u001b[38;5;129;01min\u001b[39;00m free) \u001b[38;5;129;01mor\u001b[39;00m free \u001b[38;5;241m==\u001b[39m symbols):\n\u001b[1;32m   2183\u001b[0m     all_zero \u001b[38;5;241m=\u001b[39m \u001b[38;5;28;01mFalse\u001b[39;00m\n\u001b[1;32m   2184\u001b[0m     \u001b[38;5;28;01mif\u001b[39;00m dnewn_dxi \u001b[38;5;129;01mis\u001b[39;00m S\u001b[38;5;241m.\u001b[39mNaN:\n",
      "File \u001b[0;32m~/miniconda3/envs/main/lib/python3.11/site-packages/sympy/core/expr.py:3555\u001b[0m, in \u001b[0;36mExpr.diff\u001b[0;34m(self, *symbols, **assumptions)\u001b[0m\n\u001b[1;32m   3553\u001b[0m \u001b[38;5;28;01mdef\u001b[39;00m \u001b[38;5;21mdiff\u001b[39m(\u001b[38;5;28mself\u001b[39m, \u001b[38;5;241m*\u001b[39msymbols, \u001b[38;5;241m*\u001b[39m\u001b[38;5;241m*\u001b[39massumptions):\n\u001b[1;32m   3554\u001b[0m     assumptions\u001b[38;5;241m.\u001b[39msetdefault(\u001b[38;5;124m\"\u001b[39m\u001b[38;5;124mevaluate\u001b[39m\u001b[38;5;124m\"\u001b[39m, \u001b[38;5;28;01mTrue\u001b[39;00m)\n\u001b[0;32m-> 3555\u001b[0m     \u001b[38;5;28;01mreturn\u001b[39;00m _derivative_dispatch(\u001b[38;5;28mself\u001b[39m, \u001b[38;5;241m*\u001b[39msymbols, \u001b[38;5;241m*\u001b[39m\u001b[38;5;241m*\u001b[39massumptions)\n",
      "File \u001b[0;32m~/miniconda3/envs/main/lib/python3.11/site-packages/sympy/core/function.py:1914\u001b[0m, in \u001b[0;36m_derivative_dispatch\u001b[0;34m(expr, *variables, **kwargs)\u001b[0m\n\u001b[1;32m   1912\u001b[0m     \u001b[38;5;28;01mfrom\u001b[39;00m \u001b[38;5;21;01msympy\u001b[39;00m\u001b[38;5;21;01m.\u001b[39;00m\u001b[38;5;21;01mtensor\u001b[39;00m\u001b[38;5;21;01m.\u001b[39;00m\u001b[38;5;21;01marray\u001b[39;00m\u001b[38;5;21;01m.\u001b[39;00m\u001b[38;5;21;01marray_derivatives\u001b[39;00m \u001b[38;5;28;01mimport\u001b[39;00m ArrayDerivative\n\u001b[1;32m   1913\u001b[0m     \u001b[38;5;28;01mreturn\u001b[39;00m ArrayDerivative(expr, \u001b[38;5;241m*\u001b[39mvariables, \u001b[38;5;241m*\u001b[39m\u001b[38;5;241m*\u001b[39mkwargs)\n\u001b[0;32m-> 1914\u001b[0m \u001b[38;5;28;01mreturn\u001b[39;00m Derivative(expr, \u001b[38;5;241m*\u001b[39mvariables, \u001b[38;5;241m*\u001b[39m\u001b[38;5;241m*\u001b[39mkwargs)\n",
      "File \u001b[0;32m~/miniconda3/envs/main/lib/python3.11/site-packages/sympy/core/function.py:1339\u001b[0m, in \u001b[0;36mDerivative.__new__\u001b[0;34m(cls, expr, *variables, **kwargs)\u001b[0m\n\u001b[1;32m   1337\u001b[0m     \u001b[38;5;28;01mif\u001b[39;00m \u001b[38;5;129;01mnot\u001b[39;00m v\u001b[38;5;241m.\u001b[39m_diff_wrt:\n\u001b[1;32m   1338\u001b[0m         __ \u001b[38;5;241m=\u001b[39m \u001b[38;5;124m'\u001b[39m\u001b[38;5;124m'\u001b[39m  \u001b[38;5;66;03m# filler to make error message neater\u001b[39;00m\n\u001b[0;32m-> 1339\u001b[0m         \u001b[38;5;28;01mraise\u001b[39;00m \u001b[38;5;167;01mValueError\u001b[39;00m(filldedent(\u001b[38;5;124m'''\u001b[39m\n\u001b[1;32m   1340\u001b[0m \u001b[38;5;124m            Can\u001b[39m\u001b[38;5;124m'\u001b[39m\u001b[38;5;124mt calculate derivative wrt \u001b[39m\u001b[38;5;132;01m%s\u001b[39;00m\u001b[38;5;124m.\u001b[39m\u001b[38;5;132;01m%s\u001b[39;00m\u001b[38;5;124m'''\u001b[39m \u001b[38;5;241m%\u001b[39m (v,\n\u001b[1;32m   1341\u001b[0m             __)))\n\u001b[1;32m   1343\u001b[0m \u001b[38;5;66;03m# We make a special case for 0th derivative, because there is no\u001b[39;00m\n\u001b[1;32m   1344\u001b[0m \u001b[38;5;66;03m# good way to unambiguously print this.\u001b[39;00m\n\u001b[1;32m   1345\u001b[0m \u001b[38;5;28;01mif\u001b[39;00m \u001b[38;5;28mlen\u001b[39m(variable_count) \u001b[38;5;241m==\u001b[39m \u001b[38;5;241m0\u001b[39m:\n",
      "\u001b[0;31mValueError\u001b[0m: \nCan't calculate derivative wrt Omega_z."
     ]
    }
   ],
   "source": [
    "sp.solve(list(matrices[0].reshape(4,1))[1], tuple(make_matrix('S1', 2)[0])[1])"
   ]
  },
  {
   "cell_type": "code",
   "execution_count": 117,
   "id": "0d5f1bf6",
   "metadata": {},
   "outputs": [
    {
     "data": {
      "text/latex": [
       "$\\displaystyle 0$"
      ],
      "text/plain": [
       "0"
      ]
     },
     "execution_count": 117,
     "metadata": {},
     "output_type": "execute_result"
    }
   ],
   "source": [
    "Omega_z.order"
   ]
  },
  {
   "cell_type": "code",
   "execution_count": 109,
   "id": "c8b95f1b",
   "metadata": {},
   "outputs": [
    {
     "data": {
      "text/latex": [
       "$\\displaystyle S1_{00}$"
      ],
      "text/plain": [
       "S1_{00}"
      ]
     },
     "execution_count": 109,
     "metadata": {},
     "output_type": "execute_result"
    }
   ],
   "source": [
    "tuple(make_matrix('S1', 2)[0])[0]"
   ]
  },
  {
   "cell_type": "code",
   "execution_count": null,
   "id": "c112a6a8",
   "metadata": {},
   "outputs": [],
   "source": []
  }
 ],
 "metadata": {
  "kernelspec": {
   "display_name": "Python 3 (ipykernel)",
   "language": "python",
   "name": "python3"
  },
  "language_info": {
   "codemirror_mode": {
    "name": "ipython",
    "version": 3
   },
   "file_extension": ".py",
   "mimetype": "text/x-python",
   "name": "python",
   "nbconvert_exporter": "python",
   "pygments_lexer": "ipython3",
   "version": "3.11.5"
  }
 },
 "nbformat": 4,
 "nbformat_minor": 5
}
