{
 "cells": [
  {
   "cell_type": "markdown",
   "id": "16e5dbb9",
   "metadata": {},
   "source": [
    "# Trying out sympy module"
   ]
  },
  {
   "cell_type": "code",
   "execution_count": 1,
   "id": "ce5eff91",
   "metadata": {},
   "outputs": [],
   "source": [
    "%load_ext autoreload\n",
    "%autoreload 2"
   ]
  },
  {
   "cell_type": "code",
   "execution_count": 2,
   "id": "ddf2a6b7",
   "metadata": {},
   "outputs": [],
   "source": [
    "import sympy as sp\n",
    "import numpy as np\n",
    "from Modules.sympy.classes import *\n",
    "from Modules.sympy.utils import *\n",
    "from sympy.physics.quantum import Dagger"
   ]
  },
  {
   "cell_type": "code",
   "execution_count": 3,
   "id": "83c6b1b9",
   "metadata": {},
   "outputs": [
    {
     "data": {
      "text/latex": [
       "$\\displaystyle \\sigma_{1}$"
      ],
      "text/plain": [
       "\\sigma_{1}"
      ]
     },
     "metadata": {},
     "output_type": "display_data"
    },
    {
     "data": {
      "text/latex": [
       "$\\displaystyle \\sigma_{3}$"
      ],
      "text/plain": [
       "\\sigma_{3}"
      ]
     },
     "metadata": {},
     "output_type": "display_data"
    }
   ],
   "source": [
    "Spin = RDBasis(\"\\\\sigma\", 'spin', dim=2)\n",
    "sx = Spin.project(sp.Matrix([[0, 1], [1, 0]]))\n",
    "display(sx)\n",
    "sz = Spin.project(sp.Matrix([[1, 0], [0, -1]]))\n",
    "display(sz)"
   ]
  },
  {
   "cell_type": "code",
   "execution_count": 4,
   "id": "79863889",
   "metadata": {},
   "outputs": [
    {
     "data": {
      "text/latex": [
       "$\\displaystyle \\frac{\\Omega_{z} \\hbar \\sigma_{3}}{2} + g \\hbar \\left(a + {a^\\dagger}\\right) \\sigma_{1} + \\hbar \\omega {a^\\dagger} a$"
      ],
      "text/plain": [
       "\\Omega_{z}*hbar*\\sigma_{3}/2 + g*hbar*(a + {a^\\dagger})*\\sigma_{1} + hbar*omega*{a^\\dagger}*a"
      ]
     },
     "execution_count": 4,
     "metadata": {},
     "output_type": "execute_result"
    }
   ],
   "source": [
    "\n",
    "a = RDBoson(\"a\", subspace =\"b\")\n",
    "ad = RDBoson(\"{a^\\\\dagger}\", subspace =\"b\", is_annihilation=False)\n",
    "\n",
    "hbar = RDsymbol(\"hbar\", order = 0)\n",
    "omega = RDsymbol(\"omega\", order = 0)\n",
    "Omega_z = RDsymbol(\"\\\\Omega_{z}\", order = 0)\n",
    "g = RDsymbol(\"g\", order = 1)\n",
    "\n",
    "H = hbar * omega * ad * a + hbar * Omega_z * sp.Rational(1,2) * sz + hbar * g * (a + ad) * sx\n",
    "H"
   ]
  },
  {
   "cell_type": "code",
   "execution_count": 5,
   "id": "8b443fa8",
   "metadata": {},
   "outputs": [],
   "source": [
    "Charge = RDBasis(\"Q\", \"charge\", dim=2)\n",
    "tx = Charge.project(sp.Matrix([[0, 1], [1, 0]]))"
   ]
  },
  {
   "cell_type": "code",
   "execution_count": 6,
   "id": "6a372fe8",
   "metadata": {},
   "outputs": [
    {
     "data": {
      "text/latex": [
       "$\\displaystyle \\left(S^{1}_{0} \\sigma_{0} + S^{1}_{1} \\sigma_{1} + S^{1}_{2} \\sigma_{2} + S^{1}_{3} \\sigma_{3}\\right) {a^\\dagger} + \\left(S^{2}_{0} \\sigma_{0} + S^{2}_{1} \\sigma_{1} + S^{2}_{2} \\sigma_{2} + S^{2}_{3} \\sigma_{3}\\right) a$"
      ],
      "text/plain": [
       "(S^1_0*\\sigma_{0} + S^1_1*\\sigma_{1} + S^1_2*\\sigma_{2} + S^1_3*\\sigma_{3})*{a^\\dagger} + (S^2_0*\\sigma_{0} + S^2_1*\\sigma_{1} + S^2_2*\\sigma_{2} + S^2_3*\\sigma_{3})*a"
      ]
     },
     "execution_count": 6,
     "metadata": {},
     "output_type": "execute_result"
    }
   ],
   "source": [
    "s1_symbols = [RDsymbol(\"S^1_{}\".format(i), order=1) for i in range(4)]\n",
    "s2_symbols = [RDsymbol(\"S^2_{}\".format(i), order=1) for i in range(4)]\n",
    "S1 = np.array(s1_symbols, dtype=object).dot(Spin._basis)\n",
    "S2 = np.array(s2_symbols, dtype=object).dot(Spin._basis)\n",
    "S = S1*ad + S2*a\n",
    "S"
   ]
  },
  {
   "cell_type": "code",
   "execution_count": 7,
   "id": "05f4b4e4",
   "metadata": {},
   "outputs": [
    {
     "data": {
      "text/latex": [
       "$\\displaystyle g \\hbar a \\sigma_{1} + g \\hbar {a^\\dagger} \\sigma_{1}$"
      ],
      "text/plain": [
       "g*hbar*a*\\sigma_{1} + g*hbar*{a^\\dagger}*\\sigma_{1}"
      ]
     },
     "execution_count": 7,
     "metadata": {},
     "output_type": "execute_result"
    }
   ],
   "source": [
    "H0 = group_by_order(H)[0]\n",
    "V = group_by_order(group_by_diagonal(H)[False])[1]\n",
    "V"
   ]
  },
  {
   "cell_type": "code",
   "execution_count": 8,
   "id": "8ac39d67",
   "metadata": {},
   "outputs": [
    {
     "data": {
      "text/latex": [
       "$\\displaystyle {a^\\dagger}$"
      ],
      "text/plain": [
       "{a^\\dagger}"
      ]
     },
     "metadata": {},
     "output_type": "display_data"
    },
    {
     "data": {
      "text/latex": [
       "$\\displaystyle S^{1}_{0} \\hbar \\omega \\sigma_{0} - i S^{1}_{1} \\Omega_{z} \\hbar \\sigma_{2} + S^{1}_{1} \\hbar \\omega \\sigma_{1} + i S^{1}_{2} \\Omega_{z} \\hbar \\sigma_{1} + S^{1}_{2} \\hbar \\omega \\sigma_{2} + S^{1}_{3} \\hbar \\omega \\sigma_{3} + g \\hbar \\sigma_{1}$"
      ],
      "text/plain": [
       "S^1_0*hbar*omega*\\sigma_{0} - I*S^1_1*\\Omega_{z}*hbar*\\sigma_{2} + S^1_1*hbar*omega*\\sigma_{1} + I*S^1_2*\\Omega_{z}*hbar*\\sigma_{1} + S^1_2*hbar*omega*\\sigma_{2} + S^1_3*hbar*omega*\\sigma_{3} + g*hbar*\\sigma_{1}"
      ]
     },
     "metadata": {},
     "output_type": "display_data"
    },
    {
     "data": {
      "text/latex": [
       "$\\displaystyle a$"
      ],
      "text/plain": [
       "a"
      ]
     },
     "metadata": {},
     "output_type": "display_data"
    },
    {
     "data": {
      "text/latex": [
       "$\\displaystyle - S^{2}_{0} \\hbar \\omega \\sigma_{0} - i S^{2}_{1} \\Omega_{z} \\hbar \\sigma_{2} - S^{2}_{1} \\hbar \\omega \\sigma_{1} + i S^{2}_{2} \\Omega_{z} \\hbar \\sigma_{1} - S^{2}_{2} \\hbar \\omega \\sigma_{2} - S^{2}_{3} \\hbar \\omega \\sigma_{3} + g \\hbar \\sigma_{1}$"
      ],
      "text/plain": [
       "-S^2_0*hbar*omega*\\sigma_{0} - I*S^2_1*\\Omega_{z}*hbar*\\sigma_{2} - S^2_1*hbar*omega*\\sigma_{1} + I*S^2_2*\\Omega_{z}*hbar*\\sigma_{1} - S^2_2*hbar*omega*\\sigma_{2} - S^2_3*hbar*omega*\\sigma_{3} + g*hbar*\\sigma_{1}"
      ]
     },
     "metadata": {},
     "output_type": "display_data"
    }
   ],
   "source": [
    "sols = {}\n",
    "for key, val in group_by_infinite_operators(Spin.project(expand_commutator(Commutator(H0, S) + V).doit())).items():\n",
    "    if val == 0:\n",
    "        continue\n",
    "    display(key)\n",
    "    display(val)\n",
    "    sols.update(sp.solve(get_matrix(val), s1_symbols + s2_symbols))\n",
    "\n"
   ]
  },
  {
   "cell_type": "code",
   "execution_count": 9,
   "id": "7fbcee3b",
   "metadata": {},
   "outputs": [
    {
     "data": {
      "text/plain": [
       "{1: 0,\n",
       " a: I*\\Omega_{z}*g*\\sigma_{2}/(\\Omega_{z}**2 - omega**2) - g*omega*\\sigma_{1}/(\\Omega_{z}**2 - omega**2),\n",
       " {a^\\dagger}: I*\\Omega_{z}*g*\\sigma_{2}/(\\Omega_{z}**2 - omega**2) + g*omega*\\sigma_{1}/(\\Omega_{z}**2 - omega**2)}"
      ]
     },
     "execution_count": 9,
     "metadata": {},
     "output_type": "execute_result"
    }
   ],
   "source": [
    "group_by_infinite_operators(S.subs(sols))"
   ]
  },
  {
   "cell_type": "code",
   "execution_count": 10,
   "id": "6430de76",
   "metadata": {},
   "outputs": [
    {
     "data": {
      "text/latex": [
       "$\\displaystyle \\frac{i \\Omega_{z} g \\sigma_{2}}{\\Omega_{z}^{2} - \\omega^{2}} - \\frac{g \\omega \\sigma_{1}}{\\Omega_{z}^{2} - \\omega^{2}}$"
      ],
      "text/plain": [
       "I*\\Omega_{z}*g*\\sigma_{2}/(\\Omega_{z}**2 - omega**2) - g*omega*\\sigma_{1}/(\\Omega_{z}**2 - omega**2)"
      ]
     },
     "metadata": {},
     "output_type": "display_data"
    },
    {
     "data": {
      "text/latex": [
       "$\\displaystyle \\left[\\begin{matrix}0 & \\frac{g}{\\Omega_{z} + \\omega}\\\\- \\frac{g}{\\Omega_{z} - \\omega} & 0\\end{matrix}\\right]$"
      ],
      "text/plain": [
       "Matrix([\n",
       "[                      0, g/(\\Omega_{z} + omega)],\n",
       "[-g/(\\Omega_{z} - omega),                      0]])"
      ]
     },
     "metadata": {},
     "output_type": "display_data"
    },
    {
     "data": {
      "text/latex": [
       "$\\displaystyle \\frac{i \\Omega_{z} g \\sigma_{2}}{\\Omega_{z}^{2} - \\omega^{2}} + \\frac{g \\omega \\sigma_{1}}{\\Omega_{z}^{2} - \\omega^{2}}$"
      ],
      "text/plain": [
       "I*\\Omega_{z}*g*\\sigma_{2}/(\\Omega_{z}**2 - omega**2) + g*omega*\\sigma_{1}/(\\Omega_{z}**2 - omega**2)"
      ]
     },
     "metadata": {},
     "output_type": "display_data"
    },
    {
     "data": {
      "text/latex": [
       "$\\displaystyle \\left[\\begin{matrix}0 & \\frac{g}{\\Omega_{z} - \\omega}\\\\- \\frac{g}{\\Omega_{z} + \\omega} & 0\\end{matrix}\\right]$"
      ],
      "text/plain": [
       "Matrix([\n",
       "[                      0, g/(\\Omega_{z} - omega)],\n",
       "[-g/(\\Omega_{z} + omega),                      0]])"
      ]
     },
     "metadata": {},
     "output_type": "display_data"
    }
   ],
   "source": [
    "for key, val in group_by_infinite_operators(S.subs(sols)).items():\n",
    "    if val == 0:\n",
    "        continue\n",
    "    display(val)\n",
    "    display(get_matrix(val).simplify())"
   ]
  },
  {
   "cell_type": "code",
   "execution_count": 11,
   "id": "3fb1d2de",
   "metadata": {},
   "outputs": [
    {
     "data": {
      "text/plain": [
       "([\\Omega_{z}*g*{a^\\dagger}/(-\\Omega_{z}**2 + omega**2)],\n",
       " [[\\Omega_{z}, g, 1/(-\\Omega_{z}**2 + omega**2), {a^\\dagger}]])"
      ]
     },
     "execution_count": 11,
     "metadata": {},
     "output_type": "execute_result"
    }
   ],
   "source": [
    "get_terms_and_factors(g*Omega_z/(omega**2 - Omega_z**2)*ad)"
   ]
  },
  {
   "cell_type": "code",
   "execution_count": 12,
   "id": "0a360f60",
   "metadata": {},
   "outputs": [
    {
     "ename": "RecursionError",
     "evalue": "maximum recursion depth exceeded",
     "output_type": "error",
     "traceback": [
      "\u001b[1;31m---------------------------------------------------------------------------\u001b[0m",
      "\u001b[1;31mRecursionError\u001b[0m                            Traceback (most recent call last)",
      "Cell \u001b[1;32mIn[12], line 1\u001b[0m\n\u001b[1;32m----> 1\u001b[0m group_by_diagonal(\u001b[43mSpin\u001b[49m\u001b[38;5;241;43m.\u001b[39;49m\u001b[43mproject\u001b[49m\u001b[43m(\u001b[49m\u001b[43mexpand_commutator\u001b[49m\u001b[43m(\u001b[49m\u001b[43mH\u001b[49m\u001b[43m \u001b[49m\u001b[38;5;241;43m+\u001b[39;49m\u001b[43m \u001b[49m\u001b[43mCommutator\u001b[49m\u001b[43m(\u001b[49m\u001b[43mH\u001b[49m\u001b[43m,\u001b[49m\u001b[43m \u001b[49m\u001b[43mS\u001b[49m\u001b[43m)\u001b[49m\u001b[43m \u001b[49m\u001b[38;5;241;43m+\u001b[39;49m\u001b[43m \u001b[49m\u001b[43msp\u001b[49m\u001b[38;5;241;43m.\u001b[39;49m\u001b[43mRational\u001b[49m\u001b[43m(\u001b[49m\u001b[38;5;241;43m1\u001b[39;49m\u001b[43m,\u001b[49m\u001b[38;5;241;43m2\u001b[39;49m\u001b[43m)\u001b[49m\u001b[43m \u001b[49m\u001b[38;5;241;43m*\u001b[39;49m\u001b[43m \u001b[49m\u001b[43mCommutator\u001b[49m\u001b[43m(\u001b[49m\u001b[43mV\u001b[49m\u001b[43m,\u001b[49m\u001b[43m \u001b[49m\u001b[43mS\u001b[49m\u001b[43m)\u001b[49m\u001b[43m)\u001b[49m\u001b[38;5;241;43m.\u001b[39;49m\u001b[43mdoit\u001b[49m\u001b[43m(\u001b[49m\u001b[43m)\u001b[49m\u001b[38;5;241;43m.\u001b[39;49m\u001b[43msubs\u001b[49m\u001b[43m(\u001b[49m\u001b[43msols\u001b[49m\u001b[43m)\u001b[49m\u001b[38;5;241;43m.\u001b[39;49m\u001b[43msimplify\u001b[49m\u001b[43m(\u001b[49m\u001b[43m)\u001b[49m\u001b[38;5;241;43m.\u001b[39;49m\u001b[43mexpand\u001b[49m\u001b[43m(\u001b[49m\u001b[43m)\u001b[49m\u001b[38;5;241;43m.\u001b[39;49m\u001b[43mnsimplify\u001b[49m\u001b[43m(\u001b[49m\u001b[43m)\u001b[49m\u001b[43m)\u001b[49m)[\u001b[38;5;28;01mFalse\u001b[39;00m]\n",
      "File \u001b[1;32mc:\\Users\\reascoir\\AppData\\Local\\miniconda3\\Lib\\site-packages\\multimethod\\__init__.py:369\u001b[0m, in \u001b[0;36mmultimethod.__call__\u001b[1;34m(self, *args, **kwargs)\u001b[0m\n\u001b[0;32m    367\u001b[0m func \u001b[38;5;241m=\u001b[39m \u001b[38;5;28mself\u001b[39m\u001b[38;5;241m.\u001b[39mdispatch(\u001b[38;5;241m*\u001b[39margs)\n\u001b[0;32m    368\u001b[0m \u001b[38;5;28;01mtry\u001b[39;00m:\n\u001b[1;32m--> 369\u001b[0m     \u001b[38;5;28;01mreturn\u001b[39;00m \u001b[43mfunc\u001b[49m\u001b[43m(\u001b[49m\u001b[38;5;241;43m*\u001b[39;49m\u001b[43margs\u001b[49m\u001b[43m,\u001b[49m\u001b[43m \u001b[49m\u001b[38;5;241;43m*\u001b[39;49m\u001b[38;5;241;43m*\u001b[39;49m\u001b[43mkwargs\u001b[49m\u001b[43m)\u001b[49m\n\u001b[0;32m    370\u001b[0m \u001b[38;5;28;01mexcept\u001b[39;00m \u001b[38;5;167;01mTypeError\u001b[39;00m \u001b[38;5;28;01mas\u001b[39;00m ex:\n\u001b[0;32m    371\u001b[0m     \u001b[38;5;28;01mraise\u001b[39;00m DispatchError(\u001b[38;5;124mf\u001b[39m\u001b[38;5;124m\"\u001b[39m\u001b[38;5;124mFunction \u001b[39m\u001b[38;5;132;01m{\u001b[39;00mfunc\u001b[38;5;241m.\u001b[39m\u001b[38;5;18m__code__\u001b[39m\u001b[38;5;132;01m}\u001b[39;00m\u001b[38;5;124m\"\u001b[39m) \u001b[38;5;28;01mfrom\u001b[39;00m \u001b[38;5;21;01mex\u001b[39;00m\n",
      "File \u001b[1;32mc:\\Users\\reascoir\\OneDrive - Universität Augsburg\\PhD_Brain\\Python Notebooks\\Packages\\PySW\\Modules\\sympy\\classes.py:193\u001b[0m, in \u001b[0;36mRDBasis.project\u001b[1;34m(self, to_be_projected)\u001b[0m\n\u001b[0;32m    191\u001b[0m     ops \u001b[38;5;241m*\u001b[39m\u001b[38;5;241m=\u001b[39m factor\u001b[38;5;241m.\u001b[39mmatrix\n\u001b[0;32m    192\u001b[0m \u001b[38;5;28;01melif\u001b[39;00m \u001b[38;5;28misinstance\u001b[39m(factor, Pow):\n\u001b[1;32m--> 193\u001b[0m     ops \u001b[38;5;241m*\u001b[39m\u001b[38;5;241m=\u001b[39m \u001b[38;5;28;43mself\u001b[39;49m\u001b[38;5;241;43m.\u001b[39;49m\u001b[43mproject\u001b[49m\u001b[43m(\u001b[49m\u001b[43mfactor\u001b[49m\u001b[43m)\u001b[49m\n\u001b[0;32m    194\u001b[0m \u001b[38;5;28;01melse\u001b[39;00m:\n\u001b[0;32m    195\u001b[0m     coeff \u001b[38;5;241m*\u001b[39m\u001b[38;5;241m=\u001b[39m factor\n",
      "File \u001b[1;32mc:\\Users\\reascoir\\AppData\\Local\\miniconda3\\Lib\\site-packages\\multimethod\\__init__.py:369\u001b[0m, in \u001b[0;36mmultimethod.__call__\u001b[1;34m(self, *args, **kwargs)\u001b[0m\n\u001b[0;32m    367\u001b[0m func \u001b[38;5;241m=\u001b[39m \u001b[38;5;28mself\u001b[39m\u001b[38;5;241m.\u001b[39mdispatch(\u001b[38;5;241m*\u001b[39margs)\n\u001b[0;32m    368\u001b[0m \u001b[38;5;28;01mtry\u001b[39;00m:\n\u001b[1;32m--> 369\u001b[0m     \u001b[38;5;28;01mreturn\u001b[39;00m \u001b[43mfunc\u001b[49m\u001b[43m(\u001b[49m\u001b[38;5;241;43m*\u001b[39;49m\u001b[43margs\u001b[49m\u001b[43m,\u001b[49m\u001b[43m \u001b[49m\u001b[38;5;241;43m*\u001b[39;49m\u001b[38;5;241;43m*\u001b[39;49m\u001b[43mkwargs\u001b[49m\u001b[43m)\u001b[49m\n\u001b[0;32m    370\u001b[0m \u001b[38;5;28;01mexcept\u001b[39;00m \u001b[38;5;167;01mTypeError\u001b[39;00m \u001b[38;5;28;01mas\u001b[39;00m ex:\n\u001b[0;32m    371\u001b[0m     \u001b[38;5;28;01mraise\u001b[39;00m DispatchError(\u001b[38;5;124mf\u001b[39m\u001b[38;5;124m\"\u001b[39m\u001b[38;5;124mFunction \u001b[39m\u001b[38;5;132;01m{\u001b[39;00mfunc\u001b[38;5;241m.\u001b[39m\u001b[38;5;18m__code__\u001b[39m\u001b[38;5;132;01m}\u001b[39;00m\u001b[38;5;124m\"\u001b[39m) \u001b[38;5;28;01mfrom\u001b[39;00m \u001b[38;5;21;01mex\u001b[39;00m\n",
      "File \u001b[1;32mc:\\Users\\reascoir\\OneDrive - Universität Augsburg\\PhD_Brain\\Python Notebooks\\Packages\\PySW\\Modules\\sympy\\classes.py:206\u001b[0m, in \u001b[0;36mRDBasis.project\u001b[1;34m(self, to_be_projected)\u001b[0m\n\u001b[0;32m    204\u001b[0m     display(base\u001b[38;5;241m.\u001b[39mmatrix\u001b[38;5;241m*\u001b[39m\u001b[38;5;241m*\u001b[39mexp)\n\u001b[0;32m    205\u001b[0m     \u001b[38;5;28;01mreturn\u001b[39;00m \u001b[38;5;28mself\u001b[39m\u001b[38;5;241m.\u001b[39mproject(base\u001b[38;5;241m.\u001b[39mmatrix\u001b[38;5;241m*\u001b[39m\u001b[38;5;241m*\u001b[39mexp)\n\u001b[1;32m--> 206\u001b[0m \u001b[38;5;28;01mreturn\u001b[39;00m \u001b[38;5;28;43mself\u001b[39;49m\u001b[38;5;241;43m.\u001b[39;49m\u001b[43mproject\u001b[49m\u001b[43m(\u001b[49m\u001b[43mMul\u001b[49m\u001b[43m(\u001b[49m\u001b[38;5;241;43m*\u001b[39;49m\u001b[43m[\u001b[49m\u001b[43mbase\u001b[49m\u001b[43m \u001b[49m\u001b[38;5;28;43;01mfor\u001b[39;49;00m\u001b[43m \u001b[49m\u001b[43m_\u001b[49m\u001b[43m \u001b[49m\u001b[38;5;129;43;01min\u001b[39;49;00m\u001b[43m \u001b[49m\u001b[38;5;28;43mrange\u001b[39;49m\u001b[43m(\u001b[49m\u001b[43mexp\u001b[49m\u001b[43m)\u001b[49m\u001b[43m]\u001b[49m\u001b[43m,\u001b[49m\u001b[43m \u001b[49m\u001b[43mevaluate\u001b[49m\u001b[38;5;241;43m=\u001b[39;49m\u001b[38;5;28;43;01mFalse\u001b[39;49;00m\u001b[43m)\u001b[49m\u001b[43m)\u001b[49m\n",
      "    \u001b[1;31m[... skipping similar frames: multimethod.__call__ at line 369 (1 times)]\u001b[0m\n",
      "File \u001b[1;32mc:\\Users\\reascoir\\OneDrive - Universität Augsburg\\PhD_Brain\\Python Notebooks\\Packages\\PySW\\Modules\\sympy\\classes.py:193\u001b[0m, in \u001b[0;36mRDBasis.project\u001b[1;34m(self, to_be_projected)\u001b[0m\n\u001b[0;32m    191\u001b[0m     ops \u001b[38;5;241m*\u001b[39m\u001b[38;5;241m=\u001b[39m factor\u001b[38;5;241m.\u001b[39mmatrix\n\u001b[0;32m    192\u001b[0m \u001b[38;5;28;01melif\u001b[39;00m \u001b[38;5;28misinstance\u001b[39m(factor, Pow):\n\u001b[1;32m--> 193\u001b[0m     ops \u001b[38;5;241m*\u001b[39m\u001b[38;5;241m=\u001b[39m \u001b[38;5;28;43mself\u001b[39;49m\u001b[38;5;241;43m.\u001b[39;49m\u001b[43mproject\u001b[49m\u001b[43m(\u001b[49m\u001b[43mfactor\u001b[49m\u001b[43m)\u001b[49m\n\u001b[0;32m    194\u001b[0m \u001b[38;5;28;01melse\u001b[39;00m:\n\u001b[0;32m    195\u001b[0m     coeff \u001b[38;5;241m*\u001b[39m\u001b[38;5;241m=\u001b[39m factor\n",
      "    \u001b[1;31m[... skipping similar frames: multimethod.__call__ at line 369 (1 times)]\u001b[0m\n",
      "File \u001b[1;32mc:\\Users\\reascoir\\OneDrive - Universität Augsburg\\PhD_Brain\\Python Notebooks\\Packages\\PySW\\Modules\\sympy\\classes.py:206\u001b[0m, in \u001b[0;36mRDBasis.project\u001b[1;34m(self, to_be_projected)\u001b[0m\n\u001b[0;32m    204\u001b[0m     display(base\u001b[38;5;241m.\u001b[39mmatrix\u001b[38;5;241m*\u001b[39m\u001b[38;5;241m*\u001b[39mexp)\n\u001b[0;32m    205\u001b[0m     \u001b[38;5;28;01mreturn\u001b[39;00m \u001b[38;5;28mself\u001b[39m\u001b[38;5;241m.\u001b[39mproject(base\u001b[38;5;241m.\u001b[39mmatrix\u001b[38;5;241m*\u001b[39m\u001b[38;5;241m*\u001b[39mexp)\n\u001b[1;32m--> 206\u001b[0m \u001b[38;5;28;01mreturn\u001b[39;00m \u001b[38;5;28;43mself\u001b[39;49m\u001b[38;5;241;43m.\u001b[39;49m\u001b[43mproject\u001b[49m\u001b[43m(\u001b[49m\u001b[43mMul\u001b[49m\u001b[43m(\u001b[49m\u001b[38;5;241;43m*\u001b[39;49m\u001b[43m[\u001b[49m\u001b[43mbase\u001b[49m\u001b[43m \u001b[49m\u001b[38;5;28;43;01mfor\u001b[39;49;00m\u001b[43m \u001b[49m\u001b[43m_\u001b[49m\u001b[43m \u001b[49m\u001b[38;5;129;43;01min\u001b[39;49;00m\u001b[43m \u001b[49m\u001b[38;5;28;43mrange\u001b[39;49m\u001b[43m(\u001b[49m\u001b[43mexp\u001b[49m\u001b[43m)\u001b[49m\u001b[43m]\u001b[49m\u001b[43m,\u001b[49m\u001b[43m \u001b[49m\u001b[43mevaluate\u001b[49m\u001b[38;5;241;43m=\u001b[39;49m\u001b[38;5;28;43;01mFalse\u001b[39;49;00m\u001b[43m)\u001b[49m\u001b[43m)\u001b[49m\n",
      "    \u001b[1;31m[... skipping similar frames: multimethod.__call__ at line 369 (485 times), RDBasis.project at line 193 (242 times), RDBasis.project at line 206 (242 times)]\u001b[0m\n",
      "File \u001b[1;32mc:\\Users\\reascoir\\OneDrive - Universität Augsburg\\PhD_Brain\\Python Notebooks\\Packages\\PySW\\Modules\\sympy\\classes.py:193\u001b[0m, in \u001b[0;36mRDBasis.project\u001b[1;34m(self, to_be_projected)\u001b[0m\n\u001b[0;32m    191\u001b[0m     ops \u001b[38;5;241m*\u001b[39m\u001b[38;5;241m=\u001b[39m factor\u001b[38;5;241m.\u001b[39mmatrix\n\u001b[0;32m    192\u001b[0m \u001b[38;5;28;01melif\u001b[39;00m \u001b[38;5;28misinstance\u001b[39m(factor, Pow):\n\u001b[1;32m--> 193\u001b[0m     ops \u001b[38;5;241m*\u001b[39m\u001b[38;5;241m=\u001b[39m \u001b[38;5;28;43mself\u001b[39;49m\u001b[38;5;241;43m.\u001b[39;49m\u001b[43mproject\u001b[49m\u001b[43m(\u001b[49m\u001b[43mfactor\u001b[49m\u001b[43m)\u001b[49m\n\u001b[0;32m    194\u001b[0m \u001b[38;5;28;01melse\u001b[39;00m:\n\u001b[0;32m    195\u001b[0m     coeff \u001b[38;5;241m*\u001b[39m\u001b[38;5;241m=\u001b[39m factor\n",
      "    \u001b[1;31m[... skipping similar frames: multimethod.__call__ at line 369 (1 times)]\u001b[0m\n",
      "File \u001b[1;32mc:\\Users\\reascoir\\OneDrive - Universität Augsburg\\PhD_Brain\\Python Notebooks\\Packages\\PySW\\Modules\\sympy\\classes.py:206\u001b[0m, in \u001b[0;36mRDBasis.project\u001b[1;34m(self, to_be_projected)\u001b[0m\n\u001b[0;32m    204\u001b[0m     display(base\u001b[38;5;241m.\u001b[39mmatrix\u001b[38;5;241m*\u001b[39m\u001b[38;5;241m*\u001b[39mexp)\n\u001b[0;32m    205\u001b[0m     \u001b[38;5;28;01mreturn\u001b[39;00m \u001b[38;5;28mself\u001b[39m\u001b[38;5;241m.\u001b[39mproject(base\u001b[38;5;241m.\u001b[39mmatrix\u001b[38;5;241m*\u001b[39m\u001b[38;5;241m*\u001b[39mexp)\n\u001b[1;32m--> 206\u001b[0m \u001b[38;5;28;01mreturn\u001b[39;00m \u001b[38;5;28;43mself\u001b[39;49m\u001b[38;5;241;43m.\u001b[39;49m\u001b[43mproject\u001b[49m\u001b[43m(\u001b[49m\u001b[43mMul\u001b[49m\u001b[43m(\u001b[49m\u001b[38;5;241;43m*\u001b[39;49m\u001b[43m[\u001b[49m\u001b[43mbase\u001b[49m\u001b[43m \u001b[49m\u001b[38;5;28;43;01mfor\u001b[39;49;00m\u001b[43m \u001b[49m\u001b[43m_\u001b[49m\u001b[43m \u001b[49m\u001b[38;5;129;43;01min\u001b[39;49;00m\u001b[43m \u001b[49m\u001b[38;5;28;43mrange\u001b[39;49m\u001b[43m(\u001b[49m\u001b[43mexp\u001b[49m\u001b[43m)\u001b[49m\u001b[43m]\u001b[49m\u001b[43m,\u001b[49m\u001b[43m \u001b[49m\u001b[43mevaluate\u001b[49m\u001b[38;5;241;43m=\u001b[39;49m\u001b[38;5;28;43;01mFalse\u001b[39;49;00m\u001b[43m)\u001b[49m\u001b[43m)\u001b[49m\n",
      "File \u001b[1;32mc:\\Users\\reascoir\\AppData\\Local\\miniconda3\\Lib\\site-packages\\multimethod\\__init__.py:369\u001b[0m, in \u001b[0;36mmultimethod.__call__\u001b[1;34m(self, *args, **kwargs)\u001b[0m\n\u001b[0;32m    367\u001b[0m func \u001b[38;5;241m=\u001b[39m \u001b[38;5;28mself\u001b[39m\u001b[38;5;241m.\u001b[39mdispatch(\u001b[38;5;241m*\u001b[39margs)\n\u001b[0;32m    368\u001b[0m \u001b[38;5;28;01mtry\u001b[39;00m:\n\u001b[1;32m--> 369\u001b[0m     \u001b[38;5;28;01mreturn\u001b[39;00m \u001b[43mfunc\u001b[49m\u001b[43m(\u001b[49m\u001b[38;5;241;43m*\u001b[39;49m\u001b[43margs\u001b[49m\u001b[43m,\u001b[49m\u001b[43m \u001b[49m\u001b[38;5;241;43m*\u001b[39;49m\u001b[38;5;241;43m*\u001b[39;49m\u001b[43mkwargs\u001b[49m\u001b[43m)\u001b[49m\n\u001b[0;32m    370\u001b[0m \u001b[38;5;28;01mexcept\u001b[39;00m \u001b[38;5;167;01mTypeError\u001b[39;00m \u001b[38;5;28;01mas\u001b[39;00m ex:\n\u001b[0;32m    371\u001b[0m     \u001b[38;5;28;01mraise\u001b[39;00m DispatchError(\u001b[38;5;124mf\u001b[39m\u001b[38;5;124m\"\u001b[39m\u001b[38;5;124mFunction \u001b[39m\u001b[38;5;132;01m{\u001b[39;00mfunc\u001b[38;5;241m.\u001b[39m\u001b[38;5;18m__code__\u001b[39m\u001b[38;5;132;01m}\u001b[39;00m\u001b[38;5;124m\"\u001b[39m) \u001b[38;5;28;01mfrom\u001b[39;00m \u001b[38;5;21;01mex\u001b[39;00m\n",
      "File \u001b[1;32mc:\\Users\\reascoir\\OneDrive - Universität Augsburg\\PhD_Brain\\Python Notebooks\\Packages\\PySW\\Modules\\sympy\\classes.py:182\u001b[0m, in \u001b[0;36mRDBasis.project\u001b[1;34m(self, to_be_projected)\u001b[0m\n\u001b[0;32m    180\u001b[0m \u001b[38;5;129m@multimethod\u001b[39m\n\u001b[0;32m    181\u001b[0m \u001b[38;5;28;01mdef\u001b[39;00m \u001b[38;5;21mproject\u001b[39m(\u001b[38;5;28mself\u001b[39m, to_be_projected : Expr):\n\u001b[1;32m--> 182\u001b[0m     _, factors \u001b[38;5;241m=\u001b[39m \u001b[43mget_terms_and_factors\u001b[49m\u001b[43m(\u001b[49m\u001b[43mto_be_projected\u001b[49m\u001b[43m)\u001b[49m\n\u001b[0;32m    184\u001b[0m     result \u001b[38;5;241m=\u001b[39m[] \n\u001b[0;32m    185\u001b[0m     \u001b[38;5;28;01mfor\u001b[39;00m term \u001b[38;5;129;01min\u001b[39;00m factors:  \n",
      "File \u001b[1;32mc:\\Users\\reascoir\\AppData\\Local\\miniconda3\\Lib\\site-packages\\multimethod\\__init__.py:369\u001b[0m, in \u001b[0;36mmultimethod.__call__\u001b[1;34m(self, *args, **kwargs)\u001b[0m\n\u001b[0;32m    367\u001b[0m func \u001b[38;5;241m=\u001b[39m \u001b[38;5;28mself\u001b[39m\u001b[38;5;241m.\u001b[39mdispatch(\u001b[38;5;241m*\u001b[39margs)\n\u001b[0;32m    368\u001b[0m \u001b[38;5;28;01mtry\u001b[39;00m:\n\u001b[1;32m--> 369\u001b[0m     \u001b[38;5;28;01mreturn\u001b[39;00m \u001b[43mfunc\u001b[49m\u001b[43m(\u001b[49m\u001b[38;5;241;43m*\u001b[39;49m\u001b[43margs\u001b[49m\u001b[43m,\u001b[49m\u001b[43m \u001b[49m\u001b[38;5;241;43m*\u001b[39;49m\u001b[38;5;241;43m*\u001b[39;49m\u001b[43mkwargs\u001b[49m\u001b[43m)\u001b[49m\n\u001b[0;32m    370\u001b[0m \u001b[38;5;28;01mexcept\u001b[39;00m \u001b[38;5;167;01mTypeError\u001b[39;00m \u001b[38;5;28;01mas\u001b[39;00m ex:\n\u001b[0;32m    371\u001b[0m     \u001b[38;5;28;01mraise\u001b[39;00m DispatchError(\u001b[38;5;124mf\u001b[39m\u001b[38;5;124m\"\u001b[39m\u001b[38;5;124mFunction \u001b[39m\u001b[38;5;132;01m{\u001b[39;00mfunc\u001b[38;5;241m.\u001b[39m\u001b[38;5;18m__code__\u001b[39m\u001b[38;5;132;01m}\u001b[39;00m\u001b[38;5;124m\"\u001b[39m) \u001b[38;5;28;01mfrom\u001b[39;00m \u001b[38;5;21;01mex\u001b[39;00m\n",
      "File \u001b[1;32mc:\\Users\\reascoir\\OneDrive - Universität Augsburg\\PhD_Brain\\Python Notebooks\\Packages\\PySW\\Modules\\sympy\\classes.py:144\u001b[0m, in \u001b[0;36mget_terms_and_factors\u001b[1;34m(expr)\u001b[0m\n\u001b[0;32m    141\u001b[0m \u001b[38;5;250m\u001b[39m\u001b[38;5;124;03m\"\"\"Returns tuple of two lists: one containing ordered terms within expr, the second \u001b[39;00m\n\u001b[0;32m    142\u001b[0m \u001b[38;5;124;03m    containing lists of factors for each term.\"\"\"\u001b[39;00m\n\u001b[0;32m    143\u001b[0m expr \u001b[38;5;241m=\u001b[39m expr\u001b[38;5;241m.\u001b[39mexpand()\n\u001b[1;32m--> 144\u001b[0m terms \u001b[38;5;241m=\u001b[39m \u001b[43mexpr\u001b[49m\u001b[38;5;241;43m.\u001b[39;49m\u001b[43mas_ordered_terms\u001b[49m\u001b[43m(\u001b[49m\u001b[43m)\u001b[49m\n\u001b[0;32m    145\u001b[0m factors_of_terms \u001b[38;5;241m=\u001b[39m []\n\u001b[0;32m    146\u001b[0m \u001b[38;5;28;01mfor\u001b[39;00m term \u001b[38;5;129;01min\u001b[39;00m terms:\n",
      "File \u001b[1;32mc:\\Users\\reascoir\\AppData\\Local\\miniconda3\\Lib\\site-packages\\sympy\\core\\expr.py:1146\u001b[0m, in \u001b[0;36mExpr.as_ordered_terms\u001b[1;34m(self, order, data)\u001b[0m\n\u001b[0;32m   1143\u001b[0m             \u001b[38;5;28;01mreturn\u001b[39;00m add_args\n\u001b[0;32m   1145\u001b[0m key, reverse \u001b[38;5;241m=\u001b[39m \u001b[38;5;28mself\u001b[39m\u001b[38;5;241m.\u001b[39m_parse_order(order)\n\u001b[1;32m-> 1146\u001b[0m terms, gens \u001b[38;5;241m=\u001b[39m \u001b[38;5;28;43mself\u001b[39;49m\u001b[38;5;241;43m.\u001b[39;49m\u001b[43mas_terms\u001b[49m\u001b[43m(\u001b[49m\u001b[43m)\u001b[49m\n\u001b[0;32m   1148\u001b[0m \u001b[38;5;28;01mif\u001b[39;00m \u001b[38;5;129;01mnot\u001b[39;00m \u001b[38;5;28many\u001b[39m(term\u001b[38;5;241m.\u001b[39mis_Order \u001b[38;5;28;01mfor\u001b[39;00m term, _ \u001b[38;5;129;01min\u001b[39;00m terms):\n\u001b[0;32m   1149\u001b[0m     ordered \u001b[38;5;241m=\u001b[39m \u001b[38;5;28msorted\u001b[39m(terms, key\u001b[38;5;241m=\u001b[39mkey, reverse\u001b[38;5;241m=\u001b[39mreverse)\n",
      "File \u001b[1;32mc:\\Users\\reascoir\\AppData\\Local\\miniconda3\\Lib\\site-packages\\sympy\\core\\expr.py:1176\u001b[0m, in \u001b[0;36mExpr.as_terms\u001b[1;34m(self)\u001b[0m\n\u001b[0;32m   1173\u001b[0m \u001b[38;5;28;01mfor\u001b[39;00m term \u001b[38;5;129;01min\u001b[39;00m Add\u001b[38;5;241m.\u001b[39mmake_args(\u001b[38;5;28mself\u001b[39m):\n\u001b[0;32m   1174\u001b[0m     coeff, _term \u001b[38;5;241m=\u001b[39m term\u001b[38;5;241m.\u001b[39mas_coeff_Mul()\n\u001b[1;32m-> 1176\u001b[0m     coeff \u001b[38;5;241m=\u001b[39m \u001b[38;5;28;43mcomplex\u001b[39;49m\u001b[43m(\u001b[49m\u001b[43mcoeff\u001b[49m\u001b[43m)\u001b[49m\n\u001b[0;32m   1177\u001b[0m     cpart, ncpart \u001b[38;5;241m=\u001b[39m {}, []\n\u001b[0;32m   1179\u001b[0m     \u001b[38;5;28;01mif\u001b[39;00m _term \u001b[38;5;129;01mis\u001b[39;00m \u001b[38;5;129;01mnot\u001b[39;00m S\u001b[38;5;241m.\u001b[39mOne:\n",
      "File \u001b[1;32mc:\\Users\\reascoir\\AppData\\Local\\miniconda3\\Lib\\site-packages\\sympy\\core\\expr.py:355\u001b[0m, in \u001b[0;36mExpr.__complex__\u001b[1;34m(self)\u001b[0m\n\u001b[0;32m    353\u001b[0m \u001b[38;5;28;01mdef\u001b[39;00m \u001b[38;5;21m__complex__\u001b[39m(\u001b[38;5;28mself\u001b[39m):\n\u001b[0;32m    354\u001b[0m     result \u001b[38;5;241m=\u001b[39m \u001b[38;5;28mself\u001b[39m\u001b[38;5;241m.\u001b[39mevalf()\n\u001b[1;32m--> 355\u001b[0m     re, im \u001b[38;5;241m=\u001b[39m \u001b[43mresult\u001b[49m\u001b[38;5;241;43m.\u001b[39;49m\u001b[43mas_real_imag\u001b[49m\u001b[43m(\u001b[49m\u001b[43m)\u001b[49m\n\u001b[0;32m    356\u001b[0m     \u001b[38;5;28;01mreturn\u001b[39;00m \u001b[38;5;28mcomplex\u001b[39m(\u001b[38;5;28mfloat\u001b[39m(re), \u001b[38;5;28mfloat\u001b[39m(im))\n",
      "File \u001b[1;32mc:\\Users\\reascoir\\AppData\\Local\\miniconda3\\Lib\\site-packages\\sympy\\core\\expr.py:1930\u001b[0m, in \u001b[0;36mExpr.as_real_imag\u001b[1;34m(self, deep, **hints)\u001b[0m\n\u001b[0;32m   1907\u001b[0m \u001b[38;5;28;01mdef\u001b[39;00m \u001b[38;5;21mas_real_imag\u001b[39m(\u001b[38;5;28mself\u001b[39m, deep\u001b[38;5;241m=\u001b[39m\u001b[38;5;28;01mTrue\u001b[39;00m, \u001b[38;5;241m*\u001b[39m\u001b[38;5;241m*\u001b[39mhints):\n\u001b[0;32m   1908\u001b[0m \u001b[38;5;250m    \u001b[39m\u001b[38;5;124;03m\"\"\"Performs complex expansion on 'self' and returns a tuple\u001b[39;00m\n\u001b[0;32m   1909\u001b[0m \u001b[38;5;124;03m       containing collected both real and imaginary parts. This\u001b[39;00m\n\u001b[0;32m   1910\u001b[0m \u001b[38;5;124;03m       method cannot be confused with re() and im() functions,\u001b[39;00m\n\u001b[1;32m   (...)\u001b[0m\n\u001b[0;32m   1928\u001b[0m \n\u001b[0;32m   1929\u001b[0m \u001b[38;5;124;03m    \"\"\"\u001b[39;00m\n\u001b[1;32m-> 1930\u001b[0m     \u001b[38;5;28;01mif\u001b[39;00m \u001b[43mhints\u001b[49m\u001b[38;5;241;43m.\u001b[39;49m\u001b[43mget\u001b[49m\u001b[43m(\u001b[49m\u001b[38;5;124;43m'\u001b[39;49m\u001b[38;5;124;43mignore\u001b[39;49m\u001b[38;5;124;43m'\u001b[39;49m\u001b[43m)\u001b[49m\u001b[43m \u001b[49m\u001b[38;5;241;43m==\u001b[39;49m\u001b[43m \u001b[49m\u001b[38;5;28;43mself\u001b[39;49m:\n\u001b[0;32m   1931\u001b[0m         \u001b[38;5;28;01mreturn\u001b[39;00m \u001b[38;5;28;01mNone\u001b[39;00m\n\u001b[0;32m   1932\u001b[0m     \u001b[38;5;28;01melse\u001b[39;00m:\n",
      "File \u001b[1;32mc:\\Users\\reascoir\\AppData\\Local\\miniconda3\\Lib\\site-packages\\sympy\\core\\numbers.py:1381\u001b[0m, in \u001b[0;36mFloat.__eq__\u001b[1;34m(self, other)\u001b[0m\n\u001b[0;32m   1379\u001b[0m \u001b[38;5;28;01mfrom\u001b[39;00m \u001b[38;5;21;01msympy\u001b[39;00m\u001b[38;5;21;01m.\u001b[39;00m\u001b[38;5;21;01mlogic\u001b[39;00m\u001b[38;5;21;01m.\u001b[39;00m\u001b[38;5;21;01mboolalg\u001b[39;00m \u001b[38;5;28;01mimport\u001b[39;00m Boolean\n\u001b[0;32m   1380\u001b[0m \u001b[38;5;28;01mtry\u001b[39;00m:\n\u001b[1;32m-> 1381\u001b[0m     other \u001b[38;5;241m=\u001b[39m \u001b[43m_sympify\u001b[49m\u001b[43m(\u001b[49m\u001b[43mother\u001b[49m\u001b[43m)\u001b[49m\n\u001b[0;32m   1382\u001b[0m \u001b[38;5;28;01mexcept\u001b[39;00m SympifyError:\n\u001b[0;32m   1383\u001b[0m     \u001b[38;5;28;01mreturn\u001b[39;00m \u001b[38;5;28mNotImplemented\u001b[39m\n",
      "File \u001b[1;32mc:\\Users\\reascoir\\AppData\\Local\\miniconda3\\Lib\\site-packages\\sympy\\core\\sympify.py:526\u001b[0m, in \u001b[0;36m_sympify\u001b[1;34m(a)\u001b[0m\n\u001b[0;32m    500\u001b[0m \u001b[38;5;28;01mdef\u001b[39;00m \u001b[38;5;21m_sympify\u001b[39m(a):\n\u001b[0;32m    501\u001b[0m \u001b[38;5;250m    \u001b[39m\u001b[38;5;124;03m\"\"\"\u001b[39;00m\n\u001b[0;32m    502\u001b[0m \u001b[38;5;124;03m    Short version of :func:`~.sympify` for internal usage for ``__add__`` and\u001b[39;00m\n\u001b[0;32m    503\u001b[0m \u001b[38;5;124;03m    ``__eq__`` methods where it is ok to allow some things (like Python\u001b[39;00m\n\u001b[1;32m   (...)\u001b[0m\n\u001b[0;32m    524\u001b[0m \n\u001b[0;32m    525\u001b[0m \u001b[38;5;124;03m    \"\"\"\u001b[39;00m\n\u001b[1;32m--> 526\u001b[0m     \u001b[38;5;28;01mreturn\u001b[39;00m \u001b[43msympify\u001b[49m\u001b[43m(\u001b[49m\u001b[43ma\u001b[49m\u001b[43m,\u001b[49m\u001b[43m \u001b[49m\u001b[43mstrict\u001b[49m\u001b[38;5;241;43m=\u001b[39;49m\u001b[38;5;28;43;01mTrue\u001b[39;49;00m\u001b[43m)\u001b[49m\n",
      "File \u001b[1;32mc:\\Users\\reascoir\\AppData\\Local\\miniconda3\\Lib\\site-packages\\sympy\\core\\sympify.py:385\u001b[0m, in \u001b[0;36msympify\u001b[1;34m(a, locals, convert_xor, strict, rational, evaluate)\u001b[0m\n\u001b[0;32m    383\u001b[0m \u001b[38;5;28;01mif\u001b[39;00m \u001b[38;5;28mcls\u001b[39m \u001b[38;5;129;01mis\u001b[39;00m \u001b[38;5;28mtype\u001b[39m(\u001b[38;5;28;01mNone\u001b[39;00m):\n\u001b[0;32m    384\u001b[0m     \u001b[38;5;28;01mif\u001b[39;00m strict:\n\u001b[1;32m--> 385\u001b[0m         \u001b[38;5;28;01mraise\u001b[39;00m \u001b[43mSympifyError\u001b[49m\u001b[43m(\u001b[49m\u001b[43ma\u001b[49m\u001b[43m)\u001b[49m\n\u001b[0;32m    386\u001b[0m     \u001b[38;5;28;01melse\u001b[39;00m:\n\u001b[0;32m    387\u001b[0m         \u001b[38;5;28;01mreturn\u001b[39;00m a\n",
      "\u001b[1;31mRecursionError\u001b[0m: maximum recursion depth exceeded"
     ]
    }
   ],
   "source": [
    "group_by_diagonal(Spin.project(expand_commutator(H + Commutator(H, S) + sp.Rational(1,2) * Commutator(V, S)).doit().subs(sols).simplify().expand().nsimplify()))[False]"
   ]
  },
  {
   "cell_type": "code",
   "execution_count": 20,
   "id": "caebc097",
   "metadata": {},
   "outputs": [
    {
     "data": {
      "text/latex": [
       "$\\displaystyle Q_{1} \\sigma_{3} \\sigma_{0}$"
      ],
      "text/plain": [
       "Q_{1}*\\sigma_{3}*\\sigma_{0}"
      ]
     },
     "execution_count": 20,
     "metadata": {},
     "output_type": "execute_result"
    }
   ],
   "source": [
    "Spin.project(tx)"
   ]
  },
  {
   "cell_type": "code",
   "execution_count": 17,
   "id": "c9c96099",
   "metadata": {},
   "outputs": [
    {
     "data": {
      "text/latex": [
       "$\\displaystyle Q_{1}$"
      ],
      "text/plain": [
       "Q_{1}"
      ]
     },
     "execution_count": 17,
     "metadata": {},
     "output_type": "execute_result"
    }
   ],
   "source": [
    "tx"
   ]
  }
 ],
 "metadata": {
  "kernelspec": {
   "display_name": "Python 3 (ipykernel)",
   "language": "python",
   "name": "python3"
  },
  "language_info": {
   "codemirror_mode": {
    "name": "ipython",
    "version": 3
   },
   "file_extension": ".py",
   "mimetype": "text/x-python",
   "name": "python",
   "nbconvert_exporter": "python",
   "pygments_lexer": "ipython3",
   "version": "3.12.2"
  }
 },
 "nbformat": 4,
 "nbformat_minor": 5
}
