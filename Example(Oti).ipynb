{
 "cells": [
  {
   "cell_type": "markdown",
   "id": "16e5dbb9",
   "metadata": {},
   "source": [
    "# Trying out sympy module"
   ]
  },
  {
   "cell_type": "code",
   "execution_count": 1,
   "id": "ce5eff91",
   "metadata": {},
   "outputs": [],
   "source": [
    "%load_ext autoreload\n",
    "%autoreload 2"
   ]
  },
  {
   "cell_type": "code",
   "execution_count": 2,
   "id": "ddf2a6b7",
   "metadata": {},
   "outputs": [],
   "source": [
    "import sympy as sp\n",
    "import numpy as np\n",
    "from Modules.sympy.classes import *\n",
    "from Modules.sympy.utils import *\n",
    "from sympy.physics.quantum import Dagger\n",
    "from Modules.sympy.solver import *"
   ]
  },
  {
   "cell_type": "code",
   "execution_count": 3,
   "id": "79863889",
   "metadata": {},
   "outputs": [
    {
     "data": {
      "text/latex": [
       "$\\displaystyle \\frac{\\Omega_{z} \\hbar \\sigma_{3}}{2} - g \\hbar \\left(a + {a^\\dagger}\\right) \\sigma_{1} + \\hbar \\omega {a^\\dagger} a$"
      ],
      "text/plain": [
       "\\Omega_{z}*hbar*\\sigma_{3}/2 - g*hbar*(a + {a^\\dagger})*\\sigma_{1} + hbar*omega*{a^\\dagger}*a"
      ]
     },
     "execution_count": 3,
     "metadata": {},
     "output_type": "execute_result"
    }
   ],
   "source": [
    "Spin = RDBasis(\"\\\\sigma\", 'spin', dim=2)\n",
    "sx = Spin.project(sp.Matrix([[0, 1], [1, 0]]))\n",
    "sz = Spin.project(sp.Matrix([[1, 0], [0, -1]]))\n",
    "\n",
    "a = RDBoson(\"a\", subspace =\"b\")\n",
    "ad = RDBoson(\"{a^\\\\dagger}\", subspace =\"b\", is_annihilation=False)\n",
    "\n",
    "hbar = RDsymbol(\"hbar\", order = 0)\n",
    "omega = RDsymbol(\"omega\", order = 0)\n",
    "Omega_z = RDsymbol(\"\\\\Omega_{z}\", order = 0)\n",
    "g = RDsymbol(\"g\", order = 1)\n",
    "\n",
    "H = hbar * omega * ad * a + hbar * Omega_z * sp.Rational(1,2) * sz - hbar * g * (a + ad) * sx\n",
    "H"
   ]
  },
  {
   "cell_type": "code",
   "execution_count": 4,
   "id": "86ebcedc",
   "metadata": {},
   "outputs": [],
   "source": [
    "from IPython.display import display, Math\n",
    "def display_dict(d):\n",
    "    for k, v in d.items():\n",
    "        display(Math(f\"{sp.latex(k)} = {sp.latex(v)}\"))"
   ]
  },
  {
   "cell_type": "markdown",
   "id": "ab70459f",
   "metadata": {},
   "source": [
    "# Better Solver"
   ]
  },
  {
   "cell_type": "code",
   "execution_count": 5,
   "id": "5f0f645e",
   "metadata": {
    "scrolled": false
   },
   "outputs": [
    {
     "data": {
      "text/plain": [
       "[[0],\n",
       " [1],\n",
       " [0, 1],\n",
       " [0, 1, 1],\n",
       " [1, 1],\n",
       " [2],\n",
       " [0, 2],\n",
       " [0, 1, 1, 1],\n",
       " [0, 1, 2],\n",
       " [0, 2, 1],\n",
       " [1, 1, 1],\n",
       " [1, 2],\n",
       " [2, 1],\n",
       " [3],\n",
       " [0, 3]]"
      ]
     },
     "execution_count": 5,
     "metadata": {},
     "output_type": "execute_result"
    }
   ],
   "source": [
    "def generate_keys(order):\n",
    "    keys = [] # will contain keys\n",
    "    \n",
    "    def deapth_first_search(current_key, current_sum):\n",
    "        if current_sum > order: # if current_sum is bigger than order\n",
    "            return # return nothing\n",
    "        if current_key: # if current key is not empty\n",
    "            keys.append(current_key[:]) # append current key to keys\n",
    "        start = 0 if not current_key else 1 # if current key is empty, start the next number from 0, else from 1\n",
    "        for i in range(start, order + 1): # looping over values between start and order\n",
    "            current_key.append(i) # append current number to the key\n",
    "            deapth_first_search(current_key, current_sum + i) # recurse down the tree\n",
    "            current_key.pop() # backtrack\n",
    "\n",
    "            \n",
    "            \n",
    "    deapth_first_search([], 0) # start search with inital sum to zero\n",
    "    return keys\n",
    "\n",
    "def custom_sort_key(sublist):\n",
    "    \"\"\"\n",
    "    Custom sorting key function:\n",
    "    - First, sorts by the sum of sublist elements in increasing order.\n",
    "    - Second, sorts sublists with equal sums by moving sublists of length 2 containing a 0 in the first element to the bottom.\n",
    "    \"\"\"\n",
    "    sublist_sum = sum(sublist)\n",
    "    sublist_length = len(sublist)\n",
    "\n",
    "    if sublist_length == 2 and sublist[0] == 0:\n",
    "        # Ensure sublists of length 2 with a 0 in the first element go to the bottom\n",
    "        return (sublist_sum, 1)\n",
    "    else:\n",
    "        return (sublist_sum, 0)\n",
    "\n",
    "def rearrange_keys(list_of_sublists):\n",
    "    # Sort sublists based on custom key\n",
    "    sorted_sublists = sorted(list_of_sublists, key=custom_sort_key)\n",
    "\n",
    "    return sorted_sublists\n",
    "\n",
    "\n",
    "keys = generate_keys(3)\n",
    "\n",
    "rearrange_keys(keys)"
   ]
  },
  {
   "cell_type": "code",
   "execution_count": 6,
   "id": "c2d492bb",
   "metadata": {},
   "outputs": [],
   "source": [
    "import matplotlib.pyplot as plt\n",
    "def count_full_complexity(keys):\n",
    "    count = 0\n",
    "    for key in keys:\n",
    "        if len(key) > 1:\n",
    "            count += len(key) - 1\n",
    "    return count\n",
    "\n",
    "def count_simplified_complexity(keys):\n",
    "    count = 0\n",
    "    for key in keys:\n",
    "        if len(key) > 1:\n",
    "            count +=1\n",
    "    return count\n",
    "\n",
    "\n",
    "full = []\n",
    "simp = []\n",
    "\n",
    "for order in range(20):\n",
    "    full.append(count_full_complexity(generate_keys(order)))\n",
    "    simp.append(count_simplified_complexity(generate_keys(order)))\n"
   ]
  },
  {
   "cell_type": "code",
   "execution_count": 7,
   "id": "6e224177",
   "metadata": {},
   "outputs": [
    {
     "data": {
      "image/png": "[encoded data removed]",
      "text/plain": [
       "<Figure size 640x480 with 1 Axes>"
      ]
     },
     "metadata": {},
     "output_type": "display_data"
    }
   ],
   "source": [
    "fig, ax = plt.subplots()\n",
    "ax.plot(full, label='Full Complexity')\n",
    "ax.plot(simp, label='Simplified Complexity')\n",
    "\n",
    "# Log scale\n",
    "ax.set_yscale('log')\n",
    "ax.set_xlabel('Order')\n",
    "ax.set_ylabel('Complexity')\n",
    "ax.legend()\n",
    "plt.show()"
   ]
  },
  {
   "cell_type": "code",
   "execution_count": 19,
   "id": "8352e54b",
   "metadata": {},
   "outputs": [
    {
     "data": {
      "text/latex": [
       "$\\displaystyle \\frac{\\Omega_{z} \\hbar \\sigma_{3}}{2} - g \\hbar \\left(a + {a^\\dagger}\\right) \\sigma_{1} + \\hbar \\omega {a^\\dagger} a$"
      ],
      "text/plain": [
       "\\Omega_{z}*hbar*\\sigma_{3}/2 - g*hbar*(a + {a^\\dagger})*\\sigma_{1} + hbar*omega*{a^\\dagger}*a"
      ]
     },
     "execution_count": 19,
     "metadata": {},
     "output_type": "execute_result"
    }
   ],
   "source": [
    "Spin = RDBasis(\"\\\\sigma\", 'spin', dim=2)\n",
    "sx = Spin.project(sp.Matrix([[0, 1], [1, 0]]))\n",
    "sz = Spin.project(sp.Matrix([[1, 0], [0, -1]]))\n",
    "\n",
    "a = RDBoson(\"a\", subspace =\"b\")\n",
    "ad = RDBoson(\"{a^\\\\dagger}\", subspace =\"b\", is_annihilation=False)\n",
    "\n",
    "hbar = RDsymbol(\"hbar\", order = 0)\n",
    "omega = RDsymbol(\"omega\", order = 0)\n",
    "Omega_z = RDsymbol(\"\\\\Omega_{z}\", order = 0)\n",
    "g = RDsymbol(\"g\", order = 1)\n",
    "\n",
    "H = hbar * omega * ad * a + hbar * Omega_z * sp.Rational(1,2) * sz - hbar * g * (a + ad) * sx\n",
    "H"
   ]
  },
  {
   "cell_type": "code",
   "execution_count": 20,
   "id": "573643f2",
   "metadata": {},
   "outputs": [],
   "source": [
    "def solver(H, composite_basis, order=2, full_diagonal=True):\n",
    "\n",
    "    #print(\"Solver for the following Hamiltonian:\")\n",
    "    #display(H)\n",
    "    #print(\"Using the following composite basis: \" + composite_basis.name)\n",
    "    #print(f\"Order: {order}\")\n",
    "    #print(f\"Full Diagonal: {full_diagonal}\")\n",
    "    #print(\"\\n\\n\")\n",
    "\n",
    "\n",
    "    #print(\"Prearing the keys\".center(200, \"-\"))\n",
    "\n",
    "    from_list_to_key_lenght = lambda l: ('-'.join([str(i) for i in l]), len(l))\n",
    "\n",
    "    list_keys_full = generate_keys(order)\n",
    "    keys = rearrange_keys(list_keys_full)\n",
    "    keys.pop()\n",
    "\n",
    "    rational_factorial = [sp.Rational(1, sp.factorial(i)) for i in range(order + 1)]\n",
    "\n",
    "    #print(\"|\\tList\".ljust(25) + \"Keys\".center(20) + \"Length\\t|\".rjust(25))\n",
    "    for i, key in enumerate(keys):\n",
    "        k_str, l = from_list_to_key_lenght(key)\n",
    "        print(f\"|\\t{i}\".ljust(25) + f\"{k_str}\".center(20) + f\"{l}\\t|\".rjust(25))\n",
    "\n",
    "    #print(\"\\n\\n\")\n",
    "\n",
    "    #print(\"Solving the Hamiltonian\".center(200, \"-\"))\n",
    "\n",
    "    H_ordered = group_by_order(H)\n",
    "    elementes_ordered = {str(key): value for key, value in H_ordered.items()}\n",
    "\n",
    "    # Aling to the left the title and the values to the right\n",
    "    \n",
    "    #print('H_ordered')\n",
    "    #display_dict(H_ordered)\n",
    "    #print('elementes_ordered')\n",
    "    #display_dict(elementes_ordered)\n",
    "\n",
    "    #print(\"\\n\\n\")\n",
    "\n",
    "\n",
    "    H0 = elementes_ordered.get('0', 0)\n",
    "\n",
    "    #print(\"Initial values\".center(200, \"-\"))\n",
    "\n",
    "    #display_dict({'H_0': H0})\n",
    "\n",
    "    Vk_dict = {}\n",
    "    Bk_dict = {}\n",
    "    H_final = 0\n",
    "    \n",
    "    for key, value in H_ordered.items():\n",
    "        Hk = group_by_diagonal(value)\n",
    "        H_final += Hk.get(True, 0)\n",
    "        Vk_dict[key] = Hk.get(False, 0)\n",
    "\n",
    "    #display_dict({'H_final': H_final})\n",
    "    #display_dict(Vk_dict)\n",
    "    #display_dict(Bk_dict)\n",
    "\n",
    "    S = {}\n",
    "\n",
    "    #print(\"-\".center(200, \"-\"))\n",
    "\n",
    "    #print('\\n\\n')\n",
    "    #print(\"Solving the Hamiltonian\".center(200, \"-\"))\n",
    "\n",
    "    for key in keys:\n",
    "        k_total, l_total = from_list_to_key_lenght(key)\n",
    "        order_it = np.sum(key)\n",
    "        k_last, _ = from_list_to_key_lenght(key[:-1])\n",
    "        k, _ = from_list_to_key_lenght([key[-1]])\n",
    "\n",
    "        #print(\"\\n\\n\")\n",
    "        #print(f\"{k_total}\".center(200, \"-\"))\n",
    "        #print(f\"\\nKey: {key}, l_total: {l_total}, order_it: {order_it}, k_last: {k_last}, k: {k}\\n\")\n",
    "\n",
    "        if l_total == 1:\n",
    "            #print(\"\\t * l_total == 1 > \" + k_total)\n",
    "            continue\n",
    "            \n",
    "        if l_total == 2 and key[0] == 0:\n",
    "            Vk = Vk_dict.get(order_it, 0)\n",
    "            Bk = Bk_dict.get(order_it, 0)\n",
    "\n",
    "            #print(f\"Solving S_{k}\")\n",
    "            #display_dict({'V_k': Vk, 'B_k': Bk})\n",
    "\n",
    "            Vk_plus_Bk = Vk + Bk\n",
    "\n",
    "            if Vk_plus_Bk == 0:\n",
    "                S[k] = 0\n",
    "                print(\"-\".center(200, \"-\"))\n",
    "                continue\n",
    "\n",
    "            Sk, symbols_s = get_ansatz(Vk_plus_Bk, composite_basis)\n",
    "            #display_dict({'S_k': Sk})\n",
    "            #display_dict({'Symbols': symbols_s})\n",
    "\n",
    "            S_k_grouped = group_by_infinite_operators(Sk)\n",
    "            #print(\"Sk grouped by infinite operators\")\n",
    "            #display_dict(S_k_grouped)\n",
    "            S_k_solved = 0\n",
    "\n",
    "            elementes_ordered[k_total] = - Vk_plus_Bk\n",
    "            eq = expand_commutator(Commutator(H0, Sk) + Vk_plus_Bk).doit()\n",
    "            #display_dict({'Equation to solve': eq})\n",
    "\n",
    "            expression_to_solve = composite_basis.project(eq).simplify().expand()\n",
    "            sols = {s : 0 for s in symbols_s}\n",
    "\n",
    "            group_by_infinite_operators_dict = group_by_infinite_operators(expression_to_solve)\n",
    "            for key, value in group_by_infinite_operators_dict.items():\n",
    "                if value == 0:\n",
    "                    continue\n",
    "                solution_dict = RD_solve(value, symbols_s)\n",
    "                sols.update(solution_dict)\n",
    "                sk = S_k_grouped.get(key, 0)\n",
    "                if sk == 0:\n",
    "                    continue\n",
    "                S_k_solved += key * sk.subs(sols)\n",
    "            \n",
    "            #print(\"S_k_solved\")\n",
    "            #display_dict(sols)\n",
    "            #display_dict({f'S_{k}': S_k_solved})\n",
    "            #print(\"-\".center(200, \"-\"))\n",
    "            S[k] = S_k_solved\n",
    "            continue\n",
    "        \n",
    "        prev_term = elementes_ordered.get(k_last, 0)\n",
    "        #display_dict({f'Previous term  {k_last}': prev_term})\n",
    "        Sk = S[k]\n",
    "        #display_dict({f\"Factorial for {k_total}\":rational_factorial[l_total - 1]})\n",
    "        new_term =  composite_basis.project(expand_commutator(Commutator(prev_term, Sk)).doit()).simplify().expand()\n",
    "        #display_dict({f'New term  {k_total}': new_term})\n",
    "\n",
    "        print(\"-\".center(200, \"-\"))\n",
    "\n",
    "        elementes_ordered[k_total] = new_term\n",
    "\n",
    "        new_term_to_the_hamiltonian = rational_factorial[l_total - 1] *new_term\n",
    "\n",
    "        if not full_diagonal:\n",
    "            H_final += new_term_to_the_hamiltonian\n",
    "            continue\n",
    "\n",
    "        Hk_new = group_by_diagonal(new_term_to_the_hamiltonian)\n",
    "        Bk_dict[order_it] = Bk_dict.get(order_it, 0) + Hk_new.get(False, 0)\n",
    "        H_final += Hk_new.get(True, 0)\n",
    "        \n",
    "    return H_final, S\n",
    "   \n"
   ]
  },
  {
   "cell_type": "code",
   "execution_count": 21,
   "id": "86abe531",
   "metadata": {},
   "outputs": [
    {
     "name": "stdout",
     "output_type": "stream",
     "text": [
      "|\t0                               0                                1\t|\n",
      "|\t1                               1                                1\t|\n",
      "|\t2                              0-1                               2\t|\n",
      "|\t3                             0-1-1                              3\t|\n",
      "|\t4                              1-1                               2\t|\n",
      "|\t5                               2                                1\t|\n",
      "|\t6                              0-2                               2\t|\n",
      "|\t7                            0-1-1-1                             4\t|\n",
      "|\t8                             0-1-2                              3\t|\n",
      "|\t9                             0-2-1                              3\t|\n",
      "|\t10                            1-1-1                              3\t|\n",
      "|\t11                             1-2                               2\t|\n",
      "|\t12                             2-1                               2\t|\n",
      "|\t13                              3                                1\t|\n",
      "--------------------------------------------------------------------------------------------------------------------------------------------------------------------------------------------------------\n",
      "--------------------------------------------------------------------------------------------------------------------------------------------------------------------------------------------------------\n",
      "--------------------------------------------------------------------------------------------------------------------------------------------------------------------------------------------------------\n",
      "--------------------------------------------------------------------------------------------------------------------------------------------------------------------------------------------------------\n",
      "--------------------------------------------------------------------------------------------------------------------------------------------------------------------------------------------------------\n",
      "--------------------------------------------------------------------------------------------------------------------------------------------------------------------------------------------------------\n",
      "--------------------------------------------------------------------------------------------------------------------------------------------------------------------------------------------------------\n",
      "--------------------------------------------------------------------------------------------------------------------------------------------------------------------------------------------------------\n"
     ]
    }
   ],
   "source": [
    "sol = solver(H, Spin, order=3, full_diagonal=True)"
   ]
  },
  {
   "cell_type": "code",
   "execution_count": 22,
   "id": "ffc882c8",
   "metadata": {},
   "outputs": [
    {
     "data": {
      "text/latex": [
       "$\\displaystyle \\frac{2 \\Omega_{z} g^{2} \\hbar {a^\\dagger} a \\sigma_{3}}{\\Omega_{z}^{2} - \\omega^{2}} + \\frac{\\Omega_{z} g^{2} \\hbar \\sigma_{3}}{\\Omega_{z}^{2} - \\omega^{2}} + \\frac{\\Omega_{z} \\hbar \\sigma_{3}}{2} + \\frac{g^{2} \\hbar \\omega}{\\Omega_{z}^{2} - \\omega^{2}} + \\hbar \\omega {a^\\dagger} a$"
      ],
      "text/plain": [
       "2*\\Omega_{z}*g**2*hbar*{a^\\dagger}*a*\\sigma_{3}/(\\Omega_{z}**2 - omega**2) + \\Omega_{z}*g**2*hbar*\\sigma_{3}/(\\Omega_{z}**2 - omega**2) + \\Omega_{z}*hbar*\\sigma_{3}/2 + g**2*hbar*omega/(\\Omega_{z}**2 - omega**2) + hbar*omega*{a^\\dagger}*a"
      ]
     },
     "execution_count": 22,
     "metadata": {},
     "output_type": "execute_result"
    }
   ],
   "source": [
    "comm_relations = {\n",
    "    a*ad : ad * a + 1,\n",
    "}\n",
    "\n",
    "sol[0].expand().subs(comm_relations).expand()"
   ]
  },
  {
   "cell_type": "code",
   "execution_count": 23,
   "id": "9ac18e2e",
   "metadata": {},
   "outputs": [
    {
     "data": {
      "text/latex": [
       "$\\displaystyle \\frac{2 \\Omega_{z} g^{2} \\hbar a {a^\\dagger} \\sigma_{3}}{\\Omega_{z}^{2} - \\omega^{2}} - \\frac{\\Omega_{z} g^{2} \\hbar \\sigma_{3}}{\\Omega_{z}^{2} - \\omega^{2}} + \\frac{\\Omega_{z} \\hbar \\sigma_{3}}{2} + \\frac{g^{2} \\hbar \\omega}{\\Omega_{z}^{2} - \\omega^{2}} + \\hbar \\omega {a^\\dagger} a$"
      ],
      "text/plain": [
       "2*\\Omega_{z}*g**2*hbar*a*{a^\\dagger}*\\sigma_{3}/(\\Omega_{z}**2 - omega**2) - \\Omega_{z}*g**2*hbar*\\sigma_{3}/(\\Omega_{z}**2 - omega**2) + \\Omega_{z}*hbar*\\sigma_{3}/2 + g**2*hbar*omega/(\\Omega_{z}**2 - omega**2) + hbar*omega*{a^\\dagger}*a"
      ]
     },
     "execution_count": 23,
     "metadata": {},
     "output_type": "execute_result"
    }
   ],
   "source": [
    "sol[0]"
   ]
  },
  {
   "cell_type": "code",
   "execution_count": 24,
   "id": "5f880810",
   "metadata": {},
   "outputs": [
    {
     "data": {
      "text/latex": [
       "$\\displaystyle \\frac{i \\Omega_{z} g \\sigma_{2} a}{\\Omega_{z}^{2} - \\omega^{2}} + \\frac{i \\Omega_{z} g \\sigma_{2} {a^\\dagger}}{\\Omega_{z}^{2} - \\omega^{2}} + \\frac{g \\omega \\sigma_{1} a}{\\Omega_{z}^{2} - \\omega^{2}} - \\frac{g \\omega \\sigma_{1} {a^\\dagger}}{\\Omega_{z}^{2} - \\omega^{2}}$"
      ],
      "text/plain": [
       "I*\\Omega_{z}*g*\\sigma_{2}*a/(\\Omega_{z}**2 - omega**2) + I*\\Omega_{z}*g*\\sigma_{2}*{a^\\dagger}/(\\Omega_{z}**2 - omega**2) + g*omega*\\sigma_{1}*a/(\\Omega_{z}**2 - omega**2) - g*omega*\\sigma_{1}*{a^\\dagger}/(\\Omega_{z}**2 - omega**2)"
      ]
     },
     "execution_count": 24,
     "metadata": {},
     "output_type": "execute_result"
    }
   ],
   "source": [
    "s0, sx, sy, sz = Spin._basis\n",
    "sigma_p = sp.Rational(1,2) * (sx + sp.I * sy)\n",
    "sigma_m = sp.Rational(1,2) * (sx - sp.I * sy)\n",
    "S1 = (g / (omega + Omega_z) * sigma_p + g/(omega - Omega_z) * sigma_m) * ad - (g / (omega - Omega_z) * sigma_p + g/(omega + Omega_z) * sigma_m) * a\n",
    "S1.simplify().expand()"
   ]
  },
  {
   "cell_type": "code",
   "execution_count": 25,
   "id": "250383d8",
   "metadata": {},
   "outputs": [
    {
     "data": {
      "text/latex": [
       "$\\displaystyle \\frac{\\Omega_{z} g^{2} a^{2} \\sigma_{3}}{2 \\Omega_{z}^{2} \\omega - 2 \\omega^{3}} - \\frac{\\Omega_{z} g^{2} {a^\\dagger}^{2} \\sigma_{3}}{2 \\Omega_{z}^{2} \\omega - 2 \\omega^{3}}$"
      ],
      "text/plain": [
       "\\Omega_{z}*g**2*a**2*\\sigma_{3}/(2*\\Omega_{z}**2*omega - 2*omega**3) - \\Omega_{z}*g**2*{a^\\dagger}**2*\\sigma_{3}/(2*\\Omega_{z}**2*omega - 2*omega**3)"
      ]
     },
     "execution_count": 25,
     "metadata": {},
     "output_type": "execute_result"
    }
   ],
   "source": [
    "S2 = Omega_z * g**2 / (2 * omega * (omega**2 - Omega_z**2)) * (ad * ad - a * a) * sz\n",
    "\n",
    "S2.simplify().expand()"
   ]
  },
  {
   "cell_type": "markdown",
   "id": "580b00ad",
   "metadata": {},
   "source": [
    "# Comparison with PymaBlock"
   ]
  },
  {
   "cell_type": "code",
   "execution_count": 26,
   "id": "13058ec9",
   "metadata": {},
   "outputs": [
    {
     "data": {
      "text/latex": [
       "$\\displaystyle - \\frac{\\omega_{q} \\sigma_{3}}{2} + \\omega_{r} {a^\\dagger} a + \\frac{g a \\left(\\sigma_{1} - i \\sigma_{2}\\right)}{2} + \\frac{g {a^\\dagger} \\left(\\sigma_{1} + i \\sigma_{2}\\right)}{2}$"
      ],
      "text/plain": [
       "-\\omega_{q}*\\sigma_{3}/2 + \\omega_{r}*{a^\\dagger}*a + g*a*(\\sigma_{1} - I*\\sigma_{2})/2 + g*{a^\\dagger}*(\\sigma_{1} + I*\\sigma_{2})/2"
      ]
     },
     "execution_count": 26,
     "metadata": {},
     "output_type": "execute_result"
    }
   ],
   "source": [
    "wr = RDsymbol(\"\\\\omega_{r}\", order = 0)\n",
    "wq = RDsymbol(\"\\\\omega_{q}\", order = 0)\n",
    "g = RDsymbol(\"g\", order = 1)\n",
    "\n",
    "Spin = RDBasis(\"\\\\sigma\", 'spin', dim=2)\n",
    "s0, sx, sy, sz = Spin._basis\n",
    "\n",
    "sigma_p = sp.Rational(1,2)* (sx + sp.I * sy)\n",
    "sigma_m = sp.Rational(1,2)* (sx - sp.I * sy)\n",
    "\n",
    "a = RDBoson(\"a\", subspace =\"resonator\")\n",
    "ad = RDBoson(\"{a^\\\\dagger}\", subspace =\"resonator\", is_annihilation=False)\n",
    "\n",
    "H0 = wr * ad * a - wq * sp.Rational(1,2) * sz\n",
    "H = H0 + g * a* sigma_m + g * ad * sigma_p\n",
    "H"
   ]
  },
  {
   "cell_type": "code",
   "execution_count": 27,
   "id": "ab08f3db",
   "metadata": {},
   "outputs": [
    {
     "name": "stdout",
     "output_type": "stream",
     "text": [
      "|\t0                               0                                1\t|\n",
      "|\t1                               1                                1\t|\n",
      "|\t2                              0-1                               2\t|\n",
      "|\t3                             0-1-1                              3\t|\n",
      "|\t4                              1-1                               2\t|\n",
      "|\t5                               2                                1\t|\n",
      "|\t6                              0-2                               2\t|\n",
      "|\t7                            0-1-1-1                             4\t|\n",
      "|\t8                             0-1-2                              3\t|\n",
      "|\t9                             0-2-1                              3\t|\n",
      "|\t10                            1-1-1                              3\t|\n",
      "|\t11                             1-2                               2\t|\n",
      "|\t12                             2-1                               2\t|\n",
      "|\t13                              3                                1\t|\n",
      "|\t14                             0-3                               2\t|\n",
      "|\t15                          0-1-1-1-1                            5\t|\n",
      "|\t16                           0-1-1-2                             4\t|\n",
      "|\t17                           0-1-2-1                             4\t|\n",
      "|\t18                            0-1-3                              3\t|\n",
      "|\t19                           0-2-1-1                             4\t|\n",
      "|\t20                            0-2-2                              3\t|\n",
      "|\t21                            0-3-1                              3\t|\n",
      "|\t22                           1-1-1-1                             4\t|\n",
      "|\t23                            1-1-2                              3\t|\n",
      "|\t24                            1-2-1                              3\t|\n",
      "|\t25                             1-3                               2\t|\n",
      "|\t26                            2-1-1                              3\t|\n",
      "|\t27                             2-2                               2\t|\n",
      "|\t28                             3-1                               2\t|\n",
      "|\t29                              4                                1\t|\n",
      "|\t30                             0-4                               2\t|\n",
      "|\t31                         0-1-1-1-1-1                           6\t|\n",
      "|\t32                          0-1-1-1-2                            5\t|\n",
      "|\t33                          0-1-1-2-1                            5\t|\n",
      "|\t34                           0-1-1-3                             4\t|\n",
      "|\t35                          0-1-2-1-1                            5\t|\n",
      "|\t36                           0-1-2-2                             4\t|\n",
      "|\t37                           0-1-3-1                             4\t|\n",
      "|\t38                            0-1-4                              3\t|\n",
      "|\t39                          0-2-1-1-1                            5\t|\n",
      "|\t40                           0-2-1-2                             4\t|\n",
      "|\t41                           0-2-2-1                             4\t|\n",
      "|\t42                            0-2-3                              3\t|\n",
      "|\t43                           0-3-1-1                             4\t|\n",
      "|\t44                            0-3-2                              3\t|\n",
      "|\t45                            0-4-1                              3\t|\n",
      "|\t46                          1-1-1-1-1                            5\t|\n",
      "|\t47                           1-1-1-2                             4\t|\n",
      "|\t48                           1-1-2-1                             4\t|\n",
      "|\t49                            1-1-3                              3\t|\n",
      "|\t50                           1-2-1-1                             4\t|\n",
      "|\t51                            1-2-2                              3\t|\n",
      "|\t52                            1-3-1                              3\t|\n",
      "|\t53                             1-4                               2\t|\n",
      "|\t54                           2-1-1-1                             4\t|\n",
      "|\t55                            2-1-2                              3\t|\n",
      "|\t56                            2-2-1                              3\t|\n",
      "|\t57                             2-3                               2\t|\n",
      "|\t58                            3-1-1                              3\t|\n",
      "|\t59                             3-2                               2\t|\n",
      "|\t60                             4-1                               2\t|\n",
      "|\t61                              5                                1\t|\n",
      "|\t62                             0-5                               2\t|\n",
      "|\t63                        0-1-1-1-1-1-1                          7\t|\n",
      "|\t64                         0-1-1-1-1-2                           6\t|\n",
      "|\t65                         0-1-1-1-2-1                           6\t|\n",
      "|\t66                          0-1-1-1-3                            5\t|\n",
      "|\t67                         0-1-1-2-1-1                           6\t|\n",
      "|\t68                          0-1-1-2-2                            5\t|\n",
      "|\t69                          0-1-1-3-1                            5\t|\n",
      "|\t70                           0-1-1-4                             4\t|\n",
      "|\t71                         0-1-2-1-1-1                           6\t|\n",
      "|\t72                          0-1-2-1-2                            5\t|\n",
      "|\t73                          0-1-2-2-1                            5\t|\n",
      "|\t74                           0-1-2-3                             4\t|\n",
      "|\t75                          0-1-3-1-1                            5\t|\n",
      "|\t76                           0-1-3-2                             4\t|\n",
      "|\t77                           0-1-4-1                             4\t|\n",
      "|\t78                            0-1-5                              3\t|\n",
      "|\t79                         0-2-1-1-1-1                           6\t|\n",
      "|\t80                          0-2-1-1-2                            5\t|\n",
      "|\t81                          0-2-1-2-1                            5\t|\n",
      "|\t82                           0-2-1-3                             4\t|\n",
      "|\t83                          0-2-2-1-1                            5\t|\n",
      "|\t84                           0-2-2-2                             4\t|\n",
      "|\t85                           0-2-3-1                             4\t|\n",
      "|\t86                            0-2-4                              3\t|\n",
      "|\t87                          0-3-1-1-1                            5\t|\n",
      "|\t88                           0-3-1-2                             4\t|\n",
      "|\t89                           0-3-2-1                             4\t|\n",
      "|\t90                            0-3-3                              3\t|\n",
      "|\t91                           0-4-1-1                             4\t|\n",
      "|\t92                            0-4-2                              3\t|\n",
      "|\t93                            0-5-1                              3\t|\n",
      "|\t94                         1-1-1-1-1-1                           6\t|\n",
      "|\t95                          1-1-1-1-2                            5\t|\n",
      "|\t96                          1-1-1-2-1                            5\t|\n",
      "|\t97                           1-1-1-3                             4\t|\n",
      "|\t98                          1-1-2-1-1                            5\t|\n",
      "|\t99                           1-1-2-2                             4\t|\n",
      "|\t100                          1-1-3-1                             4\t|\n",
      "|\t101                           1-1-4                              3\t|\n",
      "|\t102                         1-2-1-1-1                            5\t|\n",
      "|\t103                          1-2-1-2                             4\t|\n",
      "|\t104                          1-2-2-1                             4\t|\n",
      "|\t105                           1-2-3                              3\t|\n",
      "|\t106                          1-3-1-1                             4\t|\n",
      "|\t107                           1-3-2                              3\t|\n",
      "|\t108                           1-4-1                              3\t|\n",
      "|\t109                            1-5                               2\t|\n",
      "|\t110                         2-1-1-1-1                            5\t|\n",
      "|\t111                          2-1-1-2                             4\t|\n",
      "|\t112                          2-1-2-1                             4\t|\n",
      "|\t113                           2-1-3                              3\t|\n",
      "|\t114                          2-2-1-1                             4\t|\n",
      "|\t115                           2-2-2                              3\t|\n",
      "|\t116                           2-3-1                              3\t|\n",
      "|\t117                            2-4                               2\t|\n",
      "|\t118                          3-1-1-1                             4\t|\n",
      "|\t119                           3-1-2                              3\t|\n",
      "|\t120                           3-2-1                              3\t|\n",
      "|\t121                            3-3                               2\t|\n",
      "|\t122                           4-1-1                              3\t|\n",
      "|\t123                            4-2                               2\t|\n",
      "|\t124                            5-1                               2\t|\n",
      "|\t125                             6                                1\t|\n",
      "--------------------------------------------------------------------------------------------------------------------------------------------------------------------------------------------------------\n",
      "--------------------------------------------------------------------------------------------------------------------------------------------------------------------------------------------------------\n",
      "--------------------------------------------------------------------------------------------------------------------------------------------------------------------------------------------------------\n",
      "--------------------------------------------------------------------------------------------------------------------------------------------------------------------------------------------------------\n",
      "--------------------------------------------------------------------------------------------------------------------------------------------------------------------------------------------------------\n",
      "--------------------------------------------------------------------------------------------------------------------------------------------------------------------------------------------------------\n",
      "--------------------------------------------------------------------------------------------------------------------------------------------------------------------------------------------------------\n",
      "--------------------------------------------------------------------------------------------------------------------------------------------------------------------------------------------------------\n",
      "--------------------------------------------------------------------------------------------------------------------------------------------------------------------------------------------------------\n",
      "--------------------------------------------------------------------------------------------------------------------------------------------------------------------------------------------------------\n",
      "--------------------------------------------------------------------------------------------------------------------------------------------------------------------------------------------------------\n",
      "--------------------------------------------------------------------------------------------------------------------------------------------------------------------------------------------------------\n",
      "--------------------------------------------------------------------------------------------------------------------------------------------------------------------------------------------------------\n",
      "--------------------------------------------------------------------------------------------------------------------------------------------------------------------------------------------------------\n",
      "--------------------------------------------------------------------------------------------------------------------------------------------------------------------------------------------------------\n",
      "--------------------------------------------------------------------------------------------------------------------------------------------------------------------------------------------------------\n",
      "--------------------------------------------------------------------------------------------------------------------------------------------------------------------------------------------------------\n",
      "--------------------------------------------------------------------------------------------------------------------------------------------------------------------------------------------------------\n",
      "--------------------------------------------------------------------------------------------------------------------------------------------------------------------------------------------------------\n",
      "--------------------------------------------------------------------------------------------------------------------------------------------------------------------------------------------------------\n",
      "--------------------------------------------------------------------------------------------------------------------------------------------------------------------------------------------------------\n",
      "--------------------------------------------------------------------------------------------------------------------------------------------------------------------------------------------------------\n",
      "--------------------------------------------------------------------------------------------------------------------------------------------------------------------------------------------------------\n",
      "--------------------------------------------------------------------------------------------------------------------------------------------------------------------------------------------------------\n",
      "--------------------------------------------------------------------------------------------------------------------------------------------------------------------------------------------------------\n",
      "--------------------------------------------------------------------------------------------------------------------------------------------------------------------------------------------------------\n",
      "--------------------------------------------------------------------------------------------------------------------------------------------------------------------------------------------------------\n",
      "--------------------------------------------------------------------------------------------------------------------------------------------------------------------------------------------------------\n",
      "--------------------------------------------------------------------------------------------------------------------------------------------------------------------------------------------------------\n",
      "--------------------------------------------------------------------------------------------------------------------------------------------------------------------------------------------------------\n",
      "--------------------------------------------------------------------------------------------------------------------------------------------------------------------------------------------------------\n",
      "--------------------------------------------------------------------------------------------------------------------------------------------------------------------------------------------------------\n",
      "--------------------------------------------------------------------------------------------------------------------------------------------------------------------------------------------------------\n",
      "--------------------------------------------------------------------------------------------------------------------------------------------------------------------------------------------------------\n",
      "--------------------------------------------------------------------------------------------------------------------------------------------------------------------------------------------------------\n",
      "--------------------------------------------------------------------------------------------------------------------------------------------------------------------------------------------------------\n",
      "--------------------------------------------------------------------------------------------------------------------------------------------------------------------------------------------------------\n",
      "--------------------------------------------------------------------------------------------------------------------------------------------------------------------------------------------------------\n",
      "--------------------------------------------------------------------------------------------------------------------------------------------------------------------------------------------------------\n",
      "--------------------------------------------------------------------------------------------------------------------------------------------------------------------------------------------------------\n",
      "--------------------------------------------------------------------------------------------------------------------------------------------------------------------------------------------------------\n",
      "--------------------------------------------------------------------------------------------------------------------------------------------------------------------------------------------------------\n",
      "--------------------------------------------------------------------------------------------------------------------------------------------------------------------------------------------------------\n",
      "--------------------------------------------------------------------------------------------------------------------------------------------------------------------------------------------------------\n",
      "--------------------------------------------------------------------------------------------------------------------------------------------------------------------------------------------------------\n",
      "--------------------------------------------------------------------------------------------------------------------------------------------------------------------------------------------------------\n",
      "--------------------------------------------------------------------------------------------------------------------------------------------------------------------------------------------------------\n",
      "--------------------------------------------------------------------------------------------------------------------------------------------------------------------------------------------------------\n",
      "--------------------------------------------------------------------------------------------------------------------------------------------------------------------------------------------------------\n",
      "--------------------------------------------------------------------------------------------------------------------------------------------------------------------------------------------------------\n",
      "--------------------------------------------------------------------------------------------------------------------------------------------------------------------------------------------------------\n",
      "--------------------------------------------------------------------------------------------------------------------------------------------------------------------------------------------------------\n",
      "--------------------------------------------------------------------------------------------------------------------------------------------------------------------------------------------------------\n",
      "--------------------------------------------------------------------------------------------------------------------------------------------------------------------------------------------------------\n",
      "--------------------------------------------------------------------------------------------------------------------------------------------------------------------------------------------------------\n",
      "--------------------------------------------------------------------------------------------------------------------------------------------------------------------------------------------------------\n",
      "--------------------------------------------------------------------------------------------------------------------------------------------------------------------------------------------------------\n",
      "--------------------------------------------------------------------------------------------------------------------------------------------------------------------------------------------------------\n",
      "--------------------------------------------------------------------------------------------------------------------------------------------------------------------------------------------------------\n",
      "--------------------------------------------------------------------------------------------------------------------------------------------------------------------------------------------------------\n",
      "--------------------------------------------------------------------------------------------------------------------------------------------------------------------------------------------------------\n",
      "--------------------------------------------------------------------------------------------------------------------------------------------------------------------------------------------------------\n",
      "--------------------------------------------------------------------------------------------------------------------------------------------------------------------------------------------------------\n",
      "--------------------------------------------------------------------------------------------------------------------------------------------------------------------------------------------------------\n",
      "--------------------------------------------------------------------------------------------------------------------------------------------------------------------------------------------------------\n",
      "--------------------------------------------------------------------------------------------------------------------------------------------------------------------------------------------------------\n",
      "--------------------------------------------------------------------------------------------------------------------------------------------------------------------------------------------------------\n",
      "--------------------------------------------------------------------------------------------------------------------------------------------------------------------------------------------------------\n",
      "--------------------------------------------------------------------------------------------------------------------------------------------------------------------------------------------------------\n",
      "--------------------------------------------------------------------------------------------------------------------------------------------------------------------------------------------------------\n",
      "--------------------------------------------------------------------------------------------------------------------------------------------------------------------------------------------------------\n",
      "--------------------------------------------------------------------------------------------------------------------------------------------------------------------------------------------------------\n",
      "--------------------------------------------------------------------------------------------------------------------------------------------------------------------------------------------------------\n",
      "--------------------------------------------------------------------------------------------------------------------------------------------------------------------------------------------------------\n",
      "--------------------------------------------------------------------------------------------------------------------------------------------------------------------------------------------------------\n",
      "--------------------------------------------------------------------------------------------------------------------------------------------------------------------------------------------------------\n",
      "--------------------------------------------------------------------------------------------------------------------------------------------------------------------------------------------------------\n",
      "--------------------------------------------------------------------------------------------------------------------------------------------------------------------------------------------------------\n",
      "--------------------------------------------------------------------------------------------------------------------------------------------------------------------------------------------------------\n",
      "--------------------------------------------------------------------------------------------------------------------------------------------------------------------------------------------------------\n",
      "--------------------------------------------------------------------------------------------------------------------------------------------------------------------------------------------------------\n",
      "--------------------------------------------------------------------------------------------------------------------------------------------------------------------------------------------------------\n",
      "--------------------------------------------------------------------------------------------------------------------------------------------------------------------------------------------------------\n",
      "--------------------------------------------------------------------------------------------------------------------------------------------------------------------------------------------------------\n",
      "--------------------------------------------------------------------------------------------------------------------------------------------------------------------------------------------------------\n",
      "--------------------------------------------------------------------------------------------------------------------------------------------------------------------------------------------------------\n",
      "--------------------------------------------------------------------------------------------------------------------------------------------------------------------------------------------------------\n",
      "--------------------------------------------------------------------------------------------------------------------------------------------------------------------------------------------------------\n",
      "--------------------------------------------------------------------------------------------------------------------------------------------------------------------------------------------------------\n",
      "--------------------------------------------------------------------------------------------------------------------------------------------------------------------------------------------------------\n",
      "--------------------------------------------------------------------------------------------------------------------------------------------------------------------------------------------------------\n",
      "--------------------------------------------------------------------------------------------------------------------------------------------------------------------------------------------------------\n",
      "--------------------------------------------------------------------------------------------------------------------------------------------------------------------------------------------------------\n",
      "--------------------------------------------------------------------------------------------------------------------------------------------------------------------------------------------------------\n",
      "--------------------------------------------------------------------------------------------------------------------------------------------------------------------------------------------------------\n",
      "--------------------------------------------------------------------------------------------------------------------------------------------------------------------------------------------------------\n",
      "--------------------------------------------------------------------------------------------------------------------------------------------------------------------------------------------------------\n",
      "--------------------------------------------------------------------------------------------------------------------------------------------------------------------------------------------------------\n",
      "--------------------------------------------------------------------------------------------------------------------------------------------------------------------------------------------------------\n",
      "--------------------------------------------------------------------------------------------------------------------------------------------------------------------------------------------------------\n",
      "--------------------------------------------------------------------------------------------------------------------------------------------------------------------------------------------------------\n",
      "--------------------------------------------------------------------------------------------------------------------------------------------------------------------------------------------------------\n",
      "--------------------------------------------------------------------------------------------------------------------------------------------------------------------------------------------------------\n",
      "--------------------------------------------------------------------------------------------------------------------------------------------------------------------------------------------------------\n",
      "--------------------------------------------------------------------------------------------------------------------------------------------------------------------------------------------------------\n",
      "--------------------------------------------------------------------------------------------------------------------------------------------------------------------------------------------------------\n",
      "--------------------------------------------------------------------------------------------------------------------------------------------------------------------------------------------------------\n",
      "--------------------------------------------------------------------------------------------------------------------------------------------------------------------------------------------------------\n",
      "--------------------------------------------------------------------------------------------------------------------------------------------------------------------------------------------------------\n",
      "--------------------------------------------------------------------------------------------------------------------------------------------------------------------------------------------------------\n",
      "--------------------------------------------------------------------------------------------------------------------------------------------------------------------------------------------------------\n",
      "--------------------------------------------------------------------------------------------------------------------------------------------------------------------------------------------------------\n",
      "--------------------------------------------------------------------------------------------------------------------------------------------------------------------------------------------------------\n",
      "--------------------------------------------------------------------------------------------------------------------------------------------------------------------------------------------------------\n",
      "--------------------------------------------------------------------------------------------------------------------------------------------------------------------------------------------------------\n",
      "--------------------------------------------------------------------------------------------------------------------------------------------------------------------------------------------------------\n",
      "--------------------------------------------------------------------------------------------------------------------------------------------------------------------------------------------------------\n",
      "--------------------------------------------------------------------------------------------------------------------------------------------------------------------------------------------------------\n"
     ]
    }
   ],
   "source": [
    "H_perturbation_order = (solver(H, Spin, order=6, full_diagonal=False)[0]).expand()"
   ]
  },
  {
   "cell_type": "code",
   "execution_count": 28,
   "id": "82398f16",
   "metadata": {},
   "outputs": [],
   "source": [
    "def subs_dict(expr, dictionary):\n",
    "    expanded = expr.expand()\n",
    "    while expanded != expanded.subs(dictionary):\n",
    "        expanded = expanded.subs(dictionary).expand()\n",
    "    return expanded"
   ]
  },
  {
   "cell_type": "code",
   "execution_count": 29,
   "id": "bbfdd68b",
   "metadata": {},
   "outputs": [
    {
     "data": {
      "text/latex": [
       "$\\displaystyle \\left[\\begin{matrix}- \\frac{\\omega_{q}}{2} + \\omega_{r} n + \\frac{8 g^{6} n}{36 \\omega_{q}^{5} - 180 \\omega_{q}^{4} \\omega_{r} + 360 \\omega_{q}^{3} \\omega_{r}^{2} - 360 \\omega_{q}^{2} \\omega_{r}^{3} + 180 \\omega_{q} \\omega_{r}^{4} - 36 \\omega_{r}^{5}} + \\frac{9 g^{6} n^{2}}{36 \\omega_{q}^{5} - 180 \\omega_{q}^{4} \\omega_{r} + 360 \\omega_{q}^{3} \\omega_{r}^{2} - 360 \\omega_{q}^{2} \\omega_{r}^{3} + 180 \\omega_{q} \\omega_{r}^{4} - 36 \\omega_{r}^{5}} - \\frac{4 g^{6}}{18 \\omega_{q}^{5} - 90 \\omega_{q}^{4} \\omega_{r} + 180 \\omega_{q}^{3} \\omega_{r}^{2} - 180 \\omega_{q}^{2} \\omega_{r}^{3} + 90 \\omega_{q} \\omega_{r}^{4} - 18 \\omega_{r}^{5}} - \\frac{10 g^{6} n}{18 \\omega_{q}^{5} - 90 \\omega_{q}^{4} \\omega_{r} + 180 \\omega_{q}^{3} \\omega_{r}^{2} - 180 \\omega_{q}^{2} \\omega_{r}^{3} + 90 \\omega_{q} \\omega_{r}^{4} - 18 \\omega_{r}^{5}} - \\frac{8 g^{6} n^{2}}{18 \\omega_{q}^{5} - 90 \\omega_{q}^{4} \\omega_{r} + 180 \\omega_{q}^{3} \\omega_{r}^{2} - 180 \\omega_{q}^{2} \\omega_{r}^{3} + 90 \\omega_{q} \\omega_{r}^{4} - 18 \\omega_{r}^{5}} - \\frac{4 g^{6} n^{3}}{18 \\omega_{q}^{5} - 90 \\omega_{q}^{4} \\omega_{r} + 180 \\omega_{q}^{3} \\omega_{r}^{2} - 180 \\omega_{q}^{2} \\omega_{r}^{3} + 90 \\omega_{q} \\omega_{r}^{4} - 18 \\omega_{r}^{5}} + \\frac{g^{6} n^{2}}{12 \\omega_{q}^{5} - 60 \\omega_{q}^{4} \\omega_{r} + 120 \\omega_{q}^{3} \\omega_{r}^{2} - 120 \\omega_{q}^{2} \\omega_{r}^{3} + 60 \\omega_{q} \\omega_{r}^{4} - 12 \\omega_{r}^{5}} + \\frac{2 g^{6}}{9 \\omega_{q}^{5} - 45 \\omega_{q}^{4} \\omega_{r} + 90 \\omega_{q}^{3} \\omega_{r}^{2} - 90 \\omega_{q}^{2} \\omega_{r}^{3} + 45 \\omega_{q} \\omega_{r}^{4} - 9 \\omega_{r}^{5}} + \\frac{3 g^{6} n}{9 \\omega_{q}^{5} - 45 \\omega_{q}^{4} \\omega_{r} + 90 \\omega_{q}^{3} \\omega_{r}^{2} - 90 \\omega_{q}^{2} \\omega_{r}^{3} + 45 \\omega_{q} \\omega_{r}^{4} - 9 \\omega_{r}^{5}} + \\frac{g^{6} n^{2}}{9 \\omega_{q}^{5} - 45 \\omega_{q}^{4} \\omega_{r} + 90 \\omega_{q}^{3} \\omega_{r}^{2} - 90 \\omega_{q}^{2} \\omega_{r}^{3} + 45 \\omega_{q} \\omega_{r}^{4} - 9 \\omega_{r}^{5}} - \\frac{2 g^{4}}{4 \\omega_{q}^{3} - 12 \\omega_{q}^{2} \\omega_{r} + 12 \\omega_{q} \\omega_{r}^{2} - 4 \\omega_{r}^{3}} - \\frac{6 g^{4} n}{4 \\omega_{q}^{3} - 12 \\omega_{q}^{2} \\omega_{r} + 12 \\omega_{q} \\omega_{r}^{2} - 4 \\omega_{r}^{3}} + \\frac{g^{4}}{2 \\omega_{q}^{3} - 6 \\omega_{q}^{2} \\omega_{r} + 6 \\omega_{q} \\omega_{r}^{2} - 2 \\omega_{r}^{3}} + \\frac{3 g^{4} n}{2 \\omega_{q}^{3} - 6 \\omega_{q}^{2} \\omega_{r} + 6 \\omega_{q} \\omega_{r}^{2} - 2 \\omega_{r}^{3}} + \\frac{2 g^{4} n^{2}}{2 \\omega_{q}^{3} - 6 \\omega_{q}^{2} \\omega_{r} + 6 \\omega_{q} \\omega_{r}^{2} - 2 \\omega_{r}^{3}} + \\frac{2 g^{2}}{2 \\omega_{q} - 2 \\omega_{r}} - \\frac{g^{2}}{\\omega_{q} - \\omega_{r}} - \\frac{g^{2} n}{\\omega_{q} - \\omega_{r}} & \\frac{10 g^{5} a}{15 \\omega_{q}^{4} - 60 \\omega_{q}^{3} \\omega_{r} + 90 \\omega_{q}^{2} \\omega_{r}^{2} - 60 \\omega_{q} \\omega_{r}^{3} + 15 \\omega_{r}^{4}} + \\frac{11 g^{5} n a}{15 \\omega_{q}^{4} - 60 \\omega_{q}^{3} \\omega_{r} + 90 \\omega_{q}^{2} \\omega_{r}^{2} - 60 \\omega_{q} \\omega_{r}^{3} + 15 \\omega_{r}^{4}} + \\frac{4 g^{5} n^{2} a}{15 \\omega_{q}^{4} - 60 \\omega_{q}^{3} \\omega_{r} + 90 \\omega_{q}^{2} \\omega_{r}^{2} - 60 \\omega_{q} \\omega_{r}^{3} + 15 \\omega_{r}^{4}} + \\frac{4 g^{5} n^{2} {a^\\dagger}}{15 \\omega_{q}^{4} - 60 \\omega_{q}^{3} \\omega_{r} + 90 \\omega_{q}^{2} \\omega_{r}^{2} - 60 \\omega_{q} \\omega_{r}^{3} + 15 \\omega_{r}^{4}} - \\frac{2 g^{5} a}{5 \\omega_{q}^{4} - 20 \\omega_{q}^{3} \\omega_{r} + 30 \\omega_{q}^{2} \\omega_{r}^{2} - 20 \\omega_{q} \\omega_{r}^{3} + 5 \\omega_{r}^{4}} - \\frac{g^{5} n a}{5 \\omega_{q}^{4} - 20 \\omega_{q}^{3} \\omega_{r} + 30 \\omega_{q}^{2} \\omega_{r}^{2} - 20 \\omega_{q} \\omega_{r}^{3} + 5 \\omega_{r}^{4}} - \\frac{2 g^{3} a}{3 \\omega_{q}^{2} - 6 \\omega_{q} \\omega_{r} + 3 \\omega_{r}^{2}} - \\frac{2 g^{3} n a}{3 \\omega_{q}^{2} - 6 \\omega_{q} \\omega_{r} + 3 \\omega_{r}^{2}} - \\frac{2 g^{3} n {a^\\dagger}}{3 \\omega_{q}^{2} - 6 \\omega_{q} \\omega_{r} + 3 \\omega_{r}^{2}} - i \\left(- \\frac{10 i g^{5} a}{15 \\omega_{q}^{4} - 60 \\omega_{q}^{3} \\omega_{r} + 90 \\omega_{q}^{2} \\omega_{r}^{2} - 60 \\omega_{q} \\omega_{r}^{3} + 15 \\omega_{r}^{4}} - \\frac{11 i g^{5} n a}{15 \\omega_{q}^{4} - 60 \\omega_{q}^{3} \\omega_{r} + 90 \\omega_{q}^{2} \\omega_{r}^{2} - 60 \\omega_{q} \\omega_{r}^{3} + 15 \\omega_{r}^{4}} - \\frac{4 i g^{5} n^{2} a}{15 \\omega_{q}^{4} - 60 \\omega_{q}^{3} \\omega_{r} + 90 \\omega_{q}^{2} \\omega_{r}^{2} - 60 \\omega_{q} \\omega_{r}^{3} + 15 \\omega_{r}^{4}} + \\frac{4 i g^{5} n^{2} {a^\\dagger}}{15 \\omega_{q}^{4} - 60 \\omega_{q}^{3} \\omega_{r} + 90 \\omega_{q}^{2} \\omega_{r}^{2} - 60 \\omega_{q} \\omega_{r}^{3} + 15 \\omega_{r}^{4}} + \\frac{2 i g^{5} a}{5 \\omega_{q}^{4} - 20 \\omega_{q}^{3} \\omega_{r} + 30 \\omega_{q}^{2} \\omega_{r}^{2} - 20 \\omega_{q} \\omega_{r}^{3} + 5 \\omega_{r}^{4}} + \\frac{i g^{5} n a}{5 \\omega_{q}^{4} - 20 \\omega_{q}^{3} \\omega_{r} + 30 \\omega_{q}^{2} \\omega_{r}^{2} - 20 \\omega_{q} \\omega_{r}^{3} + 5 \\omega_{r}^{4}} + \\frac{2 i g^{3} a}{3 \\omega_{q}^{2} - 6 \\omega_{q} \\omega_{r} + 3 \\omega_{r}^{2}} + \\frac{2 i g^{3} n a}{3 \\omega_{q}^{2} - 6 \\omega_{q} \\omega_{r} + 3 \\omega_{r}^{2}} - \\frac{2 i g^{3} n {a^\\dagger}}{3 \\omega_{q}^{2} - 6 \\omega_{q} \\omega_{r} + 3 \\omega_{r}^{2}}\\right)\\\\\\frac{10 g^{5} a}{15 \\omega_{q}^{4} - 60 \\omega_{q}^{3} \\omega_{r} + 90 \\omega_{q}^{2} \\omega_{r}^{2} - 60 \\omega_{q} \\omega_{r}^{3} + 15 \\omega_{r}^{4}} + \\frac{11 g^{5} n a}{15 \\omega_{q}^{4} - 60 \\omega_{q}^{3} \\omega_{r} + 90 \\omega_{q}^{2} \\omega_{r}^{2} - 60 \\omega_{q} \\omega_{r}^{3} + 15 \\omega_{r}^{4}} + \\frac{4 g^{5} n^{2} a}{15 \\omega_{q}^{4} - 60 \\omega_{q}^{3} \\omega_{r} + 90 \\omega_{q}^{2} \\omega_{r}^{2} - 60 \\omega_{q} \\omega_{r}^{3} + 15 \\omega_{r}^{4}} + \\frac{4 g^{5} n^{2} {a^\\dagger}}{15 \\omega_{q}^{4} - 60 \\omega_{q}^{3} \\omega_{r} + 90 \\omega_{q}^{2} \\omega_{r}^{2} - 60 \\omega_{q} \\omega_{r}^{3} + 15 \\omega_{r}^{4}} - \\frac{2 g^{5} a}{5 \\omega_{q}^{4} - 20 \\omega_{q}^{3} \\omega_{r} + 30 \\omega_{q}^{2} \\omega_{r}^{2} - 20 \\omega_{q} \\omega_{r}^{3} + 5 \\omega_{r}^{4}} - \\frac{g^{5} n a}{5 \\omega_{q}^{4} - 20 \\omega_{q}^{3} \\omega_{r} + 30 \\omega_{q}^{2} \\omega_{r}^{2} - 20 \\omega_{q} \\omega_{r}^{3} + 5 \\omega_{r}^{4}} - \\frac{2 g^{3} a}{3 \\omega_{q}^{2} - 6 \\omega_{q} \\omega_{r} + 3 \\omega_{r}^{2}} - \\frac{2 g^{3} n a}{3 \\omega_{q}^{2} - 6 \\omega_{q} \\omega_{r} + 3 \\omega_{r}^{2}} - \\frac{2 g^{3} n {a^\\dagger}}{3 \\omega_{q}^{2} - 6 \\omega_{q} \\omega_{r} + 3 \\omega_{r}^{2}} + i \\left(- \\frac{10 i g^{5} a}{15 \\omega_{q}^{4} - 60 \\omega_{q}^{3} \\omega_{r} + 90 \\omega_{q}^{2} \\omega_{r}^{2} - 60 \\omega_{q} \\omega_{r}^{3} + 15 \\omega_{r}^{4}} - \\frac{11 i g^{5} n a}{15 \\omega_{q}^{4} - 60 \\omega_{q}^{3} \\omega_{r} + 90 \\omega_{q}^{2} \\omega_{r}^{2} - 60 \\omega_{q} \\omega_{r}^{3} + 15 \\omega_{r}^{4}} - \\frac{4 i g^{5} n^{2} a}{15 \\omega_{q}^{4} - 60 \\omega_{q}^{3} \\omega_{r} + 90 \\omega_{q}^{2} \\omega_{r}^{2} - 60 \\omega_{q} \\omega_{r}^{3} + 15 \\omega_{r}^{4}} + \\frac{4 i g^{5} n^{2} {a^\\dagger}}{15 \\omega_{q}^{4} - 60 \\omega_{q}^{3} \\omega_{r} + 90 \\omega_{q}^{2} \\omega_{r}^{2} - 60 \\omega_{q} \\omega_{r}^{3} + 15 \\omega_{r}^{4}} + \\frac{2 i g^{5} a}{5 \\omega_{q}^{4} - 20 \\omega_{q}^{3} \\omega_{r} + 30 \\omega_{q}^{2} \\omega_{r}^{2} - 20 \\omega_{q} \\omega_{r}^{3} + 5 \\omega_{r}^{4}} + \\frac{i g^{5} n a}{5 \\omega_{q}^{4} - 20 \\omega_{q}^{3} \\omega_{r} + 30 \\omega_{q}^{2} \\omega_{r}^{2} - 20 \\omega_{q} \\omega_{r}^{3} + 5 \\omega_{r}^{4}} + \\frac{2 i g^{3} a}{3 \\omega_{q}^{2} - 6 \\omega_{q} \\omega_{r} + 3 \\omega_{r}^{2}} + \\frac{2 i g^{3} n a}{3 \\omega_{q}^{2} - 6 \\omega_{q} \\omega_{r} + 3 \\omega_{r}^{2}} - \\frac{2 i g^{3} n {a^\\dagger}}{3 \\omega_{q}^{2} - 6 \\omega_{q} \\omega_{r} + 3 \\omega_{r}^{2}}\\right) & \\omega_{r} n + \\frac{6 g^{6}}{36 \\omega_{q}^{5} - 180 \\omega_{q}^{4} \\omega_{r} + 360 \\omega_{q}^{3} \\omega_{r}^{2} - 360 \\omega_{q}^{2} \\omega_{r}^{3} + 180 \\omega_{q} \\omega_{r}^{4} - 36 \\omega_{r}^{5}} + \\frac{12 g^{6} n}{36 \\omega_{q}^{5} - 180 \\omega_{q}^{4} \\omega_{r} + 360 \\omega_{q}^{3} \\omega_{r}^{2} - 360 \\omega_{q}^{2} \\omega_{r}^{3} + 180 \\omega_{q} \\omega_{r}^{4} - 36 \\omega_{r}^{5}} + \\frac{8 g^{6} n^{2}}{36 \\omega_{q}^{5} - 180 \\omega_{q}^{4} \\omega_{r} + 360 \\omega_{q}^{3} \\omega_{r}^{2} - 360 \\omega_{q}^{2} \\omega_{r}^{3} + 180 \\omega_{q} \\omega_{r}^{4} - 36 \\omega_{r}^{5}} - \\frac{g^{6}}{18 \\omega_{q}^{5} - 90 \\omega_{q}^{4} \\omega_{r} + 180 \\omega_{q}^{3} \\omega_{r}^{2} - 180 \\omega_{q}^{2} \\omega_{r}^{3} + 90 \\omega_{q} \\omega_{r}^{4} - 18 \\omega_{r}^{5}} - \\frac{2 g^{6} n}{18 \\omega_{q}^{5} - 90 \\omega_{q}^{4} \\omega_{r} + 180 \\omega_{q}^{3} \\omega_{r}^{2} - 180 \\omega_{q}^{2} \\omega_{r}^{3} + 90 \\omega_{q} \\omega_{r}^{4} - 18 \\omega_{r}^{5}} + \\frac{g^{6} n}{9 \\omega_{q}^{5} - 45 \\omega_{q}^{4} \\omega_{r} + 90 \\omega_{q}^{3} \\omega_{r}^{2} - 90 \\omega_{q}^{2} \\omega_{r}^{3} + 45 \\omega_{q} \\omega_{r}^{4} - 9 \\omega_{r}^{5}} + \\frac{g^{6} n^{2}}{9 \\omega_{q}^{5} - 45 \\omega_{q}^{4} \\omega_{r} + 90 \\omega_{q}^{3} \\omega_{r}^{2} - 90 \\omega_{q}^{2} \\omega_{r}^{3} + 45 \\omega_{q} \\omega_{r}^{4} - 9 \\omega_{r}^{5}} - \\frac{2 g^{4}}{4 \\omega_{q}^{3} - 12 \\omega_{q}^{2} \\omega_{r} + 12 \\omega_{q} \\omega_{r}^{2} - 4 \\omega_{r}^{3}} - \\frac{4 g^{4} n}{4 \\omega_{q}^{3} - 12 \\omega_{q}^{2} \\omega_{r} + 12 \\omega_{q} \\omega_{r}^{2} - 4 \\omega_{r}^{3}} + \\frac{g^{2}}{2 \\omega_{q} - 2 \\omega_{r}} - \\left(- \\frac{\\omega_{q}}{2} - \\frac{6 g^{6}}{36 \\omega_{q}^{5} - 180 \\omega_{q}^{4} \\omega_{r} + 360 \\omega_{q}^{3} \\omega_{r}^{2} - 360 \\omega_{q}^{2} \\omega_{r}^{3} + 180 \\omega_{q} \\omega_{r}^{4} - 36 \\omega_{r}^{5}} - \\frac{4 g^{6} n}{36 \\omega_{q}^{5} - 180 \\omega_{q}^{4} \\omega_{r} + 360 \\omega_{q}^{3} \\omega_{r}^{2} - 360 \\omega_{q}^{2} \\omega_{r}^{3} + 180 \\omega_{q} \\omega_{r}^{4} - 36 \\omega_{r}^{5}} + \\frac{g^{6} n^{2}}{36 \\omega_{q}^{5} - 180 \\omega_{q}^{4} \\omega_{r} + 360 \\omega_{q}^{3} \\omega_{r}^{2} - 360 \\omega_{q}^{2} \\omega_{r}^{3} + 180 \\omega_{q} \\omega_{r}^{4} - 36 \\omega_{r}^{5}} - \\frac{3 g^{6}}{18 \\omega_{q}^{5} - 90 \\omega_{q}^{4} \\omega_{r} + 180 \\omega_{q}^{3} \\omega_{r}^{2} - 180 \\omega_{q}^{2} \\omega_{r}^{3} + 90 \\omega_{q} \\omega_{r}^{4} - 18 \\omega_{r}^{5}} - \\frac{8 g^{6} n}{18 \\omega_{q}^{5} - 90 \\omega_{q}^{4} \\omega_{r} + 180 \\omega_{q}^{3} \\omega_{r}^{2} - 180 \\omega_{q}^{2} \\omega_{r}^{3} + 90 \\omega_{q} \\omega_{r}^{4} - 18 \\omega_{r}^{5}} - \\frac{8 g^{6} n^{2}}{18 \\omega_{q}^{5} - 90 \\omega_{q}^{4} \\omega_{r} + 180 \\omega_{q}^{3} \\omega_{r}^{2} - 180 \\omega_{q}^{2} \\omega_{r}^{3} + 90 \\omega_{q} \\omega_{r}^{4} - 18 \\omega_{r}^{5}} - \\frac{4 g^{6} n^{3}}{18 \\omega_{q}^{5} - 90 \\omega_{q}^{4} \\omega_{r} + 180 \\omega_{q}^{3} \\omega_{r}^{2} - 180 \\omega_{q}^{2} \\omega_{r}^{3} + 90 \\omega_{q} \\omega_{r}^{4} - 18 \\omega_{r}^{5}} + \\frac{g^{6} n^{2}}{12 \\omega_{q}^{5} - 60 \\omega_{q}^{4} \\omega_{r} + 120 \\omega_{q}^{3} \\omega_{r}^{2} - 120 \\omega_{q}^{2} \\omega_{r}^{3} + 60 \\omega_{q} \\omega_{r}^{4} - 12 \\omega_{r}^{5}} + \\frac{2 g^{6}}{9 \\omega_{q}^{5} - 45 \\omega_{q}^{4} \\omega_{r} + 90 \\omega_{q}^{3} \\omega_{r}^{2} - 90 \\omega_{q}^{2} \\omega_{r}^{3} + 45 \\omega_{q} \\omega_{r}^{4} - 9 \\omega_{r}^{5}} + \\frac{2 g^{6} n}{9 \\omega_{q}^{5} - 45 \\omega_{q}^{4} \\omega_{r} + 90 \\omega_{q}^{3} \\omega_{r}^{2} - 90 \\omega_{q}^{2} \\omega_{r}^{3} + 45 \\omega_{q} \\omega_{r}^{4} - 9 \\omega_{r}^{5}} - \\frac{2 g^{4} n}{4 \\omega_{q}^{3} - 12 \\omega_{q}^{2} \\omega_{r} + 12 \\omega_{q} \\omega_{r}^{2} - 4 \\omega_{r}^{3}} + \\frac{g^{4}}{2 \\omega_{q}^{3} - 6 \\omega_{q}^{2} \\omega_{r} + 6 \\omega_{q} \\omega_{r}^{2} - 2 \\omega_{r}^{3}} + \\frac{3 g^{4} n}{2 \\omega_{q}^{3} - 6 \\omega_{q}^{2} \\omega_{r} + 6 \\omega_{q} \\omega_{r}^{2} - 2 \\omega_{r}^{3}} + \\frac{2 g^{4} n^{2}}{2 \\omega_{q}^{3} - 6 \\omega_{q}^{2} \\omega_{r} + 6 \\omega_{q} \\omega_{r}^{2} - 2 \\omega_{r}^{3}} + \\frac{g^{2}}{2 \\omega_{q} - 2 \\omega_{r}} - \\frac{g^{2}}{\\omega_{q} - \\omega_{r}} - \\frac{g^{2} n}{\\omega_{q} - \\omega_{r}}\\right)\\end{matrix}\\right]$"
      ],
      "text/plain": [
       "Matrix([\n",
       "[-\\omega_{q}/2 + \\omega_{r}*n + 8*g**6*n/(36*\\omega_{q}**5 - 180*\\omega_{q}**4*\\omega_{r} + 360*\\omega_{q}**3*\\omega_{r}**2 - 360*\\omega_{q}**2*\\omega_{r}**3 + 180*\\omega_{q}*\\omega_{r}**4 - 36*\\omega_{r}**5) + 9*g**6*n**2/(36*\\omega_{q}**5 - 180*\\omega_{q}**4*\\omega_{r} + 360*\\omega_{q}**3*\\omega_{r}**2 - 360*\\omega_{q}**2*\\omega_{r}**3 + 180*\\omega_{q}*\\omega_{r}**4 - 36*\\omega_{r}**5) - 4*g**6/(18*\\omega_{q}**5 - 90*\\omega_{q}**4*\\omega_{r} + 180*\\omega_{q}**3*\\omega_{r}**2 - 180*\\omega_{q}**2*\\omega_{r}**3 + 90*\\omega_{q}*\\omega_{r}**4 - 18*\\omega_{r}**5) - 10*g**6*n/(18*\\omega_{q}**5 - 90*\\omega_{q}**4*\\omega_{r} + 180*\\omega_{q}**3*\\omega_{r}**2 - 180*\\omega_{q}**2*\\omega_{r}**3 + 90*\\omega_{q}*\\omega_{r}**4 - 18*\\omega_{r}**5) - 8*g**6*n**2/(18*\\omega_{q}**5 - 90*\\omega_{q}**4*\\omega_{r} + 180*\\omega_{q}**3*\\omega_{r}**2 - 180*\\omega_{q}**2*\\omega_{r}**3 + 90*\\omega_{q}*\\omega_{r}**4 - 18*\\omega_{r}**5) - 4*g**6*n**3/(18*\\omega_{q}**5 - 90*\\omega_{q}**4*\\omega_{r} + 180*\\omega_{q}**3*\\omega_{r}**2 - 180*\\omega_{q}**2*\\omega_{r}**3 + 90*\\omega_{q}*\\omega_{r}**4 - 18*\\omega_{r}**5) + g**6*n**2/(12*\\omega_{q}**5 - 60*\\omega_{q}**4*\\omega_{r} + 120*\\omega_{q}**3*\\omega_{r}**2 - 120*\\omega_{q}**2*\\omega_{r}**3 + 60*\\omega_{q}*\\omega_{r}**4 - 12*\\omega_{r}**5) + 2*g**6/(9*\\omega_{q}**5 - 45*\\omega_{q}**4*\\omega_{r} + 90*\\omega_{q}**3*\\omega_{r}**2 - 90*\\omega_{q}**2*\\omega_{r}**3 + 45*\\omega_{q}*\\omega_{r}**4 - 9*\\omega_{r}**5) + 3*g**6*n/(9*\\omega_{q}**5 - 45*\\omega_{q}**4*\\omega_{r} + 90*\\omega_{q}**3*\\omega_{r}**2 - 90*\\omega_{q}**2*\\omega_{r}**3 + 45*\\omega_{q}*\\omega_{r}**4 - 9*\\omega_{r}**5) + g**6*n**2/(9*\\omega_{q}**5 - 45*\\omega_{q}**4*\\omega_{r} + 90*\\omega_{q}**3*\\omega_{r}**2 - 90*\\omega_{q}**2*\\omega_{r}**3 + 45*\\omega_{q}*\\omega_{r}**4 - 9*\\omega_{r}**5) - 2*g**4/(4*\\omega_{q}**3 - 12*\\omega_{q}**2*\\omega_{r} + 12*\\omega_{q}*\\omega_{r}**2 - 4*\\omega_{r}**3) - 6*g**4*n/(4*\\omega_{q}**3 - 12*\\omega_{q}**2*\\omega_{r} + 12*\\omega_{q}*\\omega_{r}**2 - 4*\\omega_{r}**3) + g**4/(2*\\omega_{q}**3 - 6*\\omega_{q}**2*\\omega_{r} + 6*\\omega_{q}*\\omega_{r}**2 - 2*\\omega_{r}**3) + 3*g**4*n/(2*\\omega_{q}**3 - 6*\\omega_{q}**2*\\omega_{r} + 6*\\omega_{q}*\\omega_{r}**2 - 2*\\omega_{r}**3) + 2*g**4*n**2/(2*\\omega_{q}**3 - 6*\\omega_{q}**2*\\omega_{r} + 6*\\omega_{q}*\\omega_{r}**2 - 2*\\omega_{r}**3) + 2*g**2/(2*\\omega_{q} - 2*\\omega_{r}) - g**2/(\\omega_{q} - \\omega_{r}) - g**2*n/(\\omega_{q} - \\omega_{r}),                                                                                                                                                                                                                                                                                                                                                                                                                                                                                                                                                                                                                                                                                                                                                                                                                                                                                                                                                                                                                                                                                                                                                                                                                                                                                                                                                                                                                                                                                                                                                                                                                                            10*g**5*a/(15*\\omega_{q}**4 - 60*\\omega_{q}**3*\\omega_{r} + 90*\\omega_{q}**2*\\omega_{r}**2 - 60*\\omega_{q}*\\omega_{r}**3 + 15*\\omega_{r}**4) + 11*g**5*n*a/(15*\\omega_{q}**4 - 60*\\omega_{q}**3*\\omega_{r} + 90*\\omega_{q}**2*\\omega_{r}**2 - 60*\\omega_{q}*\\omega_{r}**3 + 15*\\omega_{r}**4) + 4*g**5*n**2*a/(15*\\omega_{q}**4 - 60*\\omega_{q}**3*\\omega_{r} + 90*\\omega_{q}**2*\\omega_{r}**2 - 60*\\omega_{q}*\\omega_{r}**3 + 15*\\omega_{r}**4) + 4*g**5*n**2*{a^\\dagger}/(15*\\omega_{q}**4 - 60*\\omega_{q}**3*\\omega_{r} + 90*\\omega_{q}**2*\\omega_{r}**2 - 60*\\omega_{q}*\\omega_{r}**3 + 15*\\omega_{r}**4) - 2*g**5*a/(5*\\omega_{q}**4 - 20*\\omega_{q}**3*\\omega_{r} + 30*\\omega_{q}**2*\\omega_{r}**2 - 20*\\omega_{q}*\\omega_{r}**3 + 5*\\omega_{r}**4) - g**5*n*a/(5*\\omega_{q}**4 - 20*\\omega_{q}**3*\\omega_{r} + 30*\\omega_{q}**2*\\omega_{r}**2 - 20*\\omega_{q}*\\omega_{r}**3 + 5*\\omega_{r}**4) - 2*g**3*a/(3*\\omega_{q}**2 - 6*\\omega_{q}*\\omega_{r} + 3*\\omega_{r}**2) - 2*g**3*n*a/(3*\\omega_{q}**2 - 6*\\omega_{q}*\\omega_{r} + 3*\\omega_{r}**2) - 2*g**3*n*{a^\\dagger}/(3*\\omega_{q}**2 - 6*\\omega_{q}*\\omega_{r} + 3*\\omega_{r}**2) - I*(-10*I*g**5*a/(15*\\omega_{q}**4 - 60*\\omega_{q}**3*\\omega_{r} + 90*\\omega_{q}**2*\\omega_{r}**2 - 60*\\omega_{q}*\\omega_{r}**3 + 15*\\omega_{r}**4) - 11*I*g**5*n*a/(15*\\omega_{q}**4 - 60*\\omega_{q}**3*\\omega_{r} + 90*\\omega_{q}**2*\\omega_{r}**2 - 60*\\omega_{q}*\\omega_{r}**3 + 15*\\omega_{r}**4) - 4*I*g**5*n**2*a/(15*\\omega_{q}**4 - 60*\\omega_{q}**3*\\omega_{r} + 90*\\omega_{q}**2*\\omega_{r}**2 - 60*\\omega_{q}*\\omega_{r}**3 + 15*\\omega_{r}**4) + 4*I*g**5*n**2*{a^\\dagger}/(15*\\omega_{q}**4 - 60*\\omega_{q}**3*\\omega_{r} + 90*\\omega_{q}**2*\\omega_{r}**2 - 60*\\omega_{q}*\\omega_{r}**3 + 15*\\omega_{r}**4) + 2*I*g**5*a/(5*\\omega_{q}**4 - 20*\\omega_{q}**3*\\omega_{r} + 30*\\omega_{q}**2*\\omega_{r}**2 - 20*\\omega_{q}*\\omega_{r}**3 + 5*\\omega_{r}**4) + I*g**5*n*a/(5*\\omega_{q}**4 - 20*\\omega_{q}**3*\\omega_{r} + 30*\\omega_{q}**2*\\omega_{r}**2 - 20*\\omega_{q}*\\omega_{r}**3 + 5*\\omega_{r}**4) + 2*I*g**3*a/(3*\\omega_{q}**2 - 6*\\omega_{q}*\\omega_{r} + 3*\\omega_{r}**2) + 2*I*g**3*n*a/(3*\\omega_{q}**2 - 6*\\omega_{q}*\\omega_{r} + 3*\\omega_{r}**2) - 2*I*g**3*n*{a^\\dagger}/(3*\\omega_{q}**2 - 6*\\omega_{q}*\\omega_{r} + 3*\\omega_{r}**2))],\n",
       "[                                                                                                                                                                                                         10*g**5*a/(15*\\omega_{q}**4 - 60*\\omega_{q}**3*\\omega_{r} + 90*\\omega_{q}**2*\\omega_{r}**2 - 60*\\omega_{q}*\\omega_{r}**3 + 15*\\omega_{r}**4) + 11*g**5*n*a/(15*\\omega_{q}**4 - 60*\\omega_{q}**3*\\omega_{r} + 90*\\omega_{q}**2*\\omega_{r}**2 - 60*\\omega_{q}*\\omega_{r}**3 + 15*\\omega_{r}**4) + 4*g**5*n**2*a/(15*\\omega_{q}**4 - 60*\\omega_{q}**3*\\omega_{r} + 90*\\omega_{q}**2*\\omega_{r}**2 - 60*\\omega_{q}*\\omega_{r}**3 + 15*\\omega_{r}**4) + 4*g**5*n**2*{a^\\dagger}/(15*\\omega_{q}**4 - 60*\\omega_{q}**3*\\omega_{r} + 90*\\omega_{q}**2*\\omega_{r}**2 - 60*\\omega_{q}*\\omega_{r}**3 + 15*\\omega_{r}**4) - 2*g**5*a/(5*\\omega_{q}**4 - 20*\\omega_{q}**3*\\omega_{r} + 30*\\omega_{q}**2*\\omega_{r}**2 - 20*\\omega_{q}*\\omega_{r}**3 + 5*\\omega_{r}**4) - g**5*n*a/(5*\\omega_{q}**4 - 20*\\omega_{q}**3*\\omega_{r} + 30*\\omega_{q}**2*\\omega_{r}**2 - 20*\\omega_{q}*\\omega_{r}**3 + 5*\\omega_{r}**4) - 2*g**3*a/(3*\\omega_{q}**2 - 6*\\omega_{q}*\\omega_{r} + 3*\\omega_{r}**2) - 2*g**3*n*a/(3*\\omega_{q}**2 - 6*\\omega_{q}*\\omega_{r} + 3*\\omega_{r}**2) - 2*g**3*n*{a^\\dagger}/(3*\\omega_{q}**2 - 6*\\omega_{q}*\\omega_{r} + 3*\\omega_{r}**2) + I*(-10*I*g**5*a/(15*\\omega_{q}**4 - 60*\\omega_{q}**3*\\omega_{r} + 90*\\omega_{q}**2*\\omega_{r}**2 - 60*\\omega_{q}*\\omega_{r}**3 + 15*\\omega_{r}**4) - 11*I*g**5*n*a/(15*\\omega_{q}**4 - 60*\\omega_{q}**3*\\omega_{r} + 90*\\omega_{q}**2*\\omega_{r}**2 - 60*\\omega_{q}*\\omega_{r}**3 + 15*\\omega_{r}**4) - 4*I*g**5*n**2*a/(15*\\omega_{q}**4 - 60*\\omega_{q}**3*\\omega_{r} + 90*\\omega_{q}**2*\\omega_{r}**2 - 60*\\omega_{q}*\\omega_{r}**3 + 15*\\omega_{r}**4) + 4*I*g**5*n**2*{a^\\dagger}/(15*\\omega_{q}**4 - 60*\\omega_{q}**3*\\omega_{r} + 90*\\omega_{q}**2*\\omega_{r}**2 - 60*\\omega_{q}*\\omega_{r}**3 + 15*\\omega_{r}**4) + 2*I*g**5*a/(5*\\omega_{q}**4 - 20*\\omega_{q}**3*\\omega_{r} + 30*\\omega_{q}**2*\\omega_{r}**2 - 20*\\omega_{q}*\\omega_{r}**3 + 5*\\omega_{r}**4) + I*g**5*n*a/(5*\\omega_{q}**4 - 20*\\omega_{q}**3*\\omega_{r} + 30*\\omega_{q}**2*\\omega_{r}**2 - 20*\\omega_{q}*\\omega_{r}**3 + 5*\\omega_{r}**4) + 2*I*g**3*a/(3*\\omega_{q}**2 - 6*\\omega_{q}*\\omega_{r} + 3*\\omega_{r}**2) + 2*I*g**3*n*a/(3*\\omega_{q}**2 - 6*\\omega_{q}*\\omega_{r} + 3*\\omega_{r}**2) - 2*I*g**3*n*{a^\\dagger}/(3*\\omega_{q}**2 - 6*\\omega_{q}*\\omega_{r} + 3*\\omega_{r}**2)), \\omega_{r}*n + 6*g**6/(36*\\omega_{q}**5 - 180*\\omega_{q}**4*\\omega_{r} + 360*\\omega_{q}**3*\\omega_{r}**2 - 360*\\omega_{q}**2*\\omega_{r}**3 + 180*\\omega_{q}*\\omega_{r}**4 - 36*\\omega_{r}**5) + 12*g**6*n/(36*\\omega_{q}**5 - 180*\\omega_{q}**4*\\omega_{r} + 360*\\omega_{q}**3*\\omega_{r}**2 - 360*\\omega_{q}**2*\\omega_{r}**3 + 180*\\omega_{q}*\\omega_{r}**4 - 36*\\omega_{r}**5) + 8*g**6*n**2/(36*\\omega_{q}**5 - 180*\\omega_{q}**4*\\omega_{r} + 360*\\omega_{q}**3*\\omega_{r}**2 - 360*\\omega_{q}**2*\\omega_{r}**3 + 180*\\omega_{q}*\\omega_{r}**4 - 36*\\omega_{r}**5) - g**6/(18*\\omega_{q}**5 - 90*\\omega_{q}**4*\\omega_{r} + 180*\\omega_{q}**3*\\omega_{r}**2 - 180*\\omega_{q}**2*\\omega_{r}**3 + 90*\\omega_{q}*\\omega_{r}**4 - 18*\\omega_{r}**5) - 2*g**6*n/(18*\\omega_{q}**5 - 90*\\omega_{q}**4*\\omega_{r} + 180*\\omega_{q}**3*\\omega_{r}**2 - 180*\\omega_{q}**2*\\omega_{r}**3 + 90*\\omega_{q}*\\omega_{r}**4 - 18*\\omega_{r}**5) + g**6*n/(9*\\omega_{q}**5 - 45*\\omega_{q}**4*\\omega_{r} + 90*\\omega_{q}**3*\\omega_{r}**2 - 90*\\omega_{q}**2*\\omega_{r}**3 + 45*\\omega_{q}*\\omega_{r}**4 - 9*\\omega_{r}**5) + g**6*n**2/(9*\\omega_{q}**5 - 45*\\omega_{q}**4*\\omega_{r} + 90*\\omega_{q}**3*\\omega_{r}**2 - 90*\\omega_{q}**2*\\omega_{r}**3 + 45*\\omega_{q}*\\omega_{r}**4 - 9*\\omega_{r}**5) - 2*g**4/(4*\\omega_{q}**3 - 12*\\omega_{q}**2*\\omega_{r} + 12*\\omega_{q}*\\omega_{r}**2 - 4*\\omega_{r}**3) - 4*g**4*n/(4*\\omega_{q}**3 - 12*\\omega_{q}**2*\\omega_{r} + 12*\\omega_{q}*\\omega_{r}**2 - 4*\\omega_{r}**3) + g**2/(2*\\omega_{q} - 2*\\omega_{r}) - (-\\omega_{q}/2 - 6*g**6/(36*\\omega_{q}**5 - 180*\\omega_{q}**4*\\omega_{r} + 360*\\omega_{q}**3*\\omega_{r}**2 - 360*\\omega_{q}**2*\\omega_{r}**3 + 180*\\omega_{q}*\\omega_{r}**4 - 36*\\omega_{r}**5) - 4*g**6*n/(36*\\omega_{q}**5 - 180*\\omega_{q}**4*\\omega_{r} + 360*\\omega_{q}**3*\\omega_{r}**2 - 360*\\omega_{q}**2*\\omega_{r}**3 + 180*\\omega_{q}*\\omega_{r}**4 - 36*\\omega_{r}**5) + g**6*n**2/(36*\\omega_{q}**5 - 180*\\omega_{q}**4*\\omega_{r} + 360*\\omega_{q}**3*\\omega_{r}**2 - 360*\\omega_{q}**2*\\omega_{r}**3 + 180*\\omega_{q}*\\omega_{r}**4 - 36*\\omega_{r}**5) - 3*g**6/(18*\\omega_{q}**5 - 90*\\omega_{q}**4*\\omega_{r} + 180*\\omega_{q}**3*\\omega_{r}**2 - 180*\\omega_{q}**2*\\omega_{r}**3 + 90*\\omega_{q}*\\omega_{r}**4 - 18*\\omega_{r}**5) - 8*g**6*n/(18*\\omega_{q}**5 - 90*\\omega_{q}**4*\\omega_{r} + 180*\\omega_{q}**3*\\omega_{r}**2 - 180*\\omega_{q}**2*\\omega_{r}**3 + 90*\\omega_{q}*\\omega_{r}**4 - 18*\\omega_{r}**5) - 8*g**6*n**2/(18*\\omega_{q}**5 - 90*\\omega_{q}**4*\\omega_{r} + 180*\\omega_{q}**3*\\omega_{r}**2 - 180*\\omega_{q}**2*\\omega_{r}**3 + 90*\\omega_{q}*\\omega_{r}**4 - 18*\\omega_{r}**5) - 4*g**6*n**3/(18*\\omega_{q}**5 - 90*\\omega_{q}**4*\\omega_{r} + 180*\\omega_{q}**3*\\omega_{r}**2 - 180*\\omega_{q}**2*\\omega_{r}**3 + 90*\\omega_{q}*\\omega_{r}**4 - 18*\\omega_{r}**5) + g**6*n**2/(12*\\omega_{q}**5 - 60*\\omega_{q}**4*\\omega_{r} + 120*\\omega_{q}**3*\\omega_{r}**2 - 120*\\omega_{q}**2*\\omega_{r}**3 + 60*\\omega_{q}*\\omega_{r}**4 - 12*\\omega_{r}**5) + 2*g**6/(9*\\omega_{q}**5 - 45*\\omega_{q}**4*\\omega_{r} + 90*\\omega_{q}**3*\\omega_{r}**2 - 90*\\omega_{q}**2*\\omega_{r}**3 + 45*\\omega_{q}*\\omega_{r}**4 - 9*\\omega_{r}**5) + 2*g**6*n/(9*\\omega_{q}**5 - 45*\\omega_{q}**4*\\omega_{r} + 90*\\omega_{q}**3*\\omega_{r}**2 - 90*\\omega_{q}**2*\\omega_{r}**3 + 45*\\omega_{q}*\\omega_{r}**4 - 9*\\omega_{r}**5) - 2*g**4*n/(4*\\omega_{q}**3 - 12*\\omega_{q}**2*\\omega_{r} + 12*\\omega_{q}*\\omega_{r}**2 - 4*\\omega_{r}**3) + g**4/(2*\\omega_{q}**3 - 6*\\omega_{q}**2*\\omega_{r} + 6*\\omega_{q}*\\omega_{r}**2 - 2*\\omega_{r}**3) + 3*g**4*n/(2*\\omega_{q}**3 - 6*\\omega_{q}**2*\\omega_{r} + 6*\\omega_{q}*\\omega_{r}**2 - 2*\\omega_{r}**3) + 2*g**4*n**2/(2*\\omega_{q}**3 - 6*\\omega_{q}**2*\\omega_{r} + 6*\\omega_{q}*\\omega_{r}**2 - 2*\\omega_{r}**3) + g**2/(2*\\omega_{q} - 2*\\omega_{r}) - g**2/(\\omega_{q} - \\omega_{r}) - g**2*n/(\\omega_{q} - \\omega_{r}))]])"
      ]
     },
     "metadata": {},
     "output_type": "display_data"
    },
    {
     "data": {
      "text/latex": [
       "$\\displaystyle 0 = - \\frac{\\omega_{q}}{2} + \\omega_{r} n$"
      ],
      "text/plain": [
       "<IPython.core.display.Math object>"
      ]
     },
     "metadata": {},
     "output_type": "display_data"
    },
    {
     "data": {
      "text/latex": [
       "$\\displaystyle 6 = - \\frac{2 g^{6} n^{3}}{9 \\omega_{q}^{5} - 45 \\omega_{q}^{4} \\omega_{r} + 90 \\omega_{q}^{3} \\omega_{r}^{2} - 90 \\omega_{q}^{2} \\omega_{r}^{3} + 45 \\omega_{q} \\omega_{r}^{4} - 9 \\omega_{r}^{5}}$"
      ],
      "text/plain": [
       "<IPython.core.display.Math object>"
      ]
     },
     "metadata": {},
     "output_type": "display_data"
    },
    {
     "data": {
      "text/latex": [
       "$\\displaystyle 4 = \\frac{g^{4} n^{2}}{\\omega_{q}^{3} - 3 \\omega_{q}^{2} \\omega_{r} + 3 \\omega_{q} \\omega_{r}^{2} - \\omega_{r}^{3}}$"
      ],
      "text/plain": [
       "<IPython.core.display.Math object>"
      ]
     },
     "metadata": {},
     "output_type": "display_data"
    },
    {
     "data": {
      "text/latex": [
       "$\\displaystyle 2 = - \\frac{g^{2} n}{\\omega_{q} - \\omega_{r}}$"
      ],
      "text/plain": [
       "<IPython.core.display.Math object>"
      ]
     },
     "metadata": {},
     "output_type": "display_data"
    }
   ],
   "source": [
    "n = RDBoson('n', subspace='resonator', is_annihilation=False)\n",
    "comm_relations = {\n",
    "    a*ad : ad * a + 1,\n",
    "    ad * a : n,\n",
    "    a * n : n * a + a,\n",
    "    ad * n : n * ad - ad,\n",
    "}\n",
    "result_mat = sp.zeros(2)\n",
    "for k, val in group_by_finite_operators(subs_dict(H_perturbation_order, comm_relations).expand()).items():\n",
    "    if k == 1:\n",
    "        mat = sp.eye(2)\n",
    "    else:\n",
    "        mat = get_matrix(k)\n",
    "    result_mat += val * mat\n",
    "\n",
    "#result_mat = sp.simplify(result_mat).expand()\n",
    "display(result_mat)\n",
    "ordered_dict = group_by_order(result_mat[0, 0])\n",
    "result_simp_dict = {}\n",
    "for k, v in ordered_dict.items():\n",
    "    result_simp_dict[k] = v.simplify().expand()\n",
    "display_dict(result_simp_dict)"
   ]
  },
  {
   "cell_type": "markdown",
   "id": "f0c1468f",
   "metadata": {},
   "source": [
    "# Transmon Qubit coupled to resonator"
   ]
  },
  {
   "cell_type": "code",
   "execution_count": 105,
   "id": "3744fe15",
   "metadata": {},
   "outputs": [
    {
     "data": {
      "text/latex": [
       "$\\displaystyle \\frac{\\alpha {a_t^\\dagger}^{2} {a_t}^{2}}{2} + \\omega_{r} \\left(\\frac{1}{2} + {a_r^\\dagger} {a_r}\\right) - \\omega_{t} \\left(- \\frac{1}{2} + {a_t^\\dagger} {a_t}\\right) - g \\left({a_t^\\dagger} - {a_t}\\right) \\left({a_r^\\dagger} - {a_r}\\right)$"
      ],
      "text/plain": [
       "\\alpha*{a_t^\\dagger}**2*{a_t}**2/2 + \\omega_{r}*(1/2 + {a_r^\\dagger}*{a_r}) - \\omega_{t}*(-1/2 + {a_t^\\dagger}*{a_t}) - g*({a_t^\\dagger} - {a_t})*({a_r^\\dagger} - {a_r})"
      ]
     },
     "execution_count": 105,
     "metadata": {},
     "output_type": "execute_result"
    }
   ],
   "source": [
    "at = RDBoson(\"{a_t}\", subspace =\"transmon\")\n",
    "adt = RDBoson(\"{a_t^\\\\dagger}\", subspace =\"transmon\", is_annihilation=False)\n",
    "\n",
    "ar = RDBoson(\"{a_r}\", subspace =\"resonator\")\n",
    "adr = RDBoson(\"{a_r^\\\\dagger}\", subspace =\"resonator\", is_annihilation=False)\n",
    "\n",
    "omega_t = RDsymbol(\"\\\\omega_{t}\", order = 0)\n",
    "omega_r = RDsymbol(\"\\\\omega_{r}\", order = 0)\n",
    "alpha = RDsymbol(\"\\\\alpha\", order = 0)\n",
    "g = RDsymbol(\"g\", order = 1)\n",
    "\n",
    "H0 =  -omega_t * ( adt * at  - sp.Rational(1,2) ) + sp.Rational(1,2) * alpha *adt*adt*at*at + omega_r * (adr *ar + sp.Rational(1,2))\n",
    "H = H0 - g * (adt  - at) * (adr - ar)\n",
    "H"
   ]
  },
  {
   "cell_type": "code",
   "execution_count": 106,
   "id": "9542008b",
   "metadata": {},
   "outputs": [
    {
     "name": "stdout",
     "output_type": "stream",
     "text": [
      "|\t0                               0                                1\t|\n",
      "|\t1                               1                                1\t|\n",
      "|\t2                              0-1                               2\t|\n",
      "|\t3                             0-1-1                              3\t|\n",
      "|\t4                              1-1                               2\t|\n",
      "|\t5                               2                                1\t|\n",
      "--------------------------------------------------------------------------------------------------------------------------------------------------------------------------------------------------------\n",
      "--------------------------------------------------------------------------------------------------------------------------------------------------------------------------------------------------------\n"
     ]
    }
   ],
   "source": [
    "sol, S = solver(H, Spin, order=2, full_diagonal=False)"
   ]
  },
  {
   "cell_type": "code",
   "execution_count": 107,
   "id": "e5d96da7",
   "metadata": {},
   "outputs": [
    {
     "data": {
      "text/latex": [
       "$\\displaystyle \\mathtt{\\text{1}} = \\frac{g {a_t^\\dagger} {a_r} \\sigma_{0}}{\\omega_{r} + \\omega_{t}} - \\frac{g {a_t^\\dagger} {a_r^\\dagger} \\sigma_{0}}{\\omega_{t}} - \\frac{g {a_t} {a_r} \\sigma_{0}}{\\omega_{r}}$"
      ],
      "text/plain": [
       "<IPython.core.display.Math object>"
      ]
     },
     "metadata": {},
     "output_type": "display_data"
    }
   ],
   "source": [
    "display_dict(S)"
   ]
  },
  {
   "cell_type": "code",
   "execution_count": 108,
   "id": "902ea0da",
   "metadata": {},
   "outputs": [
    {
     "data": {
      "text/latex": [
       "$\\displaystyle \\frac{g^{2}}{2 \\omega_{t}} - \\frac{g^{2}}{2 \\omega_{r}}$"
      ],
      "text/plain": [
       "g**2/(2*\\omega_{t}) - g**2/(2*\\omega_{r})"
      ]
     },
     "execution_count": 108,
     "metadata": {},
     "output_type": "execute_result"
    }
   ],
   "source": [
    "subs = {\n",
    "    at * adt : adt * at + 1,\n",
    "    ar * adr : adr * ar + 1,\n",
    "}\n",
    "subs_to_zero = {\n",
    "    at : 0,\n",
    "    adt : 0,\n",
    "    ar : 0,\n",
    "    adr : 0,\n",
    "}\n",
    "(sol - H0).subs(subs).expand().subs(subs_to_zero).expand().simplify().expand()"
   ]
  },
  {
   "cell_type": "code",
   "execution_count": 113,
   "id": "273b3b9e",
   "metadata": {},
   "outputs": [
    {
     "data": {
      "text/latex": [
       "$\\displaystyle \\mathtt{\\text{False}} = \\frac{\\alpha {a_t^\\dagger}^{2} {a_t}^{2}}{2}$"
      ],
      "text/plain": [
       "<IPython.core.display.Math object>"
      ]
     },
     "metadata": {},
     "output_type": "display_data"
    },
    {
     "data": {
      "text/latex": [
       "$\\displaystyle \\mathtt{\\text{True}} = \\frac{\\omega_{r}}{2} + \\omega_{r} {a_r^\\dagger} {a_r} + \\frac{\\omega_{t}}{2} - \\omega_{t} {a_t^\\dagger} {a_t}$"
      ],
      "text/plain": [
       "<IPython.core.display.Math object>"
      ]
     },
     "metadata": {},
     "output_type": "display_data"
    }
   ],
   "source": [
    "display_dict(group_by_diagonal(H0))"
   ]
  },
  {
   "cell_type": "code",
   "execution_count": 111,
   "id": "e03fdc8a",
   "metadata": {},
   "outputs": [
    {
     "data": {
      "text/latex": [
       "$\\displaystyle 1 = \\frac{\\omega_{r}^{2} g^{2}}{2 \\omega_{r}^{2} \\omega_{t} + 2 \\omega_{r} \\omega_{t}^{2}} - \\frac{\\omega_{t}^{2} g^{2}}{2 \\omega_{r}^{2} \\omega_{t} + 2 \\omega_{r} \\omega_{t}^{2}}$"
      ],
      "text/plain": [
       "<IPython.core.display.Math object>"
      ]
     },
     "metadata": {},
     "output_type": "display_data"
    },
    {
     "data": {
      "text/latex": [
       "$\\displaystyle {a_t^\\dagger}^{2} {a_t}^{2} = - \\frac{\\alpha}{2}$"
      ],
      "text/plain": [
       "<IPython.core.display.Math object>"
      ]
     },
     "metadata": {},
     "output_type": "display_data"
    },
    {
     "data": {
      "text/latex": [
       "$\\displaystyle {a_r^\\dagger} {a_r} = \\frac{\\omega_{r}^{2} g^{2}}{2 \\omega_{r}^{2} \\omega_{t} + 2 \\omega_{r} \\omega_{t}^{2}} + \\frac{\\omega_{r} \\omega_{t} g^{2}}{2 \\omega_{r}^{2} \\omega_{t} + 2 \\omega_{r} \\omega_{t}^{2}} - \\frac{\\omega_{t}^{2} g^{2}}{2 \\omega_{r}^{2} \\omega_{t} + 2 \\omega_{r} \\omega_{t}^{2}}$"
      ],
      "text/plain": [
       "<IPython.core.display.Math object>"
      ]
     },
     "metadata": {},
     "output_type": "display_data"
    },
    {
     "data": {
      "text/latex": [
       "$\\displaystyle {a_r^\\dagger}^{2} = - \\frac{\\omega_{r}^{2} g^{2}}{2 \\omega_{r}^{2} \\omega_{t} + 2 \\omega_{r} \\omega_{t}^{2}} - \\frac{\\omega_{r} \\omega_{t} g^{2}}{2 \\omega_{r}^{2} \\omega_{t} + 2 \\omega_{r} \\omega_{t}^{2}}$"
      ],
      "text/plain": [
       "<IPython.core.display.Math object>"
      ]
     },
     "metadata": {},
     "output_type": "display_data"
    },
    {
     "data": {
      "text/latex": [
       "$\\displaystyle {a_t^\\dagger} {a_t} = \\frac{\\omega_{r}^{2} g^{2}}{2 \\omega_{r}^{2} \\omega_{t} + 2 \\omega_{r} \\omega_{t}^{2}} - \\frac{\\omega_{r} \\omega_{t} g^{2}}{2 \\omega_{r}^{2} \\omega_{t} + 2 \\omega_{r} \\omega_{t}^{2}} - \\frac{\\omega_{t}^{2} g^{2}}{2 \\omega_{r}^{2} \\omega_{t} + 2 \\omega_{r} \\omega_{t}^{2}}$"
      ],
      "text/plain": [
       "<IPython.core.display.Math object>"
      ]
     },
     "metadata": {},
     "output_type": "display_data"
    },
    {
     "data": {
      "text/latex": [
       "$\\displaystyle {a_t^\\dagger}^{2} = - \\frac{\\omega_{r}^{2} g^{2}}{2 \\omega_{r}^{2} \\omega_{t} + 2 \\omega_{r} \\omega_{t}^{2}}$"
      ],
      "text/plain": [
       "<IPython.core.display.Math object>"
      ]
     },
     "metadata": {},
     "output_type": "display_data"
    },
    {
     "data": {
      "text/latex": [
       "$\\displaystyle {a_t}^{2} = \\frac{\\omega_{r} \\omega_{t} g^{2}}{2 \\omega_{r}^{2} \\omega_{t} + 2 \\omega_{r} \\omega_{t}^{2}} + \\frac{\\omega_{t}^{2} g^{2}}{2 \\omega_{r}^{2} \\omega_{t} + 2 \\omega_{r} \\omega_{t}^{2}}$"
      ],
      "text/plain": [
       "<IPython.core.display.Math object>"
      ]
     },
     "metadata": {},
     "output_type": "display_data"
    },
    {
     "data": {
      "text/latex": [
       "$\\displaystyle {a_r}^{2} = \\frac{\\omega_{t}^{2} g^{2}}{2 \\omega_{r}^{2} \\omega_{t} + 2 \\omega_{r} \\omega_{t}^{2}}$"
      ],
      "text/plain": [
       "<IPython.core.display.Math object>"
      ]
     },
     "metadata": {},
     "output_type": "display_data"
    }
   ],
   "source": [
    "display_dict(group_by_infinite_operators((sol - H0).subs(subs).expand()))"
   ]
  },
  {
   "cell_type": "code",
   "execution_count": 83,
   "id": "61b1efd4",
   "metadata": {},
   "outputs": [
    {
     "data": {
      "text/latex": [
       "$\\displaystyle - \\frac{\\omega_{r}^{2} g^{2} {a_r^\\dagger} {a_r}}{\\omega_{r}^{2} \\omega_{t} - \\omega_{r} \\omega_{t}^{2}}$"
      ],
      "text/plain": [
       "-\\omega_{r}**2*g**2*{a_r^\\dagger}*{a_r}/(\\omega_{r}**2*\\omega_{t} - \\omega_{r}*\\omega_{t}**2)"
      ]
     },
     "metadata": {},
     "output_type": "display_data"
    },
    {
     "data": {
      "text/latex": [
       "$\\displaystyle \\frac{\\omega_{r}^{2} g^{2} {a_r^\\dagger}^{2}}{\\omega_{r}^{2} \\omega_{t} - \\omega_{r} \\omega_{t}^{2}}$"
      ],
      "text/plain": [
       "\\omega_{r}**2*g**2*{a_r^\\dagger}**2/(\\omega_{r}**2*\\omega_{t} - \\omega_{r}*\\omega_{t}**2)"
      ]
     },
     "metadata": {},
     "output_type": "display_data"
    },
    {
     "data": {
      "text/latex": [
       "$\\displaystyle \\frac{\\omega_{r}^{2} g^{2} {a_t^\\dagger}^{2}}{\\omega_{r}^{2} \\omega_{t} - \\omega_{r} \\omega_{t}^{2}}$"
      ],
      "text/plain": [
       "\\omega_{r}**2*g**2*{a_t^\\dagger}**2/(\\omega_{r}**2*\\omega_{t} - \\omega_{r}*\\omega_{t}**2)"
      ]
     },
     "metadata": {},
     "output_type": "display_data"
    },
    {
     "data": {
      "text/latex": [
       "$\\displaystyle - \\frac{\\omega_{r}^{2} g^{2} {a_t} {a_t^\\dagger}}{\\omega_{r}^{2} \\omega_{t} - \\omega_{r} \\omega_{t}^{2}}$"
      ],
      "text/plain": [
       "-\\omega_{r}**2*g**2*{a_t}*{a_t^\\dagger}/(\\omega_{r}**2*\\omega_{t} - \\omega_{r}*\\omega_{t}**2)"
      ]
     },
     "metadata": {},
     "output_type": "display_data"
    },
    {
     "data": {
      "text/latex": [
       "$\\displaystyle \\frac{\\omega_{r} \\omega_{t} g^{2} {a_r^\\dagger} {a_r}}{\\omega_{r}^{2} \\omega_{t} - \\omega_{r} \\omega_{t}^{2}}$"
      ],
      "text/plain": [
       "\\omega_{r}*\\omega_{t}*g**2*{a_r^\\dagger}*{a_r}/(\\omega_{r}**2*\\omega_{t} - \\omega_{r}*\\omega_{t}**2)"
      ]
     },
     "metadata": {},
     "output_type": "display_data"
    },
    {
     "data": {
      "text/latex": [
       "$\\displaystyle - \\frac{\\omega_{r} \\omega_{t} g^{2} {a_r^\\dagger}^{2}}{\\omega_{r}^{2} \\omega_{t} - \\omega_{r} \\omega_{t}^{2}}$"
      ],
      "text/plain": [
       "-\\omega_{r}*\\omega_{t}*g**2*{a_r^\\dagger}**2/(\\omega_{r}**2*\\omega_{t} - \\omega_{r}*\\omega_{t}**2)"
      ]
     },
     "metadata": {},
     "output_type": "display_data"
    },
    {
     "data": {
      "text/latex": [
       "$\\displaystyle - \\frac{\\omega_{r} \\omega_{t} g^{2} {a_t^\\dagger} {a_t}}{\\omega_{r}^{2} \\omega_{t} - \\omega_{r} \\omega_{t}^{2}}$"
      ],
      "text/plain": [
       "-\\omega_{r}*\\omega_{t}*g**2*{a_t^\\dagger}*{a_t}/(\\omega_{r}**2*\\omega_{t} - \\omega_{r}*\\omega_{t}**2)"
      ]
     },
     "metadata": {},
     "output_type": "display_data"
    },
    {
     "data": {
      "text/latex": [
       "$\\displaystyle \\frac{\\omega_{r} \\omega_{t} g^{2} {a_t}^{2}}{\\omega_{r}^{2} \\omega_{t} - \\omega_{r} \\omega_{t}^{2}}$"
      ],
      "text/plain": [
       "\\omega_{r}*\\omega_{t}*g**2*{a_t}**2/(\\omega_{r}**2*\\omega_{t} - \\omega_{r}*\\omega_{t}**2)"
      ]
     },
     "metadata": {},
     "output_type": "display_data"
    },
    {
     "data": {
      "text/latex": [
       "$\\displaystyle \\frac{\\omega_{r}}{2}$"
      ],
      "text/plain": [
       "\\omega_{r}/2"
      ]
     },
     "metadata": {},
     "output_type": "display_data"
    },
    {
     "data": {
      "text/latex": [
       "$\\displaystyle \\omega_{r} {a_r^\\dagger} {a_r}$"
      ],
      "text/plain": [
       "\\omega_{r}*{a_r^\\dagger}*{a_r}"
      ]
     },
     "metadata": {},
     "output_type": "display_data"
    },
    {
     "data": {
      "text/latex": [
       "$\\displaystyle \\frac{\\omega_{t}^{2} g^{2} {a_r} {a_r^\\dagger}}{\\omega_{r}^{2} \\omega_{t} - \\omega_{r} \\omega_{t}^{2}}$"
      ],
      "text/plain": [
       "\\omega_{t}**2*g**2*{a_r}*{a_r^\\dagger}/(\\omega_{r}**2*\\omega_{t} - \\omega_{r}*\\omega_{t}**2)"
      ]
     },
     "metadata": {},
     "output_type": "display_data"
    },
    {
     "data": {
      "text/latex": [
       "$\\displaystyle - \\frac{\\omega_{t}^{2} g^{2} {a_r}^{2}}{\\omega_{r}^{2} \\omega_{t} - \\omega_{r} \\omega_{t}^{2}}$"
      ],
      "text/plain": [
       "-\\omega_{t}**2*g**2*{a_r}**2/(\\omega_{r}**2*\\omega_{t} - \\omega_{r}*\\omega_{t}**2)"
      ]
     },
     "metadata": {},
     "output_type": "display_data"
    },
    {
     "data": {
      "text/latex": [
       "$\\displaystyle \\frac{\\omega_{t}^{2} g^{2} {a_t^\\dagger} {a_t}}{\\omega_{r}^{2} \\omega_{t} - \\omega_{r} \\omega_{t}^{2}}$"
      ],
      "text/plain": [
       "\\omega_{t}**2*g**2*{a_t^\\dagger}*{a_t}/(\\omega_{r}**2*\\omega_{t} - \\omega_{r}*\\omega_{t}**2)"
      ]
     },
     "metadata": {},
     "output_type": "display_data"
    },
    {
     "data": {
      "text/latex": [
       "$\\displaystyle - \\frac{\\omega_{t}^{2} g^{2} {a_t}^{2}}{\\omega_{r}^{2} \\omega_{t} - \\omega_{r} \\omega_{t}^{2}}$"
      ],
      "text/plain": [
       "-\\omega_{t}**2*g**2*{a_t}**2/(\\omega_{r}**2*\\omega_{t} - \\omega_{r}*\\omega_{t}**2)"
      ]
     },
     "metadata": {},
     "output_type": "display_data"
    },
    {
     "data": {
      "text/latex": [
       "$\\displaystyle \\frac{\\omega_{t}}{2}$"
      ],
      "text/plain": [
       "\\omega_{t}/2"
      ]
     },
     "metadata": {},
     "output_type": "display_data"
    },
    {
     "data": {
      "text/latex": [
       "$\\displaystyle \\omega_{t} {a_t^\\dagger} {a_t}$"
      ],
      "text/plain": [
       "\\omega_{t}*{a_t^\\dagger}*{a_t}"
      ]
     },
     "metadata": {},
     "output_type": "display_data"
    },
    {
     "data": {
      "text/latex": [
       "$\\displaystyle - \\frac{\\alpha {a_t^\\dagger}^{2} {a_t}^{2}}{2} - \\frac{\\omega_{r}}{2} - \\omega_{r} {a_r^\\dagger} {a_r} - \\frac{\\omega_{t}}{2} - \\omega_{t} {a_t^\\dagger} {a_t}$"
      ],
      "text/plain": [
       "-\\alpha*{a_t^\\dagger}**2*{a_t}**2/2 - \\omega_{r}/2 - \\omega_{r}*{a_r^\\dagger}*{a_r} - \\omega_{t}/2 - \\omega_{t}*{a_t^\\dagger}*{a_t}"
      ]
     },
     "metadata": {},
     "output_type": "display_data"
    },
    {
     "data": {
      "text/latex": [
       "$\\displaystyle \\frac{\\omega_{r}^{2} g^{2} {a_r^\\dagger} {a_r}}{2 \\omega_{r}^{2} \\omega_{t} - 2 \\omega_{r} \\omega_{t}^{2}} - \\frac{\\omega_{r}^{2} g^{2} {a_r^\\dagger}^{2}}{2 \\omega_{r}^{2} \\omega_{t} - 2 \\omega_{r} \\omega_{t}^{2}} - \\frac{\\omega_{r}^{2} g^{2} {a_t^\\dagger}^{2}}{2 \\omega_{r}^{2} \\omega_{t} - 2 \\omega_{r} \\omega_{t}^{2}} + \\frac{\\omega_{r}^{2} g^{2} {a_t} {a_t^\\dagger}}{2 \\omega_{r}^{2} \\omega_{t} - 2 \\omega_{r} \\omega_{t}^{2}} - \\frac{\\omega_{r} \\omega_{t} g^{2} {a_r^\\dagger} {a_r}}{2 \\omega_{r}^{2} \\omega_{t} - 2 \\omega_{r} \\omega_{t}^{2}} + \\frac{\\omega_{r} \\omega_{t} g^{2} {a_r^\\dagger}^{2}}{2 \\omega_{r}^{2} \\omega_{t} - 2 \\omega_{r} \\omega_{t}^{2}} + \\frac{\\omega_{r} \\omega_{t} g^{2} {a_t^\\dagger} {a_t}}{2 \\omega_{r}^{2} \\omega_{t} - 2 \\omega_{r} \\omega_{t}^{2}} - \\frac{\\omega_{r} \\omega_{t} g^{2} {a_t}^{2}}{2 \\omega_{r}^{2} \\omega_{t} - 2 \\omega_{r} \\omega_{t}^{2}} - \\frac{\\omega_{t}^{2} g^{2} {a_r} {a_r^\\dagger}}{2 \\omega_{r}^{2} \\omega_{t} - 2 \\omega_{r} \\omega_{t}^{2}} + \\frac{\\omega_{t}^{2} g^{2} {a_r}^{2}}{2 \\omega_{r}^{2} \\omega_{t} - 2 \\omega_{r} \\omega_{t}^{2}} - \\frac{\\omega_{t}^{2} g^{2} {a_t^\\dagger} {a_t}}{2 \\omega_{r}^{2} \\omega_{t} - 2 \\omega_{r} \\omega_{t}^{2}} + \\frac{\\omega_{t}^{2} g^{2} {a_t}^{2}}{2 \\omega_{r}^{2} \\omega_{t} - 2 \\omega_{r} \\omega_{t}^{2}}$"
      ],
      "text/plain": [
       "\\omega_{r}**2*g**2*{a_r^\\dagger}*{a_r}/(2*\\omega_{r}**2*\\omega_{t} - 2*\\omega_{r}*\\omega_{t}**2) - \\omega_{r}**2*g**2*{a_r^\\dagger}**2/(2*\\omega_{r}**2*\\omega_{t} - 2*\\omega_{r}*\\omega_{t}**2) - \\omega_{r}**2*g**2*{a_t^\\dagger}**2/(2*\\omega_{r}**2*\\omega_{t} - 2*\\omega_{r}*\\omega_{t}**2) + \\omega_{r}**2*g**2*{a_t}*{a_t^\\dagger}/(2*\\omega_{r}**2*\\omega_{t} - 2*\\omega_{r}*\\omega_{t}**2) - \\omega_{r}*\\omega_{t}*g**2*{a_r^\\dagger}*{a_r}/(2*\\omega_{r}**2*\\omega_{t} - 2*\\omega_{r}*\\omega_{t}**2) + \\omega_{r}*\\omega_{t}*g**2*{a_r^\\dagger}**2/(2*\\omega_{r}**2*\\omega_{t} - 2*\\omega_{r}*\\omega_{t}**2) + \\omega_{r}*\\omega_{t}*g**2*{a_t^\\dagger}*{a_t}/(2*\\omega_{r}**2*\\omega_{t} - 2*\\omega_{r}*\\omega_{t}**2) - \\omega_{r}*\\omega_{t}*g**2*{a_t}**2/(2*\\omega_{r}**2*\\omega_{t} - 2*\\omega_{r}*\\omega_{t}**2) - \\omega_{t}**2*g**2*{a_r}*{a_r^\\dagger}/(2*\\omega_{r}**2*\\omega_{t} - 2*\\omega_{r}*\\omega_{t}**2) + \\omega_{t}**2*g**2*{a_r}**2/(2*\\omega_{r}**2*\\omega_{t} - 2*\\omega_{r}*\\omega_{t}**2) - \\omega_{t}**2*g**2*{a_t^\\dagger}*{a_t}/(2*\\omega_{r}**2*\\omega_{t} - 2*\\omega_{r}*\\omega_{t}**2) + \\omega_{t}**2*g**2*{a_t}**2/(2*\\omega_{r}**2*\\omega_{t} - 2*\\omega_{r}*\\omega_{t}**2)"
      ]
     },
     "metadata": {},
     "output_type": "display_data"
    }
   ],
   "source": [
    "for v in (sol - H0).as_ordered_terms():\n",
    "    display(v.expand())"
   ]
  },
  {
   "cell_type": "code",
   "execution_count": null,
   "id": "dff60867",
   "metadata": {},
   "outputs": [],
   "source": []
  }
 ],
 "metadata": {
  "kernelspec": {
   "display_name": "Python 3 (ipykernel)",
   "language": "python",
   "name": "python3"
  },
  "language_info": {
   "codemirror_mode": {
    "name": "ipython",
    "version": 3
   },
   "file_extension": ".py",
   "mimetype": "text/x-python",
   "name": "python",
   "nbconvert_exporter": "python",
   "pygments_lexer": "ipython3",
   "version": "3.12.2"
  }
 },
 "nbformat": 4,
 "nbformat_minor": 5
}
