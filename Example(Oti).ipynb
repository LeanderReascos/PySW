{
 "cells": [
  {
   "cell_type": "markdown",
   "id": "16e5dbb9",
   "metadata": {},
   "source": [
    "# Trying out sympy module"
   ]
  },
  {
   "cell_type": "code",
   "execution_count": 1,
   "id": "ce5eff91",
   "metadata": {},
   "outputs": [],
   "source": [
    "%load_ext autoreload\n",
    "%autoreload 2"
   ]
  },
  {
   "cell_type": "code",
   "execution_count": 2,
   "id": "ddf2a6b7",
   "metadata": {},
   "outputs": [],
   "source": [
    "import sympy as sp\n",
    "import numpy as np\n",
    "from Modules.sympy.classes import *\n",
    "from Modules.sympy.utils import *\n",
    "from sympy.physics.quantum import Dagger\n",
    "from Modules.sympy.solver import *"
   ]
  },
  {
   "cell_type": "code",
   "execution_count": 3,
   "id": "79863889",
   "metadata": {},
   "outputs": [
    {
     "data": {
      "text/latex": [
       "$\\displaystyle \\frac{\\Omega_{z} \\hbar \\sigma_{3}}{2} - g \\hbar \\left(a + {a^\\dagger}\\right) \\sigma_{1} + \\hbar \\omega {a^\\dagger} a$"
      ],
      "text/plain": [
       "\\Omega_{z}*hbar*\\sigma_{3}/2 - g*hbar*(a + {a^\\dagger})*\\sigma_{1} + hbar*omega*{a^\\dagger}*a"
      ]
     },
     "execution_count": 3,
     "metadata": {},
     "output_type": "execute_result"
    }
   ],
   "source": [
    "Spin = RDBasis(\"\\\\sigma\", 'spin', dim=2)\n",
    "sx = Spin.project(sp.Matrix([[0, 1], [1, 0]]))\n",
    "sz = Spin.project(sp.Matrix([[1, 0], [0, -1]]))\n",
    "\n",
    "a = RDBoson(\"a\", subspace =\"b\")\n",
    "ad = RDBoson(\"{a^\\\\dagger}\", subspace =\"b\", is_annihilation=False)\n",
    "\n",
    "hbar = RDsymbol(\"hbar\", order = 0)\n",
    "omega = RDsymbol(\"omega\", order = 0)\n",
    "Omega_z = RDsymbol(\"\\\\Omega_{z}\", order = 0)\n",
    "g = RDsymbol(\"g\", order = 1)\n",
    "\n",
    "H = hbar * omega * ad * a + hbar * Omega_z * sp.Rational(1,2) * sz - hbar * g * (a + ad) * sx\n",
    "H"
   ]
  },
  {
   "cell_type": "code",
   "execution_count": 4,
   "id": "86ebcedc",
   "metadata": {},
   "outputs": [],
   "source": [
    "from IPython.display import display, Math\n",
    "def display_dict(d):\n",
    "    for k, v in d.items():\n",
    "        display(Math(f\"{sp.latex(k)} = {sp.latex(v)}\"))"
   ]
  },
  {
   "cell_type": "code",
   "execution_count": 5,
   "id": "93062889",
   "metadata": {},
   "outputs": [
    {
     "name": "stdout",
     "output_type": "stream",
     "text": [
      "\n",
      "--------------------------------------------------\n",
      "Order 1\n",
      "Got ansatz\n",
      "Solving\n",
      "\tGrouped by infinite operators\n",
      "\t\tKey: 1\n",
      "\t\tGot Solutions\n",
      "\t\tKey: a\n",
      "\t\tGot Solutions\n",
      "\t\tKey: {a^\\dagger}\n",
      "\t\tGot Solutions\n",
      "Got S_k_solved\n",
      "Got tmp_H\n",
      "Got H_final\n",
      "Got Bk\n",
      "--------------------------------------------------\n",
      "\n",
      "\n",
      "--------------------------------------------------\n",
      "Order 2\n",
      "Got ansatz\n",
      "Solving\n",
      "\tGrouped by infinite operators\n",
      "\t\tKey: 1\n",
      "\t\tGot Solutions\n",
      "\t\tKey: a**2\n",
      "\t\tGot Solutions\n",
      "\t\tKey: {a^\\dagger}**2\n",
      "\t\tGot Solutions\n",
      "Got S_k_solved\n",
      "Got tmp_H\n",
      "Got H_final\n",
      "Got Bk\n",
      "--------------------------------------------------\n",
      "\n"
     ]
    }
   ],
   "source": [
    "S, H_diagonal, H_block = solver(H, Spin, order=2)"
   ]
  },
  {
   "cell_type": "code",
   "execution_count": 11,
   "id": "98c3fd42",
   "metadata": {},
   "outputs": [
    {
     "data": {
      "text/latex": [
       "$\\displaystyle \\frac{i \\Omega_{z}^{3} g^{3} \\hbar a \\sigma_{2}}{\\Omega_{z}^{4} \\omega - 2 \\Omega_{z}^{2} \\omega^{3} + \\omega^{5}} - \\frac{i \\Omega_{z}^{3} g^{3} \\hbar a^{2} {a^\\dagger} \\sigma_{2}}{\\Omega_{z}^{4} \\omega - 2 \\Omega_{z}^{2} \\omega^{3} + \\omega^{5}} - \\frac{i \\Omega_{z}^{3} g^{3} \\hbar a^{3} \\sigma_{2}}{\\Omega_{z}^{4} \\omega - 2 \\Omega_{z}^{2} \\omega^{3} + \\omega^{5}} + \\frac{i \\Omega_{z}^{3} g^{3} \\hbar {a^\\dagger} \\sigma_{2}}{\\Omega_{z}^{4} \\omega - 2 \\Omega_{z}^{2} \\omega^{3} + \\omega^{5}} + \\frac{i \\Omega_{z}^{3} g^{3} \\hbar {a^\\dagger}^{2} a \\sigma_{2}}{\\Omega_{z}^{4} \\omega - 2 \\Omega_{z}^{2} \\omega^{3} + \\omega^{5}} + \\frac{i \\Omega_{z}^{3} g^{3} \\hbar {a^\\dagger}^{3} \\sigma_{2}}{\\Omega_{z}^{4} \\omega - 2 \\Omega_{z}^{2} \\omega^{3} + \\omega^{5}} - \\frac{2 \\Omega_{z}^{3} g^{2} \\hbar a {a^\\dagger} \\sigma_{3}}{\\Omega_{z}^{4} - 2 \\Omega_{z}^{2} \\omega^{2} + \\omega^{4}} + \\frac{\\Omega_{z}^{3} g^{2} \\hbar \\sigma_{3}}{\\Omega_{z}^{4} - 2 \\Omega_{z}^{2} \\omega^{2} + \\omega^{4}} - \\frac{2 \\Omega_{z}^{2} g^{3} \\hbar a {a^\\dagger}^{2} \\sigma_{1}}{\\Omega_{z}^{4} - 2 \\Omega_{z}^{2} \\omega^{2} + \\omega^{4}} - \\frac{8 \\Omega_{z}^{2} g^{3} \\hbar a \\sigma_{1}}{\\Omega_{z}^{4} - 2 \\Omega_{z}^{2} \\omega^{2} + \\omega^{4}} + \\frac{6 \\Omega_{z}^{2} g^{3} \\hbar a^{2} {a^\\dagger} \\sigma_{1}}{\\Omega_{z}^{4} - 2 \\Omega_{z}^{2} \\omega^{2} + \\omega^{4}} + \\frac{4 \\Omega_{z}^{2} g^{3} \\hbar {a^\\dagger} a {a^\\dagger} \\sigma_{1}}{\\Omega_{z}^{4} - 2 \\Omega_{z}^{2} \\omega^{2} + \\omega^{4}} - \\frac{2 \\Omega_{z}^{2} g^{3} \\hbar {a^\\dagger} a^{2} \\sigma_{1}}{\\Omega_{z}^{4} - 2 \\Omega_{z}^{2} \\omega^{2} + \\omega^{4}} + \\frac{4 \\Omega_{z}^{2} g^{3} \\hbar {a^\\dagger} \\sigma_{1}}{\\Omega_{z}^{4} - 2 \\Omega_{z}^{2} \\omega^{2} + \\omega^{4}} + \\frac{2 \\Omega_{z}^{2} g^{3} \\hbar {a^\\dagger}^{2} a \\sigma_{1}}{\\Omega_{z}^{4} - 2 \\Omega_{z}^{2} \\omega^{2} + \\omega^{4}} + \\frac{\\Omega_{z}^{2} g^{2} \\hbar \\omega}{\\Omega_{z}^{4} - 2 \\Omega_{z}^{2} \\omega^{2} + \\omega^{4}} - \\frac{2 \\Omega_{z}^{2} g^{2} \\hbar \\omega \\sigma_{0}}{\\Omega_{z}^{4} - 2 \\Omega_{z}^{2} \\omega^{2} + \\omega^{4}} - \\frac{2 i \\Omega_{z} g^{3} \\hbar \\omega a {a^\\dagger}^{2} \\sigma_{2}}{\\Omega_{z}^{4} - 2 \\Omega_{z}^{2} \\omega^{2} + \\omega^{4}} - \\frac{i \\Omega_{z} g^{3} \\hbar \\omega a \\sigma_{2}}{\\Omega_{z}^{4} - 2 \\Omega_{z}^{2} \\omega^{2} + \\omega^{4}} + \\frac{3 i \\Omega_{z} g^{3} \\hbar \\omega a^{2} {a^\\dagger} \\sigma_{2}}{\\Omega_{z}^{4} - 2 \\Omega_{z}^{2} \\omega^{2} + \\omega^{4}} + \\frac{i \\Omega_{z} g^{3} \\hbar \\omega a^{3} \\sigma_{2}}{\\Omega_{z}^{4} - 2 \\Omega_{z}^{2} \\omega^{2} + \\omega^{4}} - \\frac{4 i \\Omega_{z} g^{3} \\hbar \\omega {a^\\dagger} a {a^\\dagger} \\sigma_{2}}{\\Omega_{z}^{4} - 2 \\Omega_{z}^{2} \\omega^{2} + \\omega^{4}} + \\frac{2 i \\Omega_{z} g^{3} \\hbar \\omega {a^\\dagger} a^{2} \\sigma_{2}}{\\Omega_{z}^{4} - 2 \\Omega_{z}^{2} \\omega^{2} + \\omega^{4}} + \\frac{3 i \\Omega_{z} g^{3} \\hbar \\omega {a^\\dagger} \\sigma_{2}}{\\Omega_{z}^{4} - 2 \\Omega_{z}^{2} \\omega^{2} + \\omega^{4}} + \\frac{i \\Omega_{z} g^{3} \\hbar \\omega {a^\\dagger}^{2} a \\sigma_{2}}{\\Omega_{z}^{4} - 2 \\Omega_{z}^{2} \\omega^{2} + \\omega^{4}} - \\frac{i \\Omega_{z} g^{3} \\hbar \\omega {a^\\dagger}^{3} \\sigma_{2}}{\\Omega_{z}^{4} - 2 \\Omega_{z}^{2} \\omega^{2} + \\omega^{4}} + \\frac{2 \\Omega_{z} g^{2} \\hbar \\omega^{2} {a^\\dagger} a \\sigma_{3}}{\\Omega_{z}^{4} - 2 \\Omega_{z}^{2} \\omega^{2} + \\omega^{4}} + \\frac{\\Omega_{z} g^{2} \\hbar \\omega^{2} \\sigma_{3}}{\\Omega_{z}^{4} - 2 \\Omega_{z}^{2} \\omega^{2} + \\omega^{4}} + \\frac{4 \\Omega_{z} g^{2} \\hbar a {a^\\dagger} \\sigma_{3}}{\\Omega_{z}^{2} - \\omega^{2}} + \\frac{2 \\Omega_{z} g^{2} \\hbar a^{2} \\sigma_{3}}{\\Omega_{z}^{2} - \\omega^{2}} + \\frac{2 \\Omega_{z} g^{2} \\hbar {a^\\dagger}^{2} \\sigma_{3}}{\\Omega_{z}^{2} - \\omega^{2}} - \\frac{2 \\Omega_{z} g^{2} \\hbar \\sigma_{3}}{\\Omega_{z}^{2} - \\omega^{2}} + \\frac{\\Omega_{z} \\hbar \\sigma_{3}}{2} + \\frac{g^{2} \\hbar \\omega^{3}}{\\Omega_{z}^{4} - 2 \\Omega_{z}^{2} \\omega^{2} + \\omega^{4}} + \\frac{2 g^{2} \\hbar \\omega}{\\Omega_{z}^{2} - \\omega^{2}} + \\hbar \\omega {a^\\dagger} a$"
      ],
      "text/plain": [
       "I*\\Omega_{z}**3*g**3*hbar*a*\\sigma_{2}/(\\Omega_{z}**4*omega - 2*\\Omega_{z}**2*omega**3 + omega**5) - I*\\Omega_{z}**3*g**3*hbar*a**2*{a^\\dagger}*\\sigma_{2}/(\\Omega_{z}**4*omega - 2*\\Omega_{z}**2*omega**3 + omega**5) - I*\\Omega_{z}**3*g**3*hbar*a**3*\\sigma_{2}/(\\Omega_{z}**4*omega - 2*\\Omega_{z}**2*omega**3 + omega**5) + I*\\Omega_{z}**3*g**3*hbar*{a^\\dagger}*\\sigma_{2}/(\\Omega_{z}**4*omega - 2*\\Omega_{z}**2*omega**3 + omega**5) + I*\\Omega_{z}**3*g**3*hbar*{a^\\dagger}**2*a*\\sigma_{2}/(\\Omega_{z}**4*omega - 2*\\Omega_{z}**2*omega**3 + omega**5) + I*\\Omega_{z}**3*g**3*hbar*{a^\\dagger}**3*\\sigma_{2}/(\\Omega_{z}**4*omega - 2*\\Omega_{z}**2*omega**3 + omega**5) - 2*\\Omega_{z}**3*g**2*hbar*a*{a^\\dagger}*\\sigma_{3}/(\\Omega_{z}**4 - 2*\\Omega_{z}**2*omega**2 + omega**4) + \\Omega_{z}**3*g**2*hbar*\\sigma_{3}/(\\Omega_{z}**4 - 2*\\Omega_{z}**2*omega**2 + omega**4) - 2*\\Omega_{z}**2*g**3*hbar*a*{a^\\dagger}**2*\\sigma_{1}/(\\Omega_{z}**4 - 2*\\Omega_{z}**2*omega**2 + omega**4) - 8*\\Omega_{z}**2*g**3*hbar*a*\\sigma_{1}/(\\Omega_{z}**4 - 2*\\Omega_{z}**2*omega**2 + omega**4) + 6*\\Omega_{z}**2*g**3*hbar*a**2*{a^\\dagger}*\\sigma_{1}/(\\Omega_{z}**4 - 2*\\Omega_{z}**2*omega**2 + omega**4) + 4*\\Omega_{z}**2*g**3*hbar*{a^\\dagger}*a*{a^\\dagger}*\\sigma_{1}/(\\Omega_{z}**4 - 2*\\Omega_{z}**2*omega**2 + omega**4) - 2*\\Omega_{z}**2*g**3*hbar*{a^\\dagger}*a**2*\\sigma_{1}/(\\Omega_{z}**4 - 2*\\Omega_{z}**2*omega**2 + omega**4) + 4*\\Omega_{z}**2*g**3*hbar*{a^\\dagger}*\\sigma_{1}/(\\Omega_{z}**4 - 2*\\Omega_{z}**2*omega**2 + omega**4) + 2*\\Omega_{z}**2*g**3*hbar*{a^\\dagger}**2*a*\\sigma_{1}/(\\Omega_{z}**4 - 2*\\Omega_{z}**2*omega**2 + omega**4) + \\Omega_{z}**2*g**2*hbar*omega/(\\Omega_{z}**4 - 2*\\Omega_{z}**2*omega**2 + omega**4) - 2*\\Omega_{z}**2*g**2*hbar*omega*\\sigma_{0}/(\\Omega_{z}**4 - 2*\\Omega_{z}**2*omega**2 + omega**4) - 2*I*\\Omega_{z}*g**3*hbar*omega*a*{a^\\dagger}**2*\\sigma_{2}/(\\Omega_{z}**4 - 2*\\Omega_{z}**2*omega**2 + omega**4) - I*\\Omega_{z}*g**3*hbar*omega*a*\\sigma_{2}/(\\Omega_{z}**4 - 2*\\Omega_{z}**2*omega**2 + omega**4) + 3*I*\\Omega_{z}*g**3*hbar*omega*a**2*{a^\\dagger}*\\sigma_{2}/(\\Omega_{z}**4 - 2*\\Omega_{z}**2*omega**2 + omega**4) + I*\\Omega_{z}*g**3*hbar*omega*a**3*\\sigma_{2}/(\\Omega_{z}**4 - 2*\\Omega_{z}**2*omega**2 + omega**4) - 4*I*\\Omega_{z}*g**3*hbar*omega*{a^\\dagger}*a*{a^\\dagger}*\\sigma_{2}/(\\Omega_{z}**4 - 2*\\Omega_{z}**2*omega**2 + omega**4) + 2*I*\\Omega_{z}*g**3*hbar*omega*{a^\\dagger}*a**2*\\sigma_{2}/(\\Omega_{z}**4 - 2*\\Omega_{z}**2*omega**2 + omega**4) + 3*I*\\Omega_{z}*g**3*hbar*omega*{a^\\dagger}*\\sigma_{2}/(\\Omega_{z}**4 - 2*\\Omega_{z}**2*omega**2 + omega**4) + I*\\Omega_{z}*g**3*hbar*omega*{a^\\dagger}**2*a*\\sigma_{2}/(\\Omega_{z}**4 - 2*\\Omega_{z}**2*omega**2 + omega**4) - I*\\Omega_{z}*g**3*hbar*omega*{a^\\dagger}**3*\\sigma_{2}/(\\Omega_{z}**4 - 2*\\Omega_{z}**2*omega**2 + omega**4) + 2*\\Omega_{z}*g**2*hbar*omega**2*{a^\\dagger}*a*\\sigma_{3}/(\\Omega_{z}**4 - 2*\\Omega_{z}**2*omega**2 + omega**4) + \\Omega_{z}*g**2*hbar*omega**2*\\sigma_{3}/(\\Omega_{z}**4 - 2*\\Omega_{z}**2*omega**2 + omega**4) + 4*\\Omega_{z}*g**2*hbar*a*{a^\\dagger}*\\sigma_{3}/(\\Omega_{z}**2 - omega**2) + 2*\\Omega_{z}*g**2*hbar*a**2*\\sigma_{3}/(\\Omega_{z}**2 - omega**2) + 2*\\Omega_{z}*g**2*hbar*{a^\\dagger}**2*\\sigma_{3}/(\\Omega_{z}**2 - omega**2) - 2*\\Omega_{z}*g**2*hbar*\\sigma_{3}/(\\Omega_{z}**2 - omega**2) + \\Omega_{z}*hbar*\\sigma_{3}/2 + g**2*hbar*omega**3/(\\Omega_{z}**4 - 2*\\Omega_{z}**2*omega**2 + omega**4) + 2*g**2*hbar*omega/(\\Omega_{z}**2 - omega**2) + hbar*omega*{a^\\dagger}*a"
      ]
     },
     "execution_count": 11,
     "metadata": {},
     "output_type": "execute_result"
    }
   ],
   "source": [
    "H_block"
   ]
  },
  {
   "cell_type": "markdown",
   "id": "ab70459f",
   "metadata": {},
   "source": [
    "# Extra"
   ]
  },
  {
   "cell_type": "code",
   "execution_count": 6,
   "id": "f8bcb694",
   "metadata": {},
   "outputs": [],
   "source": [
    "def create_equations_by_order(H, order=2):\n",
    "    max_order = max(list(group_by_order(H).keys()))\n",
    "\n",
    "    terms = [RDsymbol(f'\\\\varepsilon^{{({k})}}', order=k)*RDOperator(f'H_{{{k}}}', dim=2, subspace='RD', matrix=sp.eye(2)) for k in range(1, max_order+1)]\n",
    "    H_aux = RDOperator(f'H_{{{0}}}', dim=2, subspace='RD', matrix=sp.eye(2))  + sum(terms)\n",
    "    \n",
    "\n",
    "    s_symbols = [RDsymbol(f'\\\\varepsilon^{{({k})}}', order=k) for k in range(1, order+1)]\n",
    "    s_terms = [s_symbols[k-1]*RDOperator(f'S_{{{k}}}', dim=2, subspace='RD', matrix=sp.eye(2)) for k in range(1, order+1)]\n",
    "    S = sum(s_terms)\n",
    "\n",
    "    expanded_equations = 0\n",
    "    for k in range(order+1):\n",
    "        expanded_equations += (sp.Rational(1, sp.factorial(k)) * expand_commutator(nested_commutator(H_aux, S, k))).expand()\n",
    "    \n",
    "    terms = expanded_equations.as_ordered_terms()\n",
    "    factors = [sp.Mul(*term.as_ordered_factors()[:-1]) for term in terms]\n",
    "    \n",
    "    subs_epsilons = {s_k: 1 for s_k in s_symbols}\n",
    "\n",
    "    factors_order = {}\n",
    "    for i, f in enumerate(factors):\n",
    "        order_dict = group_by_order(f)\n",
    "        if not isinstance(order_dict, dict):\n",
    "            order_index = order_dict\n",
    "            if order_index > order:\n",
    "                continue\n",
    "            factors_order[order_index] = factors_order.get(order_index, 0) + terms[i].subs(subs_epsilons)\n",
    "            continue\n",
    "        order_index = list(order_dict.keys())[0]\n",
    "        if order_index > order:\n",
    "            continue\n",
    "        factors_order[order_index] = factors_order.get(order_index, 0) + terms[i].subs(subs_epsilons)\n",
    "        \n",
    "    return factors_order"
   ]
  }
 ],
 "metadata": {
  "kernelspec": {
   "display_name": "Python 3 (ipykernel)",
   "language": "python",
   "name": "python3"
  },
  "language_info": {
   "codemirror_mode": {
    "name": "ipython",
    "version": 3
   },
   "file_extension": ".py",
   "mimetype": "text/x-python",
   "name": "python",
   "nbconvert_exporter": "python",
   "pygments_lexer": "ipython3",
   "version": "3.12.2"
  }
 },
 "nbformat": 4,
 "nbformat_minor": 5
}
