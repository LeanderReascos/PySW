{
 "cells": [
  {
   "cell_type": "code",
   "execution_count": null,
   "id": "bc7754b7",
   "metadata": {},
   "outputs": [],
   "source": [
    "%load_ext autoreload\n",
    "%autoreload 2"
   ]
  },
  {
   "cell_type": "code",
   "execution_count": null,
   "id": "4ca61b1e",
   "metadata": {},
   "outputs": [],
   "source": [
    "import sympy as sp\n",
    "import numpy as np\n",
    "from Modules.classes import Operator, Coefficient, Term, Expression\n",
    "from Modules.solver import *"
   ]
  },
  {
   "cell_type": "code",
   "execution_count": null,
   "id": "04077194",
   "metadata": {},
   "outputs": [],
   "source": [
    "hbar = Coefficient('hbar', order=0)\n",
    "omega = Coefficient('omega', order=0)\n",
    "Omega_z = Coefficient('Omega_z', order=0)\n",
    "g = Coefficient('g', order=1)\n",
    "\n",
    "a = Operator('a', subspace='oscillator', is_infinite=True, mat_representation=sp.Matrix([[0, 1, 0], [0, 0, 1], [0, 0, 0]]))\n",
    "a_dag = Operator('{a^\\\\dagger}', subspace='oscillator', is_infinite=True, mat_representation=sp.Matrix([[0, 0, 0], [1, 0, 0], [0, 1, 0]]))\n",
    "\n",
    "a.add_commutation_relation(a_dag, 1)\n",
    "a_dag.add_commutation_relation(a, -1)\n",
    "\n",
    "X = Operator('sigma_x', mat_representation=sp.Matrix([[0, 1], [1, 0]]), subspace='spin')\n",
    "Z = Operator('sigma_z', mat_representation=sp.Matrix([[1, 0], [0, -1]]), subspace='spin')\n",
    "Y = Operator('tau_y', mat_representation=sp.Matrix([[0, -1j], [1j, 0]]), subspace='charge')\n",
    "\n",
    "H = hbar * omega * a_dag * a + hbar * Omega_z * 0.5 * Z + hbar * g * (a + a_dag) * X\n",
    "H\n"
   ]
  },
  {
   "cell_type": "code",
   "execution_count": null,
   "id": "b45739a9",
   "metadata": {},
   "outputs": [],
   "source": [
    "H_new, subspaces = H.domain_expansion()"
   ]
  },
  {
   "cell_type": "code",
   "execution_count": null,
   "id": "e178aae6",
   "metadata": {},
   "outputs": [],
   "source": [
    "Vk = H_new.group_by_diagonal()[False].group_by_order()[1]\n",
    "Vk\n",
    "get_ansatz(Vk)[0]"
   ]
  },
  {
   "cell_type": "code",
   "execution_count": null,
   "id": "50cd6ac1",
   "metadata": {},
   "outputs": [],
   "source": [
    "subspaces"
   ]
  },
  {
   "cell_type": "code",
   "execution_count": null,
   "id": "27b9a46d",
   "metadata": {},
   "outputs": [],
   "source": [
    "H_new"
   ]
  },
  {
   "cell_type": "code",
   "execution_count": null,
   "id": "7f634612",
   "metadata": {},
   "outputs": [],
   "source": [
    "H_new.terms[0].info"
   ]
  },
  {
   "cell_type": "code",
   "execution_count": null,
   "id": "22c97254",
   "metadata": {},
   "outputs": [],
   "source": [
    "S, symbols_for_s = get_ansatz(H_new)\n",
    "S.terms[0].info"
   ]
  },
  {
   "cell_type": "code",
   "execution_count": null,
   "id": "db78b3f1",
   "metadata": {},
   "outputs": [],
   "source": [
    "for key, value in ((H_new.group_by_order()[0] | S ) + H_new.group_by_order()[1].group_by_diagonal()[False]).group_by_infinite_terms().items():\n",
    "    print(f'\\n\\n\\n{key}:\\n')\n",
    "    print([sp.Mul(*map(lambda x: x.representation , term.info[\"coeff\"])) for term in value.terms])\n",
    "    mats = sp.Add(*[sp.Mul(*map(lambda x: x.representation , term.info[\"coeff\"])) * term.mat_representation[\"finite\"] for term in value.terms])\n",
    "    display(mats)\n",
    "    display(sp.solve(mats, symbols_for_s))"
   ]
  },
  {
   "cell_type": "code",
   "execution_count": null,
   "id": "adb5308e",
   "metadata": {},
   "outputs": [],
   "source": [
    "from IPython.display import display, Math\n",
    "def solver(H, order):\n",
    "    H_expanded = H.domain_expansion()[0]\n",
    "    H_0 = H_expanded.group_by_order()[0]\n",
    "    H_final = deepcopy(H_0)\n",
    "    Bk = 0\n",
    "\n",
    "    S = 0\n",
    "\n",
    "    for k in range(1, order+1):\n",
    "        print(f\"Order {k}\")\n",
    "        H_below_k = sum(H_expanded.group_by_order().get(j, 0) for j in range(k+1))\n",
    "        Vk = H_below_k.group_by_diagonal()[False].group_by_order().get(k, 0)\n",
    "        S_k, symbols_sk = get_ansatz(Vk + Bk)\n",
    "        solution_sk = dict(zip(symbols_sk, [0 for _ in symbols_sk]))\n",
    "        #display(Bk)\n",
    "        for key, value in ((H_0 | S_k) + (Vk + Bk)).group_by_infinite_terms().items():\n",
    "            print(\"Im here 1\")\n",
    "            mats = sp.Add(*[sp.Mul(*map(lambda x: x.representation , term.info[\"coeff\"])) * term.mat_representation[\"finite\"] for term in value.terms])\n",
    "            solution_sk.update(sp.solve(mats, symbols_sk))\n",
    "        \n",
    "        S_k_solved = 0\n",
    "        for term in S_k.terms:\n",
    "            print(\"Im here 2\")\n",
    "            term.mat_representation[\"finite\"] = term.mat_representation[\"finite\"].subs(solution_sk)\n",
    "            if sum(sp.Abs(term.mat_representation[\"finite\"])) == 0:\n",
    "                continue\n",
    "            S_k_solved += term\n",
    "        S += S_k_solved\n",
    "        display(S)\n",
    "        tmp_H = float(1 / sp.factorial(k)) * H_below_k.nested_commutator(S, k)\n",
    "        H_final += tmp_H.group_by_diagonal().get(True, Expression(Term(Coefficient(0)))).group_by_order().get(k, 0)\n",
    "        display(H_final)\n",
    "        Bk = tmp_H.group_by_diagonal()[False].group_by_order()[k+1]\n",
    "    \n",
    "    return H_final\n"
   ]
  },
  {
   "cell_type": "code",
   "execution_count": null,
   "id": "2a19b11c",
   "metadata": {},
   "outputs": [],
   "source": [
    "H_expanded = H.domain_expansion()[0]\n",
    "H_expanded.group_by_order()[0]"
   ]
  },
  {
   "cell_type": "code",
   "execution_count": null,
   "id": "48cc08c3",
   "metadata": {},
   "outputs": [],
   "source": [
    "H"
   ]
  },
  {
   "cell_type": "code",
   "execution_count": null,
   "id": "1f53d6f9",
   "metadata": {},
   "outputs": [],
   "source": [
    "solver(H, 2)"
   ]
  },
  {
   "cell_type": "code",
   "execution_count": null,
   "id": "deb9075e",
   "metadata": {},
   "outputs": [],
   "source": [
    "for i in sp.Matrix([[1,2],[3,4]]):\n",
    "    print(i)"
   ]
  },
  {
   "cell_type": "markdown",
   "id": "16e5dbb9",
   "metadata": {},
   "source": [
    "# Trying out sympy module"
   ]
  },
  {
   "cell_type": "code",
   "execution_count": 1,
   "id": "ce5eff91",
   "metadata": {},
   "outputs": [],
   "source": [
    "%load_ext autoreload\n",
    "%autoreload 2"
   ]
  },
  {
   "cell_type": "code",
   "execution_count": 2,
   "id": "ddf2a6b7",
   "metadata": {},
   "outputs": [],
   "source": [
    "import sympy as sp\n",
    "import numpy as np\n",
    "from Modules.sympy.classes import *\n",
    "from Modules.sympy.utils import *"
   ]
  },
  {
   "cell_type": "code",
   "execution_count": 3,
   "id": "1f42ca56",
   "metadata": {},
   "outputs": [
    {
     "data": {
      "text/latex": [
       "$\\displaystyle \\frac{\\hbar \\Omega_{z} \\sigma_{z}}{2} + \\hbar g \\left(a + a^{\\dagger}\\right) \\sigma_{x} + \\hbar \\omega a^{\\dagger} a$"
      ],
      "text/plain": [
       "hbar*Omega_z*sigma_z/2 + hbar*g*(a + a^\\dagger)*sigma_x + hbar*omega*a^\\dagger*a"
      ]
     },
     "execution_count": 3,
     "metadata": {},
     "output_type": "execute_result"
    }
   ],
   "source": [
    "sx = RDOperator(\"sigma_x\", subspace = \"spin\", dim = 2)\n",
    "sz = RDOperator(\"sigma_z\", subspace = \"spin\", dim = 2)\n",
    "a = RDOperator(\"a\", subspace = \"bosonic\", dim = -1)\n",
    "ad = RDOperator(\"a^\\dagger\", subspace = \"bosonic\", dim = -1)\n",
    "tx = RDOperator(\"tau_x\", subspace = \"charge\", dim = 2)\n",
    "\n",
    "\n",
    "hbar = RDsymbol(\"hbar\", order = 0)\n",
    "omega = RDsymbol(\"omega\", order = 0)\n",
    "Omega_z = RDsymbol(\"Omega_z\", order = 0)\n",
    "g = RDsymbol(\"g\", order = 1)\n",
    "\n",
    "H = hbar * omega * ad * a + hbar * Omega_z * sp.Rational(1,2) * sz + hbar * g * (a + ad) * sx\n",
    "H"
   ]
  },
  {
   "cell_type": "code",
   "execution_count": 6,
   "id": "4ab863b4",
   "metadata": {},
   "outputs": [
    {
     "data": {
      "text/latex": [
       "$\\displaystyle \\left[\\begin{matrix}a^{\\dagger} \\hbar \\omega a + \\frac{\\hbar \\Omega_{z}}{2} & a \\hbar g + a^{\\dagger} \\hbar g\\\\a \\hbar g + a^{\\dagger} \\hbar g & a^{\\dagger} \\hbar \\omega a - \\frac{\\hbar \\Omega_{z}}{2}\\end{matrix}\\right]$"
      ],
      "text/plain": [
       "Matrix([\n",
       "[a^\\dagger*hbar*omega*a + hbar*Omega_z/2,             a*hbar*g + a^\\dagger*hbar*g],\n",
       "[            a*hbar*g + a^\\dagger*hbar*g, a^\\dagger*hbar*omega*a - hbar*Omega_z/2]])"
      ]
     },
     "execution_count": 6,
     "metadata": {},
     "output_type": "execute_result"
    }
   ],
   "source": [
    "identities = get_finite_identities(H)\n",
    "subs_dict={sx : sp.Matrix([[0,1],[1,0]]),\n",
    "           sz : sp.Matrix([[1,0],[0,-1]]),\n",
    "           tx : sp.Matrix([[0,1],[1,0]])}\n",
    "subspaces = [sx.subspace]\n",
    "domain_expansion(H, subspaces = subspaces, subs_dict = subs_dict, identities = identities)"
   ]
  },
  {
   "cell_type": "code",
   "execution_count": null,
   "id": "c9f7dfcf",
   "metadata": {},
   "outputs": [],
   "source": [
    "from collections import defaultdict\n",
    "output = defaultdict(int)\n",
    "\n",
    "for a,b in order(expr):\n",
    "        output[a] += b\n",
    "\n",
    "print(output)"
   ]
  }
 ],
 "metadata": {
  "kernelspec": {
   "display_name": "Python 3 (ipykernel)",
   "language": "python",
   "name": "python3"
  },
  "language_info": {
   "codemirror_mode": {
    "name": "ipython",
    "version": 3
   },
   "file_extension": ".py",
   "mimetype": "text/x-python",
   "name": "python",
   "nbconvert_exporter": "python",
   "pygments_lexer": "ipython3",
   "version": "3.11.5"
  }
 },
 "nbformat": 4,
 "nbformat_minor": 5
}
