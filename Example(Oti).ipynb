{
 "cells": [
  {
   "cell_type": "markdown",
   "id": "16e5dbb9",
   "metadata": {},
   "source": [
    "# Trying out sympy module"
   ]
  },
  {
   "cell_type": "code",
   "execution_count": 1,
   "id": "ce5eff91",
   "metadata": {},
   "outputs": [],
   "source": [
    "%load_ext autoreload\n",
    "%autoreload 2"
   ]
  },
  {
   "cell_type": "code",
   "execution_count": 2,
   "id": "ddf2a6b7",
   "metadata": {},
   "outputs": [],
   "source": [
    "import sympy as sp\n",
    "import numpy as np\n",
    "from Modules.sympy.classes import *\n",
    "from Modules.sympy.utils import *\n",
    "from sympy.physics.quantum import Dagger"
   ]
  },
  {
   "cell_type": "code",
   "execution_count": 3,
   "id": "83c6b1b9",
   "metadata": {},
   "outputs": [
    {
     "data": {
      "text/latex": [
       "$\\displaystyle \\sigma_{1}$"
      ],
      "text/plain": [
       "\\sigma_{1}"
      ]
     },
     "metadata": {},
     "output_type": "display_data"
    },
    {
     "data": {
      "text/latex": [
       "$\\displaystyle \\sigma_{3}$"
      ],
      "text/plain": [
       "\\sigma_{3}"
      ]
     },
     "metadata": {},
     "output_type": "display_data"
    }
   ],
   "source": [
    "Spin = RDBasis(\"\\\\sigma\", 'spin', dim=2)\n",
    "sx = Spin.project(sp.Matrix([[0, 1], [1, 0]]))\n",
    "display(sx)\n",
    "sz = Spin.project(sp.Matrix([[1, 0], [0, -1]]))\n",
    "display(sz)"
   ]
  },
  {
   "cell_type": "code",
   "execution_count": 4,
   "id": "fa75cfd6",
   "metadata": {},
   "outputs": [
    {
     "data": {
      "text/plain": [
       "array([\\pi_{0}, \\pi_{1}, \\pi_{2}, \\pi_{3}, \\pi_{4}, \\pi_{5}, \\pi_{6},\n",
       "       \\pi_{7}, \\pi_{8}, \\pi_{9}, \\pi_{10}, \\pi_{11}, \\pi_{12}, \\pi_{13},\n",
       "       \\pi_{14}, \\pi_{15}], dtype=object)"
      ]
     },
     "execution_count": 4,
     "metadata": {},
     "output_type": "execute_result"
    }
   ],
   "source": [
    "RDBasis(\"\\\\pi\", 'spin', dim=4)._basis"
   ]
  },
  {
   "cell_type": "code",
   "execution_count": 5,
   "id": "79863889",
   "metadata": {},
   "outputs": [
    {
     "data": {
      "text/latex": [
       "$\\displaystyle \\frac{\\Omega_{z} \\hbar \\sigma_{3}}{2} + g \\hbar \\left(a + {a^\\dagger}\\right) \\sigma_{1} + \\hbar \\omega {a^\\dagger} a$"
      ],
      "text/plain": [
       "\\Omega_{z}*hbar*\\sigma_{3}/2 + g*hbar*(a + {a^\\dagger})*\\sigma_{1} + hbar*omega*{a^\\dagger}*a"
      ]
     },
     "execution_count": 5,
     "metadata": {},
     "output_type": "execute_result"
    }
   ],
   "source": [
    "\n",
    "a = RDBoson(\"a\", subspace =\"b\")\n",
    "ad = RDBoson(\"{a^\\\\dagger}\", subspace =\"b\", is_annihilation=False)\n",
    "\n",
    "hbar = RDsymbol(\"hbar\", order = 0)\n",
    "omega = RDsymbol(\"omega\", order = 0)\n",
    "Omega_z = RDsymbol(\"\\\\Omega_{z}\", order = 0)\n",
    "g = RDsymbol(\"g\", order = 1)\n",
    "\n",
    "H = hbar * omega * ad * a + hbar * Omega_z * sp.Rational(1,2) * sz + hbar * g * (a + ad) * sx\n",
    "H"
   ]
  },
  {
   "cell_type": "code",
   "execution_count": 6,
   "id": "8b443fa8",
   "metadata": {},
   "outputs": [],
   "source": [
    "Charge = RDBasis(\"Q\", \"charge\", dim=2)\n",
    "tx = Charge.project(sp.Matrix([[0, 1], [1, 0]]))"
   ]
  },
  {
   "cell_type": "code",
   "execution_count": 7,
   "id": "6a372fe8",
   "metadata": {},
   "outputs": [
    {
     "data": {
      "text/latex": [
       "$\\displaystyle \\left(S^{1}_{0} \\sigma_{0} + S^{1}_{1} \\sigma_{1} + S^{1}_{2} \\sigma_{2} + S^{1}_{3} \\sigma_{3}\\right) {a^\\dagger} + \\left(S^{2}_{0} \\sigma_{0} + S^{2}_{1} \\sigma_{1} + S^{2}_{2} \\sigma_{2} + S^{2}_{3} \\sigma_{3}\\right) a$"
      ],
      "text/plain": [
       "(S^1_0*\\sigma_{0} + S^1_1*\\sigma_{1} + S^1_2*\\sigma_{2} + S^1_3*\\sigma_{3})*{a^\\dagger} + (S^2_0*\\sigma_{0} + S^2_1*\\sigma_{1} + S^2_2*\\sigma_{2} + S^2_3*\\sigma_{3})*a"
      ]
     },
     "execution_count": 7,
     "metadata": {},
     "output_type": "execute_result"
    }
   ],
   "source": [
    "s1_symbols = [RDsymbol(\"S^1_{}\".format(i), order=1) for i in range(4)]\n",
    "s2_symbols = [RDsymbol(\"S^2_{}\".format(i), order=1) for i in range(4)]\n",
    "S1 = np.array(s1_symbols, dtype=object).dot(Spin._basis)\n",
    "S2 = np.array(s2_symbols, dtype=object).dot(Spin._basis)\n",
    "S = S1*ad + S2*a\n",
    "S"
   ]
  },
  {
   "cell_type": "code",
   "execution_count": 8,
   "id": "05f4b4e4",
   "metadata": {},
   "outputs": [
    {
     "data": {
      "text/latex": [
       "$\\displaystyle g \\hbar a \\sigma_{1} + g \\hbar {a^\\dagger} \\sigma_{1}$"
      ],
      "text/plain": [
       "g*hbar*a*\\sigma_{1} + g*hbar*{a^\\dagger}*\\sigma_{1}"
      ]
     },
     "execution_count": 8,
     "metadata": {},
     "output_type": "execute_result"
    }
   ],
   "source": [
    "H0 = group_by_order(H)[0]\n",
    "V = group_by_order(group_by_diagonal(H)[False])[1]\n",
    "V"
   ]
  },
  {
   "cell_type": "code",
   "execution_count": 9,
   "id": "8ac39d67",
   "metadata": {},
   "outputs": [
    {
     "data": {
      "text/latex": [
       "$\\displaystyle {a^\\dagger}$"
      ],
      "text/plain": [
       "{a^\\dagger}"
      ]
     },
     "metadata": {},
     "output_type": "display_data"
    },
    {
     "data": {
      "text/latex": [
       "$\\displaystyle S^{1}_{0} \\hbar \\omega \\sigma_{0} - i S^{1}_{1} \\Omega_{z} \\hbar \\sigma_{2} + S^{1}_{1} \\hbar \\omega \\sigma_{1} + i S^{1}_{2} \\Omega_{z} \\hbar \\sigma_{1} + S^{1}_{2} \\hbar \\omega \\sigma_{2} + S^{1}_{3} \\hbar \\omega \\sigma_{3} + g \\hbar \\sigma_{1}$"
      ],
      "text/plain": [
       "S^1_0*hbar*omega*\\sigma_{0} - I*S^1_1*\\Omega_{z}*hbar*\\sigma_{2} + S^1_1*hbar*omega*\\sigma_{1} + I*S^1_2*\\Omega_{z}*hbar*\\sigma_{1} + S^1_2*hbar*omega*\\sigma_{2} + S^1_3*hbar*omega*\\sigma_{3} + g*hbar*\\sigma_{1}"
      ]
     },
     "metadata": {},
     "output_type": "display_data"
    },
    {
     "data": {
      "text/latex": [
       "$\\displaystyle a$"
      ],
      "text/plain": [
       "a"
      ]
     },
     "metadata": {},
     "output_type": "display_data"
    },
    {
     "data": {
      "text/latex": [
       "$\\displaystyle - S^{2}_{0} \\hbar \\omega \\sigma_{0} - i S^{2}_{1} \\Omega_{z} \\hbar \\sigma_{2} - S^{2}_{1} \\hbar \\omega \\sigma_{1} + i S^{2}_{2} \\Omega_{z} \\hbar \\sigma_{1} - S^{2}_{2} \\hbar \\omega \\sigma_{2} - S^{2}_{3} \\hbar \\omega \\sigma_{3} + g \\hbar \\sigma_{1}$"
      ],
      "text/plain": [
       "-S^2_0*hbar*omega*\\sigma_{0} - I*S^2_1*\\Omega_{z}*hbar*\\sigma_{2} - S^2_1*hbar*omega*\\sigma_{1} + I*S^2_2*\\Omega_{z}*hbar*\\sigma_{1} - S^2_2*hbar*omega*\\sigma_{2} - S^2_3*hbar*omega*\\sigma_{3} + g*hbar*\\sigma_{1}"
      ]
     },
     "metadata": {},
     "output_type": "display_data"
    }
   ],
   "source": [
    "sols = {}\n",
    "for key, val in group_by_infinite_operators(Spin.project(expand_commutator(Commutator(H0, S) + V).doit())).items():\n",
    "    if val == 0:\n",
    "        continue\n",
    "    display(key)\n",
    "    display(val)\n",
    "    sols.update(sp.solve(get_matrix(val), s1_symbols + s2_symbols))\n",
    "\n"
   ]
  },
  {
   "cell_type": "code",
   "execution_count": 10,
   "id": "7fbcee3b",
   "metadata": {},
   "outputs": [
    {
     "data": {
      "text/plain": [
       "{1: 0,\n",
       " a: I*\\Omega_{z}*g*\\sigma_{2}/(\\Omega_{z}**2 - omega**2) - g*omega*\\sigma_{1}/(\\Omega_{z}**2 - omega**2),\n",
       " {a^\\dagger}: I*\\Omega_{z}*g*\\sigma_{2}/(\\Omega_{z}**2 - omega**2) + g*omega*\\sigma_{1}/(\\Omega_{z}**2 - omega**2)}"
      ]
     },
     "execution_count": 10,
     "metadata": {},
     "output_type": "execute_result"
    }
   ],
   "source": [
    "group_by_infinite_operators(S.subs(sols))"
   ]
  },
  {
   "cell_type": "code",
   "execution_count": 11,
   "id": "6430de76",
   "metadata": {},
   "outputs": [
    {
     "data": {
      "text/latex": [
       "$\\displaystyle \\frac{i \\Omega_{z} g \\sigma_{2}}{\\Omega_{z}^{2} - \\omega^{2}} - \\frac{g \\omega \\sigma_{1}}{\\Omega_{z}^{2} - \\omega^{2}}$"
      ],
      "text/plain": [
       "I*\\Omega_{z}*g*\\sigma_{2}/(\\Omega_{z}**2 - omega**2) - g*omega*\\sigma_{1}/(\\Omega_{z}**2 - omega**2)"
      ]
     },
     "metadata": {},
     "output_type": "display_data"
    },
    {
     "data": {
      "text/latex": [
       "$\\displaystyle \\left[\\begin{matrix}0 & \\frac{g}{\\Omega_{z} + \\omega}\\\\- \\frac{g}{\\Omega_{z} - \\omega} & 0\\end{matrix}\\right]$"
      ],
      "text/plain": [
       "Matrix([\n",
       "[                      0, g/(\\Omega_{z} + omega)],\n",
       "[-g/(\\Omega_{z} - omega),                      0]])"
      ]
     },
     "metadata": {},
     "output_type": "display_data"
    },
    {
     "data": {
      "text/latex": [
       "$\\displaystyle \\frac{i \\Omega_{z} g \\sigma_{2}}{\\Omega_{z}^{2} - \\omega^{2}} + \\frac{g \\omega \\sigma_{1}}{\\Omega_{z}^{2} - \\omega^{2}}$"
      ],
      "text/plain": [
       "I*\\Omega_{z}*g*\\sigma_{2}/(\\Omega_{z}**2 - omega**2) + g*omega*\\sigma_{1}/(\\Omega_{z}**2 - omega**2)"
      ]
     },
     "metadata": {},
     "output_type": "display_data"
    },
    {
     "data": {
      "text/latex": [
       "$\\displaystyle \\left[\\begin{matrix}0 & \\frac{g}{\\Omega_{z} - \\omega}\\\\- \\frac{g}{\\Omega_{z} + \\omega} & 0\\end{matrix}\\right]$"
      ],
      "text/plain": [
       "Matrix([\n",
       "[                      0, g/(\\Omega_{z} - omega)],\n",
       "[-g/(\\Omega_{z} + omega),                      0]])"
      ]
     },
     "metadata": {},
     "output_type": "display_data"
    }
   ],
   "source": [
    "for key, val in group_by_infinite_operators(S.subs(sols)).items():\n",
    "    if val == 0:\n",
    "        continue\n",
    "    display(val)\n",
    "    display(get_matrix(val).simplify())"
   ]
  },
  {
   "cell_type": "code",
   "execution_count": 12,
   "id": "3fb1d2de",
   "metadata": {},
   "outputs": [
    {
     "data": {
      "text/plain": [
       "([\\Omega_{z}*g*{a^\\dagger}/(-\\Omega_{z}**2 + omega**2)],\n",
       " [[\\Omega_{z}, g, 1/(-\\Omega_{z}**2 + omega**2), {a^\\dagger}]])"
      ]
     },
     "execution_count": 12,
     "metadata": {},
     "output_type": "execute_result"
    }
   ],
   "source": [
    "get_terms_and_factors(g*Omega_z/(omega**2 - Omega_z**2)*ad)"
   ]
  },
  {
   "cell_type": "code",
   "execution_count": 13,
   "id": "0a360f60",
   "metadata": {
    "collapsed": true
   },
   "outputs": [
    {
     "data": {
      "text/latex": [
       "$\\displaystyle \\frac{6 \\Omega_{z} g^{2} \\hbar a^{2} \\sigma_{3}}{2 \\Omega_{z}^{2} - 2 \\omega^{2}} + \\frac{6 \\Omega_{z} g^{2} \\hbar {a^\\dagger}^{2} \\sigma_{3}}{2 \\Omega_{z}^{2} - 2 \\omega^{2}}$"
      ],
      "text/plain": [
       "6*\\Omega_{z}*g**2*hbar*a**2*\\sigma_{3}/(2*\\Omega_{z}**2 - 2*omega**2) + 6*\\Omega_{z}*g**2*hbar*{a^\\dagger}**2*\\sigma_{3}/(2*\\Omega_{z}**2 - 2*omega**2)"
      ]
     },
     "execution_count": 13,
     "metadata": {},
     "output_type": "execute_result"
    }
   ],
   "source": [
    "group_by_diagonal(Spin.project(expand_commutator(H + Commutator(H, S) + sp.Rational(1,2) * Commutator(V, S)).doit().subs(sols).simplify().expand().nsimplify()))[False]"
   ]
  },
  {
   "cell_type": "code",
   "execution_count": 14,
   "id": "caebc097",
   "metadata": {},
   "outputs": [
    {
     "data": {
      "text/latex": [
       "$\\displaystyle Q_{1}$"
      ],
      "text/plain": [
       "Q_{1}"
      ]
     },
     "execution_count": 14,
     "metadata": {},
     "output_type": "execute_result"
    }
   ],
   "source": [
    "Spin.project(tx)"
   ]
  },
  {
   "cell_type": "code",
   "execution_count": 15,
   "id": "c9c96099",
   "metadata": {},
   "outputs": [
    {
     "data": {
      "text/latex": [
       "$\\displaystyle Q_{1}$"
      ],
      "text/plain": [
       "Q_{1}"
      ]
     },
     "execution_count": 15,
     "metadata": {},
     "output_type": "execute_result"
    }
   ],
   "source": [
    "tx"
   ]
  },
  {
   "cell_type": "code",
   "execution_count": 16,
   "id": "9ccd1fdc",
   "metadata": {},
   "outputs": [
    {
     "ename": "NameError",
     "evalue": "name 'generate_gell_mann_matrices' is not defined",
     "output_type": "error",
     "traceback": [
      "\u001b[1;31m---------------------------------------------------------------------------\u001b[0m",
      "\u001b[1;31mNameError\u001b[0m                                 Traceback (most recent call last)",
      "Cell \u001b[1;32mIn[16], line 3\u001b[0m\n\u001b[0;32m      1\u001b[0m \u001b[38;5;28;01mimport\u001b[39;00m \u001b[38;5;21;01msympy\u001b[39;00m \u001b[38;5;28;01mas\u001b[39;00m \u001b[38;5;21;01msp\u001b[39;00m\n\u001b[1;32m----> 3\u001b[0m \u001b[43mgenerate_gell_mann_matrices\u001b[49m(\u001b[38;5;241m3\u001b[39m)[\u001b[38;5;241m7\u001b[39m]\n",
      "\u001b[1;31mNameError\u001b[0m: name 'generate_gell_mann_matrices' is not defined"
     ]
    }
   ],
   "source": [
    "import sympy as sp\n",
    "\n",
    "generate_gell_mann_matrices(3)[7]"
   ]
  }
 ],
 "metadata": {
  "kernelspec": {
   "display_name": "Python 3 (ipykernel)",
   "language": "python",
   "name": "python3"
  },
  "language_info": {
   "codemirror_mode": {
    "name": "ipython",
    "version": 3
   },
   "file_extension": ".py",
   "mimetype": "text/x-python",
   "name": "python",
   "nbconvert_exporter": "python",
   "pygments_lexer": "ipython3",
   "version": "3.12.2"
  }
 },
 "nbformat": 4,
 "nbformat_minor": 5
}
