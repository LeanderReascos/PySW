{
 "cells": [
  {
   "cell_type": "markdown",
   "id": "16e5dbb9",
   "metadata": {},
   "source": [
    "# Trying out sympy module"
   ]
  },
  {
   "cell_type": "code",
   "execution_count": 1,
   "id": "ce5eff91",
   "metadata": {},
   "outputs": [],
   "source": [
    "%load_ext autoreload\n",
    "%autoreload 2"
   ]
  },
  {
   "cell_type": "code",
   "execution_count": 2,
   "id": "ddf2a6b7",
   "metadata": {},
   "outputs": [],
   "source": [
    "import sympy as sp\n",
    "import numpy as np\n",
    "from Modules.sympy.classes import *\n",
    "from Modules.sympy.utils import *\n",
    "from sympy.physics.quantum import Dagger\n",
    "from Modules.sympy.solver import *"
   ]
  },
  {
   "cell_type": "code",
   "execution_count": 3,
   "id": "79863889",
   "metadata": {},
   "outputs": [
    {
     "data": {
      "text/latex": [
       "$\\displaystyle \\frac{\\Omega_{z} \\hbar \\sigma_{3}}{2} - g \\hbar \\left(a + {a^\\dagger}\\right) \\sigma_{1} + \\hbar \\omega {a^\\dagger} a$"
      ],
      "text/plain": [
       "\\Omega_{z}*hbar*\\sigma_{3}/2 - g*hbar*(a + {a^\\dagger})*\\sigma_{1} + hbar*omega*{a^\\dagger}*a"
      ]
     },
     "execution_count": 3,
     "metadata": {},
     "output_type": "execute_result"
    }
   ],
   "source": [
    "Spin = RDBasis(\"\\\\sigma\", 'spin', dim=2)\n",
    "sx = Spin.project(sp.Matrix([[0, 1], [1, 0]]))\n",
    "sz = Spin.project(sp.Matrix([[1, 0], [0, -1]]))\n",
    "\n",
    "a = RDBoson(\"a\", subspace =\"b\")\n",
    "ad = RDBoson(\"{a^\\\\dagger}\", subspace =\"b\", is_annihilation=False)\n",
    "\n",
    "hbar = RDsymbol(\"hbar\", order = 0)\n",
    "omega = RDsymbol(\"omega\", order = 0)\n",
    "Omega_z = RDsymbol(\"\\\\Omega_{z}\", order = 0)\n",
    "g = RDsymbol(\"g\", order = 1)\n",
    "\n",
    "H = hbar * omega * ad * a + hbar * Omega_z * sp.Rational(1,2) * sz - hbar * g * (a + ad) * sx\n",
    "H"
   ]
  },
  {
   "cell_type": "code",
   "execution_count": 6,
   "id": "5a6b1e19",
   "metadata": {},
   "outputs": [
    {
     "data": {
      "text/plain": [
       "{1: 1, {a^\\dagger}*a: 1}"
      ]
     },
     "execution_count": 6,
     "metadata": {},
     "output_type": "execute_result"
    }
   ],
   "source": [
    "# dictionary \n",
    "commutation = {\n",
    "    a*ad: ad * a + 1,\n",
    "}\n",
    "group_by_infinite_operators(a*ad, commutation)"
   ]
  },
  {
   "cell_type": "markdown",
   "id": "ab70459f",
   "metadata": {},
   "source": [
    "# Better Solver"
   ]
  },
  {
   "cell_type": "code",
   "execution_count": 8,
   "id": "5f0f645e",
   "metadata": {
    "scrolled": false
   },
   "outputs": [
    {
     "data": {
      "text/plain": [
       "[[0],\n",
       " [1],\n",
       " [0, 1],\n",
       " [0, 1, 1],\n",
       " [1, 1],\n",
       " [2],\n",
       " [0, 2],\n",
       " [0, 1, 1, 1],\n",
       " [0, 1, 2],\n",
       " [0, 2, 1],\n",
       " [1, 1, 1],\n",
       " [1, 2],\n",
       " [2, 1],\n",
       " [3],\n",
       " [0, 3]]"
      ]
     },
     "execution_count": 8,
     "metadata": {},
     "output_type": "execute_result"
    }
   ],
   "source": [
    "def generate_keys(order):\n",
    "    keys = [] # will contain keys\n",
    "    \n",
    "    def deapth_first_search(current_key, current_sum):\n",
    "        if current_sum > order: # if current_sum is bigger than order\n",
    "            return # return nothing\n",
    "        if current_key: # if current key is not empty\n",
    "            keys.append(current_key[:]) # append current key to keys\n",
    "        start = 0 if not current_key else 1 # if current key is empty, start the next number from 0, else from 1\n",
    "        for i in range(start, order + 1): # looping over values between start and order\n",
    "            current_key.append(i) # append current number to the key\n",
    "            deapth_first_search(current_key, current_sum + i) # recurse down the tree\n",
    "            current_key.pop() # backtrack\n",
    "\n",
    "            \n",
    "            \n",
    "    deapth_first_search([], 0) # start search with inital sum to zero\n",
    "    return keys\n",
    "\n",
    "def custom_sort_key(sublist):\n",
    "    \"\"\"\n",
    "    Custom sorting key function:\n",
    "    - First, sorts by the sum of sublist elements in increasing order.\n",
    "    - Second, sorts sublists with equal sums by moving sublists of length 2 containing a 0 in the first element to the bottom.\n",
    "    \"\"\"\n",
    "    sublist_sum = sum(sublist)\n",
    "    sublist_length = len(sublist)\n",
    "\n",
    "    if sublist_length == 2 and sublist[0] == 0:\n",
    "        # Ensure sublists of length 2 with a 0 in the first element go to the bottom\n",
    "        return (sublist_sum, 1)\n",
    "    else:\n",
    "        return (sublist_sum, 0)\n",
    "\n",
    "def rearrange_keys(list_of_sublists):\n",
    "    # Sort sublists based on custom key\n",
    "    sorted_sublists = sorted(list_of_sublists, key=custom_sort_key)\n",
    "\n",
    "    return sorted_sublists\n",
    "\n",
    "\n",
    "keys = generate_keys(3)\n",
    "\n",
    "rearrange_keys(keys)"
   ]
  },
  {
   "cell_type": "code",
   "execution_count": 4,
   "id": "8352e54b",
   "metadata": {},
   "outputs": [
    {
     "data": {
      "text/latex": [
       "$\\displaystyle \\frac{\\Omega_{z} \\hbar \\sigma_{3}}{2} - g \\hbar \\left(a + {a^\\dagger}\\right) \\sigma_{1} + \\hbar \\omega {a^\\dagger} a$"
      ],
      "text/plain": [
       "\\Omega_{z}*hbar*\\sigma_{3}/2 - g*hbar*(a + {a^\\dagger})*\\sigma_{1} + hbar*omega*{a^\\dagger}*a"
      ]
     },
     "execution_count": 4,
     "metadata": {},
     "output_type": "execute_result"
    }
   ],
   "source": [
    "Spin = RDBasis(\"\\\\sigma\", 'spin', dim=2)\n",
    "sx = Spin.project(sp.Matrix([[0, 1], [1, 0]]))\n",
    "sz = Spin.project(sp.Matrix([[1, 0], [0, -1]]))\n",
    "\n",
    "a = RDBoson(\"a\", subspace =\"b\")\n",
    "ad = RDBoson(\"{a^\\\\dagger}\", subspace =\"b\", is_annihilation=False)\n",
    "\n",
    "hbar = RDsymbol(\"hbar\", order = 0)\n",
    "omega = RDsymbol(\"omega\", order = 0)\n",
    "Omega_z = RDsymbol(\"\\\\Omega_{z}\", order = 0)\n",
    "g = RDsymbol(\"g\", order = 1)\n",
    "\n",
    "H = hbar * omega * ad * a + hbar * Omega_z * sp.Rational(1,2) * sz - hbar * g * (a + ad) * sx\n",
    "H"
   ]
  },
  {
   "cell_type": "code",
   "execution_count": 5,
   "id": "2930da1d",
   "metadata": {},
   "outputs": [],
   "source": [
    "commutation_relations = {\n",
    "    a*ad: ad * a + 1,\n",
    "}\n",
    "\n",
    "bosonic_basis = [[1, a, ad]]"
   ]
  },
  {
   "cell_type": "code",
   "execution_count": 6,
   "id": "573643f2",
   "metadata": {},
   "outputs": [],
   "source": [
    "\n",
    "   \n"
   ]
  },
  {
   "cell_type": "code",
   "execution_count": 11,
   "id": "86abe531",
   "metadata": {},
   "outputs": [
    {
     "name": "stdout",
     "output_type": "stream",
     "text": [
      "|\t0                               0                                1\t|\n",
      "|\t1                               1                                1\t|\n",
      "|\t2                              0-1                               2\t|\n",
      "|\t3                             0-1-1                              3\t|\n",
      "|\t4                              1-1                               2\t|\n",
      "|\t5                               2                                1\t|\n",
      "|\t6                              0-2                               2\t|\n",
      "|\t7                            0-1-1-1                             4\t|\n",
      "|\t8                             0-1-2                              3\t|\n",
      "|\t9                             0-2-1                              3\t|\n",
      "|\t10                            1-1-1                              3\t|\n",
      "|\t11                             1-2                               2\t|\n",
      "|\t12                             2-1                               2\t|\n",
      "|\t13                              3                                1\t|\n",
      "Solving S_1\n"
     ]
    },
    {
     "data": {
      "text/latex": [
       "$\\displaystyle \\mathtt{\\text{V\\_k}} = - g \\hbar a \\sigma_{1} - g \\hbar {a^\\dagger} \\sigma_{1}$"
      ],
      "text/plain": [
       "<IPython.core.display.Math object>"
      ]
     },
     "metadata": {},
     "output_type": "display_data"
    },
    {
     "data": {
      "text/latex": [
       "$\\displaystyle \\mathtt{\\text{B\\_k}} = 0$"
      ],
      "text/plain": [
       "<IPython.core.display.Math object>"
      ]
     },
     "metadata": {},
     "output_type": "display_data"
    },
    {
     "data": {
      "text/latex": [
       "$\\displaystyle \\mathtt{\\text{S\\_k}} = S^{0}_{0} \\sigma_{0} + S^{0}_{1} \\sigma_{1} + S^{0}_{2} \\sigma_{2} + S^{0}_{3} \\sigma_{3} + a \\left(S^{1}_{0} \\sigma_{0} + S^{1}_{1} \\sigma_{1} + S^{1}_{2} \\sigma_{2} + S^{1}_{3} \\sigma_{3}\\right) + {a^\\dagger} \\left(S^{2}_{0} \\sigma_{0} + S^{2}_{1} \\sigma_{1} + S^{2}_{2} \\sigma_{2} + S^{2}_{3} \\sigma_{3}\\right)$"
      ],
      "text/plain": [
       "<IPython.core.display.Math object>"
      ]
     },
     "metadata": {},
     "output_type": "display_data"
    },
    {
     "data": {
      "text/latex": [
       "$\\displaystyle \\mathtt{\\text{Symbols}} = \\left[ S^{0}_{0}, \\  S^{0}_{1}, \\  S^{0}_{2}, \\  S^{0}_{3}, \\  S^{1}_{0}, \\  S^{1}_{1}, \\  S^{1}_{2}, \\  S^{1}_{3}, \\  S^{2}_{0}, \\  S^{2}_{1}, \\  S^{2}_{2}, \\  S^{2}_{3}\\right]$"
      ],
      "text/plain": [
       "<IPython.core.display.Math object>"
      ]
     },
     "metadata": {},
     "output_type": "display_data"
    },
    {
     "name": "stdout",
     "output_type": "stream",
     "text": [
      "Sk grouped by infinite operators\n"
     ]
    },
    {
     "data": {
      "text/latex": [
       "$\\displaystyle 1 = S^{0}_{0} \\sigma_{0} + S^{0}_{1} \\sigma_{1} + S^{0}_{2} \\sigma_{2} + S^{0}_{3} \\sigma_{3}$"
      ],
      "text/plain": [
       "<IPython.core.display.Math object>"
      ]
     },
     "metadata": {},
     "output_type": "display_data"
    },
    {
     "data": {
      "text/latex": [
       "$\\displaystyle a = S^{1}_{0} \\sigma_{0} + S^{1}_{1} \\sigma_{1} + S^{1}_{2} \\sigma_{2} + S^{1}_{3} \\sigma_{3}$"
      ],
      "text/plain": [
       "<IPython.core.display.Math object>"
      ]
     },
     "metadata": {},
     "output_type": "display_data"
    },
    {
     "data": {
      "text/latex": [
       "$\\displaystyle {a^\\dagger} = S^{2}_{0} \\sigma_{0} + S^{2}_{1} \\sigma_{1} + S^{2}_{2} \\sigma_{2} + S^{2}_{3} \\sigma_{3}$"
      ],
      "text/plain": [
       "<IPython.core.display.Math object>"
      ]
     },
     "metadata": {},
     "output_type": "display_data"
    },
    {
     "data": {
      "text/latex": [
       "$\\displaystyle \\mathtt{\\text{Equation to solve}} = - \\frac{S^{0}_{0} \\Omega_{z} \\hbar \\sigma_{0} \\sigma_{3}}{2} + \\frac{S^{0}_{0} \\Omega_{z} \\hbar \\sigma_{3} \\sigma_{0}}{2} - \\frac{S^{0}_{1} \\Omega_{z} \\hbar \\sigma_{1} \\sigma_{3}}{2} + \\frac{S^{0}_{1} \\Omega_{z} \\hbar \\sigma_{3} \\sigma_{1}}{2} - \\frac{S^{0}_{2} \\Omega_{z} \\hbar \\sigma_{2} \\sigma_{3}}{2} + \\frac{S^{0}_{2} \\Omega_{z} \\hbar \\sigma_{3} \\sigma_{2}}{2} - \\frac{S^{1}_{0} \\Omega_{z} \\hbar a \\sigma_{0} \\sigma_{3}}{2} + \\frac{S^{1}_{0} \\Omega_{z} \\hbar a \\sigma_{3} \\sigma_{0}}{2} - S^{1}_{0} \\hbar \\omega a \\sigma_{0} - \\frac{S^{1}_{1} \\Omega_{z} \\hbar a \\sigma_{1} \\sigma_{3}}{2} + \\frac{S^{1}_{1} \\Omega_{z} \\hbar a \\sigma_{3} \\sigma_{1}}{2} - S^{1}_{1} \\hbar \\omega a \\sigma_{1} - \\frac{S^{1}_{2} \\Omega_{z} \\hbar a \\sigma_{2} \\sigma_{3}}{2} + \\frac{S^{1}_{2} \\Omega_{z} \\hbar a \\sigma_{3} \\sigma_{2}}{2} - S^{1}_{2} \\hbar \\omega a \\sigma_{2} - S^{1}_{3} \\hbar \\omega a \\sigma_{3} - \\frac{S^{2}_{0} \\Omega_{z} \\hbar {a^\\dagger} \\sigma_{0} \\sigma_{3}}{2} + \\frac{S^{2}_{0} \\Omega_{z} \\hbar {a^\\dagger} \\sigma_{3} \\sigma_{0}}{2} + S^{2}_{0} \\hbar \\omega {a^\\dagger} \\sigma_{0} - \\frac{S^{2}_{1} \\Omega_{z} \\hbar {a^\\dagger} \\sigma_{1} \\sigma_{3}}{2} + \\frac{S^{2}_{1} \\Omega_{z} \\hbar {a^\\dagger} \\sigma_{3} \\sigma_{1}}{2} + S^{2}_{1} \\hbar \\omega {a^\\dagger} \\sigma_{1} - \\frac{S^{2}_{2} \\Omega_{z} \\hbar {a^\\dagger} \\sigma_{2} \\sigma_{3}}{2} + \\frac{S^{2}_{2} \\Omega_{z} \\hbar {a^\\dagger} \\sigma_{3} \\sigma_{2}}{2} + S^{2}_{2} \\hbar \\omega {a^\\dagger} \\sigma_{2} + S^{2}_{3} \\hbar \\omega {a^\\dagger} \\sigma_{3} - g \\hbar a \\sigma_{1} - g \\hbar {a^\\dagger} \\sigma_{1}$"
      ],
      "text/plain": [
       "<IPython.core.display.Math object>"
      ]
     },
     "metadata": {},
     "output_type": "display_data"
    },
    {
     "data": {
      "text/latex": [
       "$\\displaystyle 1 = i S^{0}_{1} \\Omega_{z} \\hbar \\sigma_{2} - i S^{0}_{2} \\Omega_{z} \\hbar \\sigma_{1}$"
      ],
      "text/plain": [
       "<IPython.core.display.Math object>"
      ]
     },
     "metadata": {},
     "output_type": "display_data"
    },
    {
     "data": {
      "text/latex": [
       "$\\displaystyle a = - S^{1}_{0} \\hbar \\omega + i S^{1}_{1} \\Omega_{z} \\hbar \\sigma_{2} - S^{1}_{1} \\hbar \\omega \\sigma_{1} - i S^{1}_{2} \\Omega_{z} \\hbar \\sigma_{1} - S^{1}_{2} \\hbar \\omega \\sigma_{2} - S^{1}_{3} \\hbar \\omega \\sigma_{3} - g \\hbar \\sigma_{1}$"
      ],
      "text/plain": [
       "<IPython.core.display.Math object>"
      ]
     },
     "metadata": {},
     "output_type": "display_data"
    },
    {
     "data": {
      "text/latex": [
       "$\\displaystyle {a^\\dagger} = S^{2}_{0} \\hbar \\omega + i S^{2}_{1} \\Omega_{z} \\hbar \\sigma_{2} + S^{2}_{1} \\hbar \\omega \\sigma_{1} - i S^{2}_{2} \\Omega_{z} \\hbar \\sigma_{1} + S^{2}_{2} \\hbar \\omega \\sigma_{2} + S^{2}_{3} \\hbar \\omega \\sigma_{3} - g \\hbar \\sigma_{1}$"
      ],
      "text/plain": [
       "<IPython.core.display.Math object>"
      ]
     },
     "metadata": {},
     "output_type": "display_data"
    },
    {
     "name": "stdout",
     "output_type": "stream",
     "text": [
      "--------------------------------------------------------------------------------------------------------------------------------------------------------------------------------------------------------\n",
      "--------------------------------------------------------------------------------------------------------------------------------------------------------------------------------------------------------\n",
      "Solving S_2\n"
     ]
    },
    {
     "data": {
      "text/latex": [
       "$\\displaystyle \\mathtt{\\text{V\\_k}} = 0$"
      ],
      "text/plain": [
       "<IPython.core.display.Math object>"
      ]
     },
     "metadata": {},
     "output_type": "display_data"
    },
    {
     "data": {
      "text/latex": [
       "$\\displaystyle \\mathtt{\\text{B\\_k}} = \\frac{\\Omega_{z} g^{2} \\hbar a^{2} \\sigma_{3}}{\\Omega_{z}^{2} - \\omega^{2}} + \\frac{\\Omega_{z} g^{2} \\hbar {a^\\dagger}^{2} \\sigma_{3}}{\\Omega_{z}^{2} - \\omega^{2}}$"
      ],
      "text/plain": [
       "<IPython.core.display.Math object>"
      ]
     },
     "metadata": {},
     "output_type": "display_data"
    },
    {
     "data": {
      "text/latex": [
       "$\\displaystyle \\mathtt{\\text{S\\_k}} = S^{0}_{0} \\sigma_{0} + S^{0}_{1} \\sigma_{1} + S^{0}_{2} \\sigma_{2} + S^{0}_{3} \\sigma_{3} + a \\left(S^{1}_{0} \\sigma_{0} + S^{1}_{1} \\sigma_{1} + S^{1}_{2} \\sigma_{2} + S^{1}_{3} \\sigma_{3}\\right) + a \\left(S^{3}_{0} \\sigma_{0} + S^{3}_{1} \\sigma_{1} + S^{3}_{2} \\sigma_{2} + S^{3}_{3} \\sigma_{3}\\right) + a {a^\\dagger} \\left(S^{5}_{0} \\sigma_{0} + S^{5}_{1} \\sigma_{1} + S^{5}_{2} \\sigma_{2} + S^{5}_{3} \\sigma_{3}\\right) + a^{2} \\left(S^{4}_{0} \\sigma_{0} + S^{4}_{1} \\sigma_{1} + S^{4}_{2} \\sigma_{2} + S^{4}_{3} \\sigma_{3}\\right) + {a^\\dagger} \\left(S^{2}_{0} \\sigma_{0} + S^{2}_{1} \\sigma_{1} + S^{2}_{2} \\sigma_{2} + S^{2}_{3} \\sigma_{3}\\right) + {a^\\dagger} \\left(S^{6}_{0} \\sigma_{0} + S^{6}_{1} \\sigma_{1} + S^{6}_{2} \\sigma_{2} + S^{6}_{3} \\sigma_{3}\\right) + {a^\\dagger} a \\left(S^{7}_{0} \\sigma_{0} + S^{7}_{1} \\sigma_{1} + S^{7}_{2} \\sigma_{2} + S^{7}_{3} \\sigma_{3}\\right) + {a^\\dagger}^{2} \\left(S^{8}_{0} \\sigma_{0} + S^{8}_{1} \\sigma_{1} + S^{8}_{2} \\sigma_{2} + S^{8}_{3} \\sigma_{3}\\right)$"
      ],
      "text/plain": [
       "<IPython.core.display.Math object>"
      ]
     },
     "metadata": {},
     "output_type": "display_data"
    },
    {
     "data": {
      "text/latex": [
       "$\\displaystyle \\mathtt{\\text{Symbols}} = \\left[ S^{0}_{0}, \\  S^{0}_{1}, \\  S^{0}_{2}, \\  S^{0}_{3}, \\  S^{1}_{0}, \\  S^{1}_{1}, \\  S^{1}_{2}, \\  S^{1}_{3}, \\  S^{2}_{0}, \\  S^{2}_{1}, \\  S^{2}_{2}, \\  S^{2}_{3}, \\  S^{3}_{0}, \\  S^{3}_{1}, \\  S^{3}_{2}, \\  S^{3}_{3}, \\  S^{4}_{0}, \\  S^{4}_{1}, \\  S^{4}_{2}, \\  S^{4}_{3}, \\  S^{5}_{0}, \\  S^{5}_{1}, \\  S^{5}_{2}, \\  S^{5}_{3}, \\  S^{6}_{0}, \\  S^{6}_{1}, \\  S^{6}_{2}, \\  S^{6}_{3}, \\  S^{7}_{0}, \\  S^{7}_{1}, \\  S^{7}_{2}, \\  S^{7}_{3}, \\  S^{8}_{0}, \\  S^{8}_{1}, \\  S^{8}_{2}, \\  S^{8}_{3}\\right]$"
      ],
      "text/plain": [
       "<IPython.core.display.Math object>"
      ]
     },
     "metadata": {},
     "output_type": "display_data"
    },
    {
     "name": "stdout",
     "output_type": "stream",
     "text": [
      "Sk grouped by infinite operators\n"
     ]
    },
    {
     "data": {
      "text/latex": [
       "$\\displaystyle 1 = S^{0}_{0} \\sigma_{0} + S^{0}_{1} \\sigma_{1} + S^{0}_{2} \\sigma_{2} + S^{0}_{3} \\sigma_{3} + S^{5}_{0} \\sigma_{0} + S^{5}_{1} \\sigma_{1} + S^{5}_{2} \\sigma_{2} + S^{5}_{3} \\sigma_{3}$"
      ],
      "text/plain": [
       "<IPython.core.display.Math object>"
      ]
     },
     "metadata": {},
     "output_type": "display_data"
    },
    {
     "data": {
      "text/latex": [
       "$\\displaystyle a = S^{1}_{0} \\sigma_{0} + S^{1}_{1} \\sigma_{1} + S^{1}_{2} \\sigma_{2} + S^{1}_{3} \\sigma_{3} + S^{3}_{0} \\sigma_{0} + S^{3}_{1} \\sigma_{1} + S^{3}_{2} \\sigma_{2} + S^{3}_{3} \\sigma_{3}$"
      ],
      "text/plain": [
       "<IPython.core.display.Math object>"
      ]
     },
     "metadata": {},
     "output_type": "display_data"
    },
    {
     "data": {
      "text/latex": [
       "$\\displaystyle {a^\\dagger} = S^{2}_{0} \\sigma_{0} + S^{2}_{1} \\sigma_{1} + S^{2}_{2} \\sigma_{2} + S^{2}_{3} \\sigma_{3} + S^{6}_{0} \\sigma_{0} + S^{6}_{1} \\sigma_{1} + S^{6}_{2} \\sigma_{2} + S^{6}_{3} \\sigma_{3}$"
      ],
      "text/plain": [
       "<IPython.core.display.Math object>"
      ]
     },
     "metadata": {},
     "output_type": "display_data"
    },
    {
     "data": {
      "text/latex": [
       "$\\displaystyle a^{2} = S^{4}_{0} \\sigma_{0} + S^{4}_{1} \\sigma_{1} + S^{4}_{2} \\sigma_{2} + S^{4}_{3} \\sigma_{3}$"
      ],
      "text/plain": [
       "<IPython.core.display.Math object>"
      ]
     },
     "metadata": {},
     "output_type": "display_data"
    },
    {
     "data": {
      "text/latex": [
       "$\\displaystyle {a^\\dagger} a = S^{5}_{0} \\sigma_{0} + S^{5}_{1} \\sigma_{1} + S^{5}_{2} \\sigma_{2} + S^{5}_{3} \\sigma_{3} + S^{7}_{0} \\sigma_{0} + S^{7}_{1} \\sigma_{1} + S^{7}_{2} \\sigma_{2} + S^{7}_{3} \\sigma_{3}$"
      ],
      "text/plain": [
       "<IPython.core.display.Math object>"
      ]
     },
     "metadata": {},
     "output_type": "display_data"
    },
    {
     "data": {
      "text/latex": [
       "$\\displaystyle {a^\\dagger}^{2} = S^{8}_{0} \\sigma_{0} + S^{8}_{1} \\sigma_{1} + S^{8}_{2} \\sigma_{2} + S^{8}_{3} \\sigma_{3}$"
      ],
      "text/plain": [
       "<IPython.core.display.Math object>"
      ]
     },
     "metadata": {},
     "output_type": "display_data"
    },
    {
     "data": {
      "text/latex": [
       "$\\displaystyle \\mathtt{\\text{Equation to solve}} = - \\frac{S^{0}_{0} \\Omega_{z} \\hbar \\sigma_{0} \\sigma_{3}}{2} + \\frac{S^{0}_{0} \\Omega_{z} \\hbar \\sigma_{3} \\sigma_{0}}{2} - \\frac{S^{0}_{1} \\Omega_{z} \\hbar \\sigma_{1} \\sigma_{3}}{2} + \\frac{S^{0}_{1} \\Omega_{z} \\hbar \\sigma_{3} \\sigma_{1}}{2} - \\frac{S^{0}_{2} \\Omega_{z} \\hbar \\sigma_{2} \\sigma_{3}}{2} + \\frac{S^{0}_{2} \\Omega_{z} \\hbar \\sigma_{3} \\sigma_{2}}{2} - \\frac{S^{1}_{0} \\Omega_{z} \\hbar a \\sigma_{0} \\sigma_{3}}{2} + \\frac{S^{1}_{0} \\Omega_{z} \\hbar a \\sigma_{3} \\sigma_{0}}{2} - S^{1}_{0} \\hbar \\omega a \\sigma_{0} - \\frac{S^{1}_{1} \\Omega_{z} \\hbar a \\sigma_{1} \\sigma_{3}}{2} + \\frac{S^{1}_{1} \\Omega_{z} \\hbar a \\sigma_{3} \\sigma_{1}}{2} - S^{1}_{1} \\hbar \\omega a \\sigma_{1} - \\frac{S^{1}_{2} \\Omega_{z} \\hbar a \\sigma_{2} \\sigma_{3}}{2} + \\frac{S^{1}_{2} \\Omega_{z} \\hbar a \\sigma_{3} \\sigma_{2}}{2} - S^{1}_{2} \\hbar \\omega a \\sigma_{2} - S^{1}_{3} \\hbar \\omega a \\sigma_{3} - \\frac{S^{2}_{0} \\Omega_{z} \\hbar {a^\\dagger} \\sigma_{0} \\sigma_{3}}{2} + \\frac{S^{2}_{0} \\Omega_{z} \\hbar {a^\\dagger} \\sigma_{3} \\sigma_{0}}{2} + S^{2}_{0} \\hbar \\omega {a^\\dagger} \\sigma_{0} - \\frac{S^{2}_{1} \\Omega_{z} \\hbar {a^\\dagger} \\sigma_{1} \\sigma_{3}}{2} + \\frac{S^{2}_{1} \\Omega_{z} \\hbar {a^\\dagger} \\sigma_{3} \\sigma_{1}}{2} + S^{2}_{1} \\hbar \\omega {a^\\dagger} \\sigma_{1} - \\frac{S^{2}_{2} \\Omega_{z} \\hbar {a^\\dagger} \\sigma_{2} \\sigma_{3}}{2} + \\frac{S^{2}_{2} \\Omega_{z} \\hbar {a^\\dagger} \\sigma_{3} \\sigma_{2}}{2} + S^{2}_{2} \\hbar \\omega {a^\\dagger} \\sigma_{2} + S^{2}_{3} \\hbar \\omega {a^\\dagger} \\sigma_{3} - \\frac{S^{3}_{0} \\Omega_{z} \\hbar a \\sigma_{0} \\sigma_{3}}{2} + \\frac{S^{3}_{0} \\Omega_{z} \\hbar a \\sigma_{3} \\sigma_{0}}{2} - S^{3}_{0} \\hbar \\omega a \\sigma_{0} - \\frac{S^{3}_{1} \\Omega_{z} \\hbar a \\sigma_{1} \\sigma_{3}}{2} + \\frac{S^{3}_{1} \\Omega_{z} \\hbar a \\sigma_{3} \\sigma_{1}}{2} - S^{3}_{1} \\hbar \\omega a \\sigma_{1} - \\frac{S^{3}_{2} \\Omega_{z} \\hbar a \\sigma_{2} \\sigma_{3}}{2} + \\frac{S^{3}_{2} \\Omega_{z} \\hbar a \\sigma_{3} \\sigma_{2}}{2} - S^{3}_{2} \\hbar \\omega a \\sigma_{2} - S^{3}_{3} \\hbar \\omega a \\sigma_{3} - \\frac{S^{4}_{0} \\Omega_{z} \\hbar a^{2} \\sigma_{0} \\sigma_{3}}{2} + \\frac{S^{4}_{0} \\Omega_{z} \\hbar a^{2} \\sigma_{3} \\sigma_{0}}{2} - 2 S^{4}_{0} \\hbar \\omega a^{2} \\sigma_{0} - \\frac{S^{4}_{1} \\Omega_{z} \\hbar a^{2} \\sigma_{1} \\sigma_{3}}{2} + \\frac{S^{4}_{1} \\Omega_{z} \\hbar a^{2} \\sigma_{3} \\sigma_{1}}{2} - 2 S^{4}_{1} \\hbar \\omega a^{2} \\sigma_{1} - \\frac{S^{4}_{2} \\Omega_{z} \\hbar a^{2} \\sigma_{2} \\sigma_{3}}{2} + \\frac{S^{4}_{2} \\Omega_{z} \\hbar a^{2} \\sigma_{3} \\sigma_{2}}{2} - 2 S^{4}_{2} \\hbar \\omega a^{2} \\sigma_{2} - 2 S^{4}_{3} \\hbar \\omega a^{2} \\sigma_{3} - \\frac{S^{5}_{0} \\Omega_{z} \\hbar {a^\\dagger} a \\sigma_{0} \\sigma_{3}}{2} + \\frac{S^{5}_{0} \\Omega_{z} \\hbar {a^\\dagger} a \\sigma_{3} \\sigma_{0}}{2} - \\frac{S^{5}_{0} \\Omega_{z} \\hbar \\sigma_{0} \\sigma_{3}}{2} + \\frac{S^{5}_{0} \\Omega_{z} \\hbar \\sigma_{3} \\sigma_{0}}{2} + S^{5}_{0} \\hbar \\omega {a^\\dagger} a \\sigma_{0} - S^{5}_{0} \\hbar \\omega {a^\\dagger} \\sigma_{0} a - \\frac{S^{5}_{1} \\Omega_{z} \\hbar {a^\\dagger} a \\sigma_{1} \\sigma_{3}}{2} + \\frac{S^{5}_{1} \\Omega_{z} \\hbar {a^\\dagger} a \\sigma_{3} \\sigma_{1}}{2} - \\frac{S^{5}_{1} \\Omega_{z} \\hbar \\sigma_{1} \\sigma_{3}}{2} + \\frac{S^{5}_{1} \\Omega_{z} \\hbar \\sigma_{3} \\sigma_{1}}{2} + S^{5}_{1} \\hbar \\omega {a^\\dagger} a \\sigma_{1} - S^{5}_{1} \\hbar \\omega {a^\\dagger} \\sigma_{1} a - \\frac{S^{5}_{2} \\Omega_{z} \\hbar {a^\\dagger} a \\sigma_{2} \\sigma_{3}}{2} + \\frac{S^{5}_{2} \\Omega_{z} \\hbar {a^\\dagger} a \\sigma_{3} \\sigma_{2}}{2} - \\frac{S^{5}_{2} \\Omega_{z} \\hbar \\sigma_{2} \\sigma_{3}}{2} + \\frac{S^{5}_{2} \\Omega_{z} \\hbar \\sigma_{3} \\sigma_{2}}{2} + S^{5}_{2} \\hbar \\omega {a^\\dagger} a \\sigma_{2} - S^{5}_{2} \\hbar \\omega {a^\\dagger} \\sigma_{2} a + S^{5}_{3} \\hbar \\omega {a^\\dagger} a \\sigma_{3} - S^{5}_{3} \\hbar \\omega {a^\\dagger} \\sigma_{3} a - \\frac{S^{6}_{0} \\Omega_{z} \\hbar {a^\\dagger} \\sigma_{0} \\sigma_{3}}{2} + \\frac{S^{6}_{0} \\Omega_{z} \\hbar {a^\\dagger} \\sigma_{3} \\sigma_{0}}{2} + S^{6}_{0} \\hbar \\omega {a^\\dagger} \\sigma_{0} - \\frac{S^{6}_{1} \\Omega_{z} \\hbar {a^\\dagger} \\sigma_{1} \\sigma_{3}}{2} + \\frac{S^{6}_{1} \\Omega_{z} \\hbar {a^\\dagger} \\sigma_{3} \\sigma_{1}}{2} + S^{6}_{1} \\hbar \\omega {a^\\dagger} \\sigma_{1} - \\frac{S^{6}_{2} \\Omega_{z} \\hbar {a^\\dagger} \\sigma_{2} \\sigma_{3}}{2} + \\frac{S^{6}_{2} \\Omega_{z} \\hbar {a^\\dagger} \\sigma_{3} \\sigma_{2}}{2} + S^{6}_{2} \\hbar \\omega {a^\\dagger} \\sigma_{2} + S^{6}_{3} \\hbar \\omega {a^\\dagger} \\sigma_{3} - \\frac{S^{7}_{0} \\Omega_{z} \\hbar {a^\\dagger} a \\sigma_{0} \\sigma_{3}}{2} + \\frac{S^{7}_{0} \\Omega_{z} \\hbar {a^\\dagger} a \\sigma_{3} \\sigma_{0}}{2} + S^{7}_{0} \\hbar \\omega {a^\\dagger} a \\sigma_{0} - S^{7}_{0} \\hbar \\omega {a^\\dagger} \\sigma_{0} a - \\frac{S^{7}_{1} \\Omega_{z} \\hbar {a^\\dagger} a \\sigma_{1} \\sigma_{3}}{2} + \\frac{S^{7}_{1} \\Omega_{z} \\hbar {a^\\dagger} a \\sigma_{3} \\sigma_{1}}{2} + S^{7}_{1} \\hbar \\omega {a^\\dagger} a \\sigma_{1} - S^{7}_{1} \\hbar \\omega {a^\\dagger} \\sigma_{1} a - \\frac{S^{7}_{2} \\Omega_{z} \\hbar {a^\\dagger} a \\sigma_{2} \\sigma_{3}}{2} + \\frac{S^{7}_{2} \\Omega_{z} \\hbar {a^\\dagger} a \\sigma_{3} \\sigma_{2}}{2} + S^{7}_{2} \\hbar \\omega {a^\\dagger} a \\sigma_{2} - S^{7}_{2} \\hbar \\omega {a^\\dagger} \\sigma_{2} a + S^{7}_{3} \\hbar \\omega {a^\\dagger} a \\sigma_{3} - S^{7}_{3} \\hbar \\omega {a^\\dagger} \\sigma_{3} a - \\frac{S^{8}_{0} \\Omega_{z} \\hbar {a^\\dagger}^{2} \\sigma_{0} \\sigma_{3}}{2} + \\frac{S^{8}_{0} \\Omega_{z} \\hbar {a^\\dagger}^{2} \\sigma_{3} \\sigma_{0}}{2} + 2 S^{8}_{0} \\hbar \\omega {a^\\dagger}^{2} \\sigma_{0} - \\frac{S^{8}_{1} \\Omega_{z} \\hbar {a^\\dagger}^{2} \\sigma_{1} \\sigma_{3}}{2} + \\frac{S^{8}_{1} \\Omega_{z} \\hbar {a^\\dagger}^{2} \\sigma_{3} \\sigma_{1}}{2} + 2 S^{8}_{1} \\hbar \\omega {a^\\dagger}^{2} \\sigma_{1} - \\frac{S^{8}_{2} \\Omega_{z} \\hbar {a^\\dagger}^{2} \\sigma_{2} \\sigma_{3}}{2} + \\frac{S^{8}_{2} \\Omega_{z} \\hbar {a^\\dagger}^{2} \\sigma_{3} \\sigma_{2}}{2} + 2 S^{8}_{2} \\hbar \\omega {a^\\dagger}^{2} \\sigma_{2} + 2 S^{8}_{3} \\hbar \\omega {a^\\dagger}^{2} \\sigma_{3} + \\frac{\\Omega_{z} g^{2} \\hbar a^{2} \\sigma_{3}}{\\Omega_{z}^{2} - \\omega^{2}} + \\frac{\\Omega_{z} g^{2} \\hbar {a^\\dagger}^{2} \\sigma_{3}}{\\Omega_{z}^{2} - \\omega^{2}}$"
      ],
      "text/plain": [
       "<IPython.core.display.Math object>"
      ]
     },
     "metadata": {},
     "output_type": "display_data"
    },
    {
     "data": {
      "text/latex": [
       "$\\displaystyle 1 = \\frac{i S^{0}_{1} \\Omega_{z}^{3} \\hbar \\sigma_{2}}{\\Omega_{z}^{2} - \\omega^{2}} - \\frac{i S^{0}_{1} \\Omega_{z} \\hbar \\omega^{2} \\sigma_{2}}{\\Omega_{z}^{2} - \\omega^{2}} - \\frac{i S^{0}_{2} \\Omega_{z}^{3} \\hbar \\sigma_{1}}{\\Omega_{z}^{2} - \\omega^{2}} + \\frac{i S^{0}_{2} \\Omega_{z} \\hbar \\omega^{2} \\sigma_{1}}{\\Omega_{z}^{2} - \\omega^{2}} + \\frac{i S^{5}_{1} \\Omega_{z}^{3} \\hbar \\sigma_{2}}{\\Omega_{z}^{2} - \\omega^{2}} - \\frac{i S^{5}_{1} \\Omega_{z} \\hbar \\omega^{2} \\sigma_{2}}{\\Omega_{z}^{2} - \\omega^{2}} - \\frac{i S^{5}_{2} \\Omega_{z}^{3} \\hbar \\sigma_{1}}{\\Omega_{z}^{2} - \\omega^{2}} + \\frac{i S^{5}_{2} \\Omega_{z} \\hbar \\omega^{2} \\sigma_{1}}{\\Omega_{z}^{2} - \\omega^{2}}$"
      ],
      "text/plain": [
       "<IPython.core.display.Math object>"
      ]
     },
     "metadata": {},
     "output_type": "display_data"
    },
    {
     "data": {
      "text/latex": [
       "$\\displaystyle a = - \\frac{S^{1}_{0} \\Omega_{z}^{2} \\hbar \\omega}{\\Omega_{z}^{2} - \\omega^{2}} + \\frac{S^{1}_{0} \\hbar \\omega^{3}}{\\Omega_{z}^{2} - \\omega^{2}} + \\frac{i S^{1}_{1} \\Omega_{z}^{3} \\hbar \\sigma_{2}}{\\Omega_{z}^{2} - \\omega^{2}} - \\frac{S^{1}_{1} \\Omega_{z}^{2} \\hbar \\omega \\sigma_{1}}{\\Omega_{z}^{2} - \\omega^{2}} - \\frac{i S^{1}_{1} \\Omega_{z} \\hbar \\omega^{2} \\sigma_{2}}{\\Omega_{z}^{2} - \\omega^{2}} + \\frac{S^{1}_{1} \\hbar \\omega^{3} \\sigma_{1}}{\\Omega_{z}^{2} - \\omega^{2}} - \\frac{i S^{1}_{2} \\Omega_{z}^{3} \\hbar \\sigma_{1}}{\\Omega_{z}^{2} - \\omega^{2}} - \\frac{S^{1}_{2} \\Omega_{z}^{2} \\hbar \\omega \\sigma_{2}}{\\Omega_{z}^{2} - \\omega^{2}} + \\frac{i S^{1}_{2} \\Omega_{z} \\hbar \\omega^{2} \\sigma_{1}}{\\Omega_{z}^{2} - \\omega^{2}} + \\frac{S^{1}_{2} \\hbar \\omega^{3} \\sigma_{2}}{\\Omega_{z}^{2} - \\omega^{2}} - \\frac{S^{1}_{3} \\Omega_{z}^{2} \\hbar \\omega \\sigma_{3}}{\\Omega_{z}^{2} - \\omega^{2}} + \\frac{S^{1}_{3} \\hbar \\omega^{3} \\sigma_{3}}{\\Omega_{z}^{2} - \\omega^{2}} - \\frac{S^{3}_{0} \\Omega_{z}^{2} \\hbar \\omega}{\\Omega_{z}^{2} - \\omega^{2}} + \\frac{S^{3}_{0} \\hbar \\omega^{3}}{\\Omega_{z}^{2} - \\omega^{2}} + \\frac{i S^{3}_{1} \\Omega_{z}^{3} \\hbar \\sigma_{2}}{\\Omega_{z}^{2} - \\omega^{2}} - \\frac{S^{3}_{1} \\Omega_{z}^{2} \\hbar \\omega \\sigma_{1}}{\\Omega_{z}^{2} - \\omega^{2}} - \\frac{i S^{3}_{1} \\Omega_{z} \\hbar \\omega^{2} \\sigma_{2}}{\\Omega_{z}^{2} - \\omega^{2}} + \\frac{S^{3}_{1} \\hbar \\omega^{3} \\sigma_{1}}{\\Omega_{z}^{2} - \\omega^{2}} - \\frac{i S^{3}_{2} \\Omega_{z}^{3} \\hbar \\sigma_{1}}{\\Omega_{z}^{2} - \\omega^{2}} - \\frac{S^{3}_{2} \\Omega_{z}^{2} \\hbar \\omega \\sigma_{2}}{\\Omega_{z}^{2} - \\omega^{2}} + \\frac{i S^{3}_{2} \\Omega_{z} \\hbar \\omega^{2} \\sigma_{1}}{\\Omega_{z}^{2} - \\omega^{2}} + \\frac{S^{3}_{2} \\hbar \\omega^{3} \\sigma_{2}}{\\Omega_{z}^{2} - \\omega^{2}} - \\frac{S^{3}_{3} \\Omega_{z}^{2} \\hbar \\omega \\sigma_{3}}{\\Omega_{z}^{2} - \\omega^{2}} + \\frac{S^{3}_{3} \\hbar \\omega^{3} \\sigma_{3}}{\\Omega_{z}^{2} - \\omega^{2}}$"
      ],
      "text/plain": [
       "<IPython.core.display.Math object>"
      ]
     },
     "metadata": {},
     "output_type": "display_data"
    },
    {
     "data": {
      "text/latex": [
       "$\\displaystyle {a^\\dagger} = \\frac{S^{2}_{0} \\Omega_{z}^{2} \\hbar \\omega}{\\Omega_{z}^{2} - \\omega^{2}} - \\frac{S^{2}_{0} \\hbar \\omega^{3}}{\\Omega_{z}^{2} - \\omega^{2}} + \\frac{i S^{2}_{1} \\Omega_{z}^{3} \\hbar \\sigma_{2}}{\\Omega_{z}^{2} - \\omega^{2}} + \\frac{S^{2}_{1} \\Omega_{z}^{2} \\hbar \\omega \\sigma_{1}}{\\Omega_{z}^{2} - \\omega^{2}} - \\frac{i S^{2}_{1} \\Omega_{z} \\hbar \\omega^{2} \\sigma_{2}}{\\Omega_{z}^{2} - \\omega^{2}} - \\frac{S^{2}_{1} \\hbar \\omega^{3} \\sigma_{1}}{\\Omega_{z}^{2} - \\omega^{2}} - \\frac{i S^{2}_{2} \\Omega_{z}^{3} \\hbar \\sigma_{1}}{\\Omega_{z}^{2} - \\omega^{2}} + \\frac{S^{2}_{2} \\Omega_{z}^{2} \\hbar \\omega \\sigma_{2}}{\\Omega_{z}^{2} - \\omega^{2}} + \\frac{i S^{2}_{2} \\Omega_{z} \\hbar \\omega^{2} \\sigma_{1}}{\\Omega_{z}^{2} - \\omega^{2}} - \\frac{S^{2}_{2} \\hbar \\omega^{3} \\sigma_{2}}{\\Omega_{z}^{2} - \\omega^{2}} + \\frac{S^{2}_{3} \\Omega_{z}^{2} \\hbar \\omega \\sigma_{3}}{\\Omega_{z}^{2} - \\omega^{2}} - \\frac{S^{2}_{3} \\hbar \\omega^{3} \\sigma_{3}}{\\Omega_{z}^{2} - \\omega^{2}} + \\frac{S^{6}_{0} \\Omega_{z}^{2} \\hbar \\omega}{\\Omega_{z}^{2} - \\omega^{2}} - \\frac{S^{6}_{0} \\hbar \\omega^{3}}{\\Omega_{z}^{2} - \\omega^{2}} + \\frac{i S^{6}_{1} \\Omega_{z}^{3} \\hbar \\sigma_{2}}{\\Omega_{z}^{2} - \\omega^{2}} + \\frac{S^{6}_{1} \\Omega_{z}^{2} \\hbar \\omega \\sigma_{1}}{\\Omega_{z}^{2} - \\omega^{2}} - \\frac{i S^{6}_{1} \\Omega_{z} \\hbar \\omega^{2} \\sigma_{2}}{\\Omega_{z}^{2} - \\omega^{2}} - \\frac{S^{6}_{1} \\hbar \\omega^{3} \\sigma_{1}}{\\Omega_{z}^{2} - \\omega^{2}} - \\frac{i S^{6}_{2} \\Omega_{z}^{3} \\hbar \\sigma_{1}}{\\Omega_{z}^{2} - \\omega^{2}} + \\frac{S^{6}_{2} \\Omega_{z}^{2} \\hbar \\omega \\sigma_{2}}{\\Omega_{z}^{2} - \\omega^{2}} + \\frac{i S^{6}_{2} \\Omega_{z} \\hbar \\omega^{2} \\sigma_{1}}{\\Omega_{z}^{2} - \\omega^{2}} - \\frac{S^{6}_{2} \\hbar \\omega^{3} \\sigma_{2}}{\\Omega_{z}^{2} - \\omega^{2}} + \\frac{S^{6}_{3} \\Omega_{z}^{2} \\hbar \\omega \\sigma_{3}}{\\Omega_{z}^{2} - \\omega^{2}} - \\frac{S^{6}_{3} \\hbar \\omega^{3} \\sigma_{3}}{\\Omega_{z}^{2} - \\omega^{2}}$"
      ],
      "text/plain": [
       "<IPython.core.display.Math object>"
      ]
     },
     "metadata": {},
     "output_type": "display_data"
    },
    {
     "data": {
      "text/latex": [
       "$\\displaystyle a^{2} = - \\frac{2 S^{4}_{0} \\Omega_{z}^{2} \\hbar \\omega}{\\Omega_{z}^{2} - \\omega^{2}} + \\frac{2 S^{4}_{0} \\hbar \\omega^{3}}{\\Omega_{z}^{2} - \\omega^{2}} + \\frac{i S^{4}_{1} \\Omega_{z}^{3} \\hbar \\sigma_{2}}{\\Omega_{z}^{2} - \\omega^{2}} - \\frac{2 S^{4}_{1} \\Omega_{z}^{2} \\hbar \\omega \\sigma_{1}}{\\Omega_{z}^{2} - \\omega^{2}} - \\frac{i S^{4}_{1} \\Omega_{z} \\hbar \\omega^{2} \\sigma_{2}}{\\Omega_{z}^{2} - \\omega^{2}} + \\frac{2 S^{4}_{1} \\hbar \\omega^{3} \\sigma_{1}}{\\Omega_{z}^{2} - \\omega^{2}} - \\frac{i S^{4}_{2} \\Omega_{z}^{3} \\hbar \\sigma_{1}}{\\Omega_{z}^{2} - \\omega^{2}} - \\frac{2 S^{4}_{2} \\Omega_{z}^{2} \\hbar \\omega \\sigma_{2}}{\\Omega_{z}^{2} - \\omega^{2}} + \\frac{i S^{4}_{2} \\Omega_{z} \\hbar \\omega^{2} \\sigma_{1}}{\\Omega_{z}^{2} - \\omega^{2}} + \\frac{2 S^{4}_{2} \\hbar \\omega^{3} \\sigma_{2}}{\\Omega_{z}^{2} - \\omega^{2}} - \\frac{2 S^{4}_{3} \\Omega_{z}^{2} \\hbar \\omega \\sigma_{3}}{\\Omega_{z}^{2} - \\omega^{2}} + \\frac{2 S^{4}_{3} \\hbar \\omega^{3} \\sigma_{3}}{\\Omega_{z}^{2} - \\omega^{2}} + \\frac{\\Omega_{z} g^{2} \\hbar \\sigma_{3}}{\\Omega_{z}^{2} - \\omega^{2}}$"
      ],
      "text/plain": [
       "<IPython.core.display.Math object>"
      ]
     },
     "metadata": {},
     "output_type": "display_data"
    },
    {
     "data": {
      "text/latex": [
       "$\\displaystyle {a^\\dagger} a = \\frac{i S^{5}_{1} \\Omega_{z}^{3} \\hbar \\sigma_{2}}{\\Omega_{z}^{2} - \\omega^{2}} - \\frac{i S^{5}_{1} \\Omega_{z} \\hbar \\omega^{2} \\sigma_{2}}{\\Omega_{z}^{2} - \\omega^{2}} - \\frac{i S^{5}_{2} \\Omega_{z}^{3} \\hbar \\sigma_{1}}{\\Omega_{z}^{2} - \\omega^{2}} + \\frac{i S^{5}_{2} \\Omega_{z} \\hbar \\omega^{2} \\sigma_{1}}{\\Omega_{z}^{2} - \\omega^{2}} + \\frac{i S^{7}_{1} \\Omega_{z}^{3} \\hbar \\sigma_{2}}{\\Omega_{z}^{2} - \\omega^{2}} - \\frac{i S^{7}_{1} \\Omega_{z} \\hbar \\omega^{2} \\sigma_{2}}{\\Omega_{z}^{2} - \\omega^{2}} - \\frac{i S^{7}_{2} \\Omega_{z}^{3} \\hbar \\sigma_{1}}{\\Omega_{z}^{2} - \\omega^{2}} + \\frac{i S^{7}_{2} \\Omega_{z} \\hbar \\omega^{2} \\sigma_{1}}{\\Omega_{z}^{2} - \\omega^{2}}$"
      ],
      "text/plain": [
       "<IPython.core.display.Math object>"
      ]
     },
     "metadata": {},
     "output_type": "display_data"
    },
    {
     "data": {
      "text/latex": [
       "$\\displaystyle {a^\\dagger}^{2} = \\frac{2 S^{8}_{0} \\Omega_{z}^{2} \\hbar \\omega}{\\Omega_{z}^{2} - \\omega^{2}} - \\frac{2 S^{8}_{0} \\hbar \\omega^{3}}{\\Omega_{z}^{2} - \\omega^{2}} + \\frac{i S^{8}_{1} \\Omega_{z}^{3} \\hbar \\sigma_{2}}{\\Omega_{z}^{2} - \\omega^{2}} + \\frac{2 S^{8}_{1} \\Omega_{z}^{2} \\hbar \\omega \\sigma_{1}}{\\Omega_{z}^{2} - \\omega^{2}} - \\frac{i S^{8}_{1} \\Omega_{z} \\hbar \\omega^{2} \\sigma_{2}}{\\Omega_{z}^{2} - \\omega^{2}} - \\frac{2 S^{8}_{1} \\hbar \\omega^{3} \\sigma_{1}}{\\Omega_{z}^{2} - \\omega^{2}} - \\frac{i S^{8}_{2} \\Omega_{z}^{3} \\hbar \\sigma_{1}}{\\Omega_{z}^{2} - \\omega^{2}} + \\frac{2 S^{8}_{2} \\Omega_{z}^{2} \\hbar \\omega \\sigma_{2}}{\\Omega_{z}^{2} - \\omega^{2}} + \\frac{i S^{8}_{2} \\Omega_{z} \\hbar \\omega^{2} \\sigma_{1}}{\\Omega_{z}^{2} - \\omega^{2}} - \\frac{2 S^{8}_{2} \\hbar \\omega^{3} \\sigma_{2}}{\\Omega_{z}^{2} - \\omega^{2}} + \\frac{2 S^{8}_{3} \\Omega_{z}^{2} \\hbar \\omega \\sigma_{3}}{\\Omega_{z}^{2} - \\omega^{2}} - \\frac{2 S^{8}_{3} \\hbar \\omega^{3} \\sigma_{3}}{\\Omega_{z}^{2} - \\omega^{2}} + \\frac{\\Omega_{z} g^{2} \\hbar \\sigma_{3}}{\\Omega_{z}^{2} - \\omega^{2}}$"
      ],
      "text/plain": [
       "<IPython.core.display.Math object>"
      ]
     },
     "metadata": {},
     "output_type": "display_data"
    },
    {
     "name": "stdout",
     "output_type": "stream",
     "text": [
      "--------------------------------------------------------------------------------------------------------------------------------------------------------------------------------------------------------\n",
      "--------------------------------------------------------------------------------------------------------------------------------------------------------------------------------------------------------\n",
      "--------------------------------------------------------------------------------------------------------------------------------------------------------------------------------------------------------\n",
      "--------------------------------------------------------------------------------------------------------------------------------------------------------------------------------------------------------\n",
      "--------------------------------------------------------------------------------------------------------------------------------------------------------------------------------------------------------\n",
      "--------------------------------------------------------------------------------------------------------------------------------------------------------------------------------------------------------\n"
     ]
    }
   ],
   "source": [
    "sol = solver(H, bosonic_basis, Spin, order=3, full_diagonal=True, commutation_relations=commutation_relations)"
   ]
  },
  {
   "cell_type": "code",
   "execution_count": 12,
   "id": "ffc882c8",
   "metadata": {},
   "outputs": [
    {
     "data": {
      "text/latex": [
       "$\\displaystyle \\frac{2 \\Omega_{z} g^{2} \\hbar {a^\\dagger} a \\sigma_{3}}{\\Omega_{z}^{2} - \\omega^{2}} + \\frac{\\Omega_{z} g^{2} \\hbar \\sigma_{3}}{\\Omega_{z}^{2} - \\omega^{2}} + \\frac{\\Omega_{z} \\hbar \\sigma_{3}}{2} + \\frac{g^{2} \\hbar \\omega}{\\Omega_{z}^{2} - \\omega^{2}} + \\hbar \\omega {a^\\dagger} a$"
      ],
      "text/plain": [
       "2*\\Omega_{z}*g**2*hbar*{a^\\dagger}*a*\\sigma_{3}/(\\Omega_{z}**2 - omega**2) + \\Omega_{z}*g**2*hbar*\\sigma_{3}/(\\Omega_{z}**2 - omega**2) + \\Omega_{z}*hbar*\\sigma_{3}/2 + g**2*hbar*omega/(\\Omega_{z}**2 - omega**2) + hbar*omega*{a^\\dagger}*a"
      ]
     },
     "execution_count": 12,
     "metadata": {},
     "output_type": "execute_result"
    }
   ],
   "source": [
    "comm_relations = {\n",
    "    a*ad : ad * a + 1,\n",
    "}\n",
    "\n",
    "sol[0].expand()#.subs(comm_relations).expand()"
   ]
  },
  {
   "cell_type": "code",
   "execution_count": 13,
   "id": "9ac18e2e",
   "metadata": {},
   "outputs": [
    {
     "data": {
      "text/latex": [
       "$\\displaystyle \\frac{\\Omega_{z} g^{2} a^{2} \\sigma_{3}}{2 \\Omega_{z}^{2} \\omega - 2 \\omega^{3}} - \\frac{\\Omega_{z} g^{2} {a^\\dagger}^{2} \\sigma_{3}}{2 \\Omega_{z}^{2} \\omega - 2 \\omega^{3}}$"
      ],
      "text/plain": [
       "\\Omega_{z}*g**2*a**2*\\sigma_{3}/(2*\\Omega_{z}**2*omega - 2*omega**3) - \\Omega_{z}*g**2*{a^\\dagger}**2*\\sigma_{3}/(2*\\Omega_{z}**2*omega - 2*omega**3)"
      ]
     },
     "execution_count": 13,
     "metadata": {},
     "output_type": "execute_result"
    }
   ],
   "source": [
    "sol[1]['2'].expand()"
   ]
  },
  {
   "cell_type": "code",
   "execution_count": 16,
   "id": "5f880810",
   "metadata": {},
   "outputs": [
    {
     "data": {
      "text/latex": [
       "$\\displaystyle \\frac{i \\Omega_{z} g \\sigma_{2} a}{\\Omega_{z}^{2} - \\omega^{2}} + \\frac{i \\Omega_{z} g \\sigma_{2} {a^\\dagger}}{\\Omega_{z}^{2} - \\omega^{2}} + \\frac{g \\omega \\sigma_{1} a}{\\Omega_{z}^{2} - \\omega^{2}} - \\frac{g \\omega \\sigma_{1} {a^\\dagger}}{\\Omega_{z}^{2} - \\omega^{2}}$"
      ],
      "text/plain": [
       "I*\\Omega_{z}*g*\\sigma_{2}*a/(\\Omega_{z}**2 - omega**2) + I*\\Omega_{z}*g*\\sigma_{2}*{a^\\dagger}/(\\Omega_{z}**2 - omega**2) + g*omega*\\sigma_{1}*a/(\\Omega_{z}**2 - omega**2) - g*omega*\\sigma_{1}*{a^\\dagger}/(\\Omega_{z}**2 - omega**2)"
      ]
     },
     "execution_count": 16,
     "metadata": {},
     "output_type": "execute_result"
    }
   ],
   "source": [
    "s0, sx, sy, sz = Spin._basis\n",
    "sigma_p = sp.Rational(1,2) * (sx + sp.I * sy)\n",
    "sigma_m = sp.Rational(1,2) * (sx - sp.I * sy)\n",
    "S1 = (g / (omega + Omega_z) * sigma_p + g/(omega - Omega_z) * sigma_m) * ad - (g / (omega - Omega_z) * sigma_p + g/(omega + Omega_z) * sigma_m) * a\n",
    "S1.simplify().expand()"
   ]
  },
  {
   "cell_type": "code",
   "execution_count": 17,
   "id": "250383d8",
   "metadata": {},
   "outputs": [
    {
     "data": {
      "text/latex": [
       "$\\displaystyle \\frac{\\Omega_{z} g^{2} a^{2} \\sigma_{3}}{2 \\Omega_{z}^{2} \\omega - 2 \\omega^{3}} - \\frac{\\Omega_{z} g^{2} {a^\\dagger}^{2} \\sigma_{3}}{2 \\Omega_{z}^{2} \\omega - 2 \\omega^{3}}$"
      ],
      "text/plain": [
       "\\Omega_{z}*g**2*a**2*\\sigma_{3}/(2*\\Omega_{z}**2*omega - 2*omega**3) - \\Omega_{z}*g**2*{a^\\dagger}**2*\\sigma_{3}/(2*\\Omega_{z}**2*omega - 2*omega**3)"
      ]
     },
     "execution_count": 17,
     "metadata": {},
     "output_type": "execute_result"
    }
   ],
   "source": [
    "S2 = Omega_z * g**2 / (2 * omega * (omega**2 - Omega_z**2)) * (ad * ad - a * a) * sz\n",
    "\n",
    "S2.simplify().expand()"
   ]
  },
  {
   "cell_type": "markdown",
   "id": "580b00ad",
   "metadata": {},
   "source": [
    "# Comparison with PymaBlock"
   ]
  },
  {
   "cell_type": "code",
   "execution_count": 14,
   "id": "13058ec9",
   "metadata": {},
   "outputs": [
    {
     "data": {
      "text/latex": [
       "$\\displaystyle - \\frac{\\omega_{q} \\sigma_{3}}{2} + \\omega_{r} {a^\\dagger} a + \\frac{g a \\left(\\sigma_{1} - i \\sigma_{2}\\right)}{2} + \\frac{g {a^\\dagger} \\left(\\sigma_{1} + i \\sigma_{2}\\right)}{2}$"
      ],
      "text/plain": [
       "-\\omega_{q}*\\sigma_{3}/2 + \\omega_{r}*{a^\\dagger}*a + g*a*(\\sigma_{1} - I*\\sigma_{2})/2 + g*{a^\\dagger}*(\\sigma_{1} + I*\\sigma_{2})/2"
      ]
     },
     "execution_count": 14,
     "metadata": {},
     "output_type": "execute_result"
    }
   ],
   "source": [
    "wr = RDsymbol(\"\\\\omega_{r}\", order = 0)\n",
    "wq = RDsymbol(\"\\\\omega_{q}\", order = 0)\n",
    "g = RDsymbol(\"g\", order = 1)\n",
    "\n",
    "Spin = RDBasis(\"\\\\sigma\", 'spin', dim=2)\n",
    "s0, sx, sy, sz = Spin._basis\n",
    "\n",
    "sigma_p = sp.Rational(1,2)* (sx + sp.I * sy)\n",
    "sigma_m = sp.Rational(1,2)* (sx - sp.I * sy)\n",
    "\n",
    "a = RDBoson(\"a\", subspace =\"resonator\")\n",
    "ad = RDBoson(\"{a^\\\\dagger}\", subspace =\"resonator\", is_annihilation=False)\n",
    "\n",
    "H0 = wr * ad * a - wq * sp.Rational(1,2) * sz\n",
    "H = H0 + g * a* sigma_m + g * ad * sigma_p\n",
    "H"
   ]
  },
  {
   "cell_type": "code",
   "execution_count": 15,
   "id": "145b1ba0",
   "metadata": {},
   "outputs": [],
   "source": [
    "commutation_relations = {\n",
    "    a*ad: ad * a + 1,\n",
    "}\n",
    "\n",
    "bosonic_basis = [[1, a, ad]]"
   ]
  },
  {
   "cell_type": "code",
   "execution_count": 16,
   "id": "ab08f3db",
   "metadata": {},
   "outputs": [
    {
     "name": "stdout",
     "output_type": "stream",
     "text": [
      "|\t0                               0                                1\t|\n",
      "|\t1                               1                                1\t|\n",
      "|\t2                              0-1                               2\t|\n",
      "|\t3                             0-1-1                              3\t|\n",
      "|\t4                              1-1                               2\t|\n",
      "|\t5                               2                                1\t|\n",
      "|\t6                              0-2                               2\t|\n",
      "|\t7                            0-1-1-1                             4\t|\n",
      "|\t8                             0-1-2                              3\t|\n",
      "|\t9                             0-2-1                              3\t|\n",
      "|\t10                            1-1-1                              3\t|\n",
      "|\t11                             1-2                               2\t|\n",
      "|\t12                             2-1                               2\t|\n",
      "|\t13                              3                                1\t|\n",
      "|\t14                             0-3                               2\t|\n",
      "|\t15                          0-1-1-1-1                            5\t|\n",
      "|\t16                           0-1-1-2                             4\t|\n",
      "|\t17                           0-1-2-1                             4\t|\n",
      "|\t18                            0-1-3                              3\t|\n",
      "|\t19                           0-2-1-1                             4\t|\n",
      "|\t20                            0-2-2                              3\t|\n",
      "|\t21                            0-3-1                              3\t|\n",
      "|\t22                           1-1-1-1                             4\t|\n",
      "|\t23                            1-1-2                              3\t|\n",
      "|\t24                            1-2-1                              3\t|\n",
      "|\t25                             1-3                               2\t|\n",
      "|\t26                            2-1-1                              3\t|\n",
      "|\t27                             2-2                               2\t|\n",
      "|\t28                             3-1                               2\t|\n",
      "|\t29                              4                                1\t|\n",
      "|\t30                             0-4                               2\t|\n",
      "|\t31                         0-1-1-1-1-1                           6\t|\n",
      "|\t32                          0-1-1-1-2                            5\t|\n",
      "|\t33                          0-1-1-2-1                            5\t|\n",
      "|\t34                           0-1-1-3                             4\t|\n",
      "|\t35                          0-1-2-1-1                            5\t|\n",
      "|\t36                           0-1-2-2                             4\t|\n",
      "|\t37                           0-1-3-1                             4\t|\n",
      "|\t38                            0-1-4                              3\t|\n",
      "|\t39                          0-2-1-1-1                            5\t|\n",
      "|\t40                           0-2-1-2                             4\t|\n",
      "|\t41                           0-2-2-1                             4\t|\n",
      "|\t42                            0-2-3                              3\t|\n",
      "|\t43                           0-3-1-1                             4\t|\n",
      "|\t44                            0-3-2                              3\t|\n",
      "|\t45                            0-4-1                              3\t|\n",
      "|\t46                          1-1-1-1-1                            5\t|\n",
      "|\t47                           1-1-1-2                             4\t|\n",
      "|\t48                           1-1-2-1                             4\t|\n",
      "|\t49                            1-1-3                              3\t|\n",
      "|\t50                           1-2-1-1                             4\t|\n",
      "|\t51                            1-2-2                              3\t|\n",
      "|\t52                            1-3-1                              3\t|\n",
      "|\t53                             1-4                               2\t|\n",
      "|\t54                           2-1-1-1                             4\t|\n",
      "|\t55                            2-1-2                              3\t|\n",
      "|\t56                            2-2-1                              3\t|\n",
      "|\t57                             2-3                               2\t|\n",
      "|\t58                            3-1-1                              3\t|\n",
      "|\t59                             3-2                               2\t|\n",
      "|\t60                             4-1                               2\t|\n",
      "|\t61                              5                                1\t|\n",
      "|\t62                             0-5                               2\t|\n",
      "|\t63                        0-1-1-1-1-1-1                          7\t|\n",
      "|\t64                         0-1-1-1-1-2                           6\t|\n",
      "|\t65                         0-1-1-1-2-1                           6\t|\n",
      "|\t66                          0-1-1-1-3                            5\t|\n",
      "|\t67                         0-1-1-2-1-1                           6\t|\n",
      "|\t68                          0-1-1-2-2                            5\t|\n",
      "|\t69                          0-1-1-3-1                            5\t|\n",
      "|\t70                           0-1-1-4                             4\t|\n",
      "|\t71                         0-1-2-1-1-1                           6\t|\n",
      "|\t72                          0-1-2-1-2                            5\t|\n",
      "|\t73                          0-1-2-2-1                            5\t|\n",
      "|\t74                           0-1-2-3                             4\t|\n",
      "|\t75                          0-1-3-1-1                            5\t|\n",
      "|\t76                           0-1-3-2                             4\t|\n",
      "|\t77                           0-1-4-1                             4\t|\n",
      "|\t78                            0-1-5                              3\t|\n",
      "|\t79                         0-2-1-1-1-1                           6\t|\n",
      "|\t80                          0-2-1-1-2                            5\t|\n",
      "|\t81                          0-2-1-2-1                            5\t|\n",
      "|\t82                           0-2-1-3                             4\t|\n",
      "|\t83                          0-2-2-1-1                            5\t|\n",
      "|\t84                           0-2-2-2                             4\t|\n",
      "|\t85                           0-2-3-1                             4\t|\n",
      "|\t86                            0-2-4                              3\t|\n",
      "|\t87                          0-3-1-1-1                            5\t|\n",
      "|\t88                           0-3-1-2                             4\t|\n",
      "|\t89                           0-3-2-1                             4\t|\n",
      "|\t90                            0-3-3                              3\t|\n",
      "|\t91                           0-4-1-1                             4\t|\n",
      "|\t92                            0-4-2                              3\t|\n",
      "|\t93                            0-5-1                              3\t|\n",
      "|\t94                         1-1-1-1-1-1                           6\t|\n",
      "|\t95                          1-1-1-1-2                            5\t|\n",
      "|\t96                          1-1-1-2-1                            5\t|\n",
      "|\t97                           1-1-1-3                             4\t|\n",
      "|\t98                          1-1-2-1-1                            5\t|\n",
      "|\t99                           1-1-2-2                             4\t|\n",
      "|\t100                          1-1-3-1                             4\t|\n",
      "|\t101                           1-1-4                              3\t|\n",
      "|\t102                         1-2-1-1-1                            5\t|\n",
      "|\t103                          1-2-1-2                             4\t|\n",
      "|\t104                          1-2-2-1                             4\t|\n",
      "|\t105                           1-2-3                              3\t|\n",
      "|\t106                          1-3-1-1                             4\t|\n",
      "|\t107                           1-3-2                              3\t|\n",
      "|\t108                           1-4-1                              3\t|\n",
      "|\t109                            1-5                               2\t|\n",
      "|\t110                         2-1-1-1-1                            5\t|\n",
      "|\t111                          2-1-1-2                             4\t|\n",
      "|\t112                          2-1-2-1                             4\t|\n",
      "|\t113                           2-1-3                              3\t|\n",
      "|\t114                          2-2-1-1                             4\t|\n",
      "|\t115                           2-2-2                              3\t|\n",
      "|\t116                           2-3-1                              3\t|\n",
      "|\t117                            2-4                               2\t|\n",
      "|\t118                          3-1-1-1                             4\t|\n",
      "|\t119                           3-1-2                              3\t|\n",
      "|\t120                           3-2-1                              3\t|\n",
      "|\t121                            3-3                               2\t|\n",
      "|\t122                           4-1-1                              3\t|\n",
      "|\t123                            4-2                               2\t|\n",
      "|\t124                            5-1                               2\t|\n",
      "|\t125                             6                                1\t|\n",
      "Solving S_1\n"
     ]
    },
    {
     "data": {
      "text/latex": [
       "$\\displaystyle \\mathtt{\\text{V\\_k}} = \\frac{g a \\sigma_{1}}{2} - \\frac{i g a \\sigma_{2}}{2} + \\frac{g {a^\\dagger} \\sigma_{1}}{2} + \\frac{i g {a^\\dagger} \\sigma_{2}}{2}$"
      ],
      "text/plain": [
       "<IPython.core.display.Math object>"
      ]
     },
     "metadata": {},
     "output_type": "display_data"
    },
    {
     "data": {
      "text/latex": [
       "$\\displaystyle \\mathtt{\\text{B\\_k}} = 0$"
      ],
      "text/plain": [
       "<IPython.core.display.Math object>"
      ]
     },
     "metadata": {},
     "output_type": "display_data"
    },
    {
     "data": {
      "text/latex": [
       "$\\displaystyle \\mathtt{\\text{S\\_k}} = S^{0}_{0} \\sigma_{0} + S^{0}_{1} \\sigma_{1} + S^{0}_{2} \\sigma_{2} + S^{0}_{3} \\sigma_{3} + a \\left(S^{1}_{0} \\sigma_{0} + S^{1}_{1} \\sigma_{1} + S^{1}_{2} \\sigma_{2} + S^{1}_{3} \\sigma_{3}\\right) + {a^\\dagger} \\left(S^{2}_{0} \\sigma_{0} + S^{2}_{1} \\sigma_{1} + S^{2}_{2} \\sigma_{2} + S^{2}_{3} \\sigma_{3}\\right)$"
      ],
      "text/plain": [
       "<IPython.core.display.Math object>"
      ]
     },
     "metadata": {},
     "output_type": "display_data"
    },
    {
     "data": {
      "text/latex": [
       "$\\displaystyle \\mathtt{\\text{Symbols}} = \\left[ S^{0}_{0}, \\  S^{0}_{1}, \\  S^{0}_{2}, \\  S^{0}_{3}, \\  S^{1}_{0}, \\  S^{1}_{1}, \\  S^{1}_{2}, \\  S^{1}_{3}, \\  S^{2}_{0}, \\  S^{2}_{1}, \\  S^{2}_{2}, \\  S^{2}_{3}\\right]$"
      ],
      "text/plain": [
       "<IPython.core.display.Math object>"
      ]
     },
     "metadata": {},
     "output_type": "display_data"
    },
    {
     "name": "stdout",
     "output_type": "stream",
     "text": [
      "Sk grouped by infinite operators\n"
     ]
    },
    {
     "data": {
      "text/latex": [
       "$\\displaystyle 1 = S^{0}_{0} \\sigma_{0} + S^{0}_{1} \\sigma_{1} + S^{0}_{2} \\sigma_{2} + S^{0}_{3} \\sigma_{3}$"
      ],
      "text/plain": [
       "<IPython.core.display.Math object>"
      ]
     },
     "metadata": {},
     "output_type": "display_data"
    },
    {
     "data": {
      "text/latex": [
       "$\\displaystyle a = S^{1}_{0} \\sigma_{0} + S^{1}_{1} \\sigma_{1} + S^{1}_{2} \\sigma_{2} + S^{1}_{3} \\sigma_{3}$"
      ],
      "text/plain": [
       "<IPython.core.display.Math object>"
      ]
     },
     "metadata": {},
     "output_type": "display_data"
    },
    {
     "data": {
      "text/latex": [
       "$\\displaystyle {a^\\dagger} = S^{2}_{0} \\sigma_{0} + S^{2}_{1} \\sigma_{1} + S^{2}_{2} \\sigma_{2} + S^{2}_{3} \\sigma_{3}$"
      ],
      "text/plain": [
       "<IPython.core.display.Math object>"
      ]
     },
     "metadata": {},
     "output_type": "display_data"
    },
    {
     "data": {
      "text/latex": [
       "$\\displaystyle \\mathtt{\\text{Equation to solve}} = \\frac{S^{0}_{0} \\omega_{q} \\sigma_{0} \\sigma_{3}}{2} - \\frac{S^{0}_{0} \\omega_{q} \\sigma_{3} \\sigma_{0}}{2} + \\frac{S^{0}_{1} \\omega_{q} \\sigma_{1} \\sigma_{3}}{2} - \\frac{S^{0}_{1} \\omega_{q} \\sigma_{3} \\sigma_{1}}{2} + \\frac{S^{0}_{2} \\omega_{q} \\sigma_{2} \\sigma_{3}}{2} - \\frac{S^{0}_{2} \\omega_{q} \\sigma_{3} \\sigma_{2}}{2} + \\frac{S^{1}_{0} \\omega_{q} a \\sigma_{0} \\sigma_{3}}{2} - \\frac{S^{1}_{0} \\omega_{q} a \\sigma_{3} \\sigma_{0}}{2} - S^{1}_{0} \\omega_{r} a \\sigma_{0} + \\frac{S^{1}_{1} \\omega_{q} a \\sigma_{1} \\sigma_{3}}{2} - \\frac{S^{1}_{1} \\omega_{q} a \\sigma_{3} \\sigma_{1}}{2} - S^{1}_{1} \\omega_{r} a \\sigma_{1} + \\frac{S^{1}_{2} \\omega_{q} a \\sigma_{2} \\sigma_{3}}{2} - \\frac{S^{1}_{2} \\omega_{q} a \\sigma_{3} \\sigma_{2}}{2} - S^{1}_{2} \\omega_{r} a \\sigma_{2} - S^{1}_{3} \\omega_{r} a \\sigma_{3} + \\frac{S^{2}_{0} \\omega_{q} {a^\\dagger} \\sigma_{0} \\sigma_{3}}{2} - \\frac{S^{2}_{0} \\omega_{q} {a^\\dagger} \\sigma_{3} \\sigma_{0}}{2} + S^{2}_{0} \\omega_{r} {a^\\dagger} \\sigma_{0} + \\frac{S^{2}_{1} \\omega_{q} {a^\\dagger} \\sigma_{1} \\sigma_{3}}{2} - \\frac{S^{2}_{1} \\omega_{q} {a^\\dagger} \\sigma_{3} \\sigma_{1}}{2} + S^{2}_{1} \\omega_{r} {a^\\dagger} \\sigma_{1} + \\frac{S^{2}_{2} \\omega_{q} {a^\\dagger} \\sigma_{2} \\sigma_{3}}{2} - \\frac{S^{2}_{2} \\omega_{q} {a^\\dagger} \\sigma_{3} \\sigma_{2}}{2} + S^{2}_{2} \\omega_{r} {a^\\dagger} \\sigma_{2} + S^{2}_{3} \\omega_{r} {a^\\dagger} \\sigma_{3} + \\frac{g a \\sigma_{1}}{2} - \\frac{i g a \\sigma_{2}}{2} + \\frac{g {a^\\dagger} \\sigma_{1}}{2} + \\frac{i g {a^\\dagger} \\sigma_{2}}{2}$"
      ],
      "text/plain": [
       "<IPython.core.display.Math object>"
      ]
     },
     "metadata": {},
     "output_type": "display_data"
    },
    {
     "data": {
      "text/latex": [
       "$\\displaystyle 1 = - i S^{0}_{1} \\omega_{q} \\sigma_{2} + i S^{0}_{2} \\omega_{q} \\sigma_{1}$"
      ],
      "text/plain": [
       "<IPython.core.display.Math object>"
      ]
     },
     "metadata": {},
     "output_type": "display_data"
    },
    {
     "data": {
      "text/latex": [
       "$\\displaystyle a = - S^{1}_{0} \\omega_{r} - i S^{1}_{1} \\omega_{q} \\sigma_{2} - S^{1}_{1} \\omega_{r} \\sigma_{1} + i S^{1}_{2} \\omega_{q} \\sigma_{1} - S^{1}_{2} \\omega_{r} \\sigma_{2} - S^{1}_{3} \\omega_{r} \\sigma_{3} + \\frac{g \\sigma_{1}}{2} - \\frac{i g \\sigma_{2}}{2}$"
      ],
      "text/plain": [
       "<IPython.core.display.Math object>"
      ]
     },
     "metadata": {},
     "output_type": "display_data"
    },
    {
     "data": {
      "text/latex": [
       "$\\displaystyle {a^\\dagger} = S^{2}_{0} \\omega_{r} - i S^{2}_{1} \\omega_{q} \\sigma_{2} + S^{2}_{1} \\omega_{r} \\sigma_{1} + i S^{2}_{2} \\omega_{q} \\sigma_{1} + S^{2}_{2} \\omega_{r} \\sigma_{2} + S^{2}_{3} \\omega_{r} \\sigma_{3} + \\frac{g \\sigma_{1}}{2} + \\frac{i g \\sigma_{2}}{2}$"
      ],
      "text/plain": [
       "<IPython.core.display.Math object>"
      ]
     },
     "metadata": {},
     "output_type": "display_data"
    },
    {
     "name": "stdout",
     "output_type": "stream",
     "text": [
      "--------------------------------------------------------------------------------------------------------------------------------------------------------------------------------------------------------\n",
      "--------------------------------------------------------------------------------------------------------------------------------------------------------------------------------------------------------\n",
      "Solving S_2\n"
     ]
    },
    {
     "data": {
      "text/latex": [
       "$\\displaystyle \\mathtt{\\text{V\\_k}} = 0$"
      ],
      "text/plain": [
       "<IPython.core.display.Math object>"
      ]
     },
     "metadata": {},
     "output_type": "display_data"
    },
    {
     "data": {
      "text/latex": [
       "$\\displaystyle \\mathtt{\\text{B\\_k}} = 0$"
      ],
      "text/plain": [
       "<IPython.core.display.Math object>"
      ]
     },
     "metadata": {},
     "output_type": "display_data"
    },
    {
     "name": "stdout",
     "output_type": "stream",
     "text": [
      "--------------------------------------------------------------------------------------------------------------------------------------------------------------------------------------------------------\n",
      "--------------------------------------------------------------------------------------------------------------------------------------------------------------------------------------------------------\n",
      "--------------------------------------------------------------------------------------------------------------------------------------------------------------------------------------------------------\n",
      "--------------------------------------------------------------------------------------------------------------------------------------------------------------------------------------------------------\n",
      "--------------------------------------------------------------------------------------------------------------------------------------------------------------------------------------------------------\n",
      "--------------------------------------------------------------------------------------------------------------------------------------------------------------------------------------------------------\n",
      "--------------------------------------------------------------------------------------------------------------------------------------------------------------------------------------------------------\n",
      "Solving S_3\n"
     ]
    },
    {
     "data": {
      "text/latex": [
       "$\\displaystyle \\mathtt{\\text{V\\_k}} = 0$"
      ],
      "text/plain": [
       "<IPython.core.display.Math object>"
      ]
     },
     "metadata": {},
     "output_type": "display_data"
    },
    {
     "data": {
      "text/latex": [
       "$\\displaystyle \\mathtt{\\text{B\\_k}} = 0$"
      ],
      "text/plain": [
       "<IPython.core.display.Math object>"
      ]
     },
     "metadata": {},
     "output_type": "display_data"
    },
    {
     "name": "stdout",
     "output_type": "stream",
     "text": [
      "--------------------------------------------------------------------------------------------------------------------------------------------------------------------------------------------------------\n",
      "--------------------------------------------------------------------------------------------------------------------------------------------------------------------------------------------------------\n",
      "--------------------------------------------------------------------------------------------------------------------------------------------------------------------------------------------------------\n",
      "--------------------------------------------------------------------------------------------------------------------------------------------------------------------------------------------------------\n",
      "--------------------------------------------------------------------------------------------------------------------------------------------------------------------------------------------------------\n",
      "--------------------------------------------------------------------------------------------------------------------------------------------------------------------------------------------------------\n",
      "--------------------------------------------------------------------------------------------------------------------------------------------------------------------------------------------------------\n",
      "--------------------------------------------------------------------------------------------------------------------------------------------------------------------------------------------------------\n",
      "--------------------------------------------------------------------------------------------------------------------------------------------------------------------------------------------------------\n",
      "--------------------------------------------------------------------------------------------------------------------------------------------------------------------------------------------------------\n",
      "--------------------------------------------------------------------------------------------------------------------------------------------------------------------------------------------------------\n",
      "--------------------------------------------------------------------------------------------------------------------------------------------------------------------------------------------------------\n",
      "--------------------------------------------------------------------------------------------------------------------------------------------------------------------------------------------------------\n",
      "--------------------------------------------------------------------------------------------------------------------------------------------------------------------------------------------------------\n",
      "--------------------------------------------------------------------------------------------------------------------------------------------------------------------------------------------------------\n",
      "Solving S_4\n"
     ]
    },
    {
     "data": {
      "text/latex": [
       "$\\displaystyle \\mathtt{\\text{V\\_k}} = 0$"
      ],
      "text/plain": [
       "<IPython.core.display.Math object>"
      ]
     },
     "metadata": {},
     "output_type": "display_data"
    },
    {
     "data": {
      "text/latex": [
       "$\\displaystyle \\mathtt{\\text{B\\_k}} = 0$"
      ],
      "text/plain": [
       "<IPython.core.display.Math object>"
      ]
     },
     "metadata": {},
     "output_type": "display_data"
    },
    {
     "name": "stdout",
     "output_type": "stream",
     "text": [
      "--------------------------------------------------------------------------------------------------------------------------------------------------------------------------------------------------------\n",
      "--------------------------------------------------------------------------------------------------------------------------------------------------------------------------------------------------------\n",
      "--------------------------------------------------------------------------------------------------------------------------------------------------------------------------------------------------------\n",
      "--------------------------------------------------------------------------------------------------------------------------------------------------------------------------------------------------------\n",
      "--------------------------------------------------------------------------------------------------------------------------------------------------------------------------------------------------------\n",
      "--------------------------------------------------------------------------------------------------------------------------------------------------------------------------------------------------------\n",
      "--------------------------------------------------------------------------------------------------------------------------------------------------------------------------------------------------------\n",
      "--------------------------------------------------------------------------------------------------------------------------------------------------------------------------------------------------------\n",
      "--------------------------------------------------------------------------------------------------------------------------------------------------------------------------------------------------------\n",
      "--------------------------------------------------------------------------------------------------------------------------------------------------------------------------------------------------------\n",
      "--------------------------------------------------------------------------------------------------------------------------------------------------------------------------------------------------------\n",
      "--------------------------------------------------------------------------------------------------------------------------------------------------------------------------------------------------------\n",
      "--------------------------------------------------------------------------------------------------------------------------------------------------------------------------------------------------------\n",
      "--------------------------------------------------------------------------------------------------------------------------------------------------------------------------------------------------------\n",
      "--------------------------------------------------------------------------------------------------------------------------------------------------------------------------------------------------------\n",
      "--------------------------------------------------------------------------------------------------------------------------------------------------------------------------------------------------------\n",
      "--------------------------------------------------------------------------------------------------------------------------------------------------------------------------------------------------------\n",
      "--------------------------------------------------------------------------------------------------------------------------------------------------------------------------------------------------------\n",
      "--------------------------------------------------------------------------------------------------------------------------------------------------------------------------------------------------------\n",
      "--------------------------------------------------------------------------------------------------------------------------------------------------------------------------------------------------------\n",
      "--------------------------------------------------------------------------------------------------------------------------------------------------------------------------------------------------------\n",
      "--------------------------------------------------------------------------------------------------------------------------------------------------------------------------------------------------------\n",
      "--------------------------------------------------------------------------------------------------------------------------------------------------------------------------------------------------------\n",
      "--------------------------------------------------------------------------------------------------------------------------------------------------------------------------------------------------------\n",
      "--------------------------------------------------------------------------------------------------------------------------------------------------------------------------------------------------------\n",
      "--------------------------------------------------------------------------------------------------------------------------------------------------------------------------------------------------------\n",
      "--------------------------------------------------------------------------------------------------------------------------------------------------------------------------------------------------------\n",
      "--------------------------------------------------------------------------------------------------------------------------------------------------------------------------------------------------------\n",
      "--------------------------------------------------------------------------------------------------------------------------------------------------------------------------------------------------------\n",
      "--------------------------------------------------------------------------------------------------------------------------------------------------------------------------------------------------------\n",
      "--------------------------------------------------------------------------------------------------------------------------------------------------------------------------------------------------------\n",
      "Solving S_5\n"
     ]
    },
    {
     "data": {
      "text/latex": [
       "$\\displaystyle \\mathtt{\\text{V\\_k}} = 0$"
      ],
      "text/plain": [
       "<IPython.core.display.Math object>"
      ]
     },
     "metadata": {},
     "output_type": "display_data"
    },
    {
     "data": {
      "text/latex": [
       "$\\displaystyle \\mathtt{\\text{B\\_k}} = 0$"
      ],
      "text/plain": [
       "<IPython.core.display.Math object>"
      ]
     },
     "metadata": {},
     "output_type": "display_data"
    },
    {
     "name": "stdout",
     "output_type": "stream",
     "text": [
      "--------------------------------------------------------------------------------------------------------------------------------------------------------------------------------------------------------\n",
      "--------------------------------------------------------------------------------------------------------------------------------------------------------------------------------------------------------\n",
      "--------------------------------------------------------------------------------------------------------------------------------------------------------------------------------------------------------\n",
      "--------------------------------------------------------------------------------------------------------------------------------------------------------------------------------------------------------\n",
      "--------------------------------------------------------------------------------------------------------------------------------------------------------------------------------------------------------\n",
      "--------------------------------------------------------------------------------------------------------------------------------------------------------------------------------------------------------\n",
      "--------------------------------------------------------------------------------------------------------------------------------------------------------------------------------------------------------\n",
      "--------------------------------------------------------------------------------------------------------------------------------------------------------------------------------------------------------\n",
      "--------------------------------------------------------------------------------------------------------------------------------------------------------------------------------------------------------\n",
      "--------------------------------------------------------------------------------------------------------------------------------------------------------------------------------------------------------\n",
      "--------------------------------------------------------------------------------------------------------------------------------------------------------------------------------------------------------\n",
      "--------------------------------------------------------------------------------------------------------------------------------------------------------------------------------------------------------\n",
      "--------------------------------------------------------------------------------------------------------------------------------------------------------------------------------------------------------\n",
      "--------------------------------------------------------------------------------------------------------------------------------------------------------------------------------------------------------\n",
      "--------------------------------------------------------------------------------------------------------------------------------------------------------------------------------------------------------\n",
      "--------------------------------------------------------------------------------------------------------------------------------------------------------------------------------------------------------\n",
      "--------------------------------------------------------------------------------------------------------------------------------------------------------------------------------------------------------\n",
      "--------------------------------------------------------------------------------------------------------------------------------------------------------------------------------------------------------\n",
      "--------------------------------------------------------------------------------------------------------------------------------------------------------------------------------------------------------\n",
      "--------------------------------------------------------------------------------------------------------------------------------------------------------------------------------------------------------\n",
      "--------------------------------------------------------------------------------------------------------------------------------------------------------------------------------------------------------\n",
      "--------------------------------------------------------------------------------------------------------------------------------------------------------------------------------------------------------\n",
      "--------------------------------------------------------------------------------------------------------------------------------------------------------------------------------------------------------\n",
      "--------------------------------------------------------------------------------------------------------------------------------------------------------------------------------------------------------\n",
      "--------------------------------------------------------------------------------------------------------------------------------------------------------------------------------------------------------\n",
      "--------------------------------------------------------------------------------------------------------------------------------------------------------------------------------------------------------\n",
      "--------------------------------------------------------------------------------------------------------------------------------------------------------------------------------------------------------\n",
      "--------------------------------------------------------------------------------------------------------------------------------------------------------------------------------------------------------\n",
      "--------------------------------------------------------------------------------------------------------------------------------------------------------------------------------------------------------\n",
      "--------------------------------------------------------------------------------------------------------------------------------------------------------------------------------------------------------\n",
      "--------------------------------------------------------------------------------------------------------------------------------------------------------------------------------------------------------\n",
      "--------------------------------------------------------------------------------------------------------------------------------------------------------------------------------------------------------\n",
      "--------------------------------------------------------------------------------------------------------------------------------------------------------------------------------------------------------\n",
      "--------------------------------------------------------------------------------------------------------------------------------------------------------------------------------------------------------\n",
      "--------------------------------------------------------------------------------------------------------------------------------------------------------------------------------------------------------\n",
      "--------------------------------------------------------------------------------------------------------------------------------------------------------------------------------------------------------\n",
      "--------------------------------------------------------------------------------------------------------------------------------------------------------------------------------------------------------\n",
      "--------------------------------------------------------------------------------------------------------------------------------------------------------------------------------------------------------\n",
      "--------------------------------------------------------------------------------------------------------------------------------------------------------------------------------------------------------\n",
      "--------------------------------------------------------------------------------------------------------------------------------------------------------------------------------------------------------\n",
      "--------------------------------------------------------------------------------------------------------------------------------------------------------------------------------------------------------\n",
      "--------------------------------------------------------------------------------------------------------------------------------------------------------------------------------------------------------\n",
      "--------------------------------------------------------------------------------------------------------------------------------------------------------------------------------------------------------\n",
      "--------------------------------------------------------------------------------------------------------------------------------------------------------------------------------------------------------\n",
      "--------------------------------------------------------------------------------------------------------------------------------------------------------------------------------------------------------\n",
      "--------------------------------------------------------------------------------------------------------------------------------------------------------------------------------------------------------\n",
      "--------------------------------------------------------------------------------------------------------------------------------------------------------------------------------------------------------\n",
      "--------------------------------------------------------------------------------------------------------------------------------------------------------------------------------------------------------\n",
      "--------------------------------------------------------------------------------------------------------------------------------------------------------------------------------------------------------\n",
      "--------------------------------------------------------------------------------------------------------------------------------------------------------------------------------------------------------\n",
      "--------------------------------------------------------------------------------------------------------------------------------------------------------------------------------------------------------\n",
      "--------------------------------------------------------------------------------------------------------------------------------------------------------------------------------------------------------\n",
      "--------------------------------------------------------------------------------------------------------------------------------------------------------------------------------------------------------\n",
      "--------------------------------------------------------------------------------------------------------------------------------------------------------------------------------------------------------\n",
      "--------------------------------------------------------------------------------------------------------------------------------------------------------------------------------------------------------\n",
      "--------------------------------------------------------------------------------------------------------------------------------------------------------------------------------------------------------\n",
      "--------------------------------------------------------------------------------------------------------------------------------------------------------------------------------------------------------\n",
      "--------------------------------------------------------------------------------------------------------------------------------------------------------------------------------------------------------\n",
      "--------------------------------------------------------------------------------------------------------------------------------------------------------------------------------------------------------\n",
      "--------------------------------------------------------------------------------------------------------------------------------------------------------------------------------------------------------\n",
      "--------------------------------------------------------------------------------------------------------------------------------------------------------------------------------------------------------\n",
      "--------------------------------------------------------------------------------------------------------------------------------------------------------------------------------------------------------\n",
      "--------------------------------------------------------------------------------------------------------------------------------------------------------------------------------------------------------\n"
     ]
    }
   ],
   "source": [
    "H_perturbation_order = (solver(H, bosonic_basis, Spin, order=6, full_diagonal=False, commutation_relations=commutation_relations)[0]).expand()"
   ]
  },
  {
   "cell_type": "code",
   "execution_count": 17,
   "id": "82398f16",
   "metadata": {},
   "outputs": [],
   "source": [
    "def subs_dict(expr, dictionary):\n",
    "    expanded = expr.expand()\n",
    "    while expanded != expanded.subs(dictionary):\n",
    "        expanded = expanded.subs(dictionary).expand()\n",
    "    return expanded"
   ]
  },
  {
   "cell_type": "code",
   "execution_count": 18,
   "id": "bbfdd68b",
   "metadata": {},
   "outputs": [
    {
     "data": {
      "text/latex": [
       "$\\displaystyle \\left[\\begin{matrix}- \\frac{\\omega_{q}}{2} + \\omega_{r} n + \\frac{2 g^{6}}{36 \\omega_{q}^{5} - 180 \\omega_{q}^{4} \\omega_{r} + 360 \\omega_{q}^{3} \\omega_{r}^{2} - 360 \\omega_{q}^{2} \\omega_{r}^{3} + 180 \\omega_{q} \\omega_{r}^{4} - 36 \\omega_{r}^{5}} + \\frac{14 g^{6} n}{36 \\omega_{q}^{5} - 180 \\omega_{q}^{4} \\omega_{r} + 360 \\omega_{q}^{3} \\omega_{r}^{2} - 360 \\omega_{q}^{2} \\omega_{r}^{3} + 180 \\omega_{q} \\omega_{r}^{4} - 36 \\omega_{r}^{5}} + \\frac{g^{6} n^{2}}{36 \\omega_{q}^{5} - 180 \\omega_{q}^{4} \\omega_{r} + 360 \\omega_{q}^{3} \\omega_{r}^{2} - 360 \\omega_{q}^{2} \\omega_{r}^{3} + 180 \\omega_{q} \\omega_{r}^{4} - 36 \\omega_{r}^{5}} - \\frac{g^{6}}{18 \\omega_{q}^{5} - 90 \\omega_{q}^{4} \\omega_{r} + 180 \\omega_{q}^{3} \\omega_{r}^{2} - 180 \\omega_{q}^{2} \\omega_{r}^{3} + 90 \\omega_{q} \\omega_{r}^{4} - 18 \\omega_{r}^{5}} - \\frac{4 g^{6} n}{18 \\omega_{q}^{5} - 90 \\omega_{q}^{4} \\omega_{r} + 180 \\omega_{q}^{3} \\omega_{r}^{2} - 180 \\omega_{q}^{2} \\omega_{r}^{3} + 90 \\omega_{q} \\omega_{r}^{4} - 18 \\omega_{r}^{5}} + \\frac{g^{6} n^{2}}{18 \\omega_{q}^{5} - 90 \\omega_{q}^{4} \\omega_{r} + 180 \\omega_{q}^{3} \\omega_{r}^{2} - 180 \\omega_{q}^{2} \\omega_{r}^{3} + 90 \\omega_{q} \\omega_{r}^{4} - 18 \\omega_{r}^{5}} - \\frac{g^{6} n^{3}}{18 \\omega_{q}^{5} - 90 \\omega_{q}^{4} \\omega_{r} + 180 \\omega_{q}^{3} \\omega_{r}^{2} - 180 \\omega_{q}^{2} \\omega_{r}^{3} + 90 \\omega_{q} \\omega_{r}^{4} - 18 \\omega_{r}^{5}} - \\frac{2 g^{6} n}{12 \\omega_{q}^{5} - 60 \\omega_{q}^{4} \\omega_{r} + 120 \\omega_{q}^{3} \\omega_{r}^{2} - 120 \\omega_{q}^{2} \\omega_{r}^{3} + 60 \\omega_{q} \\omega_{r}^{4} - 12 \\omega_{r}^{5}} - \\frac{4 g^{6} n^{2}}{12 \\omega_{q}^{5} - 60 \\omega_{q}^{4} \\omega_{r} + 120 \\omega_{q}^{3} \\omega_{r}^{2} - 120 \\omega_{q}^{2} \\omega_{r}^{3} + 60 \\omega_{q} \\omega_{r}^{4} - 12 \\omega_{r}^{5}} - \\frac{g^{6} n^{3}}{6 \\omega_{q}^{5} - 30 \\omega_{q}^{4} \\omega_{r} + 60 \\omega_{q}^{3} \\omega_{r}^{2} - 60 \\omega_{q}^{2} \\omega_{r}^{3} + 30 \\omega_{q} \\omega_{r}^{4} - 6 \\omega_{r}^{5}} + \\frac{g^{6} n^{2}}{4 \\omega_{q}^{5} - 20 \\omega_{q}^{4} \\omega_{r} + 40 \\omega_{q}^{3} \\omega_{r}^{2} - 40 \\omega_{q}^{2} \\omega_{r}^{3} + 20 \\omega_{q} \\omega_{r}^{4} - 4 \\omega_{r}^{5}} + \\frac{g^{4} n^{2}}{\\omega_{q}^{3} - 3 \\omega_{q}^{2} \\omega_{r} + 3 \\omega_{q} \\omega_{r}^{2} - \\omega_{r}^{3}} - \\frac{g^{2} n}{\\omega_{q} - \\omega_{r}} & \\frac{g^{5} a}{15 \\omega_{q}^{4} - 60 \\omega_{q}^{3} \\omega_{r} + 90 \\omega_{q}^{2} \\omega_{r}^{2} - 60 \\omega_{q} \\omega_{r}^{3} + 15 \\omega_{r}^{4}} + \\frac{5 g^{5} n a}{15 \\omega_{q}^{4} - 60 \\omega_{q}^{3} \\omega_{r} + 90 \\omega_{q}^{2} \\omega_{r}^{2} - 60 \\omega_{q} \\omega_{r}^{3} + 15 \\omega_{r}^{4}} + \\frac{4 g^{5} n^{2} a}{15 \\omega_{q}^{4} - 60 \\omega_{q}^{3} \\omega_{r} + 90 \\omega_{q}^{2} \\omega_{r}^{2} - 60 \\omega_{q} \\omega_{r}^{3} + 15 \\omega_{r}^{4}} + \\frac{4 g^{5} n^{2} {a^\\dagger}}{15 \\omega_{q}^{4} - 60 \\omega_{q}^{3} \\omega_{r} + 90 \\omega_{q}^{2} \\omega_{r}^{2} - 60 \\omega_{q} \\omega_{r}^{3} + 15 \\omega_{r}^{4}} - \\frac{3 g^{5} {a^\\dagger}}{15 \\omega_{q}^{4} - 60 \\omega_{q}^{3} \\omega_{r} + 90 \\omega_{q}^{2} \\omega_{r}^{2} - 60 \\omega_{q} \\omega_{r}^{3} + 15 \\omega_{r}^{4}} + \\frac{g^{5} a}{5 \\omega_{q}^{4} - 20 \\omega_{q}^{3} \\omega_{r} + 30 \\omega_{q}^{2} \\omega_{r}^{2} - 20 \\omega_{q} \\omega_{r}^{3} + 5 \\omega_{r}^{4}} + \\frac{g^{5} n a}{5 \\omega_{q}^{4} - 20 \\omega_{q}^{3} \\omega_{r} + 30 \\omega_{q}^{2} \\omega_{r}^{2} - 20 \\omega_{q} \\omega_{r}^{3} + 5 \\omega_{r}^{4}} + \\frac{g^{5} {a^\\dagger}}{5 \\omega_{q}^{4} - 20 \\omega_{q}^{3} \\omega_{r} + 30 \\omega_{q}^{2} \\omega_{r}^{2} - 20 \\omega_{q} \\omega_{r}^{3} + 5 \\omega_{r}^{4}} - \\frac{2 g^{3} a}{3 \\omega_{q}^{2} - 6 \\omega_{q} \\omega_{r} + 3 \\omega_{r}^{2}} - \\frac{2 g^{3} n a}{3 \\omega_{q}^{2} - 6 \\omega_{q} \\omega_{r} + 3 \\omega_{r}^{2}} - \\frac{2 g^{3} n {a^\\dagger}}{3 \\omega_{q}^{2} - 6 \\omega_{q} \\omega_{r} + 3 \\omega_{r}^{2}} - i \\left(- \\frac{i g^{5} a}{15 \\omega_{q}^{4} - 60 \\omega_{q}^{3} \\omega_{r} + 90 \\omega_{q}^{2} \\omega_{r}^{2} - 60 \\omega_{q} \\omega_{r}^{3} + 15 \\omega_{r}^{4}} - \\frac{5 i g^{5} n a}{15 \\omega_{q}^{4} - 60 \\omega_{q}^{3} \\omega_{r} + 90 \\omega_{q}^{2} \\omega_{r}^{2} - 60 \\omega_{q} \\omega_{r}^{3} + 15 \\omega_{r}^{4}} - \\frac{4 i g^{5} n^{2} a}{15 \\omega_{q}^{4} - 60 \\omega_{q}^{3} \\omega_{r} + 90 \\omega_{q}^{2} \\omega_{r}^{2} - 60 \\omega_{q} \\omega_{r}^{3} + 15 \\omega_{r}^{4}} + \\frac{4 i g^{5} n^{2} {a^\\dagger}}{15 \\omega_{q}^{4} - 60 \\omega_{q}^{3} \\omega_{r} + 90 \\omega_{q}^{2} \\omega_{r}^{2} - 60 \\omega_{q} \\omega_{r}^{3} + 15 \\omega_{r}^{4}} - \\frac{3 i g^{5} {a^\\dagger}}{15 \\omega_{q}^{4} - 60 \\omega_{q}^{3} \\omega_{r} + 90 \\omega_{q}^{2} \\omega_{r}^{2} - 60 \\omega_{q} \\omega_{r}^{3} + 15 \\omega_{r}^{4}} - \\frac{i g^{5} a}{5 \\omega_{q}^{4} - 20 \\omega_{q}^{3} \\omega_{r} + 30 \\omega_{q}^{2} \\omega_{r}^{2} - 20 \\omega_{q} \\omega_{r}^{3} + 5 \\omega_{r}^{4}} - \\frac{i g^{5} n a}{5 \\omega_{q}^{4} - 20 \\omega_{q}^{3} \\omega_{r} + 30 \\omega_{q}^{2} \\omega_{r}^{2} - 20 \\omega_{q} \\omega_{r}^{3} + 5 \\omega_{r}^{4}} + \\frac{i g^{5} {a^\\dagger}}{5 \\omega_{q}^{4} - 20 \\omega_{q}^{3} \\omega_{r} + 30 \\omega_{q}^{2} \\omega_{r}^{2} - 20 \\omega_{q} \\omega_{r}^{3} + 5 \\omega_{r}^{4}} + \\frac{2 i g^{3} a}{3 \\omega_{q}^{2} - 6 \\omega_{q} \\omega_{r} + 3 \\omega_{r}^{2}} + \\frac{2 i g^{3} n a}{3 \\omega_{q}^{2} - 6 \\omega_{q} \\omega_{r} + 3 \\omega_{r}^{2}} - \\frac{2 i g^{3} n {a^\\dagger}}{3 \\omega_{q}^{2} - 6 \\omega_{q} \\omega_{r} + 3 \\omega_{r}^{2}}\\right)\\\\\\frac{g^{5} a}{15 \\omega_{q}^{4} - 60 \\omega_{q}^{3} \\omega_{r} + 90 \\omega_{q}^{2} \\omega_{r}^{2} - 60 \\omega_{q} \\omega_{r}^{3} + 15 \\omega_{r}^{4}} + \\frac{5 g^{5} n a}{15 \\omega_{q}^{4} - 60 \\omega_{q}^{3} \\omega_{r} + 90 \\omega_{q}^{2} \\omega_{r}^{2} - 60 \\omega_{q} \\omega_{r}^{3} + 15 \\omega_{r}^{4}} + \\frac{4 g^{5} n^{2} a}{15 \\omega_{q}^{4} - 60 \\omega_{q}^{3} \\omega_{r} + 90 \\omega_{q}^{2} \\omega_{r}^{2} - 60 \\omega_{q} \\omega_{r}^{3} + 15 \\omega_{r}^{4}} + \\frac{4 g^{5} n^{2} {a^\\dagger}}{15 \\omega_{q}^{4} - 60 \\omega_{q}^{3} \\omega_{r} + 90 \\omega_{q}^{2} \\omega_{r}^{2} - 60 \\omega_{q} \\omega_{r}^{3} + 15 \\omega_{r}^{4}} - \\frac{3 g^{5} {a^\\dagger}}{15 \\omega_{q}^{4} - 60 \\omega_{q}^{3} \\omega_{r} + 90 \\omega_{q}^{2} \\omega_{r}^{2} - 60 \\omega_{q} \\omega_{r}^{3} + 15 \\omega_{r}^{4}} + \\frac{g^{5} a}{5 \\omega_{q}^{4} - 20 \\omega_{q}^{3} \\omega_{r} + 30 \\omega_{q}^{2} \\omega_{r}^{2} - 20 \\omega_{q} \\omega_{r}^{3} + 5 \\omega_{r}^{4}} + \\frac{g^{5} n a}{5 \\omega_{q}^{4} - 20 \\omega_{q}^{3} \\omega_{r} + 30 \\omega_{q}^{2} \\omega_{r}^{2} - 20 \\omega_{q} \\omega_{r}^{3} + 5 \\omega_{r}^{4}} + \\frac{g^{5} {a^\\dagger}}{5 \\omega_{q}^{4} - 20 \\omega_{q}^{3} \\omega_{r} + 30 \\omega_{q}^{2} \\omega_{r}^{2} - 20 \\omega_{q} \\omega_{r}^{3} + 5 \\omega_{r}^{4}} - \\frac{2 g^{3} a}{3 \\omega_{q}^{2} - 6 \\omega_{q} \\omega_{r} + 3 \\omega_{r}^{2}} - \\frac{2 g^{3} n a}{3 \\omega_{q}^{2} - 6 \\omega_{q} \\omega_{r} + 3 \\omega_{r}^{2}} - \\frac{2 g^{3} n {a^\\dagger}}{3 \\omega_{q}^{2} - 6 \\omega_{q} \\omega_{r} + 3 \\omega_{r}^{2}} + i \\left(- \\frac{i g^{5} a}{15 \\omega_{q}^{4} - 60 \\omega_{q}^{3} \\omega_{r} + 90 \\omega_{q}^{2} \\omega_{r}^{2} - 60 \\omega_{q} \\omega_{r}^{3} + 15 \\omega_{r}^{4}} - \\frac{5 i g^{5} n a}{15 \\omega_{q}^{4} - 60 \\omega_{q}^{3} \\omega_{r} + 90 \\omega_{q}^{2} \\omega_{r}^{2} - 60 \\omega_{q} \\omega_{r}^{3} + 15 \\omega_{r}^{4}} - \\frac{4 i g^{5} n^{2} a}{15 \\omega_{q}^{4} - 60 \\omega_{q}^{3} \\omega_{r} + 90 \\omega_{q}^{2} \\omega_{r}^{2} - 60 \\omega_{q} \\omega_{r}^{3} + 15 \\omega_{r}^{4}} + \\frac{4 i g^{5} n^{2} {a^\\dagger}}{15 \\omega_{q}^{4} - 60 \\omega_{q}^{3} \\omega_{r} + 90 \\omega_{q}^{2} \\omega_{r}^{2} - 60 \\omega_{q} \\omega_{r}^{3} + 15 \\omega_{r}^{4}} - \\frac{3 i g^{5} {a^\\dagger}}{15 \\omega_{q}^{4} - 60 \\omega_{q}^{3} \\omega_{r} + 90 \\omega_{q}^{2} \\omega_{r}^{2} - 60 \\omega_{q} \\omega_{r}^{3} + 15 \\omega_{r}^{4}} - \\frac{i g^{5} a}{5 \\omega_{q}^{4} - 20 \\omega_{q}^{3} \\omega_{r} + 30 \\omega_{q}^{2} \\omega_{r}^{2} - 20 \\omega_{q} \\omega_{r}^{3} + 5 \\omega_{r}^{4}} - \\frac{i g^{5} n a}{5 \\omega_{q}^{4} - 20 \\omega_{q}^{3} \\omega_{r} + 30 \\omega_{q}^{2} \\omega_{r}^{2} - 20 \\omega_{q} \\omega_{r}^{3} + 5 \\omega_{r}^{4}} + \\frac{i g^{5} {a^\\dagger}}{5 \\omega_{q}^{4} - 20 \\omega_{q}^{3} \\omega_{r} + 30 \\omega_{q}^{2} \\omega_{r}^{2} - 20 \\omega_{q} \\omega_{r}^{3} + 5 \\omega_{r}^{4}} + \\frac{2 i g^{3} a}{3 \\omega_{q}^{2} - 6 \\omega_{q} \\omega_{r} + 3 \\omega_{r}^{2}} + \\frac{2 i g^{3} n a}{3 \\omega_{q}^{2} - 6 \\omega_{q} \\omega_{r} + 3 \\omega_{r}^{2}} - \\frac{2 i g^{3} n {a^\\dagger}}{3 \\omega_{q}^{2} - 6 \\omega_{q} \\omega_{r} + 3 \\omega_{r}^{2}}\\right) & \\omega_{r} n + \\frac{2 g^{6}}{36 \\omega_{q}^{5} - 180 \\omega_{q}^{4} \\omega_{r} + 360 \\omega_{q}^{3} \\omega_{r}^{2} - 360 \\omega_{q}^{2} \\omega_{r}^{3} + 180 \\omega_{q} \\omega_{r}^{4} - 36 \\omega_{r}^{5}} + \\frac{14 g^{6} n}{36 \\omega_{q}^{5} - 180 \\omega_{q}^{4} \\omega_{r} + 360 \\omega_{q}^{3} \\omega_{r}^{2} - 360 \\omega_{q}^{2} \\omega_{r}^{3} + 180 \\omega_{q} \\omega_{r}^{4} - 36 \\omega_{r}^{5}} + \\frac{g^{6} n^{2}}{36 \\omega_{q}^{5} - 180 \\omega_{q}^{4} \\omega_{r} + 360 \\omega_{q}^{3} \\omega_{r}^{2} - 360 \\omega_{q}^{2} \\omega_{r}^{3} + 180 \\omega_{q} \\omega_{r}^{4} - 36 \\omega_{r}^{5}} + \\frac{g^{6}}{18 \\omega_{q}^{5} - 90 \\omega_{q}^{4} \\omega_{r} + 180 \\omega_{q}^{3} \\omega_{r}^{2} - 180 \\omega_{q}^{2} \\omega_{r}^{3} + 90 \\omega_{q} \\omega_{r}^{4} - 18 \\omega_{r}^{5}} - \\frac{g^{6} n}{18 \\omega_{q}^{5} - 90 \\omega_{q}^{4} \\omega_{r} + 180 \\omega_{q}^{3} \\omega_{r}^{2} - 180 \\omega_{q}^{2} \\omega_{r}^{3} + 90 \\omega_{q} \\omega_{r}^{4} - 18 \\omega_{r}^{5}} + \\frac{g^{6} n^{2}}{18 \\omega_{q}^{5} - 90 \\omega_{q}^{4} \\omega_{r} + 180 \\omega_{q}^{3} \\omega_{r}^{2} - 180 \\omega_{q}^{2} \\omega_{r}^{3} + 90 \\omega_{q} \\omega_{r}^{4} - 18 \\omega_{r}^{5}} + \\frac{g^{6} n^{2}}{4 \\omega_{q}^{5} - 20 \\omega_{q}^{4} \\omega_{r} + 40 \\omega_{q}^{3} \\omega_{r}^{2} - 40 \\omega_{q}^{2} \\omega_{r}^{3} + 20 \\omega_{q} \\omega_{r}^{4} - 4 \\omega_{r}^{5}} - \\frac{g^{4}}{2 \\omega_{q}^{3} - 6 \\omega_{q}^{2} \\omega_{r} + 6 \\omega_{q} \\omega_{r}^{2} - 2 \\omega_{r}^{3}} - \\frac{g^{4} n}{\\omega_{q}^{3} - 3 \\omega_{q}^{2} \\omega_{r} + 3 \\omega_{q} \\omega_{r}^{2} - \\omega_{r}^{3}} + \\frac{g^{2}}{2 \\omega_{q} - 2 \\omega_{r}} - \\left(- \\frac{\\omega_{q}}{2} - \\frac{2 g^{6}}{18 \\omega_{q}^{5} - 90 \\omega_{q}^{4} \\omega_{r} + 180 \\omega_{q}^{3} \\omega_{r}^{2} - 180 \\omega_{q}^{2} \\omega_{r}^{3} + 90 \\omega_{q} \\omega_{r}^{4} - 18 \\omega_{r}^{5}} - \\frac{3 g^{6} n}{18 \\omega_{q}^{5} - 90 \\omega_{q}^{4} \\omega_{r} + 180 \\omega_{q}^{3} \\omega_{r}^{2} - 180 \\omega_{q}^{2} \\omega_{r}^{3} + 90 \\omega_{q} \\omega_{r}^{4} - 18 \\omega_{r}^{5}} - \\frac{g^{6} n^{3}}{18 \\omega_{q}^{5} - 90 \\omega_{q}^{4} \\omega_{r} + 180 \\omega_{q}^{3} \\omega_{r}^{2} - 180 \\omega_{q}^{2} \\omega_{r}^{3} + 90 \\omega_{q} \\omega_{r}^{4} - 18 \\omega_{r}^{5}} - \\frac{2 g^{6} n}{12 \\omega_{q}^{5} - 60 \\omega_{q}^{4} \\omega_{r} + 120 \\omega_{q}^{3} \\omega_{r}^{2} - 120 \\omega_{q}^{2} \\omega_{r}^{3} + 60 \\omega_{q} \\omega_{r}^{4} - 12 \\omega_{r}^{5}} - \\frac{4 g^{6} n^{2}}{12 \\omega_{q}^{5} - 60 \\omega_{q}^{4} \\omega_{r} + 120 \\omega_{q}^{3} \\omega_{r}^{2} - 120 \\omega_{q}^{2} \\omega_{r}^{3} + 60 \\omega_{q} \\omega_{r}^{4} - 12 \\omega_{r}^{5}} - \\frac{g^{6} n^{3}}{6 \\omega_{q}^{5} - 30 \\omega_{q}^{4} \\omega_{r} + 60 \\omega_{q}^{3} \\omega_{r}^{2} - 60 \\omega_{q}^{2} \\omega_{r}^{3} + 30 \\omega_{q} \\omega_{r}^{4} - 6 \\omega_{r}^{5}} + \\frac{g^{4}}{2 \\omega_{q}^{3} - 6 \\omega_{q}^{2} \\omega_{r} + 6 \\omega_{q} \\omega_{r}^{2} - 2 \\omega_{r}^{3}} + \\frac{g^{4} n}{\\omega_{q}^{3} - 3 \\omega_{q}^{2} \\omega_{r} + 3 \\omega_{q} \\omega_{r}^{2} - \\omega_{r}^{3}} + \\frac{g^{4} n^{2}}{\\omega_{q}^{3} - 3 \\omega_{q}^{2} \\omega_{r} + 3 \\omega_{q} \\omega_{r}^{2} - \\omega_{r}^{3}} - \\frac{g^{2}}{2 \\omega_{q} - 2 \\omega_{r}} - \\frac{g^{2} n}{\\omega_{q} - \\omega_{r}}\\right)\\end{matrix}\\right]$"
      ],
      "text/plain": [
       "Matrix([\n",
       "[                                                                                                                                                                                                                                                                                                                                                                                                                                                                                                                                                                                                                                                                                                                                     -\\omega_{q}/2 + \\omega_{r}*n + 2*g**6/(36*\\omega_{q}**5 - 180*\\omega_{q}**4*\\omega_{r} + 360*\\omega_{q}**3*\\omega_{r}**2 - 360*\\omega_{q}**2*\\omega_{r}**3 + 180*\\omega_{q}*\\omega_{r}**4 - 36*\\omega_{r}**5) + 14*g**6*n/(36*\\omega_{q}**5 - 180*\\omega_{q}**4*\\omega_{r} + 360*\\omega_{q}**3*\\omega_{r}**2 - 360*\\omega_{q}**2*\\omega_{r}**3 + 180*\\omega_{q}*\\omega_{r}**4 - 36*\\omega_{r}**5) + g**6*n**2/(36*\\omega_{q}**5 - 180*\\omega_{q}**4*\\omega_{r} + 360*\\omega_{q}**3*\\omega_{r}**2 - 360*\\omega_{q}**2*\\omega_{r}**3 + 180*\\omega_{q}*\\omega_{r}**4 - 36*\\omega_{r}**5) - g**6/(18*\\omega_{q}**5 - 90*\\omega_{q}**4*\\omega_{r} + 180*\\omega_{q}**3*\\omega_{r}**2 - 180*\\omega_{q}**2*\\omega_{r}**3 + 90*\\omega_{q}*\\omega_{r}**4 - 18*\\omega_{r}**5) - 4*g**6*n/(18*\\omega_{q}**5 - 90*\\omega_{q}**4*\\omega_{r} + 180*\\omega_{q}**3*\\omega_{r}**2 - 180*\\omega_{q}**2*\\omega_{r}**3 + 90*\\omega_{q}*\\omega_{r}**4 - 18*\\omega_{r}**5) + g**6*n**2/(18*\\omega_{q}**5 - 90*\\omega_{q}**4*\\omega_{r} + 180*\\omega_{q}**3*\\omega_{r}**2 - 180*\\omega_{q}**2*\\omega_{r}**3 + 90*\\omega_{q}*\\omega_{r}**4 - 18*\\omega_{r}**5) - g**6*n**3/(18*\\omega_{q}**5 - 90*\\omega_{q}**4*\\omega_{r} + 180*\\omega_{q}**3*\\omega_{r}**2 - 180*\\omega_{q}**2*\\omega_{r}**3 + 90*\\omega_{q}*\\omega_{r}**4 - 18*\\omega_{r}**5) - 2*g**6*n/(12*\\omega_{q}**5 - 60*\\omega_{q}**4*\\omega_{r} + 120*\\omega_{q}**3*\\omega_{r}**2 - 120*\\omega_{q}**2*\\omega_{r}**3 + 60*\\omega_{q}*\\omega_{r}**4 - 12*\\omega_{r}**5) - 4*g**6*n**2/(12*\\omega_{q}**5 - 60*\\omega_{q}**4*\\omega_{r} + 120*\\omega_{q}**3*\\omega_{r}**2 - 120*\\omega_{q}**2*\\omega_{r}**3 + 60*\\omega_{q}*\\omega_{r}**4 - 12*\\omega_{r}**5) - g**6*n**3/(6*\\omega_{q}**5 - 30*\\omega_{q}**4*\\omega_{r} + 60*\\omega_{q}**3*\\omega_{r}**2 - 60*\\omega_{q}**2*\\omega_{r}**3 + 30*\\omega_{q}*\\omega_{r}**4 - 6*\\omega_{r}**5) + g**6*n**2/(4*\\omega_{q}**5 - 20*\\omega_{q}**4*\\omega_{r} + 40*\\omega_{q}**3*\\omega_{r}**2 - 40*\\omega_{q}**2*\\omega_{r}**3 + 20*\\omega_{q}*\\omega_{r}**4 - 4*\\omega_{r}**5) + g**4*n**2/(\\omega_{q}**3 - 3*\\omega_{q}**2*\\omega_{r} + 3*\\omega_{q}*\\omega_{r}**2 - \\omega_{r}**3) - g**2*n/(\\omega_{q} - \\omega_{r}),                                                                                                                      g**5*a/(15*\\omega_{q}**4 - 60*\\omega_{q}**3*\\omega_{r} + 90*\\omega_{q}**2*\\omega_{r}**2 - 60*\\omega_{q}*\\omega_{r}**3 + 15*\\omega_{r}**4) + 5*g**5*n*a/(15*\\omega_{q}**4 - 60*\\omega_{q}**3*\\omega_{r} + 90*\\omega_{q}**2*\\omega_{r}**2 - 60*\\omega_{q}*\\omega_{r}**3 + 15*\\omega_{r}**4) + 4*g**5*n**2*a/(15*\\omega_{q}**4 - 60*\\omega_{q}**3*\\omega_{r} + 90*\\omega_{q}**2*\\omega_{r}**2 - 60*\\omega_{q}*\\omega_{r}**3 + 15*\\omega_{r}**4) + 4*g**5*n**2*{a^\\dagger}/(15*\\omega_{q}**4 - 60*\\omega_{q}**3*\\omega_{r} + 90*\\omega_{q}**2*\\omega_{r}**2 - 60*\\omega_{q}*\\omega_{r}**3 + 15*\\omega_{r}**4) - 3*g**5*{a^\\dagger}/(15*\\omega_{q}**4 - 60*\\omega_{q}**3*\\omega_{r} + 90*\\omega_{q}**2*\\omega_{r}**2 - 60*\\omega_{q}*\\omega_{r}**3 + 15*\\omega_{r}**4) + g**5*a/(5*\\omega_{q}**4 - 20*\\omega_{q}**3*\\omega_{r} + 30*\\omega_{q}**2*\\omega_{r}**2 - 20*\\omega_{q}*\\omega_{r}**3 + 5*\\omega_{r}**4) + g**5*n*a/(5*\\omega_{q}**4 - 20*\\omega_{q}**3*\\omega_{r} + 30*\\omega_{q}**2*\\omega_{r}**2 - 20*\\omega_{q}*\\omega_{r}**3 + 5*\\omega_{r}**4) + g**5*{a^\\dagger}/(5*\\omega_{q}**4 - 20*\\omega_{q}**3*\\omega_{r} + 30*\\omega_{q}**2*\\omega_{r}**2 - 20*\\omega_{q}*\\omega_{r}**3 + 5*\\omega_{r}**4) - 2*g**3*a/(3*\\omega_{q}**2 - 6*\\omega_{q}*\\omega_{r} + 3*\\omega_{r}**2) - 2*g**3*n*a/(3*\\omega_{q}**2 - 6*\\omega_{q}*\\omega_{r} + 3*\\omega_{r}**2) - 2*g**3*n*{a^\\dagger}/(3*\\omega_{q}**2 - 6*\\omega_{q}*\\omega_{r} + 3*\\omega_{r}**2) - I*(-I*g**5*a/(15*\\omega_{q}**4 - 60*\\omega_{q}**3*\\omega_{r} + 90*\\omega_{q}**2*\\omega_{r}**2 - 60*\\omega_{q}*\\omega_{r}**3 + 15*\\omega_{r}**4) - 5*I*g**5*n*a/(15*\\omega_{q}**4 - 60*\\omega_{q}**3*\\omega_{r} + 90*\\omega_{q}**2*\\omega_{r}**2 - 60*\\omega_{q}*\\omega_{r}**3 + 15*\\omega_{r}**4) - 4*I*g**5*n**2*a/(15*\\omega_{q}**4 - 60*\\omega_{q}**3*\\omega_{r} + 90*\\omega_{q}**2*\\omega_{r}**2 - 60*\\omega_{q}*\\omega_{r}**3 + 15*\\omega_{r}**4) + 4*I*g**5*n**2*{a^\\dagger}/(15*\\omega_{q}**4 - 60*\\omega_{q}**3*\\omega_{r} + 90*\\omega_{q}**2*\\omega_{r}**2 - 60*\\omega_{q}*\\omega_{r}**3 + 15*\\omega_{r}**4) - 3*I*g**5*{a^\\dagger}/(15*\\omega_{q}**4 - 60*\\omega_{q}**3*\\omega_{r} + 90*\\omega_{q}**2*\\omega_{r}**2 - 60*\\omega_{q}*\\omega_{r}**3 + 15*\\omega_{r}**4) - I*g**5*a/(5*\\omega_{q}**4 - 20*\\omega_{q}**3*\\omega_{r} + 30*\\omega_{q}**2*\\omega_{r}**2 - 20*\\omega_{q}*\\omega_{r}**3 + 5*\\omega_{r}**4) - I*g**5*n*a/(5*\\omega_{q}**4 - 20*\\omega_{q}**3*\\omega_{r} + 30*\\omega_{q}**2*\\omega_{r}**2 - 20*\\omega_{q}*\\omega_{r}**3 + 5*\\omega_{r}**4) + I*g**5*{a^\\dagger}/(5*\\omega_{q}**4 - 20*\\omega_{q}**3*\\omega_{r} + 30*\\omega_{q}**2*\\omega_{r}**2 - 20*\\omega_{q}*\\omega_{r}**3 + 5*\\omega_{r}**4) + 2*I*g**3*a/(3*\\omega_{q}**2 - 6*\\omega_{q}*\\omega_{r} + 3*\\omega_{r}**2) + 2*I*g**3*n*a/(3*\\omega_{q}**2 - 6*\\omega_{q}*\\omega_{r} + 3*\\omega_{r}**2) - 2*I*g**3*n*{a^\\dagger}/(3*\\omega_{q}**2 - 6*\\omega_{q}*\\omega_{r} + 3*\\omega_{r}**2))],\n",
       "[g**5*a/(15*\\omega_{q}**4 - 60*\\omega_{q}**3*\\omega_{r} + 90*\\omega_{q}**2*\\omega_{r}**2 - 60*\\omega_{q}*\\omega_{r}**3 + 15*\\omega_{r}**4) + 5*g**5*n*a/(15*\\omega_{q}**4 - 60*\\omega_{q}**3*\\omega_{r} + 90*\\omega_{q}**2*\\omega_{r}**2 - 60*\\omega_{q}*\\omega_{r}**3 + 15*\\omega_{r}**4) + 4*g**5*n**2*a/(15*\\omega_{q}**4 - 60*\\omega_{q}**3*\\omega_{r} + 90*\\omega_{q}**2*\\omega_{r}**2 - 60*\\omega_{q}*\\omega_{r}**3 + 15*\\omega_{r}**4) + 4*g**5*n**2*{a^\\dagger}/(15*\\omega_{q}**4 - 60*\\omega_{q}**3*\\omega_{r} + 90*\\omega_{q}**2*\\omega_{r}**2 - 60*\\omega_{q}*\\omega_{r}**3 + 15*\\omega_{r}**4) - 3*g**5*{a^\\dagger}/(15*\\omega_{q}**4 - 60*\\omega_{q}**3*\\omega_{r} + 90*\\omega_{q}**2*\\omega_{r}**2 - 60*\\omega_{q}*\\omega_{r}**3 + 15*\\omega_{r}**4) + g**5*a/(5*\\omega_{q}**4 - 20*\\omega_{q}**3*\\omega_{r} + 30*\\omega_{q}**2*\\omega_{r}**2 - 20*\\omega_{q}*\\omega_{r}**3 + 5*\\omega_{r}**4) + g**5*n*a/(5*\\omega_{q}**4 - 20*\\omega_{q}**3*\\omega_{r} + 30*\\omega_{q}**2*\\omega_{r}**2 - 20*\\omega_{q}*\\omega_{r}**3 + 5*\\omega_{r}**4) + g**5*{a^\\dagger}/(5*\\omega_{q}**4 - 20*\\omega_{q}**3*\\omega_{r} + 30*\\omega_{q}**2*\\omega_{r}**2 - 20*\\omega_{q}*\\omega_{r}**3 + 5*\\omega_{r}**4) - 2*g**3*a/(3*\\omega_{q}**2 - 6*\\omega_{q}*\\omega_{r} + 3*\\omega_{r}**2) - 2*g**3*n*a/(3*\\omega_{q}**2 - 6*\\omega_{q}*\\omega_{r} + 3*\\omega_{r}**2) - 2*g**3*n*{a^\\dagger}/(3*\\omega_{q}**2 - 6*\\omega_{q}*\\omega_{r} + 3*\\omega_{r}**2) + I*(-I*g**5*a/(15*\\omega_{q}**4 - 60*\\omega_{q}**3*\\omega_{r} + 90*\\omega_{q}**2*\\omega_{r}**2 - 60*\\omega_{q}*\\omega_{r}**3 + 15*\\omega_{r}**4) - 5*I*g**5*n*a/(15*\\omega_{q}**4 - 60*\\omega_{q}**3*\\omega_{r} + 90*\\omega_{q}**2*\\omega_{r}**2 - 60*\\omega_{q}*\\omega_{r}**3 + 15*\\omega_{r}**4) - 4*I*g**5*n**2*a/(15*\\omega_{q}**4 - 60*\\omega_{q}**3*\\omega_{r} + 90*\\omega_{q}**2*\\omega_{r}**2 - 60*\\omega_{q}*\\omega_{r}**3 + 15*\\omega_{r}**4) + 4*I*g**5*n**2*{a^\\dagger}/(15*\\omega_{q}**4 - 60*\\omega_{q}**3*\\omega_{r} + 90*\\omega_{q}**2*\\omega_{r}**2 - 60*\\omega_{q}*\\omega_{r}**3 + 15*\\omega_{r}**4) - 3*I*g**5*{a^\\dagger}/(15*\\omega_{q}**4 - 60*\\omega_{q}**3*\\omega_{r} + 90*\\omega_{q}**2*\\omega_{r}**2 - 60*\\omega_{q}*\\omega_{r}**3 + 15*\\omega_{r}**4) - I*g**5*a/(5*\\omega_{q}**4 - 20*\\omega_{q}**3*\\omega_{r} + 30*\\omega_{q}**2*\\omega_{r}**2 - 20*\\omega_{q}*\\omega_{r}**3 + 5*\\omega_{r}**4) - I*g**5*n*a/(5*\\omega_{q}**4 - 20*\\omega_{q}**3*\\omega_{r} + 30*\\omega_{q}**2*\\omega_{r}**2 - 20*\\omega_{q}*\\omega_{r}**3 + 5*\\omega_{r}**4) + I*g**5*{a^\\dagger}/(5*\\omega_{q}**4 - 20*\\omega_{q}**3*\\omega_{r} + 30*\\omega_{q}**2*\\omega_{r}**2 - 20*\\omega_{q}*\\omega_{r}**3 + 5*\\omega_{r}**4) + 2*I*g**3*a/(3*\\omega_{q}**2 - 6*\\omega_{q}*\\omega_{r} + 3*\\omega_{r}**2) + 2*I*g**3*n*a/(3*\\omega_{q}**2 - 6*\\omega_{q}*\\omega_{r} + 3*\\omega_{r}**2) - 2*I*g**3*n*{a^\\dagger}/(3*\\omega_{q}**2 - 6*\\omega_{q}*\\omega_{r} + 3*\\omega_{r}**2)), \\omega_{r}*n + 2*g**6/(36*\\omega_{q}**5 - 180*\\omega_{q}**4*\\omega_{r} + 360*\\omega_{q}**3*\\omega_{r}**2 - 360*\\omega_{q}**2*\\omega_{r}**3 + 180*\\omega_{q}*\\omega_{r}**4 - 36*\\omega_{r}**5) + 14*g**6*n/(36*\\omega_{q}**5 - 180*\\omega_{q}**4*\\omega_{r} + 360*\\omega_{q}**3*\\omega_{r}**2 - 360*\\omega_{q}**2*\\omega_{r}**3 + 180*\\omega_{q}*\\omega_{r}**4 - 36*\\omega_{r}**5) + g**6*n**2/(36*\\omega_{q}**5 - 180*\\omega_{q}**4*\\omega_{r} + 360*\\omega_{q}**3*\\omega_{r}**2 - 360*\\omega_{q}**2*\\omega_{r}**3 + 180*\\omega_{q}*\\omega_{r}**4 - 36*\\omega_{r}**5) + g**6/(18*\\omega_{q}**5 - 90*\\omega_{q}**4*\\omega_{r} + 180*\\omega_{q}**3*\\omega_{r}**2 - 180*\\omega_{q}**2*\\omega_{r}**3 + 90*\\omega_{q}*\\omega_{r}**4 - 18*\\omega_{r}**5) - g**6*n/(18*\\omega_{q}**5 - 90*\\omega_{q}**4*\\omega_{r} + 180*\\omega_{q}**3*\\omega_{r}**2 - 180*\\omega_{q}**2*\\omega_{r}**3 + 90*\\omega_{q}*\\omega_{r}**4 - 18*\\omega_{r}**5) + g**6*n**2/(18*\\omega_{q}**5 - 90*\\omega_{q}**4*\\omega_{r} + 180*\\omega_{q}**3*\\omega_{r}**2 - 180*\\omega_{q}**2*\\omega_{r}**3 + 90*\\omega_{q}*\\omega_{r}**4 - 18*\\omega_{r}**5) + g**6*n**2/(4*\\omega_{q}**5 - 20*\\omega_{q}**4*\\omega_{r} + 40*\\omega_{q}**3*\\omega_{r}**2 - 40*\\omega_{q}**2*\\omega_{r}**3 + 20*\\omega_{q}*\\omega_{r}**4 - 4*\\omega_{r}**5) - g**4/(2*\\omega_{q}**3 - 6*\\omega_{q}**2*\\omega_{r} + 6*\\omega_{q}*\\omega_{r}**2 - 2*\\omega_{r}**3) - g**4*n/(\\omega_{q}**3 - 3*\\omega_{q}**2*\\omega_{r} + 3*\\omega_{q}*\\omega_{r}**2 - \\omega_{r}**3) + g**2/(2*\\omega_{q} - 2*\\omega_{r}) - (-\\omega_{q}/2 - 2*g**6/(18*\\omega_{q}**5 - 90*\\omega_{q}**4*\\omega_{r} + 180*\\omega_{q}**3*\\omega_{r}**2 - 180*\\omega_{q}**2*\\omega_{r}**3 + 90*\\omega_{q}*\\omega_{r}**4 - 18*\\omega_{r}**5) - 3*g**6*n/(18*\\omega_{q}**5 - 90*\\omega_{q}**4*\\omega_{r} + 180*\\omega_{q}**3*\\omega_{r}**2 - 180*\\omega_{q}**2*\\omega_{r}**3 + 90*\\omega_{q}*\\omega_{r}**4 - 18*\\omega_{r}**5) - g**6*n**3/(18*\\omega_{q}**5 - 90*\\omega_{q}**4*\\omega_{r} + 180*\\omega_{q}**3*\\omega_{r}**2 - 180*\\omega_{q}**2*\\omega_{r}**3 + 90*\\omega_{q}*\\omega_{r}**4 - 18*\\omega_{r}**5) - 2*g**6*n/(12*\\omega_{q}**5 - 60*\\omega_{q}**4*\\omega_{r} + 120*\\omega_{q}**3*\\omega_{r}**2 - 120*\\omega_{q}**2*\\omega_{r}**3 + 60*\\omega_{q}*\\omega_{r}**4 - 12*\\omega_{r}**5) - 4*g**6*n**2/(12*\\omega_{q}**5 - 60*\\omega_{q}**4*\\omega_{r} + 120*\\omega_{q}**3*\\omega_{r}**2 - 120*\\omega_{q}**2*\\omega_{r}**3 + 60*\\omega_{q}*\\omega_{r}**4 - 12*\\omega_{r}**5) - g**6*n**3/(6*\\omega_{q}**5 - 30*\\omega_{q}**4*\\omega_{r} + 60*\\omega_{q}**3*\\omega_{r}**2 - 60*\\omega_{q}**2*\\omega_{r}**3 + 30*\\omega_{q}*\\omega_{r}**4 - 6*\\omega_{r}**5) + g**4/(2*\\omega_{q}**3 - 6*\\omega_{q}**2*\\omega_{r} + 6*\\omega_{q}*\\omega_{r}**2 - 2*\\omega_{r}**3) + g**4*n/(\\omega_{q}**3 - 3*\\omega_{q}**2*\\omega_{r} + 3*\\omega_{q}*\\omega_{r}**2 - \\omega_{r}**3) + g**4*n**2/(\\omega_{q}**3 - 3*\\omega_{q}**2*\\omega_{r} + 3*\\omega_{q}*\\omega_{r}**2 - \\omega_{r}**3) - g**2/(2*\\omega_{q} - 2*\\omega_{r}) - g**2*n/(\\omega_{q} - \\omega_{r}))]])"
      ]
     },
     "metadata": {},
     "output_type": "display_data"
    },
    {
     "data": {
      "text/latex": [
       "$\\displaystyle 0 = - \\frac{\\omega_{q}}{2} + \\omega_{r} n$"
      ],
      "text/plain": [
       "<IPython.core.display.Math object>"
      ]
     },
     "metadata": {},
     "output_type": "display_data"
    },
    {
     "data": {
      "text/latex": [
       "$\\displaystyle 6 = - \\frac{2 g^{6} n^{3}}{9 \\omega_{q}^{5} - 45 \\omega_{q}^{4} \\omega_{r} + 90 \\omega_{q}^{3} \\omega_{r}^{2} - 90 \\omega_{q}^{2} \\omega_{r}^{3} + 45 \\omega_{q} \\omega_{r}^{4} - 9 \\omega_{r}^{5}}$"
      ],
      "text/plain": [
       "<IPython.core.display.Math object>"
      ]
     },
     "metadata": {},
     "output_type": "display_data"
    },
    {
     "data": {
      "text/latex": [
       "$\\displaystyle 4 = \\frac{g^{4} n^{2}}{\\omega_{q}^{3} - 3 \\omega_{q}^{2} \\omega_{r} + 3 \\omega_{q} \\omega_{r}^{2} - \\omega_{r}^{3}}$"
      ],
      "text/plain": [
       "<IPython.core.display.Math object>"
      ]
     },
     "metadata": {},
     "output_type": "display_data"
    },
    {
     "data": {
      "text/latex": [
       "$\\displaystyle 2 = - \\frac{g^{2} n}{\\omega_{q} - \\omega_{r}}$"
      ],
      "text/plain": [
       "<IPython.core.display.Math object>"
      ]
     },
     "metadata": {},
     "output_type": "display_data"
    }
   ],
   "source": [
    "n = RDBoson('n', subspace='resonator', is_annihilation=False)\n",
    "comm_relations = {\n",
    "    a*ad : ad * a + 1,\n",
    "    ad * a : n,\n",
    "    a * n : n * a + a,\n",
    "    ad * n : n * ad - ad,\n",
    "}\n",
    "result_mat = sp.zeros(2)\n",
    "for k, val in group_by_finite_operators(subs_dict(H_perturbation_order, comm_relations).expand()).items():\n",
    "    if k == 1:\n",
    "        mat = sp.eye(2)\n",
    "    else:\n",
    "        mat = get_matrix(k)\n",
    "    result_mat += val * mat\n",
    "\n",
    "#result_mat = sp.simplify(result_mat).expand()\n",
    "display(result_mat)\n",
    "ordered_dict = group_by_order(result_mat[0, 0])\n",
    "result_simp_dict = {}\n",
    "for k, v in ordered_dict.items():\n",
    "    result_simp_dict[k] = v.simplify().expand()\n",
    "display_dict(result_simp_dict)"
   ]
  },
  {
   "cell_type": "markdown",
   "id": "f0c1468f",
   "metadata": {},
   "source": [
    "# Transmon Qubit coupled to resonator"
   ]
  },
  {
   "cell_type": "code",
   "execution_count": 10,
   "id": "4b951c43",
   "metadata": {},
   "outputs": [],
   "source": []
  },
  {
   "cell_type": "code",
   "execution_count": 19,
   "id": "3744fe15",
   "metadata": {},
   "outputs": [
    {
     "data": {
      "text/latex": [
       "$\\displaystyle \\frac{\\alpha {a_t^\\dagger}^{2} {a_t}^{2}}{2} + \\omega_{r} \\left(\\frac{1}{2} + {a_r^\\dagger} {a_r}\\right) - \\omega_{t} \\left(- \\frac{1}{2} + {a_t^\\dagger} {a_t}\\right) - g \\left({a_t^\\dagger} - {a_t}\\right) \\left({a_r^\\dagger} - {a_r}\\right)$"
      ],
      "text/plain": [
       "\\alpha*{a_t^\\dagger}**2*{a_t}**2/2 + \\omega_{r}*(1/2 + {a_r^\\dagger}*{a_r}) - \\omega_{t}*(-1/2 + {a_t^\\dagger}*{a_t}) - g*({a_t^\\dagger} - {a_t})*({a_r^\\dagger} - {a_r})"
      ]
     },
     "execution_count": 19,
     "metadata": {},
     "output_type": "execute_result"
    }
   ],
   "source": [
    "at = RDBoson(\"{a_t}\", subspace =\"transmon\")\n",
    "adt = RDBoson(\"{a_t^\\\\dagger}\", subspace =\"transmon\", is_annihilation=False)\n",
    "\n",
    "ar = RDBoson(\"{a_r}\", subspace =\"resonator\")\n",
    "adr = RDBoson(\"{a_r^\\\\dagger}\", subspace =\"resonator\", is_annihilation=False)\n",
    "\n",
    "omega_t = RDsymbol(\"\\\\omega_{t}\", order = 0)\n",
    "omega_r = RDsymbol(\"\\\\omega_{r}\", order = 0)\n",
    "alpha = RDsymbol(\"\\\\alpha\", order = 0)\n",
    "g = RDsymbol(\"g\", order = 1)\n",
    "\n",
    "H0 =  -omega_t * ( adt * at  - sp.Rational(1,2) ) + sp.Rational(1,2) * alpha * (adt**2*at**2) + omega_r * (adr *ar + sp.Rational(1,2))\n",
    "H = H0 - g * (adt  - at) * (adr - ar)\n",
    "H"
   ]
  },
  {
   "cell_type": "code",
   "execution_count": null,
   "id": "7257f73d",
   "metadata": {},
   "outputs": [],
   "source": []
  },
  {
   "cell_type": "code",
   "execution_count": 85,
   "id": "da2b161f",
   "metadata": {},
   "outputs": [
    {
     "data": {
      "text/latex": [
       "$\\displaystyle S^{0}_{0} \\sigma_{0} + S^{1}_{0} {a_t^\\dagger} \\sigma_{0} + S^{2}_{0} {a_t} \\sigma_{0}$"
      ],
      "text/plain": [
       "S^0_0*\\sigma_{0} + S^1_0*{a_t^\\dagger}*\\sigma_{0} + S^2_0*{a_t}*\\sigma_{0}"
      ]
     },
     "execution_count": 85,
     "metadata": {},
     "output_type": "execute_result"
    }
   ],
   "source": [
    "get_ansatz([[1, adt, at]], Spin, order=1)[0]"
   ]
  },
  {
   "cell_type": "code",
   "execution_count": 71,
   "id": "62493bb6",
   "metadata": {},
   "outputs": [
    {
     "name": "stdout",
     "output_type": "stream",
     "text": [
      "<class 'sympy.core.mul.Mul'>\n"
     ]
    },
    {
     "data": {
      "text/latex": [
       "$\\displaystyle \\mathtt{\\text{True}} = \\frac{\\alpha {a_t^\\dagger}^{2} {a_t}^{2}}{2} + \\frac{\\omega_{r}}{2} + \\omega_{r} {a_r^\\dagger} {a_r} + \\frac{\\omega_{t}}{2} - \\omega_{t} {a_t^\\dagger} {a_t}$"
      ],
      "text/plain": [
       "<IPython.core.display.Math object>"
      ]
     },
     "metadata": {},
     "output_type": "display_data"
    },
    {
     "data": {
      "text/latex": [
       "$\\displaystyle \\mathtt{\\text{False}} = - g {a_t^\\dagger} {a_r^\\dagger} + g {a_t^\\dagger} {a_r} + g {a_t} {a_r^\\dagger} - g {a_t} {a_r}$"
      ],
      "text/plain": [
       "<IPython.core.display.Math object>"
      ]
     },
     "metadata": {},
     "output_type": "display_data"
    }
   ],
   "source": [
    "print(type(at**2*adt**2))\n",
    "display_dict(group_by_diagonal(H))"
   ]
  },
  {
   "cell_type": "code",
   "execution_count": 20,
   "id": "9542008b",
   "metadata": {},
   "outputs": [
    {
     "name": "stdout",
     "output_type": "stream",
     "text": [
      "|\t0                               0                                1\t|\n",
      "|\t1                               1                                1\t|\n",
      "|\t2                              0-1                               2\t|\n",
      "|\t3                             0-1-1                              3\t|\n",
      "|\t4                              1-1                               2\t|\n",
      "|\t5                               2                                1\t|\n",
      "|\t6                              0-2                               2\t|\n",
      "|\t7                            0-1-1-1                             4\t|\n",
      "|\t8                             0-1-2                              3\t|\n",
      "|\t9                             0-2-1                              3\t|\n",
      "|\t10                            1-1-1                              3\t|\n",
      "|\t11                             1-2                               2\t|\n",
      "|\t12                             2-1                               2\t|\n",
      "|\t13                              3                                1\t|\n",
      "Solving S_1\n"
     ]
    },
    {
     "data": {
      "text/latex": [
       "$\\displaystyle \\mathtt{\\text{V\\_k}} = - g {a_t^\\dagger} {a_r^\\dagger} + g {a_t^\\dagger} {a_r} + g {a_t} {a_r^\\dagger} - g {a_t} {a_r}$"
      ],
      "text/plain": [
       "<IPython.core.display.Math object>"
      ]
     },
     "metadata": {},
     "output_type": "display_data"
    },
    {
     "data": {
      "text/latex": [
       "$\\displaystyle \\mathtt{\\text{B\\_k}} = 0$"
      ],
      "text/plain": [
       "<IPython.core.display.Math object>"
      ]
     },
     "metadata": {},
     "output_type": "display_data"
    },
    {
     "data": {
      "text/latex": [
       "$\\displaystyle \\mathtt{\\text{S\\_k}} = S^{0}_{0} \\cdot 1_{0} + S^{1}_{0} {a_r} 1_{0} + S^{2}_{0} {a_r^\\dagger} 1_{0} + S^{3}_{0} {a_t} 1_{0} + S^{4}_{0} {a_t} {a_r} 1_{0} + S^{5}_{0} {a_t} {a_r^\\dagger} 1_{0} + S^{6}_{0} {a_t^\\dagger} 1_{0} + S^{7}_{0} {a_t^\\dagger} {a_r} 1_{0} + S^{8}_{0} {a_t^\\dagger} {a_r^\\dagger} 1_{0}$"
      ],
      "text/plain": [
       "<IPython.core.display.Math object>"
      ]
     },
     "metadata": {},
     "output_type": "display_data"
    },
    {
     "data": {
      "text/latex": [
       "$\\displaystyle \\mathtt{\\text{Symbols}} = \\left[ S^{0}_{0}, \\  S^{1}_{0}, \\  S^{2}_{0}, \\  S^{3}_{0}, \\  S^{4}_{0}, \\  S^{5}_{0}, \\  S^{6}_{0}, \\  S^{7}_{0}, \\  S^{8}_{0}\\right]$"
      ],
      "text/plain": [
       "<IPython.core.display.Math object>"
      ]
     },
     "metadata": {},
     "output_type": "display_data"
    },
    {
     "name": "stdout",
     "output_type": "stream",
     "text": [
      "Sk grouped by infinite operators\n"
     ]
    },
    {
     "data": {
      "text/latex": [
       "$\\displaystyle 1 = S^{0}_{0} \\cdot 1_{0}$"
      ],
      "text/plain": [
       "<IPython.core.display.Math object>"
      ]
     },
     "metadata": {},
     "output_type": "display_data"
    },
    {
     "data": {
      "text/latex": [
       "$\\displaystyle {a_r} = S^{1}_{0} \\cdot 1_{0}$"
      ],
      "text/plain": [
       "<IPython.core.display.Math object>"
      ]
     },
     "metadata": {},
     "output_type": "display_data"
    },
    {
     "data": {
      "text/latex": [
       "$\\displaystyle {a_r^\\dagger} = S^{2}_{0} \\cdot 1_{0}$"
      ],
      "text/plain": [
       "<IPython.core.display.Math object>"
      ]
     },
     "metadata": {},
     "output_type": "display_data"
    },
    {
     "data": {
      "text/latex": [
       "$\\displaystyle {a_t} = S^{3}_{0} \\cdot 1_{0}$"
      ],
      "text/plain": [
       "<IPython.core.display.Math object>"
      ]
     },
     "metadata": {},
     "output_type": "display_data"
    },
    {
     "data": {
      "text/latex": [
       "$\\displaystyle {a_t} {a_r} = S^{4}_{0} \\cdot 1_{0}$"
      ],
      "text/plain": [
       "<IPython.core.display.Math object>"
      ]
     },
     "metadata": {},
     "output_type": "display_data"
    },
    {
     "data": {
      "text/latex": [
       "$\\displaystyle {a_t} {a_r^\\dagger} = S^{5}_{0} \\cdot 1_{0}$"
      ],
      "text/plain": [
       "<IPython.core.display.Math object>"
      ]
     },
     "metadata": {},
     "output_type": "display_data"
    },
    {
     "data": {
      "text/latex": [
       "$\\displaystyle {a_t^\\dagger} = S^{6}_{0} \\cdot 1_{0}$"
      ],
      "text/plain": [
       "<IPython.core.display.Math object>"
      ]
     },
     "metadata": {},
     "output_type": "display_data"
    },
    {
     "data": {
      "text/latex": [
       "$\\displaystyle {a_t^\\dagger} {a_r} = S^{7}_{0} \\cdot 1_{0}$"
      ],
      "text/plain": [
       "<IPython.core.display.Math object>"
      ]
     },
     "metadata": {},
     "output_type": "display_data"
    },
    {
     "data": {
      "text/latex": [
       "$\\displaystyle {a_t^\\dagger} {a_r^\\dagger} = S^{8}_{0} \\cdot 1_{0}$"
      ],
      "text/plain": [
       "<IPython.core.display.Math object>"
      ]
     },
     "metadata": {},
     "output_type": "display_data"
    },
    {
     "data": {
      "text/latex": [
       "$\\displaystyle \\mathtt{\\text{Equation to solve}} = - S^{1}_{0} \\omega_{r} 1_{0} {a_r} + S^{2}_{0} \\omega_{r} {a_r^\\dagger} 1_{0} - S^{3}_{0} \\alpha {a_t^\\dagger} 1_{0} {a_t}^{2} + S^{3}_{0} \\omega_{t} 1_{0} {a_t} - S^{4}_{0} \\alpha {a_t^\\dagger} {a_r} 1_{0} {a_t}^{2} - S^{4}_{0} \\omega_{r} {a_t} 1_{0} {a_r} + S^{4}_{0} \\omega_{t} {a_r} 1_{0} {a_t} - S^{5}_{0} \\alpha {a_t^\\dagger} {a_r^\\dagger} 1_{0} {a_t}^{2} + S^{5}_{0} \\omega_{r} {a_t} {a_r^\\dagger} 1_{0} + S^{5}_{0} \\omega_{t} {a_r^\\dagger} 1_{0} {a_t} + S^{6}_{0} \\alpha {a_t^\\dagger}^{2} {a_t} 1_{0} - S^{6}_{0} \\omega_{t} {a_t^\\dagger} 1_{0} + S^{7}_{0} \\alpha {a_t^\\dagger}^{2} {a_t} {a_r} 1_{0} - S^{7}_{0} \\omega_{r} {a_t^\\dagger} 1_{0} {a_r} - S^{7}_{0} \\omega_{t} {a_t^\\dagger} {a_r} 1_{0} + S^{8}_{0} \\alpha {a_t^\\dagger}^{2} {a_t} {a_r^\\dagger} 1_{0} + S^{8}_{0} \\omega_{r} {a_t^\\dagger} {a_r^\\dagger} 1_{0} - S^{8}_{0} \\omega_{t} {a_t^\\dagger} {a_r^\\dagger} 1_{0} - g {a_t^\\dagger} {a_r^\\dagger} + g {a_t^\\dagger} {a_r} + g {a_t} {a_r^\\dagger} - g {a_t} {a_r}$"
      ],
      "text/plain": [
       "<IPython.core.display.Math object>"
      ]
     },
     "metadata": {},
     "output_type": "display_data"
    },
    {
     "data": {
      "text/latex": [
       "$\\displaystyle 1 = 0$"
      ],
      "text/plain": [
       "<IPython.core.display.Math object>"
      ]
     },
     "metadata": {},
     "output_type": "display_data"
    },
    {
     "data": {
      "text/latex": [
       "$\\displaystyle {a_r} = - S^{1}_{0} \\omega_{r}$"
      ],
      "text/plain": [
       "<IPython.core.display.Math object>"
      ]
     },
     "metadata": {},
     "output_type": "display_data"
    },
    {
     "data": {
      "text/latex": [
       "$\\displaystyle {a_r^\\dagger} = S^{2}_{0} \\omega_{r}$"
      ],
      "text/plain": [
       "<IPython.core.display.Math object>"
      ]
     },
     "metadata": {},
     "output_type": "display_data"
    },
    {
     "data": {
      "text/latex": [
       "$\\displaystyle {a_t^\\dagger} {a_t}^{2} = - S^{3}_{0} \\alpha$"
      ],
      "text/plain": [
       "<IPython.core.display.Math object>"
      ]
     },
     "metadata": {},
     "output_type": "display_data"
    },
    {
     "data": {
      "text/latex": [
       "$\\displaystyle {a_t} = S^{3}_{0} \\omega_{t}$"
      ],
      "text/plain": [
       "<IPython.core.display.Math object>"
      ]
     },
     "metadata": {},
     "output_type": "display_data"
    },
    {
     "data": {
      "text/latex": [
       "$\\displaystyle {a_t^\\dagger} {a_t}^{2} {a_r} = - S^{4}_{0} \\alpha$"
      ],
      "text/plain": [
       "<IPython.core.display.Math object>"
      ]
     },
     "metadata": {},
     "output_type": "display_data"
    },
    {
     "data": {
      "text/latex": [
       "$\\displaystyle {a_t} {a_r} = - S^{4}_{0} \\omega_{r} + S^{4}_{0} \\omega_{t} - g$"
      ],
      "text/plain": [
       "<IPython.core.display.Math object>"
      ]
     },
     "metadata": {},
     "output_type": "display_data"
    },
    {
     "data": {
      "text/latex": [
       "$\\displaystyle {a_t^\\dagger} {a_t}^{2} {a_r^\\dagger} = - S^{5}_{0} \\alpha$"
      ],
      "text/plain": [
       "<IPython.core.display.Math object>"
      ]
     },
     "metadata": {},
     "output_type": "display_data"
    },
    {
     "data": {
      "text/latex": [
       "$\\displaystyle {a_t} {a_r^\\dagger} = S^{5}_{0} \\omega_{r} + S^{5}_{0} \\omega_{t} + g$"
      ],
      "text/plain": [
       "<IPython.core.display.Math object>"
      ]
     },
     "metadata": {},
     "output_type": "display_data"
    },
    {
     "data": {
      "text/latex": [
       "$\\displaystyle {a_t^\\dagger}^{2} {a_t} = S^{6}_{0} \\alpha$"
      ],
      "text/plain": [
       "<IPython.core.display.Math object>"
      ]
     },
     "metadata": {},
     "output_type": "display_data"
    },
    {
     "data": {
      "text/latex": [
       "$\\displaystyle {a_t^\\dagger} = - S^{6}_{0} \\omega_{t}$"
      ],
      "text/plain": [
       "<IPython.core.display.Math object>"
      ]
     },
     "metadata": {},
     "output_type": "display_data"
    },
    {
     "data": {
      "text/latex": [
       "$\\displaystyle {a_t^\\dagger}^{2} {a_t} {a_r} = S^{7}_{0} \\alpha$"
      ],
      "text/plain": [
       "<IPython.core.display.Math object>"
      ]
     },
     "metadata": {},
     "output_type": "display_data"
    },
    {
     "data": {
      "text/latex": [
       "$\\displaystyle {a_t^\\dagger} {a_r} = - S^{7}_{0} \\omega_{r} - S^{7}_{0} \\omega_{t} + g$"
      ],
      "text/plain": [
       "<IPython.core.display.Math object>"
      ]
     },
     "metadata": {},
     "output_type": "display_data"
    },
    {
     "data": {
      "text/latex": [
       "$\\displaystyle {a_t^\\dagger}^{2} {a_t} {a_r^\\dagger} = S^{8}_{0} \\alpha$"
      ],
      "text/plain": [
       "<IPython.core.display.Math object>"
      ]
     },
     "metadata": {},
     "output_type": "display_data"
    },
    {
     "data": {
      "text/latex": [
       "$\\displaystyle {a_t^\\dagger} {a_r^\\dagger} = S^{8}_{0} \\omega_{r} - S^{8}_{0} \\omega_{t} - g$"
      ],
      "text/plain": [
       "<IPython.core.display.Math object>"
      ]
     },
     "metadata": {},
     "output_type": "display_data"
    },
    {
     "name": "stdout",
     "output_type": "stream",
     "text": [
      "--------------------------------------------------------------------------------------------------------------------------------------------------------------------------------------------------------\n",
      "--------------------------------------------------------------------------------------------------------------------------------------------------------------------------------------------------------\n",
      "Solving S_2\n"
     ]
    },
    {
     "data": {
      "text/latex": [
       "$\\displaystyle \\mathtt{\\text{V\\_k}} = 0$"
      ],
      "text/plain": [
       "<IPython.core.display.Math object>"
      ]
     },
     "metadata": {},
     "output_type": "display_data"
    },
    {
     "data": {
      "text/latex": [
       "$\\displaystyle \\mathtt{\\text{B\\_k}} = 0$"
      ],
      "text/plain": [
       "<IPython.core.display.Math object>"
      ]
     },
     "metadata": {},
     "output_type": "display_data"
    },
    {
     "name": "stdout",
     "output_type": "stream",
     "text": [
      "--------------------------------------------------------------------------------------------------------------------------------------------------------------------------------------------------------\n",
      "--------------------------------------------------------------------------------------------------------------------------------------------------------------------------------------------------------\n",
      "--------------------------------------------------------------------------------------------------------------------------------------------------------------------------------------------------------\n",
      "--------------------------------------------------------------------------------------------------------------------------------------------------------------------------------------------------------\n",
      "--------------------------------------------------------------------------------------------------------------------------------------------------------------------------------------------------------\n",
      "--------------------------------------------------------------------------------------------------------------------------------------------------------------------------------------------------------\n",
      "--------------------------------------------------------------------------------------------------------------------------------------------------------------------------------------------------------\n"
     ]
    }
   ],
   "source": [
    "finite = RDBasis(\"1\", 'finite', dim=1)\n",
    "commutation = {\n",
    "    at * adt : adt * at + 1,\n",
    "    ar * adr : adr * ar + 1,\n",
    "    ar * adt : adt * ar,\n",
    "    adr * at : at * adr,\n",
    "    ar * at : at * ar,\n",
    "    adr * adt : adt * adr,\n",
    "}\n",
    "\n",
    "bosonic_basis = [[1, at, adt], [1, ar, adr]]\n",
    "sol, S = solver(H, bosonic_basis, finite, order=3, full_diagonal=False, commutation_relations=commutation)"
   ]
  },
  {
   "cell_type": "code",
   "execution_count": 21,
   "id": "48343251",
   "metadata": {},
   "outputs": [
    {
     "data": {
      "text/latex": [
       "$\\displaystyle \\frac{g {a_t^\\dagger} {a_r} 1_{0}}{\\omega_{r} + \\omega_{t}} - \\frac{g {a_t} {a_r^\\dagger} 1_{0}}{\\omega_{r} + \\omega_{t}} + \\frac{g {a_t^\\dagger} {a_r^\\dagger} 1_{0}}{\\omega_{r} - \\omega_{t}} - \\frac{g {a_t} {a_r} 1_{0}}{\\omega_{r} - \\omega_{t}}$"
      ],
      "text/plain": [
       "g*{a_t^\\dagger}*{a_r}*1_{0}/(\\omega_{r} + \\omega_{t}) - g*{a_t}*{a_r^\\dagger}*1_{0}/(\\omega_{r} + \\omega_{t}) + g*{a_t^\\dagger}*{a_r^\\dagger}*1_{0}/(\\omega_{r} - \\omega_{t}) - g*{a_t}*{a_r}*1_{0}/(\\omega_{r} - \\omega_{t})"
      ]
     },
     "execution_count": 21,
     "metadata": {},
     "output_type": "execute_result"
    }
   ],
   "source": [
    "S['1']"
   ]
  },
  {
   "cell_type": "code",
   "execution_count": 22,
   "id": "902ea0da",
   "metadata": {},
   "outputs": [
    {
     "data": {
      "text/latex": [
       "$\\displaystyle \\frac{\\alpha {a_t^\\dagger}^{2} {a_t}^{2}}{2} - \\frac{16 \\omega_{r}^{3} \\omega_{t} g^{3} {a_t^\\dagger} {a_r^\\dagger}}{3 \\omega_{r}^{6} - 9 \\omega_{r}^{4} \\omega_{t}^{2} + 9 \\omega_{r}^{2} \\omega_{t}^{4} - 3 \\omega_{t}^{6}} + \\frac{16 \\omega_{r}^{3} \\omega_{t} g^{3} {a_t^\\dagger} {a_r}}{3 \\omega_{r}^{6} - 9 \\omega_{r}^{4} \\omega_{t}^{2} + 9 \\omega_{r}^{2} \\omega_{t}^{4} - 3 \\omega_{t}^{6}} + \\frac{16 \\omega_{r}^{3} \\omega_{t} g^{3} {a_t} {a_r^\\dagger}}{3 \\omega_{r}^{6} - 9 \\omega_{r}^{4} \\omega_{t}^{2} + 9 \\omega_{r}^{2} \\omega_{t}^{4} - 3 \\omega_{t}^{6}} - \\frac{16 \\omega_{r}^{3} \\omega_{t} g^{3} {a_t} {a_r}}{3 \\omega_{r}^{6} - 9 \\omega_{r}^{4} \\omega_{t}^{2} + 9 \\omega_{r}^{2} \\omega_{t}^{4} - 3 \\omega_{t}^{6}} + \\frac{16 \\omega_{r} \\omega_{t}^{3} g^{3} {a_t^\\dagger} {a_r^\\dagger}}{3 \\omega_{r}^{6} - 9 \\omega_{r}^{4} \\omega_{t}^{2} + 9 \\omega_{r}^{2} \\omega_{t}^{4} - 3 \\omega_{t}^{6}} - \\frac{16 \\omega_{r} \\omega_{t}^{3} g^{3} {a_t^\\dagger} {a_r}}{3 \\omega_{r}^{6} - 9 \\omega_{r}^{4} \\omega_{t}^{2} + 9 \\omega_{r}^{2} \\omega_{t}^{4} - 3 \\omega_{t}^{6}} - \\frac{16 \\omega_{r} \\omega_{t}^{3} g^{3} {a_t} {a_r^\\dagger}}{3 \\omega_{r}^{6} - 9 \\omega_{r}^{4} \\omega_{t}^{2} + 9 \\omega_{r}^{2} \\omega_{t}^{4} - 3 \\omega_{t}^{6}} + \\frac{16 \\omega_{r} \\omega_{t}^{3} g^{3} {a_t} {a_r}}{3 \\omega_{r}^{6} - 9 \\omega_{r}^{4} \\omega_{t}^{2} + 9 \\omega_{r}^{2} \\omega_{t}^{4} - 3 \\omega_{t}^{6}} - \\frac{\\omega_{r} g^{2}}{\\omega_{r}^{2} - \\omega_{t}^{2}} - \\frac{2 \\omega_{r} g^{2} {a_t^\\dagger} {a_t}}{\\omega_{r}^{2} - \\omega_{t}^{2}} + \\frac{\\omega_{r} g^{2} {a_t^\\dagger}^{2}}{\\omega_{r}^{2} - \\omega_{t}^{2}} + \\frac{\\omega_{r} g^{2} {a_t}^{2}}{\\omega_{r}^{2} - \\omega_{t}^{2}} + \\frac{\\omega_{r}}{2} + \\omega_{r} {a_r^\\dagger} {a_r} - \\frac{\\omega_{t} g^{2}}{\\omega_{r}^{2} - \\omega_{t}^{2}} - \\frac{2 \\omega_{t} g^{2} {a_r^\\dagger} {a_r}}{\\omega_{r}^{2} - \\omega_{t}^{2}} + \\frac{\\omega_{t} g^{2} {a_r^\\dagger}^{2}}{\\omega_{r}^{2} - \\omega_{t}^{2}} + \\frac{\\omega_{t} g^{2} {a_r}^{2}}{\\omega_{r}^{2} - \\omega_{t}^{2}} + \\frac{\\omega_{t}}{2} - \\omega_{t} {a_t^\\dagger} {a_t}$"
      ],
      "text/plain": [
       "\\alpha*{a_t^\\dagger}**2*{a_t}**2/2 - 16*\\omega_{r}**3*\\omega_{t}*g**3*{a_t^\\dagger}*{a_r^\\dagger}/(3*\\omega_{r}**6 - 9*\\omega_{r}**4*\\omega_{t}**2 + 9*\\omega_{r}**2*\\omega_{t}**4 - 3*\\omega_{t}**6) + 16*\\omega_{r}**3*\\omega_{t}*g**3*{a_t^\\dagger}*{a_r}/(3*\\omega_{r}**6 - 9*\\omega_{r}**4*\\omega_{t}**2 + 9*\\omega_{r}**2*\\omega_{t}**4 - 3*\\omega_{t}**6) + 16*\\omega_{r}**3*\\omega_{t}*g**3*{a_t}*{a_r^\\dagger}/(3*\\omega_{r}**6 - 9*\\omega_{r}**4*\\omega_{t}**2 + 9*\\omega_{r}**2*\\omega_{t}**4 - 3*\\omega_{t}**6) - 16*\\omega_{r}**3*\\omega_{t}*g**3*{a_t}*{a_r}/(3*\\omega_{r}**6 - 9*\\omega_{r}**4*\\omega_{t}**2 + 9*\\omega_{r}**2*\\omega_{t}**4 - 3*\\omega_{t}**6) + 16*\\omega_{r}*\\omega_{t}**3*g**3*{a_t^\\dagger}*{a_r^\\dagger}/(3*\\omega_{r}**6 - 9*\\omega_{r}**4*\\omega_{t}**2 + 9*\\omega_{r}**2*\\omega_{t}**4 - 3*\\omega_{t}**6) - 16*\\omega_{r}*\\omega_{t}**3*g**3*{a_t^\\dagger}*{a_r}/(3*\\omega_{r}**6 - 9*\\omega_{r}**4*\\omega_{t}**2 + 9*\\omega_{r}**2*\\omega_{t}**4 - 3*\\omega_{t}**6) - 16*\\omega_{r}*\\omega_{t}**3*g**3*{a_t}*{a_r^\\dagger}/(3*\\omega_{r}**6 - 9*\\omega_{r}**4*\\omega_{t}**2 + 9*\\omega_{r}**2*\\omega_{t}**4 - 3*\\omega_{t}**6) + 16*\\omega_{r}*\\omega_{t}**3*g**3*{a_t}*{a_r}/(3*\\omega_{r}**6 - 9*\\omega_{r}**4*\\omega_{t}**2 + 9*\\omega_{r}**2*\\omega_{t}**4 - 3*\\omega_{t}**6) - \\omega_{r}*g**2/(\\omega_{r}**2 - \\omega_{t}**2) - 2*\\omega_{r}*g**2*{a_t^\\dagger}*{a_t}/(\\omega_{r}**2 - \\omega_{t}**2) + \\omega_{r}*g**2*{a_t^\\dagger}**2/(\\omega_{r}**2 - \\omega_{t}**2) + \\omega_{r}*g**2*{a_t}**2/(\\omega_{r}**2 - \\omega_{t}**2) + \\omega_{r}/2 + \\omega_{r}*{a_r^\\dagger}*{a_r} - \\omega_{t}*g**2/(\\omega_{r}**2 - \\omega_{t}**2) - 2*\\omega_{t}*g**2*{a_r^\\dagger}*{a_r}/(\\omega_{r}**2 - \\omega_{t}**2) + \\omega_{t}*g**2*{a_r^\\dagger}**2/(\\omega_{r}**2 - \\omega_{t}**2) + \\omega_{t}*g**2*{a_r}**2/(\\omega_{r}**2 - \\omega_{t}**2) + \\omega_{t}/2 - \\omega_{t}*{a_t^\\dagger}*{a_t}"
      ]
     },
     "execution_count": 22,
     "metadata": {},
     "output_type": "execute_result"
    }
   ],
   "source": [
    "\n",
    "subs_to_zero = {\n",
    "    at : 0,\n",
    "    adt : 0,\n",
    "    ar : 0,\n",
    "    adr : 0,\n",
    "}\n",
    "\n",
    "(sol).expand()#.subs(subs_to_zero).expand().simplify().expand()"
   ]
  },
  {
   "cell_type": "code",
   "execution_count": 23,
   "id": "e03fdc8a",
   "metadata": {},
   "outputs": [
    {
     "data": {
      "text/latex": [
       "$\\displaystyle 1 = - \\frac{\\omega_{r} g^{2}}{\\omega_{r}^{2} - \\omega_{t}^{2}} - \\frac{\\omega_{t} g^{2}}{\\omega_{r}^{2} - \\omega_{t}^{2}}$"
      ],
      "text/plain": [
       "<IPython.core.display.Math object>"
      ]
     },
     "metadata": {},
     "output_type": "display_data"
    },
    {
     "data": {
      "text/latex": [
       "$\\displaystyle {a_t^\\dagger} {a_r^\\dagger} = - \\frac{16 \\omega_{r}^{3} \\omega_{t} g^{3}}{3 \\omega_{r}^{6} - 9 \\omega_{r}^{4} \\omega_{t}^{2} + 9 \\omega_{r}^{2} \\omega_{t}^{4} - 3 \\omega_{t}^{6}} + \\frac{16 \\omega_{r} \\omega_{t}^{3} g^{3}}{3 \\omega_{r}^{6} - 9 \\omega_{r}^{4} \\omega_{t}^{2} + 9 \\omega_{r}^{2} \\omega_{t}^{4} - 3 \\omega_{t}^{6}}$"
      ],
      "text/plain": [
       "<IPython.core.display.Math object>"
      ]
     },
     "metadata": {},
     "output_type": "display_data"
    },
    {
     "data": {
      "text/latex": [
       "$\\displaystyle {a_t^\\dagger} {a_r} = \\frac{16 \\omega_{r}^{3} \\omega_{t} g^{3}}{3 \\omega_{r}^{6} - 9 \\omega_{r}^{4} \\omega_{t}^{2} + 9 \\omega_{r}^{2} \\omega_{t}^{4} - 3 \\omega_{t}^{6}} - \\frac{16 \\omega_{r} \\omega_{t}^{3} g^{3}}{3 \\omega_{r}^{6} - 9 \\omega_{r}^{4} \\omega_{t}^{2} + 9 \\omega_{r}^{2} \\omega_{t}^{4} - 3 \\omega_{t}^{6}}$"
      ],
      "text/plain": [
       "<IPython.core.display.Math object>"
      ]
     },
     "metadata": {},
     "output_type": "display_data"
    },
    {
     "data": {
      "text/latex": [
       "$\\displaystyle {a_t} {a_r^\\dagger} = \\frac{16 \\omega_{r}^{3} \\omega_{t} g^{3}}{3 \\omega_{r}^{6} - 9 \\omega_{r}^{4} \\omega_{t}^{2} + 9 \\omega_{r}^{2} \\omega_{t}^{4} - 3 \\omega_{t}^{6}} - \\frac{16 \\omega_{r} \\omega_{t}^{3} g^{3}}{3 \\omega_{r}^{6} - 9 \\omega_{r}^{4} \\omega_{t}^{2} + 9 \\omega_{r}^{2} \\omega_{t}^{4} - 3 \\omega_{t}^{6}}$"
      ],
      "text/plain": [
       "<IPython.core.display.Math object>"
      ]
     },
     "metadata": {},
     "output_type": "display_data"
    },
    {
     "data": {
      "text/latex": [
       "$\\displaystyle {a_t} {a_r} = - \\frac{16 \\omega_{r}^{3} \\omega_{t} g^{3}}{3 \\omega_{r}^{6} - 9 \\omega_{r}^{4} \\omega_{t}^{2} + 9 \\omega_{r}^{2} \\omega_{t}^{4} - 3 \\omega_{t}^{6}} + \\frac{16 \\omega_{r} \\omega_{t}^{3} g^{3}}{3 \\omega_{r}^{6} - 9 \\omega_{r}^{4} \\omega_{t}^{2} + 9 \\omega_{r}^{2} \\omega_{t}^{4} - 3 \\omega_{t}^{6}}$"
      ],
      "text/plain": [
       "<IPython.core.display.Math object>"
      ]
     },
     "metadata": {},
     "output_type": "display_data"
    },
    {
     "data": {
      "text/latex": [
       "$\\displaystyle {a_t^\\dagger} {a_t} = - \\frac{2 \\omega_{r} g^{2}}{\\omega_{r}^{2} - \\omega_{t}^{2}}$"
      ],
      "text/plain": [
       "<IPython.core.display.Math object>"
      ]
     },
     "metadata": {},
     "output_type": "display_data"
    },
    {
     "data": {
      "text/latex": [
       "$\\displaystyle {a_t^\\dagger}^{2} = \\frac{\\omega_{r} g^{2}}{\\omega_{r}^{2} - \\omega_{t}^{2}}$"
      ],
      "text/plain": [
       "<IPython.core.display.Math object>"
      ]
     },
     "metadata": {},
     "output_type": "display_data"
    },
    {
     "data": {
      "text/latex": [
       "$\\displaystyle {a_t}^{2} = \\frac{\\omega_{r} g^{2}}{\\omega_{r}^{2} - \\omega_{t}^{2}}$"
      ],
      "text/plain": [
       "<IPython.core.display.Math object>"
      ]
     },
     "metadata": {},
     "output_type": "display_data"
    },
    {
     "data": {
      "text/latex": [
       "$\\displaystyle {a_r^\\dagger} {a_r} = - \\frac{2 \\omega_{t} g^{2}}{\\omega_{r}^{2} - \\omega_{t}^{2}}$"
      ],
      "text/plain": [
       "<IPython.core.display.Math object>"
      ]
     },
     "metadata": {},
     "output_type": "display_data"
    },
    {
     "data": {
      "text/latex": [
       "$\\displaystyle {a_r^\\dagger}^{2} = \\frac{\\omega_{t} g^{2}}{\\omega_{r}^{2} - \\omega_{t}^{2}}$"
      ],
      "text/plain": [
       "<IPython.core.display.Math object>"
      ]
     },
     "metadata": {},
     "output_type": "display_data"
    },
    {
     "data": {
      "text/latex": [
       "$\\displaystyle {a_r}^{2} = \\frac{\\omega_{t} g^{2}}{\\omega_{r}^{2} - \\omega_{t}^{2}}$"
      ],
      "text/plain": [
       "<IPython.core.display.Math object>"
      ]
     },
     "metadata": {},
     "output_type": "display_data"
    }
   ],
   "source": [
    "display_dict(group_by_infinite_operators((sol-H0) , commutation))"
   ]
  },
  {
   "cell_type": "code",
   "execution_count": 29,
   "id": "dff60867",
   "metadata": {},
   "outputs": [
    {
     "data": {
      "text/latex": [
       "$\\displaystyle \\frac{\\alpha \\left(\\frac{{a_t}_{1}}{3} - \\frac{i {a_t}_{2}}{3} + \\frac{\\sqrt{2} {a_t}_{5}}{3} - \\frac{\\sqrt{2} i {a_t}_{6}}{3}\\right)^{2} \\left(\\frac{{a_t}_{1}}{3} + \\frac{i {a_t}_{2}}{3} + \\frac{\\sqrt{2} {a_t}_{5}}{3} + \\frac{\\sqrt{2} i {a_t}_{6}}{3}\\right)^{2}}{2} + \\omega_{r} \\left(\\frac{1}{2} + \\left(\\frac{{a_r}_{1}}{3} - \\frac{i {a_r}_{2}}{3} + \\frac{\\sqrt{2} {a_r}_{5}}{3} - \\frac{\\sqrt{2} i {a_r}_{6}}{3}\\right) \\left(\\frac{{a_r}_{1}}{3} + \\frac{i {a_r}_{2}}{3} + \\frac{\\sqrt{2} {a_r}_{5}}{3} + \\frac{\\sqrt{2} i {a_r}_{6}}{3}\\right)\\right) - \\omega_{t} \\left(- \\frac{1}{2} + \\left(\\frac{{a_t}_{1}}{3} - \\frac{i {a_t}_{2}}{3} + \\frac{\\sqrt{2} {a_t}_{5}}{3} - \\frac{\\sqrt{2} i {a_t}_{6}}{3}\\right) \\left(\\frac{{a_t}_{1}}{3} + \\frac{i {a_t}_{2}}{3} + \\frac{\\sqrt{2} {a_t}_{5}}{3} + \\frac{\\sqrt{2} i {a_t}_{6}}{3}\\right)\\right) - g \\left(- (\\frac{{a_t}_{1}}{3} + \\frac{i {a_t}_{2}}{3} + \\frac{\\sqrt{2} {a_t}_{5}}{3} + \\frac{\\sqrt{2} i {a_t}_{6}}{3}) + \\frac{{a_t}_{1}}{3} - \\frac{i {a_t}_{2}}{3} + \\frac{\\sqrt{2} {a_t}_{5}}{3} - \\frac{\\sqrt{2} i {a_t}_{6}}{3}\\right) \\left(- (\\frac{{a_r}_{1}}{3} + \\frac{i {a_r}_{2}}{3} + \\frac{\\sqrt{2} {a_r}_{5}}{3} + \\frac{\\sqrt{2} i {a_r}_{6}}{3}) + \\frac{{a_r}_{1}}{3} - \\frac{i {a_r}_{2}}{3} + \\frac{\\sqrt{2} {a_r}_{5}}{3} - \\frac{\\sqrt{2} i {a_r}_{6}}{3}\\right)$"
      ],
      "text/plain": [
       "\\alpha*({a_t}_{1}/3 - I*{a_t}_{2}/3 + sqrt(2)*{a_t}_{5}/3 - sqrt(2)*I*{a_t}_{6}/3)**2*({a_t}_{1}/3 + I*{a_t}_{2}/3 + sqrt(2)*{a_t}_{5}/3 + sqrt(2)*I*{a_t}_{6}/3)**2/2 + \\omega_{r}*(1/2 + ({a_r}_{1}/3 - I*{a_r}_{2}/3 + sqrt(2)*{a_r}_{5}/3 - sqrt(2)*I*{a_r}_{6}/3)*({a_r}_{1}/3 + I*{a_r}_{2}/3 + sqrt(2)*{a_r}_{5}/3 + sqrt(2)*I*{a_r}_{6}/3)) - \\omega_{t}*(-1/2 + ({a_t}_{1}/3 - I*{a_t}_{2}/3 + sqrt(2)*{a_t}_{5}/3 - sqrt(2)*I*{a_t}_{6}/3)*({a_t}_{1}/3 + I*{a_t}_{2}/3 + sqrt(2)*{a_t}_{5}/3 + sqrt(2)*I*{a_t}_{6}/3)) - g*(-({a_t}_{1}/3 + I*{a_t}_{2}/3 + sqrt(2)*{a_t}_{5}/3 + sqrt(2)*I*{a_t}_{6}/3) + {a_t}_{1}/3 - I*{a_t}_{2}/3 + sqrt(2)*{a_t}_{5}/3 - sqrt(2)*I*{a_t}_{6}/3)*(-({a_r}_{1}/3 + I*{a_r}_{2}/3 + sqrt(2)*{a_r}_{5}/3 + sqrt(2)*I*{a_r}_{6}/3) + {a_r}_{1}/3 - I*{a_r}_{2}/3 + sqrt(2)*{a_r}_{5}/3 - sqrt(2)*I*{a_r}_{6}/3)"
      ]
     },
     "execution_count": 29,
     "metadata": {},
     "output_type": "execute_result"
    }
   ],
   "source": [
    "Transmon = RDBasis(\"{a_t}\", 'transmon', dim=3)\n",
    "Resonator = RDBasis(\"{a_r}\", 'resonator', dim=3)\n",
    "\n",
    "\n",
    "\n",
    "a_mat = sp.Matrix(\n",
    "    [\n",
    "        [0, 1, 0],\n",
    "        [0, 0, sp.sqrt(2)],\n",
    "        [0, 0, 0]\n",
    "    ]\n",
    ")\n",
    "\n",
    "ad_mat = sp.Matrix(\n",
    "    [\n",
    "        [0, 0, 0],\n",
    "        [1, 0, 0],\n",
    "        [0, sp.sqrt(2), 0]\n",
    "    ]\n",
    ")\n",
    "\n",
    "at = Transmon.project(a_mat)\n",
    "adt = Transmon.project(ad_mat)\n",
    "\n",
    "ar = Resonator.project(a_mat)\n",
    "adr = Resonator.project(ad_mat)\n",
    "\n",
    "\n",
    "omega_t = RDsymbol(\"\\\\omega_{t}\", order = 0)\n",
    "omega_r = RDsymbol(\"\\\\omega_{r}\", order = 0)\n",
    "alpha = RDsymbol(\"\\\\alpha\", order = 0)\n",
    "g = RDsymbol(\"g\", order = 1)\n",
    "\n",
    "H0 =  -omega_t * ( adt * at  - sp.Rational(1,2) ) + sp.Rational(1,2) * alpha * (adt**2*at**2) + omega_r * (adr *ar + sp.Rational(1,2))\n",
    "H = H0 - g * (adt  - at) * (adr - ar)\n",
    "H"
   ]
  }
 ],
 "metadata": {
  "kernelspec": {
   "display_name": "Python 3 (ipykernel)",
   "language": "python",
   "name": "python3"
  },
  "language_info": {
   "codemirror_mode": {
    "name": "ipython",
    "version": 3
   },
   "file_extension": ".py",
   "mimetype": "text/x-python",
   "name": "python",
   "nbconvert_exporter": "python",
   "pygments_lexer": "ipython3",
   "version": "3.12.2"
  }
 },
 "nbformat": 4,
 "nbformat_minor": 5
}
