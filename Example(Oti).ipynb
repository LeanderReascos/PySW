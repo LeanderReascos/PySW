{
 "cells": [
  {
   "cell_type": "code",
   "execution_count": null,
   "id": "adb5308e",
   "metadata": {},
   "outputs": [],
   "source": [
    "from IPython.display import display, Math\n",
    "def solver(H, order):\n",
    "    H_expanded = H.domain_expansion()[0]\n",
    "    H_0 = H_expanded.group_by_order()[0]\n",
    "    H_final = deepcopy(H_0)\n",
    "    Bk = 0\n",
    "\n",
    "    S = 0\n",
    "\n",
    "    for k in range(1, order+1):\n",
    "        print(f\"Order {k}\")\n",
    "        H_below_k = sum(H_expanded.group_by_order().get(j, 0) for j in range(k+1))\n",
    "        Vk = H_below_k.group_by_diagonal()[False].group_by_order().get(k, 0)\n",
    "        S_k, symbols_sk = get_ansatz(Vk + Bk)\n",
    "        solution_sk = dict(zip(symbols_sk, [0 for _ in symbols_sk]))\n",
    "        #display(Bk)\n",
    "        for key, value in ((H_0 | S_k) + (Vk + Bk)).group_by_infinite_terms().items():\n",
    "            print(\"Im here 1\")\n",
    "            mats = sp.Add(*[sp.Mul(*map(lambda x: x.representation , term.info[\"coeff\"])) * term.mat_representation[\"finite\"] for term in value.terms])\n",
    "            solution_sk.update(sp.solve(mats, symbols_sk))\n",
    "        \n",
    "        S_k_solved = 0\n",
    "        for term in S_k.terms:\n",
    "            print(\"Im here 2\")\n",
    "            term.mat_representation[\"finite\"] = term.mat_representation[\"finite\"].subs(solution_sk)\n",
    "            if sum(sp.Abs(term.mat_representation[\"finite\"])) == 0:\n",
    "                continue\n",
    "            S_k_solved += term\n",
    "        S += S_k_solved\n",
    "        display(S)\n",
    "        tmp_H = float(1 / sp.factorial(k)) * H_below_k.nested_commutator(S, k)\n",
    "        H_final += tmp_H.group_by_diagonal().get(True, Expression(Term(Coefficient(0)))).group_by_order().get(k, 0)\n",
    "        display(H_final)\n",
    "        Bk = tmp_H.group_by_diagonal()[False].group_by_order()[k+1]\n",
    "    \n",
    "    return H_final\n"
   ]
  },
  {
   "cell_type": "markdown",
   "id": "16e5dbb9",
   "metadata": {},
   "source": [
    "# Trying out sympy module"
   ]
  },
  {
   "cell_type": "code",
   "execution_count": 1,
   "id": "ce5eff91",
   "metadata": {},
   "outputs": [],
   "source": [
    "%load_ext autoreload\n",
    "%autoreload 2"
   ]
  },
  {
   "cell_type": "code",
   "execution_count": 2,
   "id": "ddf2a6b7",
   "metadata": {},
   "outputs": [],
   "source": [
    "import sympy as sp\n",
    "import numpy as np\n",
    "from Modules.sympy.classes import *\n",
    "from Modules.sympy.utils import *\n",
    "from sympy.physics.quantum import Dagger"
   ]
  },
  {
   "cell_type": "code",
   "execution_count": 3,
   "id": "1f42ca56",
   "metadata": {},
   "outputs": [],
   "source": [
    "sx = RDOperator(\"sigma_x\", subspace = \"spin\", dim = 2, matrix=sp.Matrix([[0,1],[1,0]]))\n",
    "sz = RDOperator(\"sigma_z\", subspace = \"spin\", dim = 2, matrix=sp.Matrix([[1,0],[0,-1]]))\n"
   ]
  },
  {
   "cell_type": "code",
   "execution_count": 4,
   "id": "79863889",
   "metadata": {},
   "outputs": [
    {
     "data": {
      "text/latex": [
       "$\\displaystyle \\frac{\\hbar \\Omega_{z} \\sigma_{z}}{2} + \\hbar g \\left(a + {a^\\dagger}\\right) \\sigma_{x} + \\hbar \\omega {a^\\dagger} a$"
      ],
      "text/plain": [
       "hbar*Omega_z*sigma_z/2 + hbar*g*(a + {a^\\dagger})*sigma_x + hbar*omega*{a^\\dagger}*a"
      ]
     },
     "execution_count": 4,
     "metadata": {},
     "output_type": "execute_result"
    }
   ],
   "source": [
    "names = [\"sigma_x\", \"sigma_z\"]\n",
    "subspaces = [\"spin\", \"spin\"]\n",
    "dims = [2, 2, 2]\n",
    "matrices = [sp.Matrix([[0,1],[1,0]]), sp.Matrix([[1,0],[0,-1]])]\n",
    "''\n",
    "sx, sz = get_finite_operators(names, subspaces, dims, matrices)\n",
    "a = RDBoson(\"a\", subspace =\"b\")\n",
    "ad = RDBoson(\"{a^\\\\dagger}\", subspace =\"b\", is_annihilation=False)\n",
    "\n",
    "hbar = RDsymbol(\"hbar\", order = 0)\n",
    "omega = RDsymbol(\"omega\", order = 0)\n",
    "Omega_z = RDsymbol(\"Omega_z\", order = 0)\n",
    "g = RDsymbol(\"g\", order = 1)\n",
    "f = RDsymbol(\"f\", order = 2)\n",
    "\n",
    "H = hbar * omega * ad * a + hbar * Omega_z * sp.Rational(1,2) * sz + hbar * g * (a + ad) * sx\n",
    "H"
   ]
  },
  {
   "cell_type": "code",
   "execution_count": 5,
   "id": "c9e49733",
   "metadata": {},
   "outputs": [
    {
     "data": {
      "text/latex": [
       "$\\displaystyle \\frac{\\hbar \\Omega_{z} \\sigma_{z}}{2} + \\hbar g a \\sigma_{x} + \\hbar g {a^\\dagger} \\sigma_{x} + \\hbar \\omega {a^\\dagger} a$"
      ],
      "text/plain": [
       "hbar*Omega_z*sigma_z/2 + hbar*g*a*sigma_x + hbar*g*{a^\\dagger}*sigma_x + hbar*omega*{a^\\dagger}*a"
      ]
     },
     "execution_count": 5,
     "metadata": {},
     "output_type": "execute_result"
    }
   ],
   "source": [
    "H_ordered = group_by_order(H)\n",
    "H0 = H_ordered.get(0, 0)\n",
    "Vk = H_ordered.get(1, 0)\n",
    "H0 + Vk"
   ]
  },
  {
   "cell_type": "code",
   "execution_count": 6,
   "id": "9386907d",
   "metadata": {},
   "outputs": [],
   "source": [
    "def make_matrix(name='a', n=2):\n",
    "    symbolss = [[sp.symbols(f'{name}_'+ '{' +f'{i}{j}' + '}') for j in range(n)] for i in range(n)]\n",
    "    s = sp.Matrix(symbolss)\n",
    "    return s, s.reshape(1,n*n)"
   ]
  },
  {
   "cell_type": "code",
   "execution_count": 7,
   "id": "1c44cc1b",
   "metadata": {},
   "outputs": [],
   "source": [
    "S1 = RDOperator('S1', subspace='finite', dim=2, matrix=make_matrix('S1', 2)[0])\n",
    "S2 = RDOperator('S2', subspace='finite', dim=2, matrix=make_matrix('S2', 2)[0])\n",
    "S1_total = S1 * a + S2 * ad\n",
    "equations_to_solve = group_by_infinite_operators(expand_commutator(Commutator(H0, S1_total)).doit() + Vk)\n",
    "equations = []\n",
    "for _, value in equations_to_solve.items():\n",
    "    equations.append(value)\n",
    "matrices = [get_matrix(eq) for eq in equations if eq != 0]"
   ]
  },
  {
   "cell_type": "code",
   "execution_count": 10,
   "id": "759d9735",
   "metadata": {},
   "outputs": [
    {
     "data": {
      "text/plain": [
       "[0]"
      ]
     },
     "execution_count": 10,
     "metadata": {},
     "output_type": "execute_result"
    }
   ],
   "source": [
    "sp.solve(list(matrices[0].reshape(4,1))[0], tuple(make_matrix('S1', 2)[0])[0])"
   ]
  },
  {
   "cell_type": "code",
   "execution_count": null,
   "id": "70e2e8ff",
   "metadata": {},
   "outputs": [],
   "source": [
    "tuple(make_matrix('S1', 2)[0])[0]"
   ]
  },
  {
   "cell_type": "code",
   "execution_count": null,
   "id": "3a41627b",
   "metadata": {},
   "outputs": [],
   "source": []
  }
 ],
 "metadata": {
  "kernelspec": {
   "display_name": "Python 3 (ipykernel)",
   "language": "python",
   "name": "python3"
  },
  "language_info": {
   "codemirror_mode": {
    "name": "ipython",
    "version": 3
   },
   "file_extension": ".py",
   "mimetype": "text/x-python",
   "name": "python",
   "nbconvert_exporter": "python",
   "pygments_lexer": "ipython3",
   "version": "3.11.5"
  }
 },
 "nbformat": 4,
 "nbformat_minor": 5
}
