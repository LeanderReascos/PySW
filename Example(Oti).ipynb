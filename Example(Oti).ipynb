{
 "cells": [
  {
   "cell_type": "code",
   "execution_count": 1,
   "id": "bc7754b7",
   "metadata": {},
   "outputs": [],
   "source": [
    "%load_ext autoreload\n",
    "%autoreload 2"
   ]
  },
  {
   "cell_type": "code",
   "execution_count": 2,
   "id": "4ca61b1e",
   "metadata": {},
   "outputs": [],
   "source": [
    "import sympy as sp\n",
    "from Modules.classes import Operator, Coefficient, Term, Expression"
   ]
  },
  {
   "cell_type": "code",
   "execution_count": 8,
   "id": "d723f42e",
   "metadata": {},
   "outputs": [],
   "source": [
    "X = Operator('sigma_x', mat_representation=sp.Matrix([[0, 1], [1, 0]]), subspace='spin')\n",
    "Y = Operator('tau_y', mat_representation=sp.Matrix([[0, -sp.I], [sp.I, 0]]), subspace='spin')\n",
    "a = Operator('a', subspace='oscillator', is_infinite=True, mat_representation=sp.sqrt(sp.Rational(1, 2)) * sp.Matrix([[0, 1], [0, 0]]))"
   ]
  },
  {
   "cell_type": "code",
   "execution_count": 9,
   "id": "6c8a73ef",
   "metadata": {},
   "outputs": [
    {
     "data": {
      "text/plain": [
       "True"
      ]
     },
     "execution_count": 9,
     "metadata": {},
     "output_type": "execute_result"
    }
   ],
   "source": [
    "(X * Y * a).is_infinite"
   ]
  },
  {
   "cell_type": "code",
   "execution_count": null,
   "id": "9a17f11a",
   "metadata": {},
   "outputs": [
    {
     "data": {
      "text/latex": [
       "$\\displaystyle g h$ $\\displaystyle \\sigma_{x}$ + $\\displaystyle g$ $\\displaystyle \\tau_{y}$"
      ],
      "text/plain": [
       "g*h sigma_x + g tau_y"
      ]
     },
     "execution_count": 5,
     "metadata": {},
     "output_type": "execute_result"
    }
   ],
   "source": [
    "g = Coefficient('g', order=1)\n",
    "h = Coefficient('h', order=2)\n",
    "\n",
    "res = g * h\n",
    "res * X + g*Y"
   ]
  },
  {
   "cell_type": "code",
   "execution_count": null,
   "id": "f249606d",
   "metadata": {},
   "outputs": [
    {
     "data": {
      "text/latex": [
       "$\\displaystyle 1$ $\\displaystyle \\sigma_{x} \\tau_{y}^{5}$ + $\\displaystyle -1$ $\\displaystyle \\tau_{y} \\sigma_{x} \\tau_{y}^{4}$ + $\\displaystyle -1$ $\\displaystyle \\tau_{y} \\sigma_{x} \\tau_{y}^{4}$ + $\\displaystyle 1$ $\\displaystyle \\tau_{y}^{2} \\sigma_{x} \\tau_{y}^{3}$ + $\\displaystyle -1$ $\\displaystyle \\tau_{y} \\sigma_{x} \\tau_{y}^{4}$ + $\\displaystyle 1$ $\\displaystyle \\tau_{y}^{2} \\sigma_{x} \\tau_{y}^{3}$ + $\\displaystyle 1$ $\\displaystyle \\tau_{y}^{2} \\sigma_{x} \\tau_{y}^{3}$ + $\\displaystyle -1$ $\\displaystyle \\tau_{y}^{3} \\sigma_{x} \\tau_{y}^{2}$ + $\\displaystyle -1$ $\\displaystyle \\tau_{y} \\sigma_{x} \\tau_{y}^{4}$ + $\\displaystyle 1$ $\\displaystyle \\tau_{y}^{2} \\sigma_{x} \\tau_{y}^{3}$ + $\\displaystyle 1$ $\\displaystyle \\tau_{y}^{2} \\sigma_{x} \\tau_{y}^{3}$ + $\\displaystyle -1$ $\\displaystyle \\tau_{y}^{3} \\sigma_{x} \\tau_{y}^{2}$ + $\\displaystyle 1$ $\\displaystyle \\tau_{y}^{2} \\sigma_{x} \\tau_{y}^{3}$ + $\\displaystyle -1$ $\\displaystyle \\tau_{y}^{3} \\sigma_{x} \\tau_{y}^{2}$ + $\\displaystyle -1$ $\\displaystyle \\tau_{y}^{3} \\sigma_{x} \\tau_{y}^{2}$ + $\\displaystyle 1$ $\\displaystyle \\tau_{y}^{4} \\sigma_{x} \\tau_{y}$ + $\\displaystyle -1$ $\\displaystyle \\tau_{y} \\sigma_{x} \\tau_{y}^{4}$ + $\\displaystyle 1$ $\\displaystyle \\tau_{y}^{2} \\sigma_{x} \\tau_{y}^{3}$ + $\\displaystyle 1$ $\\displaystyle \\tau_{y}^{2} \\sigma_{x} \\tau_{y}^{3}$ + $\\displaystyle -1$ $\\displaystyle \\tau_{y}^{3} \\sigma_{x} \\tau_{y}^{2}$ + $\\displaystyle 1$ $\\displaystyle \\tau_{y}^{2} \\sigma_{x} \\tau_{y}^{3}$ + $\\displaystyle -1$ $\\displaystyle \\tau_{y}^{3} \\sigma_{x} \\tau_{y}^{2}$ + $\\displaystyle -1$ $\\displaystyle \\tau_{y}^{3} \\sigma_{x} \\tau_{y}^{2}$ + $\\displaystyle 1$ $\\displaystyle \\tau_{y}^{4} \\sigma_{x} \\tau_{y}$ + $\\displaystyle 1$ $\\displaystyle \\tau_{y}^{2} \\sigma_{x} \\tau_{y}^{3}$ + $\\displaystyle -1$ $\\displaystyle \\tau_{y}^{3} \\sigma_{x} \\tau_{y}^{2}$ + $\\displaystyle -1$ $\\displaystyle \\tau_{y}^{3} \\sigma_{x} \\tau_{y}^{2}$ + $\\displaystyle 1$ $\\displaystyle \\tau_{y}^{4} \\sigma_{x} \\tau_{y}$ + $\\displaystyle -1$ $\\displaystyle \\tau_{y}^{3} \\sigma_{x} \\tau_{y}^{2}$ + $\\displaystyle 1$ $\\displaystyle \\tau_{y}^{4} \\sigma_{x} \\tau_{y}$ + $\\displaystyle 1$ $\\displaystyle \\tau_{y}^{4} \\sigma_{x} \\tau_{y}$ + $\\displaystyle -1$ $\\displaystyle \\tau_{y}^{5} \\sigma_{x}$"
      ],
      "text/plain": [
       "1 sigma_x*tau_y**5 + -1 tau_y*sigma_x*tau_y**4 + -1 tau_y*sigma_x*tau_y**4 + 1 tau_y**2*sigma_x*tau_y**3 + -1 tau_y*sigma_x*tau_y**4 + 1 tau_y**2*sigma_x*tau_y**3 + 1 tau_y**2*sigma_x*tau_y**3 + -1 tau_y**3*sigma_x*tau_y**2 + -1 tau_y*sigma_x*tau_y**4 + 1 tau_y**2*sigma_x*tau_y**3 + 1 tau_y**2*sigma_x*tau_y**3 + -1 tau_y**3*sigma_x*tau_y**2 + 1 tau_y**2*sigma_x*tau_y**3 + -1 tau_y**3*sigma_x*tau_y**2 + -1 tau_y**3*sigma_x*tau_y**2 + 1 tau_y**4*sigma_x*tau_y + -1 tau_y*sigma_x*tau_y**4 + 1 tau_y**2*sigma_x*tau_y**3 + 1 tau_y**2*sigma_x*tau_y**3 + -1 tau_y**3*sigma_x*tau_y**2 + 1 tau_y**2*sigma_x*tau_y**3 + -1 tau_y**3*sigma_x*tau_y**2 + -1 tau_y**3*sigma_x*tau_y**2 + 1 tau_y**4*sigma_x*tau_y + 1 tau_y**2*sigma_x*tau_y**3 + -1 tau_y**3*sigma_x*tau_y**2 + -1 tau_y**3*sigma_x*tau_y**2 + 1 tau_y**4*sigma_x*tau_y + -1 tau_y**3*sigma_x*tau_y**2 + 1 tau_y**4*sigma_x*tau_y + 1 tau_y**4*sigma_x*tau_y + -1 tau_y**5*sigma_x"
      ]
     },
     "execution_count": 12,
     "metadata": {},
     "output_type": "execute_result"
    }
   ],
   "source": []
  }
 ],
 "metadata": {
  "kernelspec": {
   "display_name": "Python 3 (ipykernel)",
   "language": "python",
   "name": "python3"
  },
  "language_info": {
   "codemirror_mode": {
    "name": "ipython",
    "version": 3
   },
   "file_extension": ".py",
   "mimetype": "text/x-python",
   "name": "python",
   "nbconvert_exporter": "python",
   "pygments_lexer": "ipython3",
   "version": "3.12.2"
  }
 },
 "nbformat": 4,
 "nbformat_minor": 5
}
