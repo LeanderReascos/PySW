{
 "cells": [
  {
   "cell_type": "code",
   "execution_count": null,
   "id": "bc7754b7",
   "metadata": {},
   "outputs": [],
   "source": [
    "%load_ext autoreload\n",
    "%autoreload 2"
   ]
  },
  {
   "cell_type": "code",
   "execution_count": null,
   "id": "4ca61b1e",
   "metadata": {},
   "outputs": [],
   "source": [
    "import sympy as sp\n",
    "import numpy as np\n",
    "from Modules.classes import Operator, Coefficient, Term, Expression\n",
    "from Modules.solver import *"
   ]
  },
  {
   "cell_type": "code",
   "execution_count": null,
   "id": "04077194",
   "metadata": {},
   "outputs": [],
   "source": [
    "hbar = Coefficient('hbar', order=0)\n",
    "omega = Coefficient('omega', order=0)\n",
    "Omega_z = Coefficient('Omega_z', order=0)\n",
    "g = Coefficient('g', order=1)\n",
    "\n",
    "a = Operator('a', subspace='oscillator', is_infinite=True, mat_representation=sp.Matrix([[0, 1, 0], [0, 0, 1], [0, 0, 0]]))\n",
    "a_dag = Operator('{a^\\\\dagger}', subspace='oscillator', is_infinite=True, mat_representation=sp.Matrix([[0, 0, 0], [1, 0, 0], [0, 1, 0]]))\n",
    "\n",
    "a.add_commutation_relation(a_dag, 1)\n",
    "a_dag.add_commutation_relation(a, -1)\n",
    "\n",
    "X = Operator('sigma_x', mat_representation=sp.Matrix([[0, 1], [1, 0]]), subspace='spin')\n",
    "Z = Operator('sigma_z', mat_representation=sp.Matrix([[1, 0], [0, -1]]), subspace='spin')\n",
    "Y = Operator('tau_y', mat_representation=sp.Matrix([[0, -1j], [1j, 0]]), subspace='charge')\n",
    "\n",
    "H = hbar * omega * a_dag * a + hbar * Omega_z * 0.5 * Z + hbar * g * (a + a_dag) * X\n",
    "H\n"
   ]
  },
  {
   "cell_type": "code",
   "execution_count": null,
   "id": "b45739a9",
   "metadata": {},
   "outputs": [],
   "source": [
    "H_new, subspaces = H.domain_expansion()"
   ]
  },
  {
   "cell_type": "code",
   "execution_count": null,
   "id": "e178aae6",
   "metadata": {},
   "outputs": [],
   "source": [
    "Vk = H_new.group_by_diagonal()[False].group_by_order()[1]\n",
    "Vk\n",
    "get_ansatz(Vk)[0]"
   ]
  },
  {
   "cell_type": "code",
   "execution_count": null,
   "id": "50cd6ac1",
   "metadata": {},
   "outputs": [],
   "source": [
    "subspaces"
   ]
  },
  {
   "cell_type": "code",
   "execution_count": null,
   "id": "27b9a46d",
   "metadata": {},
   "outputs": [],
   "source": [
    "H_new"
   ]
  },
  {
   "cell_type": "code",
   "execution_count": null,
   "id": "7f634612",
   "metadata": {},
   "outputs": [],
   "source": [
    "H_new.terms[0].info"
   ]
  },
  {
   "cell_type": "code",
   "execution_count": null,
   "id": "22c97254",
   "metadata": {},
   "outputs": [],
   "source": [
    "S, symbols_for_s = get_ansatz(H_new)\n",
    "S.terms[0].info"
   ]
  },
  {
   "cell_type": "code",
   "execution_count": null,
   "id": "db78b3f1",
   "metadata": {},
   "outputs": [],
   "source": [
    "for key, value in ((H_new.group_by_order()[0] | S ) + H_new.group_by_order()[1].group_by_diagonal()[False]).group_by_infinite_terms().items():\n",
    "    print(f'\\n\\n\\n{key}:\\n')\n",
    "    print([sp.Mul(*map(lambda x: x.representation , term.info[\"coeff\"])) for term in value.terms])\n",
    "    mats = sp.Add(*[sp.Mul(*map(lambda x: x.representation , term.info[\"coeff\"])) * term.mat_representation[\"finite\"] for term in value.terms])\n",
    "    display(mats)\n",
    "    display(sp.solve(mats, symbols_for_s))"
   ]
  },
  {
   "cell_type": "code",
   "execution_count": null,
   "id": "adb5308e",
   "metadata": {},
   "outputs": [],
   "source": [
    "from IPython.display import display, Math\n",
    "def solver(H, order):\n",
    "    H_expanded = H.domain_expansion()[0]\n",
    "    H_0 = H_expanded.group_by_order()[0]\n",
    "    H_final = deepcopy(H_0)\n",
    "    Bk = 0\n",
    "\n",
    "    S = 0\n",
    "\n",
    "    for k in range(1, order+1):\n",
    "        print(f\"Order {k}\")\n",
    "        H_below_k = sum(H_expanded.group_by_order().get(j, 0) for j in range(k+1))\n",
    "        Vk = H_below_k.group_by_diagonal()[False].group_by_order().get(k, 0)\n",
    "        S_k, symbols_sk = get_ansatz(Vk + Bk)\n",
    "        solution_sk = dict(zip(symbols_sk, [0 for _ in symbols_sk]))\n",
    "        #display(Bk)\n",
    "        for key, value in ((H_0 | S_k) + (Vk + Bk)).group_by_infinite_terms().items():\n",
    "            print(\"Im here 1\")\n",
    "            mats = sp.Add(*[sp.Mul(*map(lambda x: x.representation , term.info[\"coeff\"])) * term.mat_representation[\"finite\"] for term in value.terms])\n",
    "            solution_sk.update(sp.solve(mats, symbols_sk))\n",
    "        \n",
    "        S_k_solved = 0\n",
    "        for term in S_k.terms:\n",
    "            print(\"Im here 2\")\n",
    "            term.mat_representation[\"finite\"] = term.mat_representation[\"finite\"].subs(solution_sk)\n",
    "            if sum(sp.Abs(term.mat_representation[\"finite\"])) == 0:\n",
    "                continue\n",
    "            S_k_solved += term\n",
    "        S += S_k_solved\n",
    "        display(S)\n",
    "        tmp_H = float(1 / sp.factorial(k)) * H_below_k.nested_commutator(S, k)\n",
    "        H_final += tmp_H.group_by_diagonal().get(True, Expression(Term(Coefficient(0)))).group_by_order().get(k, 0)\n",
    "        display(H_final)\n",
    "        Bk = tmp_H.group_by_diagonal()[False].group_by_order()[k+1]\n",
    "    \n",
    "    return H_final\n"
   ]
  },
  {
   "cell_type": "code",
   "execution_count": null,
   "id": "2a19b11c",
   "metadata": {},
   "outputs": [],
   "source": [
    "H_expanded = H.domain_expansion()[0]\n",
    "H_expanded.group_by_order()[0]"
   ]
  },
  {
   "cell_type": "code",
   "execution_count": null,
   "id": "48cc08c3",
   "metadata": {},
   "outputs": [],
   "source": [
    "H"
   ]
  },
  {
   "cell_type": "code",
   "execution_count": null,
   "id": "1f53d6f9",
   "metadata": {},
   "outputs": [],
   "source": [
    "solver(H, 2)"
   ]
  },
  {
   "cell_type": "code",
   "execution_count": null,
   "id": "deb9075e",
   "metadata": {},
   "outputs": [],
   "source": [
    "for i in sp.Matrix([[1,2],[3,4]]):\n",
    "    print(i)"
   ]
  },
  {
   "cell_type": "markdown",
   "id": "32276bd5",
   "metadata": {},
   "source": [
    "# Trying out sympy module"
   ]
  },
  {
   "cell_type": "code",
   "execution_count": 1,
   "id": "e0d3a2f6",
   "metadata": {},
   "outputs": [],
   "source": [
    "%load_ext autoreload\n",
    "%autoreload 2"
   ]
  },
  {
   "cell_type": "code",
   "execution_count": 2,
   "id": "36587447",
   "metadata": {},
   "outputs": [],
   "source": [
    "import sympy as sp\n",
    "from Modules.sympy.classes import *"
   ]
  },
  {
   "cell_type": "code",
   "execution_count": 13,
   "id": "1e26ca94",
   "metadata": {},
   "outputs": [
    {
     "ename": "TypeError",
     "evalue": "Symbol.__new__() takes 2 positional arguments but 3 were given",
     "output_type": "error",
     "traceback": [
      "\u001b[0;31m---------------------------------------------------------------------------\u001b[0m",
      "\u001b[0;31mTypeError\u001b[0m                                 Traceback (most recent call last)",
      "Cell \u001b[0;32mIn[13], line 3\u001b[0m\n\u001b[1;32m      1\u001b[0m sx \u001b[38;5;241m=\u001b[39m RDOperator(\u001b[38;5;124m\"\u001b[39m\u001b[38;5;124msigma_x\u001b[39m\u001b[38;5;124m\"\u001b[39m, subspace \u001b[38;5;241m=\u001b[39m \u001b[38;5;124m\"\u001b[39m\u001b[38;5;124mspin\u001b[39m\u001b[38;5;124m\"\u001b[39m, matrix \u001b[38;5;241m=\u001b[39m sp\u001b[38;5;241m.\u001b[39mMatrix([[\u001b[38;5;241m0\u001b[39m,\u001b[38;5;241m1\u001b[39m],[\u001b[38;5;241m1\u001b[39m,\u001b[38;5;241m0\u001b[39m]]))\n\u001b[1;32m      2\u001b[0m sz \u001b[38;5;241m=\u001b[39m RDOperator(\u001b[38;5;124m\"\u001b[39m\u001b[38;5;124msigma_z\u001b[39m\u001b[38;5;124m\"\u001b[39m, subspace \u001b[38;5;241m=\u001b[39m \u001b[38;5;124m\"\u001b[39m\u001b[38;5;124mspin\u001b[39m\u001b[38;5;124m\"\u001b[39m, matrix \u001b[38;5;241m=\u001b[39m sp\u001b[38;5;241m.\u001b[39mMatrix([[\u001b[38;5;241m1\u001b[39m,\u001b[38;5;241m0\u001b[39m],[\u001b[38;5;241m0\u001b[39m,\u001b[38;5;241m-\u001b[39m\u001b[38;5;241m1\u001b[39m]]))\n\u001b[0;32m----> 3\u001b[0m hbar \u001b[38;5;241m=\u001b[39m RDsymbols(\u001b[38;5;124m\"\u001b[39m\u001b[38;5;124mhbar\u001b[39m\u001b[38;5;124m\"\u001b[39m, order \u001b[38;5;241m=\u001b[39m \u001b[38;5;241m0\u001b[39m)\n",
      "File \u001b[0;32m~/Desktop/University/Phd/PyFiles/PySW/Modules/sympy/classes.py:70\u001b[0m, in \u001b[0;36mRDsymbols.__new__\u001b[0;34m(cls, name, order)\u001b[0m\n\u001b[1;32m     69\u001b[0m \u001b[38;5;28;01mdef\u001b[39;00m \u001b[38;5;21m__new__\u001b[39m(\u001b[38;5;28mcls\u001b[39m, name, order):\n\u001b[0;32m---> 70\u001b[0m     \u001b[38;5;28;01mreturn\u001b[39;00m Symbol\u001b[38;5;241m.\u001b[39m\u001b[38;5;21m__new__\u001b[39m(\u001b[38;5;28mcls\u001b[39m, name, order)\n",
      "\u001b[0;31mTypeError\u001b[0m: Symbol.__new__() takes 2 positional arguments but 3 were given"
     ]
    }
   ],
   "source": [
    "sx = RDOperator(\"sigma_x\", subspace = \"spin\", matrix = sp.Matrix([[0,1],[1,0]]))\n",
    "sz = RDOperator(\"sigma_z\", subspace = \"spin\", matrix = sp.Matrix([[1,0],[0,-1]]))\n",
    "hbar = RDsymbols(\"hbar\", order = 0)"
   ]
  },
  {
   "cell_type": "code",
   "execution_count": 19,
   "id": "51cd08e5",
   "metadata": {},
   "outputs": [
    {
     "data": {
      "text/latex": [
       "$\\displaystyle \\sigma_{z}$"
      ],
      "text/plain": [
       "sigma_z"
      ]
     },
     "execution_count": 19,
     "metadata": {},
     "output_type": "execute_result"
    }
   ],
   "source": [
    "sz"
   ]
  },
  {
   "cell_type": "code",
   "execution_count": null,
   "id": "6442486a",
   "metadata": {},
   "outputs": [],
   "source": []
  }
 ],
 "metadata": {
  "kernelspec": {
   "display_name": "Python 3 (ipykernel)",
   "language": "python",
   "name": "python3"
  },
  "language_info": {
   "codemirror_mode": {
    "name": "ipython",
    "version": 3
   },
   "file_extension": ".py",
   "mimetype": "text/x-python",
   "name": "python",
   "nbconvert_exporter": "python",
   "pygments_lexer": "ipython3",
   "version": "3.11.5"
  }
 },
 "nbformat": 4,
 "nbformat_minor": 5
}
