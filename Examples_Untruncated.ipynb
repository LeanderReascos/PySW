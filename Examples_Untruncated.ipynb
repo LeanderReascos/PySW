{
 "cells": [
  {
   "cell_type": "markdown",
   "metadata": {},
   "source": [
    "# Rabi model"
   ]
  },
  {
   "cell_type": "code",
   "execution_count": 1,
   "metadata": {},
   "outputs": [],
   "source": [
    "import sympy as sp\n",
    "import numpy as np\n",
    "from Modules.sympy.classes import *\n",
    "from Modules.sympy.utils import *\n",
    "from Modules.sympy.untruncated.solver import *"
   ]
  },
  {
   "cell_type": "code",
   "execution_count": 2,
   "metadata": {},
   "outputs": [
    {
     "data": {
      "text/latex": [
       "$\\displaystyle \\frac{\\Omega_{z} \\hbar \\sigma_{3}}{2} - g \\hbar \\left(a + {a^\\dagger}\\right) \\sigma_{1} + \\hbar \\omega {a^\\dagger} a$"
      ],
      "text/plain": [
       "\\Omega_{z}*hbar*\\sigma_{3}/2 - g*hbar*(a + {a^\\dagger})*\\sigma_{1} + hbar*omega*{a^\\dagger}*a"
      ]
     },
     "execution_count": 2,
     "metadata": {},
     "output_type": "execute_result"
    }
   ],
   "source": [
    "Spin = RDBasis(\"\\\\sigma\", 'spin', dim=2)\n",
    "sx = Spin.project(sp.Matrix([[0, 1], [1, 0]]))\n",
    "sz = Spin.project(sp.Matrix([[1, 0], [0, -1]]))\n",
    "\n",
    "a = RDBoson(\"a\", subspace =\"b\")\n",
    "ad = RDBoson(\"{a^\\\\dagger}\", subspace =\"b\", is_annihilation=False)\n",
    "commutation_relations = {\n",
    "    a*ad: ad * a + 1,\n",
    "}\n",
    "\n",
    "hbar = RDsymbol(\"hbar\", order = 0)\n",
    "omega = RDsymbol(\"omega\", order = 0)\n",
    "Omega_z = RDsymbol(\"\\\\Omega_{z}\", order = 0)\n",
    "g = RDsymbol(\"g\", order = 1)\n",
    "\n",
    "H = hbar * omega * ad * a + hbar * Omega_z * sp.Rational(1,2) * sz - hbar * g * (a + ad) * sx\n",
    "H"
   ]
  },
  {
   "cell_type": "code",
   "execution_count": 3,
   "metadata": {},
   "outputs": [
    {
     "data": {
      "text/latex": [
       "$\\displaystyle \\frac{2 \\Omega_{z} g^{2} \\hbar {a^\\dagger} a \\sigma_{3}}{\\Omega_{z}^{2} - \\omega^{2}} + \\frac{\\Omega_{z} g^{2} \\hbar \\sigma_{3}}{\\Omega_{z}^{2} - \\omega^{2}} + \\frac{\\Omega_{z} \\hbar \\sigma_{3}}{2} + \\frac{g^{2} \\hbar \\omega}{\\Omega_{z}^{2} - \\omega^{2}} + \\hbar \\omega {a^\\dagger} a$"
      ],
      "text/plain": [
       "2*\\Omega_{z}*g**2*hbar*{a^\\dagger}*a*\\sigma_{3}/(\\Omega_{z}**2 - omega**2) + \\Omega_{z}*g**2*hbar*\\sigma_{3}/(\\Omega_{z}**2 - omega**2) + \\Omega_{z}*hbar*\\sigma_{3}/2 + g**2*hbar*omega/(\\Omega_{z}**2 - omega**2) + hbar*omega*{a^\\dagger}*a"
      ]
     },
     "execution_count": 3,
     "metadata": {},
     "output_type": "execute_result"
    }
   ],
   "source": [
    "sol = solver(H, Spin, order=2, full_diagonal=True, commutation_relations=commutation_relations)\n",
    "sol[0]"
   ]
  },
  {
   "cell_type": "markdown",
   "metadata": {},
   "source": [
    "# Jaynes-Cummings model"
   ]
  },
  {
   "cell_type": "code",
   "execution_count": 4,
   "metadata": {},
   "outputs": [],
   "source": [
    "import sympy as sp\n",
    "import numpy as np\n",
    "from Modules.sympy.classes import *\n",
    "from Modules.sympy.utils import *\n",
    "from Modules.sympy.untruncated.solver import *"
   ]
  },
  {
   "cell_type": "code",
   "execution_count": 5,
   "metadata": {},
   "outputs": [
    {
     "data": {
      "text/latex": [
       "$\\displaystyle - \\frac{\\omega_{q} \\sigma_{3}}{2} + \\omega_{r} {a^\\dagger} a + \\frac{g a \\left(\\sigma_{1} - i \\sigma_{2}\\right)}{2} + \\frac{g {a^\\dagger} \\left(\\sigma_{1} + i \\sigma_{2}\\right)}{2}$"
      ],
      "text/plain": [
       "-\\omega_{q}*\\sigma_{3}/2 + \\omega_{r}*{a^\\dagger}*a + g*a*(\\sigma_{1} - I*\\sigma_{2})/2 + g*{a^\\dagger}*(\\sigma_{1} + I*\\sigma_{2})/2"
      ]
     },
     "execution_count": 5,
     "metadata": {},
     "output_type": "execute_result"
    }
   ],
   "source": [
    "wr = RDsymbol(\"\\\\omega_{r}\", order = 0)\n",
    "wq = RDsymbol(\"\\\\omega_{q}\", order = 0)\n",
    "g = RDsymbol(\"g\", order = 1)\n",
    "\n",
    "Spin = RDBasis(\"\\\\sigma\", 'spin', dim=2)\n",
    "s0, sx, sy, sz = Spin._basis\n",
    "\n",
    "sigma_p = sp.Rational(1,2)* (sx + sp.I * sy)\n",
    "sigma_m = sp.Rational(1,2)* (sx - sp.I * sy)\n",
    "\n",
    "a = RDBoson(\"a\", subspace =\"resonator\")\n",
    "ad = RDBoson(\"{a^\\\\dagger}\", subspace =\"resonator\", is_annihilation=False)\n",
    "commutation_relations = {\n",
    "    a*ad: ad * a + 1,\n",
    "}\n",
    "\n",
    "\n",
    "H0 = wr * ad * a - wq * sp.Rational(1,2) * sz\n",
    "H = H0 + g * a* sigma_m + g * ad * sigma_p\n",
    "H"
   ]
  },
  {
   "cell_type": "code",
   "execution_count": 6,
   "metadata": {},
   "outputs": [
    {
     "data": {
      "text/latex": [
       "$\\displaystyle - \\frac{\\omega_{q} \\sigma_{3}}{2} + \\omega_{r} {a^\\dagger} a - \\frac{g^{2}}{2 \\omega_{q} - 2 \\omega_{r}} - \\frac{g^{2} \\sigma_{3}}{2 \\omega_{q} - 2 \\omega_{r}} + \\frac{g^{2}}{\\omega_{q} - \\omega_{r}} - \\frac{g^{2} {a^\\dagger} a \\sigma_{3}}{\\omega_{q} - \\omega_{r}}$"
      ],
      "text/plain": [
       "-\\omega_{q}*\\sigma_{3}/2 + \\omega_{r}*{a^\\dagger}*a - g**2/(2*\\omega_{q} - 2*\\omega_{r}) - g**2*\\sigma_{3}/(2*\\omega_{q} - 2*\\omega_{r}) + g**2/(\\omega_{q} - \\omega_{r}) - g**2*{a^\\dagger}*a*\\sigma_{3}/(\\omega_{q} - \\omega_{r})"
      ]
     },
     "execution_count": 6,
     "metadata": {},
     "output_type": "execute_result"
    }
   ],
   "source": [
    "sol= solver(H, Spin, order=2, full_diagonal=True, commutation_relations=commutation_relations)\n",
    "sol[0]"
   ]
  },
  {
   "cell_type": "markdown",
   "metadata": {},
   "source": [
    "# Transmon qubit coupled to resonator"
   ]
  },
  {
   "cell_type": "code",
   "execution_count": 7,
   "metadata": {},
   "outputs": [],
   "source": [
    "import sympy as sp\n",
    "import numpy as np\n",
    "from Modules.sympy.classes import *\n",
    "from Modules.sympy.utils import *\n",
    "from Modules.sympy.untruncated.solver import *"
   ]
  },
  {
   "cell_type": "code",
   "execution_count": 8,
   "metadata": {},
   "outputs": [
    {
     "data": {
      "text/latex": [
       "$\\displaystyle \\frac{\\alpha \\left(\\left({a_t^\\dagger} {a_t}\\right)^{2} - {a_t^\\dagger} {a_t}\\right)}{2} + \\omega_{r} \\left(\\frac{1}{2} + {a_r^\\dagger} {a_r}\\right) - \\omega_{t} \\left(- \\frac{1}{2} + {a_t^\\dagger} {a_t}\\right) - g \\left({a_t^\\dagger} - {a_t}\\right) \\left({a_r^\\dagger} - {a_r}\\right)$"
      ],
      "text/plain": [
       "\\alpha*(({a_t^\\dagger}*{a_t})**2 - {a_t^\\dagger}*{a_t})/2 + \\omega_{r}*(1/2 + {a_r^\\dagger}*{a_r}) - \\omega_{t}*(-1/2 + {a_t^\\dagger}*{a_t}) - g*({a_t^\\dagger} - {a_t})*({a_r^\\dagger} - {a_r})"
      ]
     },
     "execution_count": 8,
     "metadata": {},
     "output_type": "execute_result"
    }
   ],
   "source": [
    "Finite = RDBasis(\"1\", 'finite', dim=1)\n",
    "\n",
    "at = RDBoson(\"{a_t}\", subspace =\"transmon\")\n",
    "adt = RDBoson(\"{a_t^\\\\dagger}\", subspace =\"transmon\", is_annihilation=False)\n",
    "ar = RDBoson(\"{a_r}\", subspace =\"resonator\")\n",
    "adr = RDBoson(\"{a_r^\\\\dagger}\", subspace =\"resonator\", is_annihilation=False)\n",
    "commutation_relations = {\n",
    "    #at * adt : adt * at + 1,\n",
    "    #ar * adr : adr * ar + 1,\n",
    "    ar * adt : adt * ar,\n",
    "    adr * at : at * adr,\n",
    "    ar * at : at * ar,\n",
    "    adr * adt : adt * adr,\n",
    "}\n",
    "\n",
    "omega_t = RDsymbol(\"\\\\omega_{t}\", order = 0)\n",
    "omega_r = RDsymbol(\"\\\\omega_{r}\", order = 0)\n",
    "alpha = RDsymbol(\"\\\\alpha\", order = 0)\n",
    "g = RDsymbol(\"g\", order = 1)\n",
    "\n",
    "H0 =  -omega_t * ( adt * at  - sp.Rational(1,2) )  + omega_r * (adr *ar + sp.Rational(1,2)) + sp.Rational(1,2) * alpha * ((adt*at)**2 - adt*at)\n",
    "H = H0 - g * (adt  - at) * (adr - ar) \n",
    "H"
   ]
  },
  {
   "cell_type": "code",
   "execution_count": 9,
   "metadata": {},
   "outputs": [
    {
     "name": "stderr",
     "output_type": "stream",
     "text": [
      "c:\\Users\\reascoir\\OneDrive - Universität Augsburg\\PhD_Brain\\Python Notebooks\\Packages\\PySW\\Modules\\sympy\\untruncated\\solver.py:207: UserWarning: \n",
      "Inconsistency in equations to solve. The equations used to solve for S are not linearly independent.\n",
      "Full diagonalization up to the selected order for the given problem is not yet supported. We\n",
      "recommend to either lower perturbation order, or otherwise use the truncated solver.\n",
      "  warnings.warn('\\n' + warnig_message)\n"
     ]
    },
    {
     "data": {
      "text/latex": [
       "$\\displaystyle \\frac{2 \\alpha g^{2} {a_r^\\dagger} {a_r}}{\\alpha^{2} + 4 \\alpha \\omega_{t} - 4 \\omega_{r}^{2} + 4 \\omega_{t}^{2}} + \\frac{2 \\alpha g^{2} {a_r} {a_r^\\dagger}}{\\alpha^{2} + 4 \\alpha \\omega_{t} - 4 \\omega_{r}^{2} + 4 \\omega_{t}^{2}} - \\frac{\\alpha {a_t^\\dagger} {a_t}}{2} + \\frac{\\alpha {a_t^\\dagger} {a_t} {a_t^\\dagger} {a_t}}{2} + \\frac{4 \\omega_{r} g^{2} {a_t^\\dagger} {a_t}}{\\alpha^{2} + 4 \\alpha \\omega_{t} - 4 \\omega_{r}^{2} + 4 \\omega_{t}^{2}} + \\frac{4 \\omega_{r} g^{2} {a_t} {a_t^\\dagger}}{\\alpha^{2} + 4 \\alpha \\omega_{t} - 4 \\omega_{r}^{2} + 4 \\omega_{t}^{2}} + \\frac{\\omega_{r}}{2} + \\omega_{r} {a_r^\\dagger} {a_r} + \\frac{4 \\omega_{t} g^{2} {a_r^\\dagger} {a_r}}{\\alpha^{2} + 4 \\alpha \\omega_{t} - 4 \\omega_{r}^{2} + 4 \\omega_{t}^{2}} + \\frac{4 \\omega_{t} g^{2} {a_r} {a_r^\\dagger}}{\\alpha^{2} + 4 \\alpha \\omega_{t} - 4 \\omega_{r}^{2} + 4 \\omega_{t}^{2}} + \\frac{\\omega_{t}}{2} - \\omega_{t} {a_t^\\dagger} {a_t}$"
      ],
      "text/plain": [
       "2*\\alpha*g**2*{a_r^\\dagger}*{a_r}/(\\alpha**2 + 4*\\alpha*\\omega_{t} - 4*\\omega_{r}**2 + 4*\\omega_{t}**2) + 2*\\alpha*g**2*{a_r}*{a_r^\\dagger}/(\\alpha**2 + 4*\\alpha*\\omega_{t} - 4*\\omega_{r}**2 + 4*\\omega_{t}**2) - \\alpha*{a_t^\\dagger}*{a_t}/2 + \\alpha*{a_t^\\dagger}*{a_t}*{a_t^\\dagger}*{a_t}/2 + 4*\\omega_{r}*g**2*{a_t^\\dagger}*{a_t}/(\\alpha**2 + 4*\\alpha*\\omega_{t} - 4*\\omega_{r}**2 + 4*\\omega_{t}**2) + 4*\\omega_{r}*g**2*{a_t}*{a_t^\\dagger}/(\\alpha**2 + 4*\\alpha*\\omega_{t} - 4*\\omega_{r}**2 + 4*\\omega_{t}**2) + \\omega_{r}/2 + \\omega_{r}*{a_r^\\dagger}*{a_r} + 4*\\omega_{t}*g**2*{a_r^\\dagger}*{a_r}/(\\alpha**2 + 4*\\alpha*\\omega_{t} - 4*\\omega_{r}**2 + 4*\\omega_{t}**2) + 4*\\omega_{t}*g**2*{a_r}*{a_r^\\dagger}/(\\alpha**2 + 4*\\alpha*\\omega_{t} - 4*\\omega_{r}**2 + 4*\\omega_{t}**2) + \\omega_{t}/2 - \\omega_{t}*{a_t^\\dagger}*{a_t}"
      ]
     },
     "execution_count": 9,
     "metadata": {},
     "output_type": "execute_result"
    }
   ],
   "source": [
    "sol= solver(H, Finite, order=2, full_diagonal=True, commutation_relations=commutation_relations)\n",
    "sol[0]"
   ]
  },
  {
   "cell_type": "markdown",
   "metadata": {},
   "source": [
    "# Spin-Charge qubit coupled to resonator"
   ]
  },
  {
   "cell_type": "code",
   "execution_count": 10,
   "metadata": {},
   "outputs": [
    {
     "data": {
      "text/latex": [
       "$\\displaystyle \\frac{E_{\\sigma} \\sigma_{3}}{2} + \\frac{E_{\\tau} \\tau_{3}}{2} + \\omega \\hbar {a^\\dagger} a + \\left(g_{s} \\sigma_{1} \\tau_{3} - g_{t} \\tau_{1}\\right) \\left(a + {a^\\dagger}\\right)$"
      ],
      "text/plain": [
       "E_sigma*\\sigma_{3}/2 + E_tau*\\tau_{3}/2 + \\omega*hbar*{a^\\dagger}*a + (g_s*\\sigma_{1}*\\tau_{3} - g_t*\\tau_{1})*(a + {a^\\dagger})"
      ]
     },
     "execution_count": 10,
     "metadata": {},
     "output_type": "execute_result"
    }
   ],
   "source": [
    "Spin = RDBasis(\"\\\\sigma\", 'spin', dim=2)\n",
    "Charge = RDBasis(\"\\\\tau\",\"charge\", dim=2)\n",
    "Finite = RDCompositeBasis([Spin, Charge])\n",
    "\n",
    "sx = Spin.project(sp.Matrix([[0, 1], [1, 0]]))\n",
    "sz = Spin.project(sp.Matrix([[1, 0], [0, -1]]))\n",
    "\n",
    "tx = Charge.project(sp.Matrix([[0, 1], [1, 0]]))\n",
    "tz = Charge.project(sp.Matrix([[1, 0], [0, -1]]))\n",
    "\n",
    "a = RDBoson(\"a\", subspace =\"b\")\n",
    "ad = RDBoson(\"{a^\\\\dagger}\", subspace =\"b\", is_annihilation=False)\n",
    "commutation_relations = {\n",
    "    a*ad: ad * a + 1,\n",
    "}\n",
    "\n",
    "hbar = RDsymbol(\"hbar\", order = 0)\n",
    "Et = RDsymbol(\"E_tau\", order = 0)\n",
    "Es = RDsymbol(\"E_sigma\", order = 0)\n",
    "omega = RDsymbol(\"\\\\omega\", order = 0) \n",
    "gs = RDsymbol(\"g_s\", order = 1)\n",
    "gt = RDsymbol(\"g_t\", order = 1)\n",
    "\n",
    "H0 = hbar * omega * ad * a + Et * sp.Rational(1,2) * tz + Es * sp.Rational(1,2) * sz \n",
    "H = H0  + (-gt * tx + gs * sx * tz) * (a + ad)\n",
    "H"
   ]
  },
  {
   "cell_type": "code",
   "execution_count": 11,
   "metadata": {
    "collapsed": true
   },
   "outputs": [
    {
     "data": {
      "text/latex": [
       "$\\displaystyle \\frac{E_{\\sigma}^{2} E_{\\tau} g_{s} g_{t} a^{2} \\sigma_{1} \\tau_{1}}{E_{\\sigma}^{2} E_{\\tau}^{2} - E_{\\sigma}^{2} \\omega^{2} \\hbar^{2} - E_{\\tau}^{2} \\omega^{2} \\hbar^{2} + \\omega^{4} \\hbar^{4}} + \\frac{2 E_{\\sigma}^{2} E_{\\tau} g_{s} g_{t} {a^\\dagger} a \\sigma_{1} \\tau_{1}}{E_{\\sigma}^{2} E_{\\tau}^{2} - E_{\\sigma}^{2} \\omega^{2} \\hbar^{2} - E_{\\tau}^{2} \\omega^{2} \\hbar^{2} + \\omega^{4} \\hbar^{4}} + \\frac{E_{\\sigma}^{2} E_{\\tau} g_{s} g_{t} {a^\\dagger}^{2} \\sigma_{1} \\tau_{1}}{E_{\\sigma}^{2} E_{\\tau}^{2} - E_{\\sigma}^{2} \\omega^{2} \\hbar^{2} - E_{\\tau}^{2} \\omega^{2} \\hbar^{2} + \\omega^{4} \\hbar^{4}} + \\frac{E_{\\sigma}^{2} E_{\\tau} g_{s} g_{t} \\sigma_{1} \\tau_{1}}{E_{\\sigma}^{2} E_{\\tau}^{2} - E_{\\sigma}^{2} \\omega^{2} \\hbar^{2} - E_{\\tau}^{2} \\omega^{2} \\hbar^{2} + \\omega^{4} \\hbar^{4}} + \\frac{E_{\\sigma}^{2} E_{\\tau} g_{t}^{2} a^{2} \\tau_{3}}{E_{\\sigma}^{2} E_{\\tau}^{2} - E_{\\sigma}^{2} \\omega^{2} \\hbar^{2} - E_{\\tau}^{2} \\omega^{2} \\hbar^{2} + \\omega^{4} \\hbar^{4}} + \\frac{2 E_{\\sigma}^{2} E_{\\tau} g_{t}^{2} {a^\\dagger} a \\tau_{3}}{E_{\\sigma}^{2} E_{\\tau}^{2} - E_{\\sigma}^{2} \\omega^{2} \\hbar^{2} - E_{\\tau}^{2} \\omega^{2} \\hbar^{2} + \\omega^{4} \\hbar^{4}} + \\frac{E_{\\sigma}^{2} E_{\\tau} g_{t}^{2} {a^\\dagger}^{2} \\tau_{3}}{E_{\\sigma}^{2} E_{\\tau}^{2} - E_{\\sigma}^{2} \\omega^{2} \\hbar^{2} - E_{\\tau}^{2} \\omega^{2} \\hbar^{2} + \\omega^{4} \\hbar^{4}} + \\frac{E_{\\sigma}^{2} E_{\\tau} g_{t}^{2} \\tau_{3}}{E_{\\sigma}^{2} E_{\\tau}^{2} - E_{\\sigma}^{2} \\omega^{2} \\hbar^{2} - E_{\\tau}^{2} \\omega^{2} \\hbar^{2} + \\omega^{4} \\hbar^{4}} + \\frac{i E_{\\sigma}^{2} \\omega g_{s} g_{t} \\hbar a^{2} \\sigma_{1} \\tau_{2}}{E_{\\sigma}^{2} E_{\\tau}^{2} - E_{\\sigma}^{2} \\omega^{2} \\hbar^{2} - E_{\\tau}^{2} \\omega^{2} \\hbar^{2} + \\omega^{4} \\hbar^{4}} - \\frac{i E_{\\sigma}^{2} \\omega g_{s} g_{t} \\hbar {a^\\dagger}^{2} \\sigma_{1} \\tau_{2}}{E_{\\sigma}^{2} E_{\\tau}^{2} - E_{\\sigma}^{2} \\omega^{2} \\hbar^{2} - E_{\\tau}^{2} \\omega^{2} \\hbar^{2} + \\omega^{4} \\hbar^{4}} + \\frac{E_{\\sigma}^{2} \\omega g_{t}^{2} \\hbar}{E_{\\sigma}^{2} E_{\\tau}^{2} - E_{\\sigma}^{2} \\omega^{2} \\hbar^{2} - E_{\\tau}^{2} \\omega^{2} \\hbar^{2} + \\omega^{4} \\hbar^{4}} + \\frac{E_{\\sigma} E_{\\tau}^{2} g_{s}^{2} a^{2} \\sigma_{3}}{E_{\\sigma}^{2} E_{\\tau}^{2} - E_{\\sigma}^{2} \\omega^{2} \\hbar^{2} - E_{\\tau}^{2} \\omega^{2} \\hbar^{2} + \\omega^{4} \\hbar^{4}} + \\frac{2 E_{\\sigma} E_{\\tau}^{2} g_{s}^{2} {a^\\dagger} a \\sigma_{3}}{E_{\\sigma}^{2} E_{\\tau}^{2} - E_{\\sigma}^{2} \\omega^{2} \\hbar^{2} - E_{\\tau}^{2} \\omega^{2} \\hbar^{2} + \\omega^{4} \\hbar^{4}} + \\frac{E_{\\sigma} E_{\\tau}^{2} g_{s}^{2} {a^\\dagger}^{2} \\sigma_{3}}{E_{\\sigma}^{2} E_{\\tau}^{2} - E_{\\sigma}^{2} \\omega^{2} \\hbar^{2} - E_{\\tau}^{2} \\omega^{2} \\hbar^{2} + \\omega^{4} \\hbar^{4}} + \\frac{E_{\\sigma} E_{\\tau}^{2} g_{s}^{2} \\sigma_{3}}{E_{\\sigma}^{2} E_{\\tau}^{2} - E_{\\sigma}^{2} \\omega^{2} \\hbar^{2} - E_{\\tau}^{2} \\omega^{2} \\hbar^{2} + \\omega^{4} \\hbar^{4}} + \\frac{E_{\\sigma} E_{\\tau}^{2} g_{s} g_{t} a^{2} \\sigma_{2} \\tau_{2}}{E_{\\sigma}^{2} E_{\\tau}^{2} - E_{\\sigma}^{2} \\omega^{2} \\hbar^{2} - E_{\\tau}^{2} \\omega^{2} \\hbar^{2} + \\omega^{4} \\hbar^{4}} + \\frac{2 E_{\\sigma} E_{\\tau}^{2} g_{s} g_{t} {a^\\dagger} a \\sigma_{2} \\tau_{2}}{E_{\\sigma}^{2} E_{\\tau}^{2} - E_{\\sigma}^{2} \\omega^{2} \\hbar^{2} - E_{\\tau}^{2} \\omega^{2} \\hbar^{2} + \\omega^{4} \\hbar^{4}} + \\frac{E_{\\sigma} E_{\\tau}^{2} g_{s} g_{t} {a^\\dagger}^{2} \\sigma_{2} \\tau_{2}}{E_{\\sigma}^{2} E_{\\tau}^{2} - E_{\\sigma}^{2} \\omega^{2} \\hbar^{2} - E_{\\tau}^{2} \\omega^{2} \\hbar^{2} + \\omega^{4} \\hbar^{4}} + \\frac{E_{\\sigma} E_{\\tau}^{2} g_{s} g_{t} \\sigma_{2} \\tau_{2}}{E_{\\sigma}^{2} E_{\\tau}^{2} - E_{\\sigma}^{2} \\omega^{2} \\hbar^{2} - E_{\\tau}^{2} \\omega^{2} \\hbar^{2} + \\omega^{4} \\hbar^{4}} - \\frac{E_{\\sigma} \\omega^{2} g_{s}^{2} \\hbar^{2} a^{2} \\sigma_{3}}{E_{\\sigma}^{2} E_{\\tau}^{2} - E_{\\sigma}^{2} \\omega^{2} \\hbar^{2} - E_{\\tau}^{2} \\omega^{2} \\hbar^{2} + \\omega^{4} \\hbar^{4}} - \\frac{2 E_{\\sigma} \\omega^{2} g_{s}^{2} \\hbar^{2} {a^\\dagger} a \\sigma_{3}}{E_{\\sigma}^{2} E_{\\tau}^{2} - E_{\\sigma}^{2} \\omega^{2} \\hbar^{2} - E_{\\tau}^{2} \\omega^{2} \\hbar^{2} + \\omega^{4} \\hbar^{4}} - \\frac{E_{\\sigma} \\omega^{2} g_{s}^{2} \\hbar^{2} {a^\\dagger}^{2} \\sigma_{3}}{E_{\\sigma}^{2} E_{\\tau}^{2} - E_{\\sigma}^{2} \\omega^{2} \\hbar^{2} - E_{\\tau}^{2} \\omega^{2} \\hbar^{2} + \\omega^{4} \\hbar^{4}} - \\frac{E_{\\sigma} \\omega^{2} g_{s}^{2} \\hbar^{2} \\sigma_{3}}{E_{\\sigma}^{2} E_{\\tau}^{2} - E_{\\sigma}^{2} \\omega^{2} \\hbar^{2} - E_{\\tau}^{2} \\omega^{2} \\hbar^{2} + \\omega^{4} \\hbar^{4}} - \\frac{E_{\\sigma} \\omega^{2} g_{s} g_{t} \\hbar^{2} a^{2} \\sigma_{2} \\tau_{2}}{E_{\\sigma}^{2} E_{\\tau}^{2} - E_{\\sigma}^{2} \\omega^{2} \\hbar^{2} - E_{\\tau}^{2} \\omega^{2} \\hbar^{2} + \\omega^{4} \\hbar^{4}} - \\frac{2 E_{\\sigma} \\omega^{2} g_{s} g_{t} \\hbar^{2} {a^\\dagger} a \\sigma_{2} \\tau_{2}}{E_{\\sigma}^{2} E_{\\tau}^{2} - E_{\\sigma}^{2} \\omega^{2} \\hbar^{2} - E_{\\tau}^{2} \\omega^{2} \\hbar^{2} + \\omega^{4} \\hbar^{4}} - \\frac{E_{\\sigma} \\omega^{2} g_{s} g_{t} \\hbar^{2} {a^\\dagger}^{2} \\sigma_{2} \\tau_{2}}{E_{\\sigma}^{2} E_{\\tau}^{2} - E_{\\sigma}^{2} \\omega^{2} \\hbar^{2} - E_{\\tau}^{2} \\omega^{2} \\hbar^{2} + \\omega^{4} \\hbar^{4}} - \\frac{E_{\\sigma} \\omega^{2} g_{s} g_{t} \\hbar^{2} \\sigma_{2} \\tau_{2}}{E_{\\sigma}^{2} E_{\\tau}^{2} - E_{\\sigma}^{2} \\omega^{2} \\hbar^{2} - E_{\\tau}^{2} \\omega^{2} \\hbar^{2} + \\omega^{4} \\hbar^{4}} + \\frac{E_{\\sigma} \\sigma_{3}}{2} + \\frac{E_{\\tau}^{2} \\omega g_{s}^{2} \\hbar}{E_{\\sigma}^{2} E_{\\tau}^{2} - E_{\\sigma}^{2} \\omega^{2} \\hbar^{2} - E_{\\tau}^{2} \\omega^{2} \\hbar^{2} + \\omega^{4} \\hbar^{4}} - \\frac{i E_{\\tau}^{2} \\omega g_{s} g_{t} \\hbar a^{2} \\sigma_{1} \\tau_{2}}{E_{\\sigma}^{2} E_{\\tau}^{2} - E_{\\sigma}^{2} \\omega^{2} \\hbar^{2} - E_{\\tau}^{2} \\omega^{2} \\hbar^{2} + \\omega^{4} \\hbar^{4}} + \\frac{i E_{\\tau}^{2} \\omega g_{s} g_{t} \\hbar {a^\\dagger}^{2} \\sigma_{1} \\tau_{2}}{E_{\\sigma}^{2} E_{\\tau}^{2} - E_{\\sigma}^{2} \\omega^{2} \\hbar^{2} - E_{\\tau}^{2} \\omega^{2} \\hbar^{2} + \\omega^{4} \\hbar^{4}} - \\frac{E_{\\tau} \\omega^{2} g_{s} g_{t} \\hbar^{2} a^{2} \\sigma_{1} \\tau_{1}}{E_{\\sigma}^{2} E_{\\tau}^{2} - E_{\\sigma}^{2} \\omega^{2} \\hbar^{2} - E_{\\tau}^{2} \\omega^{2} \\hbar^{2} + \\omega^{4} \\hbar^{4}} - \\frac{2 E_{\\tau} \\omega^{2} g_{s} g_{t} \\hbar^{2} {a^\\dagger} a \\sigma_{1} \\tau_{1}}{E_{\\sigma}^{2} E_{\\tau}^{2} - E_{\\sigma}^{2} \\omega^{2} \\hbar^{2} - E_{\\tau}^{2} \\omega^{2} \\hbar^{2} + \\omega^{4} \\hbar^{4}} - \\frac{E_{\\tau} \\omega^{2} g_{s} g_{t} \\hbar^{2} {a^\\dagger}^{2} \\sigma_{1} \\tau_{1}}{E_{\\sigma}^{2} E_{\\tau}^{2} - E_{\\sigma}^{2} \\omega^{2} \\hbar^{2} - E_{\\tau}^{2} \\omega^{2} \\hbar^{2} + \\omega^{4} \\hbar^{4}} - \\frac{E_{\\tau} \\omega^{2} g_{s} g_{t} \\hbar^{2} \\sigma_{1} \\tau_{1}}{E_{\\sigma}^{2} E_{\\tau}^{2} - E_{\\sigma}^{2} \\omega^{2} \\hbar^{2} - E_{\\tau}^{2} \\omega^{2} \\hbar^{2} + \\omega^{4} \\hbar^{4}} - \\frac{E_{\\tau} \\omega^{2} g_{t}^{2} \\hbar^{2} a^{2} \\tau_{3}}{E_{\\sigma}^{2} E_{\\tau}^{2} - E_{\\sigma}^{2} \\omega^{2} \\hbar^{2} - E_{\\tau}^{2} \\omega^{2} \\hbar^{2} + \\omega^{4} \\hbar^{4}} - \\frac{2 E_{\\tau} \\omega^{2} g_{t}^{2} \\hbar^{2} {a^\\dagger} a \\tau_{3}}{E_{\\sigma}^{2} E_{\\tau}^{2} - E_{\\sigma}^{2} \\omega^{2} \\hbar^{2} - E_{\\tau}^{2} \\omega^{2} \\hbar^{2} + \\omega^{4} \\hbar^{4}} - \\frac{E_{\\tau} \\omega^{2} g_{t}^{2} \\hbar^{2} {a^\\dagger}^{2} \\tau_{3}}{E_{\\sigma}^{2} E_{\\tau}^{2} - E_{\\sigma}^{2} \\omega^{2} \\hbar^{2} - E_{\\tau}^{2} \\omega^{2} \\hbar^{2} + \\omega^{4} \\hbar^{4}} - \\frac{E_{\\tau} \\omega^{2} g_{t}^{2} \\hbar^{2} \\tau_{3}}{E_{\\sigma}^{2} E_{\\tau}^{2} - E_{\\sigma}^{2} \\omega^{2} \\hbar^{2} - E_{\\tau}^{2} \\omega^{2} \\hbar^{2} + \\omega^{4} \\hbar^{4}} + \\frac{E_{\\tau} \\tau_{3}}{2} - \\frac{\\omega^{3} g_{s}^{2} \\hbar^{3}}{E_{\\sigma}^{2} E_{\\tau}^{2} - E_{\\sigma}^{2} \\omega^{2} \\hbar^{2} - E_{\\tau}^{2} \\omega^{2} \\hbar^{2} + \\omega^{4} \\hbar^{4}} - \\frac{\\omega^{3} g_{t}^{2} \\hbar^{3}}{E_{\\sigma}^{2} E_{\\tau}^{2} - E_{\\sigma}^{2} \\omega^{2} \\hbar^{2} - E_{\\tau}^{2} \\omega^{2} \\hbar^{2} + \\omega^{4} \\hbar^{4}} + \\omega \\hbar {a^\\dagger} a$"
      ],
      "text/plain": [
       "E_sigma**2*E_tau*g_s*g_t*a**2*\\sigma_{1}*\\tau_{1}/(E_sigma**2*E_tau**2 - E_sigma**2*\\omega**2*hbar**2 - E_tau**2*\\omega**2*hbar**2 + \\omega**4*hbar**4) + 2*E_sigma**2*E_tau*g_s*g_t*{a^\\dagger}*a*\\sigma_{1}*\\tau_{1}/(E_sigma**2*E_tau**2 - E_sigma**2*\\omega**2*hbar**2 - E_tau**2*\\omega**2*hbar**2 + \\omega**4*hbar**4) + E_sigma**2*E_tau*g_s*g_t*{a^\\dagger}**2*\\sigma_{1}*\\tau_{1}/(E_sigma**2*E_tau**2 - E_sigma**2*\\omega**2*hbar**2 - E_tau**2*\\omega**2*hbar**2 + \\omega**4*hbar**4) + E_sigma**2*E_tau*g_s*g_t*\\sigma_{1}*\\tau_{1}/(E_sigma**2*E_tau**2 - E_sigma**2*\\omega**2*hbar**2 - E_tau**2*\\omega**2*hbar**2 + \\omega**4*hbar**4) + E_sigma**2*E_tau*g_t**2*a**2*\\tau_{3}/(E_sigma**2*E_tau**2 - E_sigma**2*\\omega**2*hbar**2 - E_tau**2*\\omega**2*hbar**2 + \\omega**4*hbar**4) + 2*E_sigma**2*E_tau*g_t**2*{a^\\dagger}*a*\\tau_{3}/(E_sigma**2*E_tau**2 - E_sigma**2*\\omega**2*hbar**2 - E_tau**2*\\omega**2*hbar**2 + \\omega**4*hbar**4) + E_sigma**2*E_tau*g_t**2*{a^\\dagger}**2*\\tau_{3}/(E_sigma**2*E_tau**2 - E_sigma**2*\\omega**2*hbar**2 - E_tau**2*\\omega**2*hbar**2 + \\omega**4*hbar**4) + E_sigma**2*E_tau*g_t**2*\\tau_{3}/(E_sigma**2*E_tau**2 - E_sigma**2*\\omega**2*hbar**2 - E_tau**2*\\omega**2*hbar**2 + \\omega**4*hbar**4) + I*E_sigma**2*\\omega*g_s*g_t*hbar*a**2*\\sigma_{1}*\\tau_{2}/(E_sigma**2*E_tau**2 - E_sigma**2*\\omega**2*hbar**2 - E_tau**2*\\omega**2*hbar**2 + \\omega**4*hbar**4) - I*E_sigma**2*\\omega*g_s*g_t*hbar*{a^\\dagger}**2*\\sigma_{1}*\\tau_{2}/(E_sigma**2*E_tau**2 - E_sigma**2*\\omega**2*hbar**2 - E_tau**2*\\omega**2*hbar**2 + \\omega**4*hbar**4) + E_sigma**2*\\omega*g_t**2*hbar/(E_sigma**2*E_tau**2 - E_sigma**2*\\omega**2*hbar**2 - E_tau**2*\\omega**2*hbar**2 + \\omega**4*hbar**4) + E_sigma*E_tau**2*g_s**2*a**2*\\sigma_{3}/(E_sigma**2*E_tau**2 - E_sigma**2*\\omega**2*hbar**2 - E_tau**2*\\omega**2*hbar**2 + \\omega**4*hbar**4) + 2*E_sigma*E_tau**2*g_s**2*{a^\\dagger}*a*\\sigma_{3}/(E_sigma**2*E_tau**2 - E_sigma**2*\\omega**2*hbar**2 - E_tau**2*\\omega**2*hbar**2 + \\omega**4*hbar**4) + E_sigma*E_tau**2*g_s**2*{a^\\dagger}**2*\\sigma_{3}/(E_sigma**2*E_tau**2 - E_sigma**2*\\omega**2*hbar**2 - E_tau**2*\\omega**2*hbar**2 + \\omega**4*hbar**4) + E_sigma*E_tau**2*g_s**2*\\sigma_{3}/(E_sigma**2*E_tau**2 - E_sigma**2*\\omega**2*hbar**2 - E_tau**2*\\omega**2*hbar**2 + \\omega**4*hbar**4) + E_sigma*E_tau**2*g_s*g_t*a**2*\\sigma_{2}*\\tau_{2}/(E_sigma**2*E_tau**2 - E_sigma**2*\\omega**2*hbar**2 - E_tau**2*\\omega**2*hbar**2 + \\omega**4*hbar**4) + 2*E_sigma*E_tau**2*g_s*g_t*{a^\\dagger}*a*\\sigma_{2}*\\tau_{2}/(E_sigma**2*E_tau**2 - E_sigma**2*\\omega**2*hbar**2 - E_tau**2*\\omega**2*hbar**2 + \\omega**4*hbar**4) + E_sigma*E_tau**2*g_s*g_t*{a^\\dagger}**2*\\sigma_{2}*\\tau_{2}/(E_sigma**2*E_tau**2 - E_sigma**2*\\omega**2*hbar**2 - E_tau**2*\\omega**2*hbar**2 + \\omega**4*hbar**4) + E_sigma*E_tau**2*g_s*g_t*\\sigma_{2}*\\tau_{2}/(E_sigma**2*E_tau**2 - E_sigma**2*\\omega**2*hbar**2 - E_tau**2*\\omega**2*hbar**2 + \\omega**4*hbar**4) - E_sigma*\\omega**2*g_s**2*hbar**2*a**2*\\sigma_{3}/(E_sigma**2*E_tau**2 - E_sigma**2*\\omega**2*hbar**2 - E_tau**2*\\omega**2*hbar**2 + \\omega**4*hbar**4) - 2*E_sigma*\\omega**2*g_s**2*hbar**2*{a^\\dagger}*a*\\sigma_{3}/(E_sigma**2*E_tau**2 - E_sigma**2*\\omega**2*hbar**2 - E_tau**2*\\omega**2*hbar**2 + \\omega**4*hbar**4) - E_sigma*\\omega**2*g_s**2*hbar**2*{a^\\dagger}**2*\\sigma_{3}/(E_sigma**2*E_tau**2 - E_sigma**2*\\omega**2*hbar**2 - E_tau**2*\\omega**2*hbar**2 + \\omega**4*hbar**4) - E_sigma*\\omega**2*g_s**2*hbar**2*\\sigma_{3}/(E_sigma**2*E_tau**2 - E_sigma**2*\\omega**2*hbar**2 - E_tau**2*\\omega**2*hbar**2 + \\omega**4*hbar**4) - E_sigma*\\omega**2*g_s*g_t*hbar**2*a**2*\\sigma_{2}*\\tau_{2}/(E_sigma**2*E_tau**2 - E_sigma**2*\\omega**2*hbar**2 - E_tau**2*\\omega**2*hbar**2 + \\omega**4*hbar**4) - 2*E_sigma*\\omega**2*g_s*g_t*hbar**2*{a^\\dagger}*a*\\sigma_{2}*\\tau_{2}/(E_sigma**2*E_tau**2 - E_sigma**2*\\omega**2*hbar**2 - E_tau**2*\\omega**2*hbar**2 + \\omega**4*hbar**4) - E_sigma*\\omega**2*g_s*g_t*hbar**2*{a^\\dagger}**2*\\sigma_{2}*\\tau_{2}/(E_sigma**2*E_tau**2 - E_sigma**2*\\omega**2*hbar**2 - E_tau**2*\\omega**2*hbar**2 + \\omega**4*hbar**4) - E_sigma*\\omega**2*g_s*g_t*hbar**2*\\sigma_{2}*\\tau_{2}/(E_sigma**2*E_tau**2 - E_sigma**2*\\omega**2*hbar**2 - E_tau**2*\\omega**2*hbar**2 + \\omega**4*hbar**4) + E_sigma*\\sigma_{3}/2 + E_tau**2*\\omega*g_s**2*hbar/(E_sigma**2*E_tau**2 - E_sigma**2*\\omega**2*hbar**2 - E_tau**2*\\omega**2*hbar**2 + \\omega**4*hbar**4) - I*E_tau**2*\\omega*g_s*g_t*hbar*a**2*\\sigma_{1}*\\tau_{2}/(E_sigma**2*E_tau**2 - E_sigma**2*\\omega**2*hbar**2 - E_tau**2*\\omega**2*hbar**2 + \\omega**4*hbar**4) + I*E_tau**2*\\omega*g_s*g_t*hbar*{a^\\dagger}**2*\\sigma_{1}*\\tau_{2}/(E_sigma**2*E_tau**2 - E_sigma**2*\\omega**2*hbar**2 - E_tau**2*\\omega**2*hbar**2 + \\omega**4*hbar**4) - E_tau*\\omega**2*g_s*g_t*hbar**2*a**2*\\sigma_{1}*\\tau_{1}/(E_sigma**2*E_tau**2 - E_sigma**2*\\omega**2*hbar**2 - E_tau**2*\\omega**2*hbar**2 + \\omega**4*hbar**4) - 2*E_tau*\\omega**2*g_s*g_t*hbar**2*{a^\\dagger}*a*\\sigma_{1}*\\tau_{1}/(E_sigma**2*E_tau**2 - E_sigma**2*\\omega**2*hbar**2 - E_tau**2*\\omega**2*hbar**2 + \\omega**4*hbar**4) - E_tau*\\omega**2*g_s*g_t*hbar**2*{a^\\dagger}**2*\\sigma_{1}*\\tau_{1}/(E_sigma**2*E_tau**2 - E_sigma**2*\\omega**2*hbar**2 - E_tau**2*\\omega**2*hbar**2 + \\omega**4*hbar**4) - E_tau*\\omega**2*g_s*g_t*hbar**2*\\sigma_{1}*\\tau_{1}/(E_sigma**2*E_tau**2 - E_sigma**2*\\omega**2*hbar**2 - E_tau**2*\\omega**2*hbar**2 + \\omega**4*hbar**4) - E_tau*\\omega**2*g_t**2*hbar**2*a**2*\\tau_{3}/(E_sigma**2*E_tau**2 - E_sigma**2*\\omega**2*hbar**2 - E_tau**2*\\omega**2*hbar**2 + \\omega**4*hbar**4) - 2*E_tau*\\omega**2*g_t**2*hbar**2*{a^\\dagger}*a*\\tau_{3}/(E_sigma**2*E_tau**2 - E_sigma**2*\\omega**2*hbar**2 - E_tau**2*\\omega**2*hbar**2 + \\omega**4*hbar**4) - E_tau*\\omega**2*g_t**2*hbar**2*{a^\\dagger}**2*\\tau_{3}/(E_sigma**2*E_tau**2 - E_sigma**2*\\omega**2*hbar**2 - E_tau**2*\\omega**2*hbar**2 + \\omega**4*hbar**4) - E_tau*\\omega**2*g_t**2*hbar**2*\\tau_{3}/(E_sigma**2*E_tau**2 - E_sigma**2*\\omega**2*hbar**2 - E_tau**2*\\omega**2*hbar**2 + \\omega**4*hbar**4) + E_tau*\\tau_{3}/2 - \\omega**3*g_s**2*hbar**3/(E_sigma**2*E_tau**2 - E_sigma**2*\\omega**2*hbar**2 - E_tau**2*\\omega**2*hbar**2 + \\omega**4*hbar**4) - \\omega**3*g_t**2*hbar**3/(E_sigma**2*E_tau**2 - E_sigma**2*\\omega**2*hbar**2 - E_tau**2*\\omega**2*hbar**2 + \\omega**4*hbar**4) + \\omega*hbar*{a^\\dagger}*a"
      ]
     },
     "execution_count": 11,
     "metadata": {},
     "output_type": "execute_result"
    }
   ],
   "source": [
    "sol= solver(H, Finite, order=2, full_diagonal=False, commutation_relations=commutation_relations)\n",
    "sol[0]"
   ]
  },
  {
   "cell_type": "code",
   "execution_count": null,
   "metadata": {},
   "outputs": [],
   "source": []
  }
 ],
 "metadata": {
  "kernelspec": {
   "display_name": "Python 3 (ipykernel)",
   "language": "python",
   "name": "python3"
  },
  "language_info": {
   "codemirror_mode": {
    "name": "ipython",
    "version": 3
   },
   "file_extension": ".py",
   "mimetype": "text/x-python",
   "name": "python",
   "nbconvert_exporter": "python",
   "pygments_lexer": "ipython3",
   "version": "3.12.2"
  }
 },
 "nbformat": 4,
 "nbformat_minor": 2
}
