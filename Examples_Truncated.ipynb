{
 "cells": [
  {
   "cell_type": "code",
   "execution_count": 1,
   "metadata": {},
   "outputs": [],
   "source": [
    "%load_ext autoreload\n",
    "%autoreload 2"
   ]
  },
  {
   "cell_type": "code",
   "execution_count": 2,
   "metadata": {},
   "outputs": [],
   "source": [
    "import sympy as sp\n",
    "import numpy as np\n",
    "from Modules.sympy.classes import *\n",
    "from Modules.sympy.utils import *\n",
    "from Modules.sympy.truncated.solver import *"
   ]
  },
  {
   "cell_type": "code",
   "execution_count": 3,
   "metadata": {},
   "outputs": [
    {
     "data": {
      "text/latex": [
       "$\\displaystyle \\frac{\\Omega_{z} \\hbar \\sigma_{3}}{2} - g \\hbar \\left(a + {a^\\dagger}\\right) \\sigma_{1} + \\hbar \\omega {a^\\dagger} a$"
      ],
      "text/plain": [
       "\\Omega_{z}*hbar*\\sigma_{3}/2 - g*hbar*(a + {a^\\dagger})*\\sigma_{1} + hbar*omega*{a^\\dagger}*a"
      ]
     },
     "execution_count": 3,
     "metadata": {},
     "output_type": "execute_result"
    }
   ],
   "source": [
    "Spin = RDBasis(\"\\\\sigma\", 'spin', dim=2)\n",
    "sx = Spin.project(sp.Matrix([[0, 1], [1, 0]]))\n",
    "sz = Spin.project(sp.Matrix([[1, 0], [0, -1]]))\n",
    "\n",
    "a = RDBoson(\"a\", subspace =\"boson\", dim_projection = 3)\n",
    "ad = RDBoson(\"{a^\\\\dagger}\", subspace =\"boson\", is_annihilation=False, dim_projection=3)\n",
    "\n",
    "hbar = RDsymbol(\"hbar\", order = 0)\n",
    "omega = RDsymbol(\"omega\", order = 0)\n",
    "Omega_z = RDsymbol(\"\\\\Omega_{z}\", order = 0)\n",
    "g = RDsymbol(\"g\", order = 1)\n",
    "\n",
    "H0 = hbar * omega * ad * a + hbar * Omega_z * sp.Rational(1,2) * sz\n",
    "H = H0 - hbar * g * (a + ad) * sx\n",
    "H"
   ]
  },
  {
   "cell_type": "code",
   "execution_count": 4,
   "metadata": {},
   "outputs": [
    {
     "name": "stdout",
     "output_type": "stream",
     "text": [
      "Solving S_1\n",
      "Solving S_2\n"
     ]
    },
    {
     "data": {
      "text/latex": [
       "$\\displaystyle \\left[\\begin{matrix}\\frac{g^{2} \\hbar}{\\Omega_{z} - \\omega} & 0 & 0 & 0 & 0 & 0\\\\0 & \\frac{g^{2} \\hbar}{\\Omega_{z} + \\omega} + \\frac{2 g^{2} \\hbar}{\\Omega_{z} - \\omega} & 0 & 0 & 0 & 0\\\\0 & 0 & \\frac{2 g^{2} \\hbar}{\\Omega_{z} + \\omega} & 0 & 0 & 0\\\\0 & 0 & 0 & - \\frac{g^{2} \\hbar}{\\Omega_{z} + \\omega} & 0 & 0\\\\0 & 0 & 0 & 0 & - \\frac{2 g^{2} \\hbar}{\\Omega_{z} + \\omega} - \\frac{g^{2} \\hbar}{\\Omega_{z} - \\omega} & 0\\\\0 & 0 & 0 & 0 & 0 & - \\frac{2 g^{2} \\hbar}{\\Omega_{z} - \\omega}\\end{matrix}\\right]$"
      ],
      "text/plain": [
       "Matrix([\n",
       "[g**2*hbar/(\\Omega_{z} - omega),                                                                 0,                                0,                               0,                                                                  0,                                 0],\n",
       "[                             0, g**2*hbar/(\\Omega_{z} + omega) + 2*g**2*hbar/(\\Omega_{z} - omega),                                0,                               0,                                                                  0,                                 0],\n",
       "[                             0,                                                                 0, 2*g**2*hbar/(\\Omega_{z} + omega),                               0,                                                                  0,                                 0],\n",
       "[                             0,                                                                 0,                                0, -g**2*hbar/(\\Omega_{z} + omega),                                                                  0,                                 0],\n",
       "[                             0,                                                                 0,                                0,                               0, -2*g**2*hbar/(\\Omega_{z} + omega) - g**2*hbar/(\\Omega_{z} - omega),                                 0],\n",
       "[                             0,                                                                 0,                                0,                               0,                                                                  0, -2*g**2*hbar/(\\Omega_{z} - omega)]])"
      ]
     },
     "execution_count": 4,
     "metadata": {},
     "output_type": "execute_result"
    }
   ],
   "source": [
    "sol = solver(H, [[Spin.subspace, 2], [a.subspace, 3]], order=3, full_diagonal=True)\n",
    "sol[0] - get_matrix(H0, [[Spin.subspace, 2], [a.subspace, 3]])"
   ]
  },
  {
   "cell_type": "code",
   "execution_count": 5,
   "metadata": {},
   "outputs": [
    {
     "data": {
      "text/latex": [
       "$\\displaystyle \\frac{\\alpha {a_t^\\dagger}^{2} {a_t}^{2}}{2} + \\omega_{r} \\left(\\frac{1}{2} + {a_r^\\dagger} {a_r}\\right) - \\omega_{t} \\left(- \\frac{1}{2} + {a_t^\\dagger} {a_t}\\right) - g \\left({a_t^\\dagger} - {a_t}\\right) \\left({a_r^\\dagger} - {a_r}\\right)$"
      ],
      "text/plain": [
       "\\alpha*{a_t^\\dagger}**2*{a_t}**2/2 + \\omega_{r}*(1/2 + {a_r^\\dagger}*{a_r}) - \\omega_{t}*(-1/2 + {a_t^\\dagger}*{a_t}) - g*({a_t^\\dagger} - {a_t})*({a_r^\\dagger} - {a_r})"
      ]
     },
     "execution_count": 5,
     "metadata": {},
     "output_type": "execute_result"
    }
   ],
   "source": [
    "at = RDBoson(\"{a_t}\", subspace =\"transmon\", dim_projection = 3)\n",
    "adt = RDBoson(\"{a_t^\\\\dagger}\", subspace =\"transmon\", is_annihilation=False, dim_projection=3)\n",
    "ar = RDBoson(\"{a_r}\", subspace =\"resonator\", dim_projection = 3)\n",
    "adr = RDBoson(\"{a_r^\\\\dagger}\", subspace =\"resonator\", is_annihilation=False, dim_projection=3)\n",
    "\n",
    "\n",
    "omega_t = RDsymbol(\"\\\\omega_{t}\", order = 0)\n",
    "omega_r = RDsymbol(\"\\\\omega_{r}\", order = 0)\n",
    "alpha = RDsymbol(\"\\\\alpha\", order = 0)\n",
    "g = RDsymbol(\"g\", order = 1)\n",
    "\n",
    "H0 =  -omega_t * ( adt * at  - sp.Rational(1,2) )  + omega_r * (adr *ar + sp.Rational(1,2)) + sp.Rational(1,2) * alpha * adt**2*at**2\n",
    "H = H0 - g * (adt  - at) * (adr - ar) \n",
    "H"
   ]
  },
  {
   "cell_type": "code",
   "execution_count": 8,
   "metadata": {},
   "outputs": [
    {
     "data": {
      "text/latex": [
       "$\\displaystyle \\left[\\begin{matrix}\\frac{\\omega_{r}}{2} + \\frac{\\omega_{t}}{2} & 0 & 0 & 0 & - g & 0 & 0 & 0 & 0\\\\0 & \\frac{3 \\omega_{r}}{2} + \\frac{\\omega_{t}}{2} & 0 & g & 0 & - \\sqrt{2} g & 0 & 0 & 0\\\\0 & 0 & \\frac{5 \\omega_{r}}{2} + \\frac{\\omega_{t}}{2} & 0 & \\sqrt{2} g & 0 & 0 & 0 & 0\\\\0 & g & 0 & \\frac{\\omega_{r}}{2} - \\frac{\\omega_{t}}{2} & 0 & 0 & 0 & - \\sqrt{2} g & 0\\\\- g & 0 & \\sqrt{2} g & 0 & \\frac{3 \\omega_{r}}{2} - \\frac{\\omega_{t}}{2} & 0 & \\sqrt{2} g & 0 & - 2 g\\\\0 & - \\sqrt{2} g & 0 & 0 & 0 & \\frac{5 \\omega_{r}}{2} - \\frac{\\omega_{t}}{2} & 0 & 2 g & 0\\\\0 & 0 & 0 & 0 & \\sqrt{2} g & 0 & \\alpha + \\frac{\\omega_{r}}{2} - \\frac{3 \\omega_{t}}{2} & 0 & 0\\\\0 & 0 & 0 & - \\sqrt{2} g & 0 & 2 g & 0 & \\alpha + \\frac{3 \\omega_{r}}{2} - \\frac{3 \\omega_{t}}{2} & 0\\\\0 & 0 & 0 & 0 & - 2 g & 0 & 0 & 0 & \\alpha + \\frac{5 \\omega_{r}}{2} - \\frac{3 \\omega_{t}}{2}\\end{matrix}\\right]$"
      ],
      "text/plain": [
       "Matrix([\n",
       "[\\omega_{r}/2 + \\omega_{t}/2,                             0,                             0,                           0,                            -g,                             0,                                      0,                                        0,                                        0],\n",
       "[                          0, 3*\\omega_{r}/2 + \\omega_{t}/2,                             0,                           g,                             0,                    -sqrt(2)*g,                                      0,                                        0,                                        0],\n",
       "[                          0,                             0, 5*\\omega_{r}/2 + \\omega_{t}/2,                           0,                     sqrt(2)*g,                             0,                                      0,                                        0,                                        0],\n",
       "[                          0,                             g,                             0, \\omega_{r}/2 - \\omega_{t}/2,                             0,                             0,                                      0,                               -sqrt(2)*g,                                        0],\n",
       "[                         -g,                             0,                     sqrt(2)*g,                           0, 3*\\omega_{r}/2 - \\omega_{t}/2,                             0,                              sqrt(2)*g,                                        0,                                     -2*g],\n",
       "[                          0,                    -sqrt(2)*g,                             0,                           0,                             0, 5*\\omega_{r}/2 - \\omega_{t}/2,                                      0,                                      2*g,                                        0],\n",
       "[                          0,                             0,                             0,                           0,                     sqrt(2)*g,                             0, \\alpha + \\omega_{r}/2 - 3*\\omega_{t}/2,                                        0,                                        0],\n",
       "[                          0,                             0,                             0,                  -sqrt(2)*g,                             0,                           2*g,                                      0, \\alpha + 3*\\omega_{r}/2 - 3*\\omega_{t}/2,                                        0],\n",
       "[                          0,                             0,                             0,                           0,                          -2*g,                             0,                                      0,                                        0, \\alpha + 5*\\omega_{r}/2 - 3*\\omega_{t}/2]])"
      ]
     },
     "execution_count": 8,
     "metadata": {},
     "output_type": "execute_result"
    }
   ],
   "source": [
    "H_mat = get_matrix(H, [[at.subspace, 3], [ar.subspace, 3]]).simplify()\n",
    "H_mat"
   ]
  },
  {
   "cell_type": "code",
   "execution_count": 13,
   "metadata": {},
   "outputs": [
    {
     "name": "stdout",
     "output_type": "stream",
     "text": [
      "Solving S_1\n"
     ]
    },
    {
     "data": {
      "text/latex": [
       "$\\displaystyle \\left[\\begin{matrix}\\frac{\\omega_{r}}{2} + \\frac{\\omega_{t}}{2} - \\frac{g^{2}}{\\omega_{r} - \\omega_{t}} & 0 & 0 & 0 & 0 & 0 & 0 & 0 & 0\\\\0 & \\frac{3 \\omega_{r}}{2} + \\frac{\\omega_{t}}{2} + \\frac{g^{2}}{\\omega_{r} + \\omega_{t}} - \\frac{2 g^{2}}{\\omega_{r} - \\omega_{t}} & 0 & 0 & 0 & 0 & 0 & 0 & 0\\\\0 & 0 & \\frac{5 \\omega_{r}}{2} + \\frac{\\omega_{t}}{2} + \\frac{2 g^{2}}{\\omega_{r} + \\omega_{t}} & 0 & 0 & 0 & 0 & 0 & 0\\\\0 & 0 & 0 & \\frac{\\omega_{r}}{2} - \\frac{\\omega_{t}}{2} - \\frac{2 g^{2}}{\\alpha + \\omega_{r} - \\omega_{t}} - \\frac{g^{2}}{\\omega_{r} + \\omega_{t}} & 0 & 0 & 0 & 0 & 0\\\\0 & 0 & 0 & 0 & \\frac{3 \\omega_{r}}{2} - \\frac{\\omega_{t}}{2} - \\frac{4 g^{2}}{\\alpha + \\omega_{r} - \\omega_{t}} - \\frac{2 g^{2}}{\\alpha - \\omega_{r} - \\omega_{t}} - \\frac{2 g^{2}}{\\omega_{r} + \\omega_{t}} + \\frac{g^{2}}{\\omega_{r} - \\omega_{t}} & 0 & 0 & 0 & 0\\\\0 & 0 & 0 & 0 & 0 & \\frac{5 \\omega_{r}}{2} - \\frac{\\omega_{t}}{2} - \\frac{4 g^{2}}{\\alpha - \\omega_{r} - \\omega_{t}} + \\frac{2 g^{2}}{\\omega_{r} - \\omega_{t}} & 0 & 0 & 0\\\\0 & 0 & 0 & 0 & 0 & 0 & \\alpha + \\frac{\\omega_{r}}{2} - \\frac{3 \\omega_{t}}{2} + \\frac{2 g^{2}}{\\alpha - \\omega_{r} - \\omega_{t}} & 0 & 0\\\\0 & 0 & 0 & 0 & 0 & 0 & 0 & \\alpha + \\frac{3 \\omega_{r}}{2} - \\frac{3 \\omega_{t}}{2} + \\frac{2 g^{2}}{\\alpha + \\omega_{r} - \\omega_{t}} + \\frac{4 g^{2}}{\\alpha - \\omega_{r} - \\omega_{t}} & 0\\\\0 & 0 & 0 & 0 & 0 & 0 & 0 & 0 & \\alpha + \\frac{5 \\omega_{r}}{2} - \\frac{3 \\omega_{t}}{2} + \\frac{4 g^{2}}{\\alpha + \\omega_{r} - \\omega_{t}}\\end{matrix}\\right]$"
      ],
      "text/plain": [
       "Matrix([\n",
       "[\\omega_{r}/2 + \\omega_{t}/2 - g**2/(\\omega_{r} - \\omega_{t}),                                                                                                 0,                                                                0,                                                                                                        0,                                                                                                                                                                                         0,                                                                                                            0,                                                                                  0,                                                                                                                                0,                                                                                    0],\n",
       "[                                                           0, 3*\\omega_{r}/2 + \\omega_{t}/2 + g**2/(\\omega_{r} + \\omega_{t}) - 2*g**2/(\\omega_{r} - \\omega_{t}),                                                                0,                                                                                                        0,                                                                                                                                                                                         0,                                                                                                            0,                                                                                  0,                                                                                                                                0,                                                                                    0],\n",
       "[                                                           0,                                                                                                 0, 5*\\omega_{r}/2 + \\omega_{t}/2 + 2*g**2/(\\omega_{r} + \\omega_{t}),                                                                                                        0,                                                                                                                                                                                         0,                                                                                                            0,                                                                                  0,                                                                                                                                0,                                                                                    0],\n",
       "[                                                           0,                                                                                                 0,                                                                0, \\omega_{r}/2 - \\omega_{t}/2 - 2*g**2/(\\alpha + \\omega_{r} - \\omega_{t}) - g**2/(\\omega_{r} + \\omega_{t}),                                                                                                                                                                                         0,                                                                                                            0,                                                                                  0,                                                                                                                                0,                                                                                    0],\n",
       "[                                                           0,                                                                                                 0,                                                                0,                                                                                                        0, 3*\\omega_{r}/2 - \\omega_{t}/2 - 4*g**2/(\\alpha + \\omega_{r} - \\omega_{t}) - 2*g**2/(\\alpha - \\omega_{r} - \\omega_{t}) - 2*g**2/(\\omega_{r} + \\omega_{t}) + g**2/(\\omega_{r} - \\omega_{t}),                                                                                                            0,                                                                                  0,                                                                                                                                0,                                                                                    0],\n",
       "[                                                           0,                                                                                                 0,                                                                0,                                                                                                        0,                                                                                                                                                                                         0, 5*\\omega_{r}/2 - \\omega_{t}/2 - 4*g**2/(\\alpha - \\omega_{r} - \\omega_{t}) + 2*g**2/(\\omega_{r} - \\omega_{t}),                                                                                  0,                                                                                                                                0,                                                                                    0],\n",
       "[                                                           0,                                                                                                 0,                                                                0,                                                                                                        0,                                                                                                                                                                                         0,                                                                                                            0, \\alpha + \\omega_{r}/2 - 3*\\omega_{t}/2 + 2*g**2/(\\alpha - \\omega_{r} - \\omega_{t}),                                                                                                                                0,                                                                                    0],\n",
       "[                                                           0,                                                                                                 0,                                                                0,                                                                                                        0,                                                                                                                                                                                         0,                                                                                                            0,                                                                                  0, \\alpha + 3*\\omega_{r}/2 - 3*\\omega_{t}/2 + 2*g**2/(\\alpha + \\omega_{r} - \\omega_{t}) + 4*g**2/(\\alpha - \\omega_{r} - \\omega_{t}),                                                                                    0],\n",
       "[                                                           0,                                                                                                 0,                                                                0,                                                                                                        0,                                                                                                                                                                                         0,                                                                                                            0,                                                                                  0,                                                                                                                                0, \\alpha + 5*\\omega_{r}/2 - 3*\\omega_{t}/2 + 4*g**2/(\\alpha + \\omega_{r} - \\omega_{t})]])"
      ]
     },
     "execution_count": 13,
     "metadata": {},
     "output_type": "execute_result"
    }
   ],
   "source": [
    "sol = solver(H,  [[at.subspace, 3], [ar.subspace, 3]], order=2, full_diagonal=True)\n",
    "sol[0]"
   ]
  },
  {
   "cell_type": "code",
   "execution_count": 11,
   "metadata": {},
   "outputs": [],
   "source": [
    "state_0 = sp.Matrix([1, 0, 0])\n",
    "state_1 = sp.Matrix([0, 1, 0])\n",
    "state_2 = sp.Matrix([0, 0, 1])\n",
    "\n",
    "state_00 = sp.kronecker_product(state_0, state_0)\n",
    "state_01 = sp.kronecker_product(state_0, state_1)\n",
    "state_02 = sp.kronecker_product(state_0, state_2)\n",
    "state_10 = sp.kronecker_product(state_1, state_0)\n",
    "state_11 = sp.kronecker_product(state_1, state_1)\n",
    "state_12 = sp.kronecker_product(state_1, state_2)\n",
    "state_20 = sp.kronecker_product(state_2, state_0)"
   ]
  },
  {
   "cell_type": "code",
   "execution_count": 17,
   "metadata": {},
   "outputs": [
    {
     "data": {
      "text/latex": [
       "$\\displaystyle \\frac{\\omega_{r}}{2} + \\frac{\\omega_{t}}{2} - \\frac{g^{2}}{\\omega_{r} - \\omega_{t}}$"
      ],
      "text/plain": [
       "\\omega_{r}/2 + \\omega_{t}/2 - g**2/(\\omega_{r} - \\omega_{t})"
      ]
     },
     "execution_count": 17,
     "metadata": {},
     "output_type": "execute_result"
    }
   ],
   "source": [
    "E00 = (state_00.T * sol[0] * state_00)[0]\n",
    "E00"
   ]
  },
  {
   "cell_type": "code",
   "execution_count": null,
   "metadata": {},
   "outputs": [
    {
     "data": {
      "text/latex": [
       "$\\displaystyle - \\frac{\\omega_{q} \\sigma_{3}}{2} + \\omega_{r} {a^\\dagger} a + \\frac{g a \\left(\\sigma_{1} - i \\sigma_{2}\\right)}{2} + \\frac{g {a^\\dagger} \\left(\\sigma_{1} + i \\sigma_{2}\\right)}{2}$"
      ],
      "text/plain": [
       "-\\omega_{q}*\\sigma_{3}/2 + \\omega_{r}*{a^\\dagger}*a + g*a*(\\sigma_{1} - I*\\sigma_{2})/2 + g*{a^\\dagger}*(\\sigma_{1} + I*\\sigma_{2})/2"
      ]
     },
     "execution_count": 90,
     "metadata": {},
     "output_type": "execute_result"
    }
   ],
   "source": [
    "wr = RDsymbol(\"\\\\omega_{r}\", order = 0)\n",
    "wq = RDsymbol(\"\\\\omega_{q}\", order = 0)\n",
    "g = RDsymbol(\"g\", order = 1)\n",
    "\n",
    "Spin = RDBasis(\"\\\\sigma\", 'spin', dim=2)\n",
    "s0, sx, sy, sz = Spin._basis\n",
    "\n",
    "sigma_p = sp.Rational(1,2)* (sx + sp.I * sy)\n",
    "sigma_m = sp.Rational(1,2)* (sx - sp.I * sy)\n",
    "\n",
    "a = RDBoson(\"a\", subspace =\"resonator\", dim_projection = 3)\n",
    "ad = RDBoson(\"{a^\\\\dagger}\", subspace =\"resonator\", is_annihilation=False, dim_projection=3)\n",
    "commutation_relations = {\n",
    "    a*ad: ad * a + 1,\n",
    "}\n",
    "\n",
    "\n",
    "H0 = wr * ad * a - wq * sp.Rational(1,2) * sz\n",
    "H = H0 + g * a* sigma_m + g * ad * sigma_p\n",
    "H"
   ]
  },
  {
   "cell_type": "code",
   "execution_count": null,
   "metadata": {},
   "outputs": [
    {
     "name": "stdout",
     "output_type": "stream",
     "text": [
      "Solving S_1\n",
      "Solving S_2\n",
      "Solving S_3\n",
      "Solving S_4\n",
      "Solving S_5\n"
     ]
    }
   ],
   "source": [
    "sol = solver(H, [[\"spin\", 2], [\"resonator\", 3]], order=6, full_diagonal=True)"
   ]
  },
  {
   "cell_type": "code",
   "execution_count": null,
   "metadata": {},
   "outputs": [],
   "source": [
    "H0_mat = get_matrix(H0, [[\"spin\", 2], [\"resonator\", 3]]).simplify()"
   ]
  },
  {
   "cell_type": "code",
   "execution_count": null,
   "metadata": {},
   "outputs": [
    {
     "data": {
      "text/latex": [
       "$\\displaystyle - \\frac{16 g^{6}}{45 \\omega_{q}^{5} - 225 \\omega_{q}^{4} \\omega_{r} + 450 \\omega_{q}^{3} \\omega_{r}^{2} - 450 \\omega_{q}^{2} \\omega_{r}^{3} + 225 \\omega_{q} \\omega_{r}^{4} - 45 \\omega_{r}^{5}} + \\frac{14 g^{6}}{9 \\omega_{q}^{5} - 45 \\omega_{q}^{4} \\omega_{r} + 90 \\omega_{q}^{3} \\omega_{r}^{2} - 90 \\omega_{q}^{2} \\omega_{r}^{3} + 45 \\omega_{q} \\omega_{r}^{4} - 9 \\omega_{r}^{5}} - \\frac{16 g^{6}}{5 \\omega_{q}^{5} - 25 \\omega_{q}^{4} \\omega_{r} + 50 \\omega_{q}^{3} \\omega_{r}^{2} - 50 \\omega_{q}^{2} \\omega_{r}^{3} + 25 \\omega_{q} \\omega_{r}^{4} - 5 \\omega_{r}^{5}} + \\frac{3 g^{4}}{3 \\omega_{q}^{3} - 9 \\omega_{q}^{2} \\omega_{r} + 9 \\omega_{q} \\omega_{r}^{2} - 3 \\omega_{r}^{3}} - \\frac{g^{2}}{\\omega_{q} - \\omega_{r}}$"
      ],
      "text/plain": [
       "-16*g**6/(45*\\omega_{q}**5 - 225*\\omega_{q}**4*\\omega_{r} + 450*\\omega_{q}**3*\\omega_{r}**2 - 450*\\omega_{q}**2*\\omega_{r}**3 + 225*\\omega_{q}*\\omega_{r}**4 - 45*\\omega_{r}**5) + 14*g**6/(9*\\omega_{q}**5 - 45*\\omega_{q}**4*\\omega_{r} + 90*\\omega_{q}**3*\\omega_{r}**2 - 90*\\omega_{q}**2*\\omega_{r}**3 + 45*\\omega_{q}*\\omega_{r}**4 - 9*\\omega_{r}**5) - 16*g**6/(5*\\omega_{q}**5 - 25*\\omega_{q}**4*\\omega_{r} + 50*\\omega_{q}**3*\\omega_{r}**2 - 50*\\omega_{q}**2*\\omega_{r}**3 + 25*\\omega_{q}*\\omega_{r}**4 - 5*\\omega_{r}**5) + 3*g**4/(3*\\omega_{q}**3 - 9*\\omega_{q}**2*\\omega_{r} + 9*\\omega_{q}*\\omega_{r}**2 - 3*\\omega_{r}**3) - g**2/(\\omega_{q} - \\omega_{r})"
      ]
     },
     "execution_count": 116,
     "metadata": {},
     "output_type": "execute_result"
    }
   ],
   "source": [
    "state_0 = sp.Matrix([1, 0, 0])\n",
    "state_1 = sp.Matrix([0, 1, 0])\n",
    "state_2 = sp.Matrix([0, 0, 1])\n",
    "\n",
    "state_up = sp.Matrix([1, 0])\n",
    "state_down = sp.Matrix([0, 1])\n",
    "\n",
    "state_Up_0 = sp.kronecker_product(state_up, state_0)\n",
    "state_Up_1 = sp.kronecker_product(state_up, state_1)\n",
    "state_Up_2 = sp.kronecker_product(state_up, state_2)\n",
    "state_Down_0 = sp.kronecker_product(state_down, state_0)\n",
    "state_Down_1 = sp.kronecker_product(state_down, state_1)\n",
    "state_Down_2 = sp.kronecker_product(state_down, state_2)\n",
    "\n",
    "\n",
    "((state_Up_1.T @ (sol[0] - H0_mat) @ state_Up_1)[0]).expand()"
   ]
  }
 ],
 "metadata": {
  "kernelspec": {
   "display_name": "base",
   "language": "python",
   "name": "python3"
  },
  "language_info": {
   "codemirror_mode": {
    "name": "ipython",
    "version": 3
   },
   "file_extension": ".py",
   "mimetype": "text/x-python",
   "name": "python",
   "nbconvert_exporter": "python",
   "pygments_lexer": "ipython3",
   "version": "3.12.2"
  }
 },
 "nbformat": 4,
 "nbformat_minor": 2
}
