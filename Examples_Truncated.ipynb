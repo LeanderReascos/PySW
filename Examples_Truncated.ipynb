{
 "cells": [
  {
   "cell_type": "markdown",
   "metadata": {},
   "source": [
    "# Rabi model"
   ]
  },
  {
   "cell_type": "code",
   "execution_count": null,
   "metadata": {},
   "outputs": [],
   "source": [
    "import sympy as sp\n",
    "import numpy as np\n",
    "from Modules.sympy.classes import *\n",
    "from Modules.sympy.utils import *\n",
    "from Modules.sympy.truncated.solver import *"
   ]
  },
  {
   "cell_type": "code",
   "execution_count": null,
   "metadata": {},
   "outputs": [],
   "source": [
    "dim_spin = 2\n",
    "dim_reso = 3\n",
    "Spin = RDBasis(\"\\\\sigma\", 'spin', dim = dim_spin)\n",
    "sx = Spin.project(sp.Matrix([[0, 1], [1, 0]]))\n",
    "sz = Spin.project(sp.Matrix([[1, 0], [0, -1]]))\n",
    "\n",
    "a = RDBoson(\"a\", subspace = \"boson\", dim_projection = dim_reso)\n",
    "ad = RDBoson(\"{a^\\\\dagger}\", subspace = \"boson\", is_annihilation=False, dim_projection = dim_reso)\n",
    "\n",
    "subspaces = [[Spin.subspace, dim_spin], [a.subspace, dim_reso]]\n",
    "\n",
    "hbar = RDsymbol(\"hbar\", order = 0)\n",
    "omega = RDsymbol(\"omega\", order = 0)\n",
    "Omega_z = RDsymbol(\"\\\\Omega_{z}\", order = 0)\n",
    "g = RDsymbol(\"g\", order = 1)\n",
    "\n",
    "H0 = hbar * omega * ad * a + hbar * Omega_z * sp.Rational(1,2) * sz\n",
    "H = H0 - hbar * g * (a + ad) * sx\n",
    "H"
   ]
  },
  {
   "cell_type": "code",
   "execution_count": null,
   "metadata": {},
   "outputs": [],
   "source": [
    "sol = solver(H, subspaces, order=3, full_diagonal=True)\n",
    "sol[0] - get_matrix(H0, subspaces)"
   ]
  },
  {
   "cell_type": "markdown",
   "metadata": {},
   "source": [
    "# Transmon qubit coupled to resonator"
   ]
  },
  {
   "cell_type": "code",
   "execution_count": null,
   "metadata": {},
   "outputs": [],
   "source": [
    "import sympy as sp\n",
    "import numpy as np\n",
    "from Modules.sympy.classes import *\n",
    "from Modules.sympy.utils import *\n",
    "from Modules.sympy.truncated.solver import *"
   ]
  },
  {
   "cell_type": "code",
   "execution_count": null,
   "metadata": {},
   "outputs": [],
   "source": [
    "dim_trans = 3\n",
    "dim_reson = 3\n",
    "at = RDBoson(\"{a_t}\", subspace = \"transmon\", dim_projection = dim_trans)\n",
    "adt = RDBoson(\"{a_t^\\\\dagger}\", subspace = \"transmon\", is_annihilation=False, dim_projection = dim_trans)\n",
    "ar = RDBoson(\"{a_r}\", subspace = \"resonator\", dim_projection = dim_reson)\n",
    "adr = RDBoson(\"{a_r^\\\\dagger}\", subspace = \"resonator\", is_annihilation=False, dim_projection = dim_reson)\n",
    "subspaces = [[at.subspace, dim_trans], [ar.subspace, dim_reson]]\n",
    "\n",
    "omega_t = RDsymbol(\"\\\\omega_{t}\", order = 0)\n",
    "omega_r = RDsymbol(\"\\\\omega_{r}\", order = 0)\n",
    "alpha = RDsymbol(\"\\\\alpha\", order = 0)\n",
    "g = RDsymbol(\"g\", order = 1)\n",
    "\n",
    "H0 =  -omega_t * ( adt * at  - sp.Rational(1,2) )  + omega_r * (adr *ar + sp.Rational(1,2)) + sp.Rational(1,2) * alpha * adt**2*at**2\n",
    "H = H0 - g * (adt  - at) * (adr - ar) \n",
    "H"
   ]
  },
  {
   "cell_type": "code",
   "execution_count": null,
   "metadata": {},
   "outputs": [],
   "source": [
    "H_mat = get_matrix(H, subspaces).simplify()\n",
    "H_mat"
   ]
  },
  {
   "cell_type": "code",
   "execution_count": null,
   "metadata": {},
   "outputs": [],
   "source": [
    "sol = solver(H, subspaces, order = 2, full_diagonal = True)\n",
    "sol[0]"
   ]
  },
  {
   "cell_type": "code",
   "execution_count": null,
   "metadata": {},
   "outputs": [],
   "source": [
    "state_0 = sp.Matrix([1, 0, 0])\n",
    "state_1 = sp.Matrix([0, 1, 0])\n",
    "state_2 = sp.Matrix([0, 0, 1])\n",
    "\n",
    "state_00 = sp.kronecker_product(state_0, state_0)\n",
    "state_01 = sp.kronecker_product(state_0, state_1)\n",
    "state_02 = sp.kronecker_product(state_0, state_2)\n",
    "state_10 = sp.kronecker_product(state_1, state_0)\n",
    "state_11 = sp.kronecker_product(state_1, state_1)\n",
    "state_12 = sp.kronecker_product(state_1, state_2)\n",
    "state_20 = sp.kronecker_product(state_2, state_0)"
   ]
  },
  {
   "cell_type": "code",
   "execution_count": null,
   "metadata": {},
   "outputs": [],
   "source": [
    "E00 = (state_00.T * sol[0] * state_00)[0]\n",
    "E00"
   ]
  },
  {
   "cell_type": "markdown",
   "metadata": {},
   "source": [
    "# Jaynes-Cummings model"
   ]
  },
  {
   "cell_type": "code",
   "execution_count": null,
   "metadata": {},
   "outputs": [],
   "source": [
    "import sympy as sp\n",
    "import numpy as np\n",
    "from Modules.sympy.classes import *\n",
    "from Modules.sympy.utils import *\n",
    "from Modules.sympy.truncated.solver import *"
   ]
  },
  {
   "cell_type": "code",
   "execution_count": null,
   "metadata": {},
   "outputs": [],
   "source": [
    "dim_spin = 2\n",
    "dim_reso = 3\n",
    "Spin = RDBasis(\"\\\\sigma\", 'spin', dim = dim_spin)\n",
    "s0, sx, sy, sz = Spin._basis\n",
    "\n",
    "sigma_p = sp.Rational(1,2)* (sx + sp.I * sy)\n",
    "sigma_m = sp.Rational(1,2)* (sx - sp.I * sy)\n",
    "\n",
    "a = RDBoson(\"a\", subspace =\"resonator\", dim_projection = dim_reso)\n",
    "ad = RDBoson(\"{a^\\\\dagger}\", subspace =\"resonator\", is_annihilation=False, dim_projection = dim_reso)\n",
    "subspace = [[Spin.subspace, dim_spin], [a.subspace, dim_reso]]\n",
    "\n",
    "commutation_relations = {\n",
    "    a*ad: ad * a + 1,\n",
    "}\n",
    "\n",
    "\n",
    "wr = RDsymbol(\"\\\\omega_{r}\", order = 0)\n",
    "wq = RDsymbol(\"\\\\omega_{q}\", order = 0)\n",
    "g = RDsymbol(\"g\", order = 1)\n",
    "\n",
    "\n",
    "H0 = wr * ad * a - wq * sp.Rational(1,2) * sz\n",
    "H = H0 + g * a* sigma_m + g * ad * sigma_p\n",
    "H"
   ]
  },
  {
   "cell_type": "code",
   "execution_count": null,
   "metadata": {},
   "outputs": [],
   "source": [
    "sol = solver(H, subspace, order=6, full_diagonal=True)"
   ]
  },
  {
   "cell_type": "code",
   "execution_count": null,
   "metadata": {},
   "outputs": [],
   "source": [
    "H0_mat = get_matrix(H0, subspace).simplify()"
   ]
  },
  {
   "cell_type": "code",
   "execution_count": null,
   "metadata": {},
   "outputs": [],
   "source": [
    "state_0 = sp.Matrix([1, 0, 0])\n",
    "state_1 = sp.Matrix([0, 1, 0])\n",
    "state_2 = sp.Matrix([0, 0, 1])\n",
    "\n",
    "state_up = sp.Matrix([1, 0])\n",
    "state_down = sp.Matrix([0, 1])\n",
    "\n",
    "state_Up_0 = sp.kronecker_product(state_up, state_0)\n",
    "state_Up_1 = sp.kronecker_product(state_up, state_1)\n",
    "state_Up_2 = sp.kronecker_product(state_up, state_2)\n",
    "state_Down_0 = sp.kronecker_product(state_down, state_0)\n",
    "state_Down_1 = sp.kronecker_product(state_down, state_1)\n",
    "state_Down_2 = sp.kronecker_product(state_down, state_2)\n",
    "\n",
    "\n",
    "((state_Up_1.T @ (sol[0] - H0_mat) @ state_Up_1)[0]).expand()"
   ]
  },
  {
   "cell_type": "markdown",
   "metadata": {},
   "source": [
    "# Spin-Charge qubit coupled to resonator"
   ]
  },
  {
   "cell_type": "code",
   "execution_count": null,
   "metadata": {},
   "outputs": [],
   "source": [
    "import sympy as sp\n",
    "import numpy as np\n",
    "from Modules.sympy.classes import *\n",
    "from Modules.sympy.utils import *\n",
    "from Modules.sympy.truncated.solver import *"
   ]
  },
  {
   "cell_type": "code",
   "execution_count": null,
   "metadata": {},
   "outputs": [],
   "source": [
    "dim_spin = 2\n",
    "dim_char = 2\n",
    "dim_reso = 3\n",
    "Spin = RDBasis(\"\\\\sigma\", 'spin', dim = dim_spin)\n",
    "Charge = RDBasis(\"\\\\tau\",\"charge\", dim = dim_char)\n",
    "Finite = RDCompositeBasis([Spin, Charge])\n",
    "\n",
    "s0, sx, sy, sz = Spin._basis\n",
    "t0, tx, ty, tz = Charge._basis\n",
    "\n",
    "a = RDBoson(\"a\", subspace =\"resonator\", dim_projection = dim_reso)\n",
    "ad = RDBoson(\"{a^\\\\dagger}\", subspace =\"resonator\", is_annihilation=False, dim_projection = dim_reso)\n",
    "commutation_relations = {\n",
    "    a*ad: ad * a + 1,\n",
    "}\n",
    "\n",
    "subspaces = [[Spin.subspace, dim_spin ], [Charge.subspace, dim_spin ], [a.subspace, dim_reso]]\n",
    "\n",
    "hbar = RDsymbol(\"hbar\", order = 0)\n",
    "Et = RDsymbol(\"E_tau\", order = 0)\n",
    "Es = RDsymbol(\"E_sigma\", order = 0)\n",
    "omega = RDsymbol(\"\\\\omega\", order = 0) \n",
    "gs = RDsymbol(\"g_s\", order = 1)\n",
    "gt = RDsymbol(\"g_t\", order = 1)\n",
    "\n",
    "H0 = hbar * omega * ad * a + Et * sp.Rational(1,2) * tz + Es * sp.Rational(1,2) * sz \n",
    "H = H0  + (-gt * tx + gs * sx * tz) * (a + ad)\n",
    "H"
   ]
  },
  {
   "cell_type": "code",
   "execution_count": null,
   "metadata": {},
   "outputs": [],
   "source": [
    "H_mat = get_matrix(H, subspaces).simplify()\n",
    "H_mat"
   ]
  },
  {
   "cell_type": "code",
   "execution_count": null,
   "metadata": {},
   "outputs": [],
   "source": [
    "sol = solver(H, subspaces, order = 4, full_diagonal = False)"
   ]
  },
  {
   "cell_type": "code",
   "execution_count": null,
   "metadata": {},
   "outputs": [],
   "source": [
    "state_s0 = sp.Matrix([1, 0])\n",
    "state_s1 = sp.Matrix([0, 1])\n",
    "\n",
    "state_c0 = sp.Matrix([1, 0])\n",
    "state_c1 = sp.Matrix([0, 1])\n",
    "\n",
    "state_r0 = sp.Matrix([1, 0, 0])\n",
    "state_r1 = sp.Matrix([0, 1, 0])\n",
    "state_r2 = sp.Matrix([0, 0, 1])\n",
    "\n",
    "state_s0_c0_r0 = sp.kronecker_product(state_s0, state_c0, state_r0)\n",
    "state_s0_c0_r1 = sp.kronecker_product(state_s0, state_c0, state_c1)\n",
    "state_s0_c0_r2 = sp.kronecker_product(state_s0, state_c0, state_r2)\n",
    "\n",
    "state_s0_c1_r0 = sp.kronecker_product(state_s0, state_c1, state_r0)\n",
    "state_s0_c1_r1 = sp.kronecker_product(state_s0, state_c1, state_r1)\n",
    "state_s0_c1_r2 = sp.kronecker_product(state_s0, state_c1, state_r2)\n",
    "\n",
    "state_s1_c0_r0 = sp.kronecker_product(state_s1, state_c0, state_r0)\n",
    "state_s1_c0_r1 = sp.kronecker_product(state_s1, state_c0, state_r1)\n",
    "state_s1_c0_r2 = sp.kronecker_product(state_s1, state_c0, state_r2)\n",
    "\n",
    "state_s1_c0_r0 = sp.kronecker_product(state_s1, state_c1, state_r0)\n",
    "state_s1_c0_r1 = sp.kronecker_product(state_s1, state_c1, state_r1)\n",
    "state_s1_c0_r2 = sp.kronecker_product(state_s1, state_c1, state_r2)\n",
    "\n",
    "H0_mat = get_matrix(H0, subspaces).simplify()"
   ]
  },
  {
   "cell_type": "code",
   "execution_count": null,
   "metadata": {},
   "outputs": [],
   "source": [
    "((state_s0_c0_r0.T @ (sol[0] - H0_mat) @ state_s0_c0_r0)[0]).expand()"
   ]
  }
 ],
 "metadata": {
  "kernelspec": {
   "display_name": "Python 3 (ipykernel)",
   "language": "python",
   "name": "python3"
  },
  "language_info": {
   "codemirror_mode": {
    "name": "ipython",
    "version": 3
   },
   "file_extension": ".py",
   "mimetype": "text/x-python",
   "name": "python",
   "nbconvert_exporter": "python",
   "pygments_lexer": "ipython3",
   "version": "3.11.5"
  }
 },
 "nbformat": 4,
 "nbformat_minor": 2
}
