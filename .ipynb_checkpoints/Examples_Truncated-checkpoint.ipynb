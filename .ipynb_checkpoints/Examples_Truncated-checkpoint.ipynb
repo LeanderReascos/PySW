{
 "cells": [
  {
   "cell_type": "markdown",
   "metadata": {},
   "source": [
    "# Rabi model"
   ]
  },
  {
   "cell_type": "code",
   "execution_count": null,
   "metadata": {},
   "outputs": [],
   "source": [
    "import sympy as sp\n",
    "import numpy as np\n",
    "from Modules.sympy.classes import *\n",
    "from Modules.sympy.utils import *\n",
    "from Modules.sympy.truncated.solver import *"
   ]
  },
  {
   "cell_type": "code",
   "execution_count": null,
   "metadata": {},
   "outputs": [],
   "source": [
    "dim_spin = 2\n",
    "dim_reso = 3\n",
    "Spin = RDBasis(\"\\\\sigma\", 'spin', dim = dim_spin)\n",
    "sx = Spin.project(sp.Matrix([[0, 1], [1, 0]]))\n",
    "sz = Spin.project(sp.Matrix([[1, 0], [0, -1]]))\n",
    "\n",
    "a = RDBoson(\"a\", subspace = \"boson\", dim_projection = dim_reso)\n",
    "ad = RDBoson(\"{a^\\\\dagger}\", subspace = \"boson\", is_annihilation=False, dim_projection = dim_reso)\n",
    "\n",
    "subspaces = [[Spin.subspace, dim_spin], [a.subspace, dim_reso]]\n",
    "\n",
    "hbar = RDsymbol(\"hbar\", order = 0)\n",
    "omega = RDsymbol(\"omega\", order = 0)\n",
    "Omega_z = RDsymbol(\"\\\\Omega_{z}\", order = 0)\n",
    "g = RDsymbol(\"g\", order = 1)\n",
    "\n",
    "H0 = hbar * omega * ad * a + hbar * Omega_z * sp.Rational(1,2) * sz\n",
    "H = H0 - hbar * g * (a + ad) * sx\n",
    "H"
   ]
  },
  {
   "cell_type": "code",
   "execution_count": null,
   "metadata": {},
   "outputs": [],
   "source": [
    "sol = solver(H, subspaces, order=3, full_diagonal=True)\n",
    "sol[0] - get_matrix(H0, subspaces)"
   ]
  },
  {
   "cell_type": "markdown",
   "metadata": {},
   "source": [
    "# Transmon qubit coupled to resonator"
   ]
  },
  {
   "cell_type": "code",
   "execution_count": null,
   "metadata": {},
   "outputs": [],
   "source": [
    "import sympy as sp\n",
    "import numpy as np\n",
    "from Modules.sympy.classes import *\n",
    "from Modules.sympy.utils import *\n",
    "from Modules.sympy.truncated.solver import *"
   ]
  },
  {
   "cell_type": "code",
   "execution_count": null,
   "metadata": {},
   "outputs": [],
   "source": [
    "dim_trans = 3\n",
    "dim_reson = 3\n",
    "at = RDBoson(\"{a_t}\", subspace = \"transmon\", dim_projection = dim_trans)\n",
    "adt = RDBoson(\"{a_t^\\\\dagger}\", subspace = \"transmon\", is_annihilation=False, dim_projection = dim_trans)\n",
    "ar = RDBoson(\"{a_r}\", subspace = \"resonator\", dim_projection = dim_reson)\n",
    "adr = RDBoson(\"{a_r^\\\\dagger}\", subspace = \"resonator\", is_annihilation=False, dim_projection = dim_reson)\n",
    "subspaces = [[at.subspace, dim_trans], [ar.subspace, dim_reson]]\n",
    "\n",
    "omega_t = RDsymbol(\"\\\\omega_{t}\", order = 0)\n",
    "omega_r = RDsymbol(\"\\\\omega_{r}\", order = 0)\n",
    "alpha = RDsymbol(\"\\\\alpha\", order = 0)\n",
    "g = RDsymbol(\"g\", order = 1)\n",
    "\n",
    "H0 =  -omega_t * ( adt * at  - sp.Rational(1,2) )  + omega_r * (adr *ar + sp.Rational(1,2)) + sp.Rational(1,2) * alpha * adt**2*at**2\n",
    "H = H0 - g * (adt  - at) * (adr - ar) \n",
    "H"
   ]
  },
  {
   "cell_type": "code",
   "execution_count": null,
   "metadata": {},
   "outputs": [],
   "source": [
    "H_mat = get_matrix(H, subspaces).simplify()\n",
    "H_mat"
   ]
  },
  {
   "cell_type": "code",
   "execution_count": null,
   "metadata": {},
   "outputs": [],
   "source": [
    "sol = solver(H, subspaces, order = 2, full_diagonal = True)\n",
    "sol[0]"
   ]
  },
  {
   "cell_type": "code",
   "execution_count": null,
   "metadata": {},
   "outputs": [],
   "source": [
    "state_0 = sp.Matrix([1, 0, 0])\n",
    "state_1 = sp.Matrix([0, 1, 0])\n",
    "state_2 = sp.Matrix([0, 0, 1])\n",
    "\n",
    "state_00 = sp.kronecker_product(state_0, state_0)\n",
    "state_01 = sp.kronecker_product(state_0, state_1)\n",
    "state_02 = sp.kronecker_product(state_0, state_2)\n",
    "state_10 = sp.kronecker_product(state_1, state_0)\n",
    "state_11 = sp.kronecker_product(state_1, state_1)\n",
    "state_12 = sp.kronecker_product(state_1, state_2)\n",
    "state_20 = sp.kronecker_product(state_2, state_0)"
   ]
  },
  {
   "cell_type": "code",
   "execution_count": null,
   "metadata": {},
   "outputs": [],
   "source": [
    "E00 = (state_00.T * sol[0] * state_00)[0]\n",
    "E00"
   ]
  },
  {
   "cell_type": "markdown",
   "metadata": {},
   "source": [
    "# Jaynes-Cummings model"
   ]
  },
  {
   "cell_type": "code",
   "execution_count": null,
   "metadata": {},
   "outputs": [],
   "source": [
    "import sympy as sp\n",
    "import numpy as np\n",
    "from Modules.sympy.classes import *\n",
    "from Modules.sympy.utils import *\n",
    "from Modules.sympy.truncated.solver import *"
   ]
  },
  {
   "cell_type": "code",
   "execution_count": null,
   "metadata": {},
   "outputs": [],
   "source": [
    "dim_spin = 2\n",
    "dim_reso = 3\n",
    "Spin = RDBasis(\"\\\\sigma\", 'spin', dim = dim_spin)\n",
    "s0, sx, sy, sz = Spin._basis\n",
    "\n",
    "sigma_p = sp.Rational(1,2)* (sx + sp.I * sy)\n",
    "sigma_m = sp.Rational(1,2)* (sx - sp.I * sy)\n",
    "\n",
    "a = RDBoson(\"a\", subspace =\"resonator\", dim_projection = dim_reso)\n",
    "ad = RDBoson(\"{a^\\\\dagger}\", subspace =\"resonator\", is_annihilation=False, dim_projection = dim_reso)\n",
    "subspace = [[Spin.subspace, dim_spin], [a.subspace, dim_reso]]\n",
    "\n",
    "commutation_relations = {\n",
    "    a*ad: ad * a + 1,\n",
    "}\n",
    "\n",
    "\n",
    "wr = RDsymbol(\"\\\\omega_{r}\", order = 0)\n",
    "wq = RDsymbol(\"\\\\omega_{q}\", order = 0)\n",
    "g = RDsymbol(\"g\", order = 1)\n",
    "\n",
    "\n",
    "H0 = wr * ad * a - wq * sp.Rational(1,2) * sz\n",
    "H = H0 + g * a* sigma_m + g * ad * sigma_p\n",
    "H"
   ]
  },
  {
   "cell_type": "code",
   "execution_count": null,
   "metadata": {},
   "outputs": [],
   "source": [
    "sol = solver(H, subspace, order=6, full_diagonal=True)"
   ]
  },
  {
   "cell_type": "code",
   "execution_count": null,
   "metadata": {},
   "outputs": [],
   "source": [
    "H0_mat = get_matrix(H0, subspace).simplify()"
   ]
  },
  {
   "cell_type": "code",
   "execution_count": null,
   "metadata": {},
   "outputs": [],
   "source": [
    "state_0 = sp.Matrix([1, 0, 0])\n",
    "state_1 = sp.Matrix([0, 1, 0])\n",
    "state_2 = sp.Matrix([0, 0, 1])\n",
    "\n",
    "state_up = sp.Matrix([1, 0])\n",
    "state_down = sp.Matrix([0, 1])\n",
    "\n",
    "state_Up_0 = sp.kronecker_product(state_up, state_0)\n",
    "state_Up_1 = sp.kronecker_product(state_up, state_1)\n",
    "state_Up_2 = sp.kronecker_product(state_up, state_2)\n",
    "state_Down_0 = sp.kronecker_product(state_down, state_0)\n",
    "state_Down_1 = sp.kronecker_product(state_down, state_1)\n",
    "state_Down_2 = sp.kronecker_product(state_down, state_2)\n",
    "\n",
    "\n",
    "((state_Up_1.T @ (sol[0] - H0_mat) @ state_Up_1)[0]).expand()"
   ]
  },
  {
   "cell_type": "markdown",
   "metadata": {},
   "source": [
    "# Spin-Charge qubit coupled to resonator"
   ]
  },
  {
   "cell_type": "code",
   "execution_count": 1,
   "metadata": {},
   "outputs": [],
   "source": [
    "import sympy as sp\n",
    "import numpy as np\n",
    "from Modules.sympy.classes import *\n",
    "from Modules.sympy.utils import *\n",
    "from Modules.sympy.untruncated.solver import *"
   ]
  },
  {
   "cell_type": "code",
   "execution_count": 6,
   "metadata": {},
   "outputs": [
    {
     "data": {
      "text/latex": [
       "$\\displaystyle \\frac{E_{\\sigma} \\sigma_{3}}{2} + \\frac{E_{\\tau} \\tau_{3}}{2} + \\omega \\hbar {a^\\dagger} a + \\left(g_{s} \\sigma_{1} \\tau_{3} - g_{t} \\tau_{1}\\right) \\left(a + {a^\\dagger}\\right)$"
      ],
      "text/plain": [
       "E_sigma*\\sigma_{3}/2 + E_tau*\\tau_{3}/2 + \\omega*hbar*{a^\\dagger}*a + (g_s*\\sigma_{1}*\\tau_{3} - g_t*\\tau_{1})*(a + {a^\\dagger})"
      ]
     },
     "execution_count": 6,
     "metadata": {},
     "output_type": "execute_result"
    }
   ],
   "source": [
    "dim_spin = 2\n",
    "dim_char = 2\n",
    "dim_reso = 3\n",
    "Spin = RDBasis(\"\\\\sigma\", 'spin', dim = dim_spin)\n",
    "Charge = RDBasis(\"\\\\tau\",\"charge\", dim = dim_char)\n",
    "Finite = RDCompositeBasis([Spin, Charge])\n",
    "\n",
    "s0, sx, sy, sz = Spin._basis\n",
    "t0, tx, ty, tz = Charge._basis\n",
    "\n",
    "a = RDBoson(\"a\", subspace =\"resonator\", dim_projection = dim_reso)\n",
    "ad = RDBoson(\"{a^\\\\dagger}\", subspace =\"resonator\", is_annihilation=False, dim_projection = dim_reso)\n",
    "commutation_relations = {\n",
    "    a*ad: ad * a + 1,\n",
    "}\n",
    "\n",
    "subspaces = [[Spin.subspace, dim_spin ], [Charge.subspace, dim_spin ], [a.subspace, dim_reso]]\n",
    "\n",
    "hbar = RDsymbol(\"hbar\", order = 0)\n",
    "Et = RDsymbol(\"E_tau\", order = 0)\n",
    "Es = RDsymbol(\"E_sigma\", order = 0)\n",
    "omega = RDsymbol(\"\\\\omega\", order = 0) \n",
    "gs = RDsymbol(\"g_s\", order = 1)\n",
    "gt = RDsymbol(\"g_t\", order = 1)\n",
    "\n",
    "H0 = hbar * omega * ad * a + Et * sp.Rational(1,2) * tz + Es * sp.Rational(1,2) * sz \n",
    "H = H0  + (-gt * tx + gs * sx * tz) * (a + ad)\n",
    "H"
   ]
  },
  {
   "cell_type": "code",
   "execution_count": 7,
   "metadata": {},
   "outputs": [
    {
     "data": {
      "text/latex": [
       "$\\displaystyle \\left[\\begin{array}{cccccccccccc}\\frac{E_{\\sigma}}{2} + \\frac{E_{\\tau}}{2} & 0 & 0 & 0 & - g_{t} & 0 & 0 & g_{s} & 0 & 0 & 0 & 0\\\\0 & \\frac{E_{\\sigma}}{2} + \\frac{E_{\\tau}}{2} + \\omega \\hbar & 0 & - g_{t} & 0 & - \\sqrt{2} g_{t} & g_{s} & 0 & \\sqrt{2} g_{s} & 0 & 0 & 0\\\\0 & 0 & \\frac{E_{\\sigma}}{2} + \\frac{E_{\\tau}}{2} + 2 \\omega \\hbar & 0 & - \\sqrt{2} g_{t} & 0 & 0 & \\sqrt{2} g_{s} & 0 & 0 & 0 & 0\\\\0 & - g_{t} & 0 & \\frac{E_{\\sigma}}{2} - \\frac{E_{\\tau}}{2} & 0 & 0 & 0 & 0 & 0 & 0 & - g_{s} & 0\\\\- g_{t} & 0 & - \\sqrt{2} g_{t} & 0 & \\frac{E_{\\sigma}}{2} - \\frac{E_{\\tau}}{2} + \\omega \\hbar & 0 & 0 & 0 & 0 & - g_{s} & 0 & - \\sqrt{2} g_{s}\\\\0 & - \\sqrt{2} g_{t} & 0 & 0 & 0 & \\frac{E_{\\sigma}}{2} - \\frac{E_{\\tau}}{2} + 2 \\omega \\hbar & 0 & 0 & 0 & 0 & - \\sqrt{2} g_{s} & 0\\\\0 & g_{s} & 0 & 0 & 0 & 0 & - \\frac{E_{\\sigma}}{2} + \\frac{E_{\\tau}}{2} & 0 & 0 & 0 & - g_{t} & 0\\\\g_{s} & 0 & \\sqrt{2} g_{s} & 0 & 0 & 0 & 0 & - \\frac{E_{\\sigma}}{2} + \\frac{E_{\\tau}}{2} + \\omega \\hbar & 0 & - g_{t} & 0 & - \\sqrt{2} g_{t}\\\\0 & \\sqrt{2} g_{s} & 0 & 0 & 0 & 0 & 0 & 0 & - \\frac{E_{\\sigma}}{2} + \\frac{E_{\\tau}}{2} + 2 \\omega \\hbar & 0 & - \\sqrt{2} g_{t} & 0\\\\0 & 0 & 0 & 0 & - g_{s} & 0 & 0 & - g_{t} & 0 & - \\frac{E_{\\sigma}}{2} - \\frac{E_{\\tau}}{2} & 0 & 0\\\\0 & 0 & 0 & - g_{s} & 0 & - \\sqrt{2} g_{s} & - g_{t} & 0 & - \\sqrt{2} g_{t} & 0 & - \\frac{E_{\\sigma}}{2} - \\frac{E_{\\tau}}{2} + \\omega \\hbar & 0\\\\0 & 0 & 0 & 0 & - \\sqrt{2} g_{s} & 0 & 0 & - \\sqrt{2} g_{t} & 0 & 0 & 0 & - \\frac{E_{\\sigma}}{2} - \\frac{E_{\\tau}}{2} + 2 \\omega \\hbar\\end{array}\\right]$"
      ],
      "text/plain": [
       "Matrix([\n",
       "[E_sigma/2 + E_tau/2,                                 0,                                   0,                   0,                              -g_t,                                   0,                    0,                                g_s,                                    0,                    0,                                  0,                                    0],\n",
       "[                  0, E_sigma/2 + E_tau/2 + \\omega*hbar,                                   0,                -g_t,                                 0,                        -sqrt(2)*g_t,                  g_s,                                  0,                          sqrt(2)*g_s,                    0,                                  0,                                    0],\n",
       "[                  0,                                 0, E_sigma/2 + E_tau/2 + 2*\\omega*hbar,                   0,                      -sqrt(2)*g_t,                                   0,                    0,                        sqrt(2)*g_s,                                    0,                    0,                                  0,                                    0],\n",
       "[                  0,                              -g_t,                                   0, E_sigma/2 - E_tau/2,                                 0,                                   0,                    0,                                  0,                                    0,                    0,                               -g_s,                                    0],\n",
       "[               -g_t,                                 0,                        -sqrt(2)*g_t,                   0, E_sigma/2 - E_tau/2 + \\omega*hbar,                                   0,                    0,                                  0,                                    0,                 -g_s,                                  0,                         -sqrt(2)*g_s],\n",
       "[                  0,                      -sqrt(2)*g_t,                                   0,                   0,                                 0, E_sigma/2 - E_tau/2 + 2*\\omega*hbar,                    0,                                  0,                                    0,                    0,                       -sqrt(2)*g_s,                                    0],\n",
       "[                  0,                               g_s,                                   0,                   0,                                 0,                                   0, -E_sigma/2 + E_tau/2,                                  0,                                    0,                    0,                               -g_t,                                    0],\n",
       "[                g_s,                                 0,                         sqrt(2)*g_s,                   0,                                 0,                                   0,                    0, -E_sigma/2 + E_tau/2 + \\omega*hbar,                                    0,                 -g_t,                                  0,                         -sqrt(2)*g_t],\n",
       "[                  0,                       sqrt(2)*g_s,                                   0,                   0,                                 0,                                   0,                    0,                                  0, -E_sigma/2 + E_tau/2 + 2*\\omega*hbar,                    0,                       -sqrt(2)*g_t,                                    0],\n",
       "[                  0,                                 0,                                   0,                   0,                              -g_s,                                   0,                    0,                               -g_t,                                    0, -E_sigma/2 - E_tau/2,                                  0,                                    0],\n",
       "[                  0,                                 0,                                   0,                -g_s,                                 0,                        -sqrt(2)*g_s,                 -g_t,                                  0,                         -sqrt(2)*g_t,                    0, -E_sigma/2 - E_tau/2 + \\omega*hbar,                                    0],\n",
       "[                  0,                                 0,                                   0,                   0,                      -sqrt(2)*g_s,                                   0,                    0,                       -sqrt(2)*g_t,                                    0,                    0,                                  0, -E_sigma/2 - E_tau/2 + 2*\\omega*hbar]])"
      ]
     },
     "execution_count": 7,
     "metadata": {},
     "output_type": "execute_result"
    }
   ],
   "source": [
    "H_mat = get_matrix(H, subspaces).simplify()\n",
    "H_mat"
   ]
  },
  {
   "cell_type": "code",
   "execution_count": 8,
   "metadata": {},
   "outputs": [
    {
     "ename": "AttributeError",
     "evalue": "'list' object has no attribute 'dim'",
     "output_type": "error",
     "traceback": [
      "\u001b[0;31m---------------------------------------------------------------------------\u001b[0m",
      "\u001b[0;31mAttributeError\u001b[0m                            Traceback (most recent call last)",
      "Cell \u001b[0;32mIn[8], line 1\u001b[0m\n\u001b[0;32m----> 1\u001b[0m sol \u001b[38;5;241m=\u001b[39m solver(H, subspaces, order \u001b[38;5;241m=\u001b[39m \u001b[38;5;241m2\u001b[39m, full_diagonal \u001b[38;5;241m=\u001b[39m \u001b[38;5;28;01mTrue\u001b[39;00m)\n\u001b[1;32m      2\u001b[0m sol[\u001b[38;5;241m0\u001b[39m]\n",
      "File \u001b[0;32m~/Desktop/University/Phd/PyFiles/PySW/Modules/sympy/untruncated/solver.py:128\u001b[0m, in \u001b[0;36msolver\u001b[0;34m(H, composite_basis, order, full_diagonal, commutation_relations)\u001b[0m\n\u001b[1;32m    125\u001b[0m     S[k] \u001b[38;5;241m=\u001b[39m \u001b[38;5;241m0\u001b[39m\n\u001b[1;32m    126\u001b[0m     \u001b[38;5;28;01mcontinue\u001b[39;00m\n\u001b[0;32m--> 128\u001b[0m Sk, symbols_s \u001b[38;5;241m=\u001b[39m get_ansatz(Vk_plus_Bk, composite_basis)\n\u001b[1;32m    130\u001b[0m S_k_grouped \u001b[38;5;241m=\u001b[39m group_by_infinite_operators(Sk, commutation_relations)\n\u001b[1;32m    131\u001b[0m S_k_solved \u001b[38;5;241m=\u001b[39m \u001b[38;5;241m0\u001b[39m\n",
      "File \u001b[0;32m~/Desktop/University/Phd/PyFiles/PySW/Modules/sympy/untruncated/solver.py:17\u001b[0m, in \u001b[0;36mget_ansatz\u001b[0;34m(Vk, composite_basis)\u001b[0m\n\u001b[1;32m     15\u001b[0m symbol_s \u001b[38;5;241m=\u001b[39m []\n\u001b[1;32m     16\u001b[0m \u001b[38;5;28;01mfor\u001b[39;00m idx, term \u001b[38;5;129;01min\u001b[39;00m \u001b[38;5;28menumerate\u001b[39m(to_separate):\n\u001b[0;32m---> 17\u001b[0m     tmp_s \u001b[38;5;241m=\u001b[39m [RDsymbol(\u001b[38;5;124mf\u001b[39m\u001b[38;5;124m\"\u001b[39m\u001b[38;5;124mS^\u001b[39m\u001b[38;5;132;01m{\u001b[39;00midx\u001b[38;5;132;01m}\u001b[39;00m\u001b[38;5;124m_\u001b[39m\u001b[38;5;132;01m{\u001b[39;00mi\u001b[38;5;132;01m}\u001b[39;00m\u001b[38;5;124m\"\u001b[39m, order\u001b[38;5;241m=\u001b[39morder) \u001b[38;5;28;01mfor\u001b[39;00m i \u001b[38;5;129;01min\u001b[39;00m \u001b[38;5;28mrange\u001b[39m(composite_basis\u001b[38;5;241m.\u001b[39mdim\u001b[38;5;241m*\u001b[39m\u001b[38;5;241m*\u001b[39m\u001b[38;5;241m2\u001b[39m)]\n\u001b[1;32m     18\u001b[0m     symbol_s \u001b[38;5;241m+\u001b[39m\u001b[38;5;241m=\u001b[39m tmp_s\n\u001b[1;32m     19\u001b[0m     ansatz \u001b[38;5;241m+\u001b[39m\u001b[38;5;241m=\u001b[39m term \u001b[38;5;241m*\u001b[39m (tmp_s \u001b[38;5;241m*\u001b[39m composite_basis\u001b[38;5;241m.\u001b[39m_basis)\u001b[38;5;241m.\u001b[39msum()\n",
      "\u001b[0;31mAttributeError\u001b[0m: 'list' object has no attribute 'dim'"
     ]
    }
   ],
   "source": [
    "sol = solver(H, subspaces, order = 2, full_diagonal = True)\n",
    "sol[0]"
   ]
  },
  {
   "cell_type": "code",
   "execution_count": null,
   "metadata": {},
   "outputs": [],
   "source": []
  }
 ],
 "metadata": {
  "kernelspec": {
   "display_name": "Python 3 (ipykernel)",
   "language": "python",
   "name": "python3"
  },
  "language_info": {
   "codemirror_mode": {
    "name": "ipython",
    "version": 3
   },
   "file_extension": ".py",
   "mimetype": "text/x-python",
   "name": "python",
   "nbconvert_exporter": "python",
   "pygments_lexer": "ipython3",
   "version": "3.11.5"
  }
 },
 "nbformat": 4,
 "nbformat_minor": 2
}
