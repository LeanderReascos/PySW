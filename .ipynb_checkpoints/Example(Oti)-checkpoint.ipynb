{
 "cells": [
  {
   "cell_type": "markdown",
   "id": "16e5dbb9",
   "metadata": {},
   "source": [
    "# Trying out sympy module"
   ]
  },
  {
   "cell_type": "code",
   "execution_count": 1,
   "id": "ce5eff91",
   "metadata": {},
   "outputs": [],
   "source": [
    "%load_ext autoreload\n",
    "%autoreload 2"
   ]
  },
  {
   "cell_type": "code",
   "execution_count": 2,
   "id": "ddf2a6b7",
   "metadata": {},
   "outputs": [],
   "source": [
    "import sympy as sp\n",
    "import numpy as np\n",
    "from Modules.sympy.classes import *\n",
    "from Modules.sympy.utils import *\n",
    "from sympy.physics.quantum import Dagger\n",
    "from Modules.sympy.solver import *"
   ]
  },
  {
   "cell_type": "code",
   "execution_count": 3,
   "id": "c681c760",
   "metadata": {},
   "outputs": [],
   "source": [
    "import sympy as sp\n",
    "from IPython.display import display, Math\n",
    "def display_dict(d):\n",
    "    for k, v in d.items():\n",
    "        if isinstance(v, sp.Expr):\n",
    "            display(Math(f\"{sp.latex(k)} = {sp.latex(v.simplify())}\"))\n",
    "        else:\n",
    "            display(Math(f\"{sp.latex(k)} = {v}\"))"
   ]
  },
  {
   "cell_type": "code",
   "execution_count": 13,
   "id": "e4592ca6",
   "metadata": {},
   "outputs": [],
   "source": [
    "Finite = RDBasis(\"\\\\pi\", \"finite\", dim = 2) \n",
    "basis = Finite._basis\n",
    "permutations = basis[:,None] * basis[None,:]\n",
    "identities = {}\n",
    "for op_i in basis:\n",
    "    for op_j in basis:\n",
    "        op_iop_j = op_i*op_j\n",
    "        identities[op_iop_j] = Finite.project(op_iop_j) "
   ]
  },
  {
   "cell_type": "code",
   "execution_count": 14,
   "id": "47d95459",
   "metadata": {},
   "outputs": [
    {
     "data": {
      "text/latex": [
       "$\\displaystyle \\pi_{0}^{2} = 1$"
      ],
      "text/plain": [
       "<IPython.core.display.Math object>"
      ]
     },
     "metadata": {},
     "output_type": "display_data"
    },
    {
     "data": {
      "text/latex": [
       "$\\displaystyle \\pi_{0} \\pi_{1} = \\pi_{1}$"
      ],
      "text/plain": [
       "<IPython.core.display.Math object>"
      ]
     },
     "metadata": {},
     "output_type": "display_data"
    },
    {
     "data": {
      "text/latex": [
       "$\\displaystyle \\pi_{0} \\pi_{2} = \\pi_{2}$"
      ],
      "text/plain": [
       "<IPython.core.display.Math object>"
      ]
     },
     "metadata": {},
     "output_type": "display_data"
    },
    {
     "data": {
      "text/latex": [
       "$\\displaystyle \\pi_{0} \\pi_{3} = \\pi_{3}$"
      ],
      "text/plain": [
       "<IPython.core.display.Math object>"
      ]
     },
     "metadata": {},
     "output_type": "display_data"
    },
    {
     "data": {
      "text/latex": [
       "$\\displaystyle \\pi_{1} \\pi_{0} = \\pi_{1}$"
      ],
      "text/plain": [
       "<IPython.core.display.Math object>"
      ]
     },
     "metadata": {},
     "output_type": "display_data"
    },
    {
     "data": {
      "text/latex": [
       "$\\displaystyle \\pi_{1}^{2} = 1$"
      ],
      "text/plain": [
       "<IPython.core.display.Math object>"
      ]
     },
     "metadata": {},
     "output_type": "display_data"
    },
    {
     "data": {
      "text/latex": [
       "$\\displaystyle \\pi_{1} \\pi_{2} = i \\pi_{3}$"
      ],
      "text/plain": [
       "<IPython.core.display.Math object>"
      ]
     },
     "metadata": {},
     "output_type": "display_data"
    },
    {
     "data": {
      "text/latex": [
       "$\\displaystyle \\pi_{1} \\pi_{3} = - i \\pi_{2}$"
      ],
      "text/plain": [
       "<IPython.core.display.Math object>"
      ]
     },
     "metadata": {},
     "output_type": "display_data"
    },
    {
     "data": {
      "text/latex": [
       "$\\displaystyle \\pi_{2} \\pi_{0} = \\pi_{2}$"
      ],
      "text/plain": [
       "<IPython.core.display.Math object>"
      ]
     },
     "metadata": {},
     "output_type": "display_data"
    },
    {
     "data": {
      "text/latex": [
       "$\\displaystyle \\pi_{2} \\pi_{1} = - i \\pi_{3}$"
      ],
      "text/plain": [
       "<IPython.core.display.Math object>"
      ]
     },
     "metadata": {},
     "output_type": "display_data"
    },
    {
     "data": {
      "text/latex": [
       "$\\displaystyle \\pi_{2}^{2} = 1$"
      ],
      "text/plain": [
       "<IPython.core.display.Math object>"
      ]
     },
     "metadata": {},
     "output_type": "display_data"
    },
    {
     "data": {
      "text/latex": [
       "$\\displaystyle \\pi_{2} \\pi_{3} = i \\pi_{1}$"
      ],
      "text/plain": [
       "<IPython.core.display.Math object>"
      ]
     },
     "metadata": {},
     "output_type": "display_data"
    },
    {
     "data": {
      "text/latex": [
       "$\\displaystyle \\pi_{3} \\pi_{0} = \\pi_{3}$"
      ],
      "text/plain": [
       "<IPython.core.display.Math object>"
      ]
     },
     "metadata": {},
     "output_type": "display_data"
    },
    {
     "data": {
      "text/latex": [
       "$\\displaystyle \\pi_{3} \\pi_{1} = i \\pi_{2}$"
      ],
      "text/plain": [
       "<IPython.core.display.Math object>"
      ]
     },
     "metadata": {},
     "output_type": "display_data"
    },
    {
     "data": {
      "text/latex": [
       "$\\displaystyle \\pi_{3} \\pi_{2} = - i \\pi_{1}$"
      ],
      "text/plain": [
       "<IPython.core.display.Math object>"
      ]
     },
     "metadata": {},
     "output_type": "display_data"
    },
    {
     "data": {
      "text/latex": [
       "$\\displaystyle \\pi_{3}^{2} = 1$"
      ],
      "text/plain": [
       "<IPython.core.display.Math object>"
      ]
     },
     "metadata": {},
     "output_type": "display_data"
    }
   ],
   "source": [
    "display_dict(identities)"
   ]
  },
  {
   "cell_type": "code",
   "execution_count": 18,
   "id": "4619fa61",
   "metadata": {},
   "outputs": [
    {
     "data": {
      "text/latex": [
       "$\\displaystyle \\left[\\begin{matrix}1 & 0\\\\0 & 1\\end{matrix}\\right]$"
      ],
      "text/plain": [
       "Matrix([\n",
       "[1, 0],\n",
       "[0, 1]])"
      ]
     },
     "execution_count": 18,
     "metadata": {},
     "output_type": "execute_result"
    }
   ],
   "source": [
    "basis[3].matrix * basis[3].matrix"
   ]
  },
  {
   "cell_type": "code",
   "execution_count": null,
   "id": "23b27d32",
   "metadata": {},
   "outputs": [],
   "source": []
  }
 ],
 "metadata": {
  "kernelspec": {
   "display_name": "Python 3 (ipykernel)",
   "language": "python",
   "name": "python3"
  },
  "language_info": {
   "codemirror_mode": {
    "name": "ipython",
    "version": 3
   },
   "file_extension": ".py",
   "mimetype": "text/x-python",
   "name": "python",
   "nbconvert_exporter": "python",
   "pygments_lexer": "ipython3",
   "version": "3.11.5"
  }
 },
 "nbformat": 4,
 "nbformat_minor": 5
}
