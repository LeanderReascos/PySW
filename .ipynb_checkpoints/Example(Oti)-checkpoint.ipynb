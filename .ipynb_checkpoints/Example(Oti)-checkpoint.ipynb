{
 "cells": [
  {
   "cell_type": "markdown",
   "id": "16e5dbb9",
   "metadata": {},
   "source": [
    "# Trying out sympy module"
   ]
  },
  {
   "cell_type": "code",
   "execution_count": 1,
   "id": "ce5eff91",
   "metadata": {},
   "outputs": [],
   "source": [
    "%load_ext autoreload\n",
    "%autoreload 2"
   ]
  },
  {
   "cell_type": "code",
   "execution_count": 2,
   "id": "ddf2a6b7",
   "metadata": {},
   "outputs": [],
   "source": [
    "import sympy as sp\n",
    "import numpy as np\n",
    "from Modules.sympy.classes import *\n",
    "from Modules.sympy.utils import *\n",
    "from sympy.physics.quantum import Dagger"
   ]
  },
  {
   "cell_type": "code",
   "execution_count": 3,
   "id": "79863889",
   "metadata": {},
   "outputs": [
    {
     "data": {
      "text/latex": [
       "$\\displaystyle \\frac{\\Omega_{z} \\hbar \\sigma_{3}}{2} + g \\hbar \\left(a + {a^\\dagger}\\right) \\sigma_{1} + \\hbar \\omega {a^\\dagger} a$"
      ],
      "text/plain": [
       "\\Omega_{z}*hbar*\\sigma_{3}/2 + g*hbar*(a + {a^\\dagger})*\\sigma_{1} + hbar*omega*{a^\\dagger}*a"
      ]
     },
     "execution_count": 3,
     "metadata": {},
     "output_type": "execute_result"
    }
   ],
   "source": [
    "Spin = RDBasis(\"\\\\sigma\", 'spin', dim=2)\n",
    "sx = Spin.project(sp.Matrix([[0, 1], [1, 0]]))\n",
    "sz = Spin.project(sp.Matrix([[1, 0], [0, -1]]))\n",
    "\n",
    "a = RDBoson(\"a\", subspace =\"b\")\n",
    "ad = RDBoson(\"{a^\\\\dagger}\", subspace =\"b\", is_annihilation=False)\n",
    "\n",
    "hbar = RDsymbol(\"hbar\", order = 0)\n",
    "omega = RDsymbol(\"omega\", order = 0)\n",
    "Omega_z = RDsymbol(\"\\\\Omega_{z}\", order = 0)\n",
    "g = RDsymbol(\"g\", order = 1)\n",
    "\n",
    "H = hbar * omega * ad * a + hbar * Omega_z * sp.Rational(1,2) * sz + hbar * g * (a + ad) * sx\n",
    "H"
   ]
  },
  {
   "cell_type": "code",
   "execution_count": 4,
   "id": "4b709899",
   "metadata": {},
   "outputs": [
    {
     "data": {
      "text/plain": [
       "{True: 1/(\\Omega_{z}**2 - omega**2)}"
      ]
     },
     "execution_count": 4,
     "metadata": {},
     "output_type": "execute_result"
    }
   ],
   "source": [
    "group_by_diagonal(1 / (Omega_z**2 - omega**2))"
   ]
  },
  {
   "cell_type": "code",
   "execution_count": 5,
   "id": "8b443fa8",
   "metadata": {},
   "outputs": [],
   "source": [
    "Charge = RDBasis(\"Q\", \"charge\", dim=2)\n",
    "tx = Charge.project(sp.Matrix([[0, 1], [1, 0]]))"
   ]
  },
  {
   "cell_type": "code",
   "execution_count": 6,
   "id": "6a372fe8",
   "metadata": {},
   "outputs": [
    {
     "data": {
      "text/latex": [
       "$\\displaystyle \\left(S^{1}_{0} \\sigma_{0} + S^{1}_{1} \\sigma_{1} + S^{1}_{2} \\sigma_{2} + S^{1}_{3} \\sigma_{3}\\right) {a^\\dagger} + \\left(S^{2}_{0} \\sigma_{0} + S^{2}_{1} \\sigma_{1} + S^{2}_{2} \\sigma_{2} + S^{2}_{3} \\sigma_{3}\\right) a$"
      ],
      "text/plain": [
       "(S^1_0*\\sigma_{0} + S^1_1*\\sigma_{1} + S^1_2*\\sigma_{2} + S^1_3*\\sigma_{3})*{a^\\dagger} + (S^2_0*\\sigma_{0} + S^2_1*\\sigma_{1} + S^2_2*\\sigma_{2} + S^2_3*\\sigma_{3})*a"
      ]
     },
     "execution_count": 6,
     "metadata": {},
     "output_type": "execute_result"
    }
   ],
   "source": [
    "s1_symbols = [RDsymbol(\"S^1_{}\".format(i), order=1) for i in range(4)]\n",
    "s2_symbols = [RDsymbol(\"S^2_{}\".format(i), order=1) for i in range(4)]\n",
    "S1 = np.array(s1_symbols, dtype=object).dot(Spin._basis)\n",
    "S2 = np.array(s2_symbols, dtype=object).dot(Spin._basis)\n",
    "S = S1*ad + S2*a\n",
    "S"
   ]
  },
  {
   "cell_type": "code",
   "execution_count": 7,
   "id": "05f4b4e4",
   "metadata": {},
   "outputs": [
    {
     "data": {
      "text/latex": [
       "$\\displaystyle g \\hbar a \\sigma_{1} + g \\hbar {a^\\dagger} \\sigma_{1}$"
      ],
      "text/plain": [
       "g*hbar*a*\\sigma_{1} + g*hbar*{a^\\dagger}*\\sigma_{1}"
      ]
     },
     "execution_count": 7,
     "metadata": {},
     "output_type": "execute_result"
    }
   ],
   "source": [
    "H0 = group_by_order(H)[0]\n",
    "V = group_by_order(group_by_diagonal(H)[False])[1]\n",
    "V"
   ]
  },
  {
   "cell_type": "code",
   "execution_count": 8,
   "id": "8ac39d67",
   "metadata": {},
   "outputs": [
    {
     "data": {
      "text/latex": [
       "$\\displaystyle {a^\\dagger}$"
      ],
      "text/plain": [
       "{a^\\dagger}"
      ]
     },
     "metadata": {},
     "output_type": "display_data"
    },
    {
     "data": {
      "text/latex": [
       "$\\displaystyle S^{1}_{0} \\hbar \\omega \\sigma_{0} - i S^{1}_{1} \\Omega_{z} \\hbar \\sigma_{2} + S^{1}_{1} \\hbar \\omega \\sigma_{1} + i S^{1}_{2} \\Omega_{z} \\hbar \\sigma_{1} + S^{1}_{2} \\hbar \\omega \\sigma_{2} + S^{1}_{3} \\hbar \\omega \\sigma_{3} + g \\hbar \\sigma_{1}$"
      ],
      "text/plain": [
       "S^1_0*hbar*omega*\\sigma_{0} - I*S^1_1*\\Omega_{z}*hbar*\\sigma_{2} + S^1_1*hbar*omega*\\sigma_{1} + I*S^1_2*\\Omega_{z}*hbar*\\sigma_{1} + S^1_2*hbar*omega*\\sigma_{2} + S^1_3*hbar*omega*\\sigma_{3} + g*hbar*\\sigma_{1}"
      ]
     },
     "metadata": {},
     "output_type": "display_data"
    },
    {
     "data": {
      "text/latex": [
       "$\\displaystyle a$"
      ],
      "text/plain": [
       "a"
      ]
     },
     "metadata": {},
     "output_type": "display_data"
    },
    {
     "data": {
      "text/latex": [
       "$\\displaystyle - S^{2}_{0} \\hbar \\omega \\sigma_{0} - i S^{2}_{1} \\Omega_{z} \\hbar \\sigma_{2} - S^{2}_{1} \\hbar \\omega \\sigma_{1} + i S^{2}_{2} \\Omega_{z} \\hbar \\sigma_{1} - S^{2}_{2} \\hbar \\omega \\sigma_{2} - S^{2}_{3} \\hbar \\omega \\sigma_{3} + g \\hbar \\sigma_{1}$"
      ],
      "text/plain": [
       "-S^2_0*hbar*omega*\\sigma_{0} - I*S^2_1*\\Omega_{z}*hbar*\\sigma_{2} - S^2_1*hbar*omega*\\sigma_{1} + I*S^2_2*\\Omega_{z}*hbar*\\sigma_{1} - S^2_2*hbar*omega*\\sigma_{2} - S^2_3*hbar*omega*\\sigma_{3} + g*hbar*\\sigma_{1}"
      ]
     },
     "metadata": {},
     "output_type": "display_data"
    }
   ],
   "source": [
    "sols = {}\n",
    "for key, val in group_by_infinite_operators(Spin.project(expand_commutator(Commutator(H0, S) + V).doit())).items():\n",
    "    if val == 0:\n",
    "        continue\n",
    "    display(key)\n",
    "    display(val)\n",
    "    sols.update(sp.solve(get_matrix(val), s1_symbols + s2_symbols))"
   ]
  },
  {
   "cell_type": "code",
   "execution_count": 9,
   "id": "7fbcee3b",
   "metadata": {},
   "outputs": [
    {
     "data": {
      "text/plain": [
       "{1: 0,\n",
       " a: I*\\Omega_{z}*g*\\sigma_{2}/(\\Omega_{z}**2 - omega**2) - g*omega*\\sigma_{1}/(\\Omega_{z}**2 - omega**2),\n",
       " {a^\\dagger}: I*\\Omega_{z}*g*\\sigma_{2}/(\\Omega_{z}**2 - omega**2) + g*omega*\\sigma_{1}/(\\Omega_{z}**2 - omega**2)}"
      ]
     },
     "execution_count": 9,
     "metadata": {},
     "output_type": "execute_result"
    }
   ],
   "source": [
    "group_by_infinite_operators(S.subs(sols))"
   ]
  },
  {
   "cell_type": "code",
   "execution_count": 10,
   "id": "6430de76",
   "metadata": {},
   "outputs": [
    {
     "data": {
      "text/latex": [
       "$\\displaystyle \\frac{i \\Omega_{z} g \\sigma_{2}}{\\Omega_{z}^{2} - \\omega^{2}} - \\frac{g \\omega \\sigma_{1}}{\\Omega_{z}^{2} - \\omega^{2}}$"
      ],
      "text/plain": [
       "I*\\Omega_{z}*g*\\sigma_{2}/(\\Omega_{z}**2 - omega**2) - g*omega*\\sigma_{1}/(\\Omega_{z}**2 - omega**2)"
      ]
     },
     "metadata": {},
     "output_type": "display_data"
    },
    {
     "data": {
      "text/latex": [
       "$\\displaystyle \\left[\\begin{matrix}0 & \\frac{g}{\\Omega_{z} + \\omega}\\\\- \\frac{g}{\\Omega_{z} - \\omega} & 0\\end{matrix}\\right]$"
      ],
      "text/plain": [
       "Matrix([\n",
       "[                      0, g/(\\Omega_{z} + omega)],\n",
       "[-g/(\\Omega_{z} - omega),                      0]])"
      ]
     },
     "metadata": {},
     "output_type": "display_data"
    },
    {
     "data": {
      "text/latex": [
       "$\\displaystyle \\frac{i \\Omega_{z} g \\sigma_{2}}{\\Omega_{z}^{2} - \\omega^{2}} + \\frac{g \\omega \\sigma_{1}}{\\Omega_{z}^{2} - \\omega^{2}}$"
      ],
      "text/plain": [
       "I*\\Omega_{z}*g*\\sigma_{2}/(\\Omega_{z}**2 - omega**2) + g*omega*\\sigma_{1}/(\\Omega_{z}**2 - omega**2)"
      ]
     },
     "metadata": {},
     "output_type": "display_data"
    },
    {
     "data": {
      "text/latex": [
       "$\\displaystyle \\left[\\begin{matrix}0 & \\frac{g}{\\Omega_{z} - \\omega}\\\\- \\frac{g}{\\Omega_{z} + \\omega} & 0\\end{matrix}\\right]$"
      ],
      "text/plain": [
       "Matrix([\n",
       "[                      0, g/(\\Omega_{z} - omega)],\n",
       "[-g/(\\Omega_{z} + omega),                      0]])"
      ]
     },
     "metadata": {},
     "output_type": "display_data"
    }
   ],
   "source": [
    "for key, val in group_by_infinite_operators(S.subs(sols)).items():\n",
    "    if val == 0:\n",
    "        continue\n",
    "    display(val)\n",
    "    display(get_matrix(val).simplify())"
   ]
  },
  {
   "cell_type": "code",
   "execution_count": 11,
   "id": "3fb1d2de",
   "metadata": {},
   "outputs": [
    {
     "data": {
      "text/plain": [
       "([\\Omega_{z}*g*{a^\\dagger}/(-\\Omega_{z}**2 + omega**2)],\n",
       " [[\\Omega_{z}, g, 1/(-\\Omega_{z}**2 + omega**2), {a^\\dagger}]])"
      ]
     },
     "execution_count": 11,
     "metadata": {},
     "output_type": "execute_result"
    }
   ],
   "source": [
    "get_terms_and_factors(g*Omega_z/(omega**2 - Omega_z**2)*ad)"
   ]
  },
  {
   "cell_type": "code",
   "execution_count": 12,
   "id": "0a360f60",
   "metadata": {},
   "outputs": [
    {
     "data": {
      "text/latex": [
       "$\\displaystyle \\frac{6 \\Omega_{z} g^{2} \\hbar a^{2} \\sigma_{3}}{2 \\Omega_{z}^{2} - 2 \\omega^{2}} + \\frac{6 \\Omega_{z} g^{2} \\hbar {a^\\dagger}^{2} \\sigma_{3}}{2 \\Omega_{z}^{2} - 2 \\omega^{2}}$"
      ],
      "text/plain": [
       "6*\\Omega_{z}*g**2*hbar*a**2*\\sigma_{3}/(2*\\Omega_{z}**2 - 2*omega**2) + 6*\\Omega_{z}*g**2*hbar*{a^\\dagger}**2*\\sigma_{3}/(2*\\Omega_{z}**2 - 2*omega**2)"
      ]
     },
     "execution_count": 12,
     "metadata": {},
     "output_type": "execute_result"
    }
   ],
   "source": [
    "group_by_diagonal(Spin.project(expand_commutator(H + Commutator(H, S) + sp.Rational(1,2) * Commutator(V, S)).doit().subs(sols).simplify().expand().nsimplify()))[False]"
   ]
  },
  {
   "cell_type": "code",
   "execution_count": 20,
   "id": "f1b55832",
   "metadata": {},
   "outputs": [
    {
     "ename": "KeyError",
     "evalue": "a*{a^\\dagger}*a",
     "output_type": "error",
     "traceback": [
      "\u001b[0;31m---------------------------------------------------------------------------\u001b[0m",
      "\u001b[0;31mKeyError\u001b[0m                                  Traceback (most recent call last)",
      "Cell \u001b[0;32mIn[20], line 41\u001b[0m\n\u001b[1;32m     38\u001b[0m         \u001b[38;5;28;01mif\u001b[39;00m solution \u001b[38;5;129;01mnot\u001b[39;00m \u001b[38;5;129;01min\u001b[39;00m sols:\n\u001b[1;32m     39\u001b[0m             sols\u001b[38;5;241m.\u001b[39mupdate({solution: \u001b[38;5;241m0\u001b[39m})\n\u001b[0;32m---> 41\u001b[0m     S_k_solved \u001b[38;5;241m+\u001b[39m\u001b[38;5;241m=\u001b[39m key \u001b[38;5;241m*\u001b[39m S_k_grouped[key]\u001b[38;5;241m.\u001b[39msubs(sols) \u001b[38;5;66;03m# RDOperator(S_k_grouped[key].name, \"S\", S_k_grouped[key].dim, S_k_grouped[key].matrix.subs(solution_sk)) \u001b[39;00m\n\u001b[1;32m     45\u001b[0m S \u001b[38;5;241m+\u001b[39m\u001b[38;5;241m=\u001b[39m S_k_solved\n\u001b[1;32m     46\u001b[0m tmp_H \u001b[38;5;241m=\u001b[39m (\u001b[38;5;241m1\u001b[39m \u001b[38;5;241m/\u001b[39m sp\u001b[38;5;241m.\u001b[39mfactorial(k) \u001b[38;5;241m*\u001b[39m Spin\u001b[38;5;241m.\u001b[39mproject(expand_commutator(nested_commutator(H_below_k, S, k))\u001b[38;5;241m.\u001b[39mdoit()))\u001b[38;5;241m.\u001b[39msimplify()\n",
      "\u001b[0;31mKeyError\u001b[0m: a*{a^\\dagger}*a"
     ]
    }
   ],
   "source": [
    "def get_ansatz(Vk):\n",
    "    to_separate = list(group_by_infinite_operators(Vk ).keys())\n",
    "    order = min(list(group_by_order(Vk).keys()))\n",
    "    ansatz = 0\n",
    "    symbol_s = np.array([RDsymbol(\"t\")])\n",
    "    for idx, term in enumerate(to_separate):\n",
    "        tmp_s = np.array([RDsymbol(f\"S^{idx}_{i}\", order=order) for i in range(Spin._basis[0].dim**2)])\n",
    "        symbol_s = np.concatenate((symbol_s, tmp_s))\n",
    "        ansatz += term * (tmp_s * Spin._basis).sum()\n",
    "    return ansatz, symbol_s[1:]\n",
    "\n",
    "\n",
    "H_ordered = group_by_order(H)\n",
    "H0 = H_ordered.get(0, 0)\n",
    "Bk = 0\n",
    "\n",
    "S = 0\n",
    "H_final = H0\n",
    "order = 4\n",
    "\n",
    "for k in range(1, order+1):\n",
    "    H_below_k = sum(H_ordered.get(j, 0) for j in range(k+1))\n",
    "    Vk = group_by_diagonal(H_below_k)[False]\n",
    "    S_k, symbols_sk = get_ansatz(Vk + Bk)\n",
    "\n",
    "    S_k_grouped = group_by_infinite_operators(S_k)\n",
    "\n",
    "    S_k_solved = 0\n",
    "\n",
    "    expression_to_solve = Spin.project(expand_commutator(Commutator(H0, S_k) + Vk + Bk).doit()).simplify()\n",
    "    sols = {}\n",
    "    for key, val in group_by_infinite_operators(expression_to_solve).items():\n",
    "        if val == 0:\n",
    "            continue\n",
    "        sols.update(sp.solve(get_matrix(val), list(symbols_sk))) # make get_ansatz return a list!!!\n",
    "        \n",
    "        for solution in symbols_sk: #big patch in case no solutions were found\n",
    "            if solution not in sols:\n",
    "                sols.update({solution: 0})\n",
    "                \n",
    "        S_k_solved += key * S_k_grouped[key].subs(sols) # RDOperator(S_k_grouped[key].name, \"S\", S_k_grouped[key].dim, S_k_grouped[key].matrix.subs(solution_sk)) \n",
    "    \n",
    "        \n",
    "    \n",
    "    S += S_k_solved\n",
    "    tmp_H = (1 / sp.factorial(k) * Spin.project(expand_commutator(nested_commutator(H_below_k, S, k)).doit())).simplify()\n",
    "\n",
    "    temp_H_grouped = group_by_diagonal(tmp_H)\n",
    "    H_final += group_by_order(temp_H_grouped[True]).get(k, 0)\n",
    "    Bk = group_by_order(temp_H_grouped[False]).get(k+1, 0)\n",
    "\n",
    "H_final"
   ]
  },
  {
   "cell_type": "code",
   "execution_count": 24,
   "id": "c17f659b",
   "metadata": {},
   "outputs": [
    {
     "data": {
      "text/latex": [
       "$\\displaystyle \\frac{2 i \\Omega_{z}^{3} g^{3} \\hbar \\omega a \\sigma_{2}}{\\Omega_{z}^{4} \\omega^{2} - 2 \\Omega_{z}^{2} \\omega^{4} + \\omega^{6}} - \\frac{2 i \\Omega_{z}^{3} g^{3} \\hbar \\omega a^{2} {a^\\dagger} \\sigma_{2}}{\\Omega_{z}^{4} \\omega^{2} - 2 \\Omega_{z}^{2} \\omega^{4} + \\omega^{6}} - \\frac{2 i \\Omega_{z}^{3} g^{3} \\hbar \\omega a^{3} \\sigma_{2}}{\\Omega_{z}^{4} \\omega^{2} - 2 \\Omega_{z}^{2} \\omega^{4} + \\omega^{6}} + \\frac{2 i \\Omega_{z}^{3} g^{3} \\hbar \\omega {a^\\dagger} \\sigma_{2}}{\\Omega_{z}^{4} \\omega^{2} - 2 \\Omega_{z}^{2} \\omega^{4} + \\omega^{6}} + \\frac{2 i \\Omega_{z}^{3} g^{3} \\hbar \\omega {a^\\dagger}^{2} a \\sigma_{2}}{\\Omega_{z}^{4} \\omega^{2} - 2 \\Omega_{z}^{2} \\omega^{4} + \\omega^{6}} + \\frac{2 i \\Omega_{z}^{3} g^{3} \\hbar \\omega {a^\\dagger}^{3} \\sigma_{2}}{\\Omega_{z}^{4} \\omega^{2} - 2 \\Omega_{z}^{2} \\omega^{4} + \\omega^{6}} + \\frac{4 \\Omega_{z}^{2} g^{3} \\hbar \\omega^{2} a {a^\\dagger}^{2} \\sigma_{1}}{\\Omega_{z}^{4} \\omega^{2} - 2 \\Omega_{z}^{2} \\omega^{4} + \\omega^{6}} + \\frac{28 \\Omega_{z}^{2} g^{3} \\hbar \\omega^{2} a \\sigma_{1}}{\\Omega_{z}^{4} \\omega^{2} - 2 \\Omega_{z}^{2} \\omega^{4} + \\omega^{6}} - \\frac{24 \\Omega_{z}^{2} g^{3} \\hbar \\omega^{2} a^{2} {a^\\dagger} \\sigma_{1}}{\\Omega_{z}^{4} \\omega^{2} - 2 \\Omega_{z}^{2} \\omega^{4} + \\omega^{6}} - \\frac{4 \\Omega_{z}^{2} g^{3} \\hbar \\omega^{2} a^{3} \\sigma_{1}}{\\Omega_{z}^{4} \\omega^{2} - 2 \\Omega_{z}^{2} \\omega^{4} + \\omega^{6}} - \\frac{16 \\Omega_{z}^{2} g^{3} \\hbar \\omega^{2} {a^\\dagger} a {a^\\dagger} \\sigma_{1}}{\\Omega_{z}^{4} \\omega^{2} - 2 \\Omega_{z}^{2} \\omega^{4} + \\omega^{6}} + \\frac{4 \\Omega_{z}^{2} g^{3} \\hbar \\omega^{2} {a^\\dagger} a^{2} \\sigma_{1}}{\\Omega_{z}^{4} \\omega^{2} - 2 \\Omega_{z}^{2} \\omega^{4} + \\omega^{6}} - \\frac{12 \\Omega_{z}^{2} g^{3} \\hbar \\omega^{2} {a^\\dagger} \\sigma_{1}}{\\Omega_{z}^{4} \\omega^{2} - 2 \\Omega_{z}^{2} \\omega^{4} + \\omega^{6}} - \\frac{8 \\Omega_{z}^{2} g^{3} \\hbar \\omega^{2} {a^\\dagger}^{2} a \\sigma_{1}}{\\Omega_{z}^{4} \\omega^{2} - 2 \\Omega_{z}^{2} \\omega^{4} + \\omega^{6}} - \\frac{4 \\Omega_{z}^{2} g^{3} \\hbar \\omega^{2} {a^\\dagger}^{3} \\sigma_{1}}{\\Omega_{z}^{4} \\omega^{2} - 2 \\Omega_{z}^{2} \\omega^{4} + \\omega^{6}} - \\frac{4 i \\Omega_{z} g^{3} \\hbar \\omega^{3} a {a^\\dagger}^{2} \\sigma_{2}}{\\Omega_{z}^{4} \\omega^{2} - 2 \\Omega_{z}^{2} \\omega^{4} + \\omega^{6}} - \\frac{6 i \\Omega_{z} g^{3} \\hbar \\omega^{3} a \\sigma_{2}}{\\Omega_{z}^{4} \\omega^{2} - 2 \\Omega_{z}^{2} \\omega^{4} + \\omega^{6}} + \\frac{10 i \\Omega_{z} g^{3} \\hbar \\omega^{3} a^{2} {a^\\dagger} \\sigma_{2}}{\\Omega_{z}^{4} \\omega^{2} - 2 \\Omega_{z}^{2} \\omega^{4} + \\omega^{6}} + \\frac{6 i \\Omega_{z} g^{3} \\hbar \\omega^{3} a^{3} \\sigma_{2}}{\\Omega_{z}^{4} \\omega^{2} - 2 \\Omega_{z}^{2} \\omega^{4} + \\omega^{6}} - \\frac{16 i \\Omega_{z} g^{3} \\hbar \\omega^{3} {a^\\dagger} a {a^\\dagger} \\sigma_{2}}{\\Omega_{z}^{4} \\omega^{2} - 2 \\Omega_{z}^{2} \\omega^{4} + \\omega^{6}} + \\frac{4 i \\Omega_{z} g^{3} \\hbar \\omega^{3} {a^\\dagger} a^{2} \\sigma_{2}}{\\Omega_{z}^{4} \\omega^{2} - 2 \\Omega_{z}^{2} \\omega^{4} + \\omega^{6}} + \\frac{10 i \\Omega_{z} g^{3} \\hbar \\omega^{3} {a^\\dagger} \\sigma_{2}}{\\Omega_{z}^{4} \\omega^{2} - 2 \\Omega_{z}^{2} \\omega^{4} + \\omega^{6}} + \\frac{6 i \\Omega_{z} g^{3} \\hbar \\omega^{3} {a^\\dagger}^{2} a \\sigma_{2}}{\\Omega_{z}^{4} \\omega^{2} - 2 \\Omega_{z}^{2} \\omega^{4} + \\omega^{6}} - \\frac{6 i \\Omega_{z} g^{3} \\hbar \\omega^{3} {a^\\dagger}^{3} \\sigma_{2}}{\\Omega_{z}^{4} \\omega^{2} - 2 \\Omega_{z}^{2} \\omega^{4} + \\omega^{6}} + g \\hbar a \\sigma_{1} + g \\hbar {a^\\dagger} \\sigma_{1}$"
      ],
      "text/plain": [
       "2*I*\\Omega_{z}**3*g**3*hbar*omega*a*\\sigma_{2}/(\\Omega_{z}**4*omega**2 - 2*\\Omega_{z}**2*omega**4 + omega**6) - 2*I*\\Omega_{z}**3*g**3*hbar*omega*a**2*{a^\\dagger}*\\sigma_{2}/(\\Omega_{z}**4*omega**2 - 2*\\Omega_{z}**2*omega**4 + omega**6) - 2*I*\\Omega_{z}**3*g**3*hbar*omega*a**3*\\sigma_{2}/(\\Omega_{z}**4*omega**2 - 2*\\Omega_{z}**2*omega**4 + omega**6) + 2*I*\\Omega_{z}**3*g**3*hbar*omega*{a^\\dagger}*\\sigma_{2}/(\\Omega_{z}**4*omega**2 - 2*\\Omega_{z}**2*omega**4 + omega**6) + 2*I*\\Omega_{z}**3*g**3*hbar*omega*{a^\\dagger}**2*a*\\sigma_{2}/(\\Omega_{z}**4*omega**2 - 2*\\Omega_{z}**2*omega**4 + omega**6) + 2*I*\\Omega_{z}**3*g**3*hbar*omega*{a^\\dagger}**3*\\sigma_{2}/(\\Omega_{z}**4*omega**2 - 2*\\Omega_{z}**2*omega**4 + omega**6) + 4*\\Omega_{z}**2*g**3*hbar*omega**2*a*{a^\\dagger}**2*\\sigma_{1}/(\\Omega_{z}**4*omega**2 - 2*\\Omega_{z}**2*omega**4 + omega**6) + 28*\\Omega_{z}**2*g**3*hbar*omega**2*a*\\sigma_{1}/(\\Omega_{z}**4*omega**2 - 2*\\Omega_{z}**2*omega**4 + omega**6) - 24*\\Omega_{z}**2*g**3*hbar*omega**2*a**2*{a^\\dagger}*\\sigma_{1}/(\\Omega_{z}**4*omega**2 - 2*\\Omega_{z}**2*omega**4 + omega**6) - 4*\\Omega_{z}**2*g**3*hbar*omega**2*a**3*\\sigma_{1}/(\\Omega_{z}**4*omega**2 - 2*\\Omega_{z}**2*omega**4 + omega**6) - 16*\\Omega_{z}**2*g**3*hbar*omega**2*{a^\\dagger}*a*{a^\\dagger}*\\sigma_{1}/(\\Omega_{z}**4*omega**2 - 2*\\Omega_{z}**2*omega**4 + omega**6) + 4*\\Omega_{z}**2*g**3*hbar*omega**2*{a^\\dagger}*a**2*\\sigma_{1}/(\\Omega_{z}**4*omega**2 - 2*\\Omega_{z}**2*omega**4 + omega**6) - 12*\\Omega_{z}**2*g**3*hbar*omega**2*{a^\\dagger}*\\sigma_{1}/(\\Omega_{z}**4*omega**2 - 2*\\Omega_{z}**2*omega**4 + omega**6) - 8*\\Omega_{z}**2*g**3*hbar*omega**2*{a^\\dagger}**2*a*\\sigma_{1}/(\\Omega_{z}**4*omega**2 - 2*\\Omega_{z}**2*omega**4 + omega**6) - 4*\\Omega_{z}**2*g**3*hbar*omega**2*{a^\\dagger}**3*\\sigma_{1}/(\\Omega_{z}**4*omega**2 - 2*\\Omega_{z}**2*omega**4 + omega**6) - 4*I*\\Omega_{z}*g**3*hbar*omega**3*a*{a^\\dagger}**2*\\sigma_{2}/(\\Omega_{z}**4*omega**2 - 2*\\Omega_{z}**2*omega**4 + omega**6) - 6*I*\\Omega_{z}*g**3*hbar*omega**3*a*\\sigma_{2}/(\\Omega_{z}**4*omega**2 - 2*\\Omega_{z}**2*omega**4 + omega**6) + 10*I*\\Omega_{z}*g**3*hbar*omega**3*a**2*{a^\\dagger}*\\sigma_{2}/(\\Omega_{z}**4*omega**2 - 2*\\Omega_{z}**2*omega**4 + omega**6) + 6*I*\\Omega_{z}*g**3*hbar*omega**3*a**3*\\sigma_{2}/(\\Omega_{z}**4*omega**2 - 2*\\Omega_{z}**2*omega**4 + omega**6) - 16*I*\\Omega_{z}*g**3*hbar*omega**3*{a^\\dagger}*a*{a^\\dagger}*\\sigma_{2}/(\\Omega_{z}**4*omega**2 - 2*\\Omega_{z}**2*omega**4 + omega**6) + 4*I*\\Omega_{z}*g**3*hbar*omega**3*{a^\\dagger}*a**2*\\sigma_{2}/(\\Omega_{z}**4*omega**2 - 2*\\Omega_{z}**2*omega**4 + omega**6) + 10*I*\\Omega_{z}*g**3*hbar*omega**3*{a^\\dagger}*\\sigma_{2}/(\\Omega_{z}**4*omega**2 - 2*\\Omega_{z}**2*omega**4 + omega**6) + 6*I*\\Omega_{z}*g**3*hbar*omega**3*{a^\\dagger}**2*a*\\sigma_{2}/(\\Omega_{z}**4*omega**2 - 2*\\Omega_{z}**2*omega**4 + omega**6) - 6*I*\\Omega_{z}*g**3*hbar*omega**3*{a^\\dagger}**3*\\sigma_{2}/(\\Omega_{z}**4*omega**2 - 2*\\Omega_{z}**2*omega**4 + omega**6) + g*hbar*a*\\sigma_{1} + g*hbar*{a^\\dagger}*\\sigma_{1}"
      ]
     },
     "execution_count": 24,
     "metadata": {},
     "output_type": "execute_result"
    }
   ],
   "source": [
    "Vk + Bk"
   ]
  },
  {
   "cell_type": "code",
   "execution_count": 29,
   "id": "bf68ab2c",
   "metadata": {},
   "outputs": [
    {
     "data": {
      "text/latex": [
       "$\\displaystyle \\frac{2 \\hbar \\omega \\left(- S^{2}_{0} \\Omega_{z}^{4} \\sigma_{0} + 2 S^{2}_{0} \\Omega_{z}^{2} \\omega^{2} \\sigma_{0} - S^{2}_{0} \\omega^{4} \\sigma_{0} - S^{2}_{1} \\Omega_{z}^{4} \\sigma_{1} + 2 S^{2}_{1} \\Omega_{z}^{2} \\omega^{2} \\sigma_{1} - S^{2}_{1} \\omega^{4} \\sigma_{1} - S^{2}_{2} \\Omega_{z}^{4} \\sigma_{2} + 2 S^{2}_{2} \\Omega_{z}^{2} \\omega^{2} \\sigma_{2} - S^{2}_{2} \\omega^{4} \\sigma_{2} - S^{2}_{3} \\Omega_{z}^{4} \\sigma_{3} + 2 S^{2}_{3} \\Omega_{z}^{2} \\omega^{2} \\sigma_{3} - S^{2}_{3} \\omega^{4} \\sigma_{3}\\right)}{\\Omega_{z}^{4} - 2 \\Omega_{z}^{2} \\omega^{2} + \\omega^{4}}$"
      ],
      "text/plain": [
       "2*hbar*omega*(-S^2_0*\\Omega_{z}**4*\\sigma_{0} + 2*S^2_0*\\Omega_{z}**2*omega**2*\\sigma_{0} - S^2_0*omega**4*\\sigma_{0} - S^2_1*\\Omega_{z}**4*\\sigma_{1} + 2*S^2_1*\\Omega_{z}**2*omega**2*\\sigma_{1} - S^2_1*omega**4*\\sigma_{1} - S^2_2*\\Omega_{z}**4*\\sigma_{2} + 2*S^2_2*\\Omega_{z}**2*omega**2*\\sigma_{2} - S^2_2*omega**4*\\sigma_{2} - S^2_3*\\Omega_{z}**4*\\sigma_{3} + 2*S^2_3*\\Omega_{z}**2*omega**2*\\sigma_{3} - S^2_3*omega**4*\\sigma_{3})/(\\Omega_{z}**4 - 2*\\Omega_{z}**2*omega**2 + omega**4)"
      ]
     },
     "execution_count": 29,
     "metadata": {},
     "output_type": "execute_result"
    }
   ],
   "source": [
    "group_by_infinite_operators(expression_to_solve)[a*ad*a].simplify()"
   ]
  },
  {
   "cell_type": "code",
   "execution_count": 31,
   "id": "dadf1410",
   "metadata": {},
   "outputs": [
    {
     "data": {
      "text/plain": [
       "{S^0_1: 0,\n",
       " S^0_2: 0,\n",
       " S^0_0: 0,\n",
       " S^0_3: 0,\n",
       " S^1_0: 0,\n",
       " S^1_1: (2*\\Omega_{z}**4*g**3 - \\Omega_{z}**4*g*omega**2 - 34*\\Omega_{z}**2*g**3*omega**2 + 2*\\Omega_{z}**2*g*omega**4 - g*omega**6)/(\\Omega_{z}**6*omega - 3*\\Omega_{z}**4*omega**3 + 3*\\Omega_{z}**2*omega**5 - omega**7),\n",
       " S^1_2: (I*\\Omega_{z}**5*g + 26*I*\\Omega_{z}**3*g**3 - 2*I*\\Omega_{z}**3*g*omega**2 + 6*I*\\Omega_{z}*g**3*omega**2 + I*\\Omega_{z}*g*omega**4)/(\\Omega_{z}**6 - 3*\\Omega_{z}**4*omega**2 + 3*\\Omega_{z}**2*omega**4 - omega**6),\n",
       " S^1_3: 0,\n",
       " S^2_0: 0,\n",
       " S^2_1: 0,\n",
       " S^2_2: 0,\n",
       " S^2_3: 0,\n",
       " S^3_0: 0,\n",
       " S^3_1: 0,\n",
       " S^3_2: 0,\n",
       " S^3_3: 0,\n",
       " S^4_0: 0,\n",
       " S^4_1: 0,\n",
       " S^4_2: 0,\n",
       " S^4_3: 0,\n",
       " S^5_0: 0,\n",
       " S^5_1: 0,\n",
       " S^5_2: 0,\n",
       " S^5_3: 0,\n",
       " S^6_0: 0,\n",
       " S^6_1: 0,\n",
       " S^6_2: 0,\n",
       " S^6_3: 0,\n",
       " S^7_0: 0,\n",
       " S^7_1: 0,\n",
       " S^7_2: 0,\n",
       " S^7_3: 0,\n",
       " S^8_0: 0,\n",
       " S^8_1: 0,\n",
       " S^8_2: 0,\n",
       " S^8_3: 0,\n",
       " S^9_0: 0,\n",
       " S^9_1: 0,\n",
       " S^9_2: 0,\n",
       " S^9_3: 0}"
      ]
     },
     "execution_count": 31,
     "metadata": {},
     "output_type": "execute_result"
    }
   ],
   "source": [
    "sols"
   ]
  },
  {
   "cell_type": "code",
   "execution_count": null,
   "id": "c6ed75a6",
   "metadata": {},
   "outputs": [],
   "source": []
  }
 ],
 "metadata": {
  "kernelspec": {
   "display_name": "Python 3 (ipykernel)",
   "language": "python",
   "name": "python3"
  },
  "language_info": {
   "codemirror_mode": {
    "name": "ipython",
    "version": 3
   },
   "file_extension": ".py",
   "mimetype": "text/x-python",
   "name": "python",
   "nbconvert_exporter": "python",
   "pygments_lexer": "ipython3",
   "version": "3.11.5"
  }
 },
 "nbformat": 4,
 "nbformat_minor": 5
}
