{
 "cells": [
  {
   "cell_type": "code",
   "execution_count": 37,
   "metadata": {},
   "outputs": [],
   "source": [
    "import sympy as sp\n",
    "from IPython.display import display, Math\n",
    "def display_dict(d):\n",
    "    for k, v in d.items():\n",
    "        if isinstance(v, sp.Expr):\n",
    "            display(Math(f\"{sp.latex(k)} = {sp.latex(v.simplify())}\"))\n",
    "        else:\n",
    "            display(Math(f\"{sp.latex(k)} = {v}\"))"
   ]
  },
  {
   "cell_type": "markdown",
   "metadata": {},
   "source": [
    "# Rabi model"
   ]
  },
  {
   "cell_type": "code",
   "execution_count": 1,
   "metadata": {},
   "outputs": [],
   "source": [
    "import sympy as sp\n",
    "import numpy as np\n",
    "from Modules.sympy.classes import *\n",
    "from Modules.sympy.utils import *\n",
    "from Modules.sympy.solver import *"
   ]
  },
  {
   "cell_type": "code",
   "execution_count": 2,
   "metadata": {},
   "outputs": [
    {
     "data": {
      "text/latex": [
       "$\\displaystyle \\frac{\\Omega_{z} \\hbar \\sigma_{3}}{2} - g \\hbar \\left(a + {a^\\dagger}\\right) \\sigma_{1} + \\hbar \\omega {a^\\dagger} a$"
      ],
      "text/plain": [
       "\\Omega_{z}*hbar*\\sigma_{3}/2 - g*hbar*(a + {a^\\dagger})*\\sigma_{1} + hbar*omega*{a^\\dagger}*a"
      ]
     },
     "execution_count": 2,
     "metadata": {},
     "output_type": "execute_result"
    }
   ],
   "source": [
    "Spin = RDBasis(\"\\\\sigma\", 'spin', dim=2)\n",
    "sx = Spin.project(sp.Matrix([[0, 1], [1, 0]]))\n",
    "sz = Spin.project(sp.Matrix([[1, 0], [0, -1]]))\n",
    "\n",
    "a = RDBoson(\"a\", subspace =\"b\")\n",
    "ad = RDBoson(\"{a^\\\\dagger}\", subspace =\"b\", is_annihilation=False)\n",
    "commutation_relations = {\n",
    "    a*ad: ad * a + 1,\n",
    "}\n",
    "\n",
    "hbar = RDsymbol(\"hbar\", order = 0)\n",
    "omega = RDsymbol(\"omega\", order = 0)\n",
    "Omega_z = RDsymbol(\"\\\\Omega_{z}\", order = 0)\n",
    "g = RDsymbol(\"g\", order = 1)\n",
    "\n",
    "H = hbar * omega * ad * a + hbar * Omega_z * sp.Rational(1,2) * sz - hbar * g * (a + ad) * sx\n",
    "H"
   ]
  },
  {
   "cell_type": "code",
   "execution_count": 3,
   "metadata": {},
   "outputs": [
    {
     "data": {
      "text/latex": [
       "$\\displaystyle \\frac{2 \\Omega_{z} g^{2} \\hbar {a^\\dagger} a \\sigma_{3}}{\\Omega_{z}^{2} - \\omega^{2}} + \\frac{\\Omega_{z} g^{2} \\hbar \\sigma_{3}}{\\Omega_{z}^{2} - \\omega^{2}} + \\frac{\\Omega_{z} \\hbar \\sigma_{3}}{2} + \\frac{g^{2} \\hbar \\omega}{\\Omega_{z}^{2} - \\omega^{2}} + \\hbar \\omega {a^\\dagger} a$"
      ],
      "text/plain": [
       "2*\\Omega_{z}*g**2*hbar*{a^\\dagger}*a*\\sigma_{3}/(\\Omega_{z}**2 - omega**2) + \\Omega_{z}*g**2*hbar*\\sigma_{3}/(\\Omega_{z}**2 - omega**2) + \\Omega_{z}*hbar*\\sigma_{3}/2 + g**2*hbar*omega/(\\Omega_{z}**2 - omega**2) + hbar*omega*{a^\\dagger}*a"
      ]
     },
     "execution_count": 3,
     "metadata": {},
     "output_type": "execute_result"
    }
   ],
   "source": [
    "sol = solver(H, Spin, order=2, full_diagonal=True, commutation_relations=commutation_relations)\n",
    "sol[0]"
   ]
  },
  {
   "cell_type": "markdown",
   "metadata": {},
   "source": [
    "# Jaynes-Cummings model"
   ]
  },
  {
   "cell_type": "code",
   "execution_count": 7,
   "metadata": {},
   "outputs": [],
   "source": [
    "import sympy as sp\n",
    "import numpy as np\n",
    "from Modules.sympy.classes import *\n",
    "from Modules.sympy.utils import *\n",
    "from Modules.sympy.solver import *"
   ]
  },
  {
   "cell_type": "code",
   "execution_count": 8,
   "metadata": {},
   "outputs": [
    {
     "data": {
      "text/latex": [
       "$\\displaystyle - \\frac{\\omega_{q} \\sigma_{3}}{2} + \\omega_{r} {a^\\dagger} a + \\frac{g a \\left(\\sigma_{1} - i \\sigma_{2}\\right)}{2} + \\frac{g {a^\\dagger} \\left(\\sigma_{1} + i \\sigma_{2}\\right)}{2}$"
      ],
      "text/plain": [
       "-\\omega_{q}*\\sigma_{3}/2 + \\omega_{r}*{a^\\dagger}*a + g*a*(\\sigma_{1} - I*\\sigma_{2})/2 + g*{a^\\dagger}*(\\sigma_{1} + I*\\sigma_{2})/2"
      ]
     },
     "execution_count": 8,
     "metadata": {},
     "output_type": "execute_result"
    }
   ],
   "source": [
    "wr = RDsymbol(\"\\\\omega_{r}\", order = 0)\n",
    "wq = RDsymbol(\"\\\\omega_{q}\", order = 0)\n",
    "g = RDsymbol(\"g\", order = 1)\n",
    "\n",
    "Spin = RDBasis(\"\\\\sigma\", 'spin', dim=2)\n",
    "s0, sx, sy, sz = Spin._basis\n",
    "\n",
    "sigma_p = sp.Rational(1,2)* (sx + sp.I * sy)\n",
    "sigma_m = sp.Rational(1,2)* (sx - sp.I * sy)\n",
    "\n",
    "a = RDBoson(\"a\", subspace =\"resonator\")\n",
    "ad = RDBoson(\"{a^\\\\dagger}\", subspace =\"resonator\", is_annihilation=False)\n",
    "commutation_relations = {\n",
    "    a*ad: ad * a + 1,\n",
    "}\n",
    "\n",
    "\n",
    "H0 = wr * ad * a - wq * sp.Rational(1,2) * sz\n",
    "H = H0 + g * a* sigma_m + g * ad * sigma_p\n",
    "H"
   ]
  },
  {
   "cell_type": "code",
   "execution_count": 9,
   "metadata": {},
   "outputs": [
    {
     "data": {
      "text/latex": [
       "$\\displaystyle - \\frac{\\omega_{q} \\sigma_{3}}{2} + \\omega_{r} {a^\\dagger} a + \\frac{g^{2}}{2 \\omega_{q} - 2 \\omega_{r}} - \\frac{g^{2} \\sigma_{3}}{2 \\omega_{q} - 2 \\omega_{r}} - \\frac{g^{2} {a^\\dagger} a \\sigma_{3}}{\\omega_{q} - \\omega_{r}}$"
      ],
      "text/plain": [
       "-\\omega_{q}*\\sigma_{3}/2 + \\omega_{r}*{a^\\dagger}*a + g**2/(2*\\omega_{q} - 2*\\omega_{r}) - g**2*\\sigma_{3}/(2*\\omega_{q} - 2*\\omega_{r}) - g**2*{a^\\dagger}*a*\\sigma_{3}/(\\omega_{q} - \\omega_{r})"
      ]
     },
     "execution_count": 9,
     "metadata": {},
     "output_type": "execute_result"
    }
   ],
   "source": [
    "sol = solver(H, Spin, order=2, full_diagonal=False, commutation_relations=commutation_relations)\n",
    "sol[0]"
   ]
  },
  {
   "cell_type": "markdown",
   "metadata": {},
   "source": [
    "# Transmon qubit coupled to resonator"
   ]
  },
  {
   "cell_type": "code",
   "execution_count": 1,
   "metadata": {},
   "outputs": [],
   "source": [
    "import sympy as sp\n",
    "import numpy as np\n",
    "from Modules.sympy.classes import *\n",
    "from Modules.sympy.utils import *\n",
    "from Modules.sympy.solver import *"
   ]
  },
  {
   "cell_type": "code",
   "execution_count": 2,
   "metadata": {},
   "outputs": [
    {
     "data": {
      "text/latex": [
       "$\\displaystyle \\frac{\\alpha \\left(\\left({a_t^\\dagger} {a_t}\\right)^{2} - {a_t^\\dagger} {a_t}\\right)}{2} + \\omega_{r} \\left(\\frac{1}{2} + {a_r^\\dagger} {a_r}\\right) - \\omega_{t} \\left(- \\frac{1}{2} + {a_t^\\dagger} {a_t}\\right) - g \\left({a_t^\\dagger} - {a_t}\\right) \\left({a_r^\\dagger} - {a_r}\\right)$"
      ],
      "text/plain": [
       "\\alpha*(({a_t^\\dagger}*{a_t})**2 - {a_t^\\dagger}*{a_t})/2 + \\omega_{r}*(1/2 + {a_r^\\dagger}*{a_r}) - \\omega_{t}*(-1/2 + {a_t^\\dagger}*{a_t}) - g*({a_t^\\dagger} - {a_t})*({a_r^\\dagger} - {a_r})"
      ]
     },
     "execution_count": 2,
     "metadata": {},
     "output_type": "execute_result"
    }
   ],
   "source": [
    "Finite = RDBasis(\"1\", 'finite', dim=1)\n",
    "\n",
    "at = RDBoson(\"{a_t}\", subspace =\"transmon\")\n",
    "adt = RDBoson(\"{a_t^\\\\dagger}\", subspace =\"transmon\", is_annihilation=False)\n",
    "ar = RDBoson(\"{a_r}\", subspace =\"resonator\")\n",
    "adr = RDBoson(\"{a_r^\\\\dagger}\", subspace =\"resonator\", is_annihilation=False)\n",
    "commutation_relations = {\n",
    "    #at * adt : adt * at + 1,\n",
    "    #ar * adr : adr * ar + 1,\n",
    "    ar * adt : adt * ar,\n",
    "    adr * at : at * adr,\n",
    "    ar * at : at * ar,\n",
    "    adr * adt : adt * adr,\n",
    "}\n",
    "\n",
    "omega_t = RDsymbol(\"\\\\omega_{t}\", order = 0)\n",
    "omega_r = RDsymbol(\"\\\\omega_{r}\", order = 0)\n",
    "alpha = RDsymbol(\"\\\\alpha\", order = 0)\n",
    "g = RDsymbol(\"g\", order = 1)\n",
    "\n",
    "H0 =  -omega_t * ( adt * at  - sp.Rational(1,2) )  + omega_r * (adr *ar + sp.Rational(1,2)) + sp.Rational(1,2) * alpha * ((adt*at)**2 - adt*at)\n",
    "H = H0 - g * (adt  - at) * (adr - ar) \n",
    "H"
   ]
  },
  {
   "cell_type": "code",
   "execution_count": 48,
   "metadata": {},
   "outputs": [
    {
     "data": {
      "text/latex": [
       "$\\displaystyle \\frac{2 \\alpha g^{2} {a_r^\\dagger} {a_r}}{\\alpha^{2} + 4 \\alpha \\omega_{t} - 4 \\omega_{r}^{2} + 4 \\omega_{t}^{2}} + \\frac{2 \\alpha g^{2} {a_r} {a_r^\\dagger}}{\\alpha^{2} + 4 \\alpha \\omega_{t} - 4 \\omega_{r}^{2} + 4 \\omega_{t}^{2}} - \\frac{\\alpha {a_t^\\dagger} {a_t}}{2} + \\frac{\\alpha {a_t^\\dagger} {a_t} {a_t^\\dagger} {a_t}}{2} + \\frac{4 \\omega_{r} g^{2} {a_t^\\dagger} {a_t}}{\\alpha^{2} + 4 \\alpha \\omega_{t} - 4 \\omega_{r}^{2} + 4 \\omega_{t}^{2}} + \\frac{4 \\omega_{r} g^{2} {a_t} {a_t^\\dagger}}{\\alpha^{2} + 4 \\alpha \\omega_{t} - 4 \\omega_{r}^{2} + 4 \\omega_{t}^{2}} + \\frac{\\omega_{r}}{2} + \\omega_{r} {a_r^\\dagger} {a_r} + \\frac{4 \\omega_{t} g^{2} {a_r^\\dagger} {a_r}}{\\alpha^{2} + 4 \\alpha \\omega_{t} - 4 \\omega_{r}^{2} + 4 \\omega_{t}^{2}} + \\frac{4 \\omega_{t} g^{2} {a_r} {a_r^\\dagger}}{\\alpha^{2} + 4 \\alpha \\omega_{t} - 4 \\omega_{r}^{2} + 4 \\omega_{t}^{2}} + \\frac{\\omega_{t}}{2} - \\omega_{t} {a_t^\\dagger} {a_t}$"
      ],
      "text/plain": [
       "2*\\alpha*g**2*{a_r^\\dagger}*{a_r}/(\\alpha**2 + 4*\\alpha*\\omega_{t} - 4*\\omega_{r}**2 + 4*\\omega_{t}**2) + 2*\\alpha*g**2*{a_r}*{a_r^\\dagger}/(\\alpha**2 + 4*\\alpha*\\omega_{t} - 4*\\omega_{r}**2 + 4*\\omega_{t}**2) - \\alpha*{a_t^\\dagger}*{a_t}/2 + \\alpha*{a_t^\\dagger}*{a_t}*{a_t^\\dagger}*{a_t}/2 + 4*\\omega_{r}*g**2*{a_t^\\dagger}*{a_t}/(\\alpha**2 + 4*\\alpha*\\omega_{t} - 4*\\omega_{r}**2 + 4*\\omega_{t}**2) + 4*\\omega_{r}*g**2*{a_t}*{a_t^\\dagger}/(\\alpha**2 + 4*\\alpha*\\omega_{t} - 4*\\omega_{r}**2 + 4*\\omega_{t}**2) + \\omega_{r}/2 + \\omega_{r}*{a_r^\\dagger}*{a_r} + 4*\\omega_{t}*g**2*{a_r^\\dagger}*{a_r}/(\\alpha**2 + 4*\\alpha*\\omega_{t} - 4*\\omega_{r}**2 + 4*\\omega_{t}**2) + 4*\\omega_{t}*g**2*{a_r}*{a_r^\\dagger}/(\\alpha**2 + 4*\\alpha*\\omega_{t} - 4*\\omega_{r}**2 + 4*\\omega_{t}**2) + \\omega_{t}/2 - \\omega_{t}*{a_t^\\dagger}*{a_t}"
      ]
     },
     "execution_count": 48,
     "metadata": {},
     "output_type": "execute_result"
    }
   ],
   "source": [
    "sol= solver(H, Finite, order=2, full_diagonal=True, commutation_relations=commutation_relations)\n",
    "sol[0]"
   ]
  },
  {
   "cell_type": "code",
   "execution_count": 49,
   "metadata": {},
   "outputs": [
    {
     "data": {
      "text/latex": [
       "$\\displaystyle 1 = \\frac{2 g^{2}}{\\alpha - 2 \\omega_{r} + 2 \\omega_{t}}$"
      ],
      "text/plain": [
       "<IPython.core.display.Math object>"
      ]
     },
     "metadata": {},
     "output_type": "display_data"
    },
    {
     "data": {
      "text/latex": [
       "$\\displaystyle {a_r^\\dagger} {a_r} = \\frac{4 g^{2} \\left(\\alpha + 2 \\omega_{t}\\right)}{\\alpha^{2} + 4 \\alpha \\omega_{t} - 4 \\omega_{r}^{2} + 4 \\omega_{t}^{2}}$"
      ],
      "text/plain": [
       "<IPython.core.display.Math object>"
      ]
     },
     "metadata": {},
     "output_type": "display_data"
    },
    {
     "data": {
      "text/latex": [
       "$\\displaystyle {a_t^\\dagger} {a_t} = \\frac{8 \\omega_{r} g^{2}}{\\alpha^{2} + 4 \\alpha \\omega_{t} - 4 \\omega_{r}^{2} + 4 \\omega_{t}^{2}}$"
      ],
      "text/plain": [
       "<IPython.core.display.Math object>"
      ]
     },
     "metadata": {},
     "output_type": "display_data"
    }
   ],
   "source": [
    "comm = {\n",
    "at * adt : adt * at + 1,\n",
    "ar * adr : adr * ar + 1,\n",
    "}\n",
    "\n",
    "display_dict(group_by_infinite_operators(apply_commutation_relations(sol[0] - H0, comm)))"
   ]
  },
  {
   "cell_type": "code",
   "execution_count": null,
   "metadata": {},
   "outputs": [],
   "source": [
    "Resonator = RDBasis(\"{a_r}\", 'resonator', dim=3)\n",
    "Transmon = RDBasis(\"{a_t}\", 'transmon', dim=3)\n",
    "\n",
    "a = sp.Matrix([[0,sp.sqrt(1),0],[0,0,sp.sqrt(2)],[0,0,0]])\n",
    "at = RDBoson(\"{a_t}\", subspace =\"transmon\")\n",
    "adt = RDBoson(\"{a_t^\\\\dagger}\", subspace =\"transmon\", is_annihilation=False)\n",
    "ar = RDBoson(\"{a_r}\", subspace =\"resonator\")\n",
    "adr = RDBoson(\"{a_r^\\\\dagger}\", subspace =\"resonator\", is_annihilation=False)\n",
    "commutation_relations = {\n",
    "    #at * adt : adt * at + 1,\n",
    "    #ar * adr : adr * ar + 1,\n",
    "    ar * adt : adt * ar,\n",
    "    adr * at : at * adr,\n",
    "    ar * at : at * ar,\n",
    "    adr * adt : adt * adr,\n",
    "}\n",
    "\n",
    "omega_t = RDsymbol(\"\\\\omega_{t}\", order = 0)\n",
    "omega_r = RDsymbol(\"\\\\omega_{r}\", order = 0)\n",
    "alpha = RDsymbol(\"\\\\alpha\", order = 0)\n",
    "g = RDsymbol(\"g\", order = 1)\n",
    "\n",
    "H0 =  -omega_t * ( adt * at  - sp.Rational(1,2) )  + omega_r * (adr *ar + sp.Rational(1,2)) + sp.Rational(1,2) * alpha * ((adt*at)**2 - adt*at)\n",
    "H = H0 - g * (adt  - at) * (adr - ar) \n",
    "H"
   ]
  },
  {
   "cell_type": "markdown",
   "metadata": {},
   "source": [
    "# Spin-Charge qubit coupled to resonator"
   ]
  },
  {
   "cell_type": "code",
   "execution_count": 19,
   "metadata": {},
   "outputs": [
    {
     "data": {
      "text/latex": [
       "$\\displaystyle \\frac{E_{\\sigma} \\sigma_{3}}{2} + \\frac{E_{\\tau} \\tau_{3}}{2} + \\omega \\hbar {a^\\dagger} a + \\left(g_{s} \\sigma_{1} \\tau_{3} - g_{t} \\tau_{1}\\right) \\left(a + {a^\\dagger}\\right)$"
      ],
      "text/plain": [
       "E_sigma*\\sigma_{3}/2 + E_tau*\\tau_{3}/2 + \\omega*hbar*{a^\\dagger}*a + (g_s*\\sigma_{1}*\\tau_{3} - g_t*\\tau_{1})*(a + {a^\\dagger})"
      ]
     },
     "execution_count": 19,
     "metadata": {},
     "output_type": "execute_result"
    }
   ],
   "source": [
    "Spin = RDBasis(\"\\\\sigma\", 'spin', dim=2)\n",
    "Charge = RDBasis(\"\\\\tau\",\"charge\", dim=2)\n",
    "Finite = RDCompositeBasis([Spin, Charge])\n",
    "\n",
    "sx = Spin.project(sp.Matrix([[0, 1], [1, 0]]))\n",
    "sz = Spin.project(sp.Matrix([[1, 0], [0, -1]]))\n",
    "\n",
    "tx = Charge.project(sp.Matrix([[0, 1], [1, 0]]))\n",
    "tz = Charge.project(sp.Matrix([[1, 0], [0, -1]]))\n",
    "\n",
    "a = RDBoson(\"a\", subspace =\"b\")\n",
    "ad = RDBoson(\"{a^\\\\dagger}\", subspace =\"b\", is_annihilation=False)\n",
    "commutation_relations = {\n",
    "    a*ad: ad * a + 1,\n",
    "}\n",
    "\n",
    "hbar = RDsymbol(\"hbar\", order = 0)\n",
    "Et = RDsymbol(\"E_tau\", order = 0)\n",
    "Es = RDsymbol(\"E_sigma\", order = 0)\n",
    "omega = RDsymbol(\"\\\\omega\", order = 0) \n",
    "gs = RDsymbol(\"g_s\", order = 1)\n",
    "gt = RDsymbol(\"g_t\", order = 1)\n",
    "\n",
    "H0 = hbar * omega * ad * a + Et * sp.Rational(1,2) * tz + Es * sp.Rational(1,2) * sz \n",
    "H = H0  + (-gt * tx + gs * sx * tz) * (a + ad)\n",
    "H"
   ]
  },
  {
   "cell_type": "code",
   "execution_count": 22,
   "metadata": {},
   "outputs": [
    {
     "ename": "KeyboardInterrupt",
     "evalue": "",
     "output_type": "error",
     "traceback": [
      "\u001b[1;31m---------------------------------------------------------------------------\u001b[0m",
      "\u001b[1;31mKeyboardInterrupt\u001b[0m                         Traceback (most recent call last)",
      "Cell \u001b[1;32mIn[22], line 1\u001b[0m\n\u001b[1;32m----> 1\u001b[0m sol\u001b[38;5;241m=\u001b[39m \u001b[43msolver\u001b[49m\u001b[43m(\u001b[49m\u001b[43mH\u001b[49m\u001b[43m,\u001b[49m\u001b[43m \u001b[49m\u001b[43mFinite\u001b[49m\u001b[43m,\u001b[49m\u001b[43m \u001b[49m\u001b[43morder\u001b[49m\u001b[38;5;241;43m=\u001b[39;49m\u001b[38;5;241;43m4\u001b[39;49m\u001b[43m,\u001b[49m\u001b[43m \u001b[49m\u001b[43mfull_diagonal\u001b[49m\u001b[38;5;241;43m=\u001b[39;49m\u001b[38;5;28;43;01mTrue\u001b[39;49;00m\u001b[43m,\u001b[49m\u001b[43m \u001b[49m\u001b[43mcommutation_relations\u001b[49m\u001b[38;5;241;43m=\u001b[39;49m\u001b[43mcommutation_relations\u001b[49m\u001b[43m)\u001b[49m\n\u001b[0;32m      2\u001b[0m sol[\u001b[38;5;241m0\u001b[39m]\n",
      "File \u001b[1;32mc:\\Users\\reascoir\\OneDrive - Universität Augsburg\\PhD_Brain\\Python Notebooks\\Packages\\PySW\\Modules\\sympy\\solver.py:204\u001b[0m, in \u001b[0;36msolver\u001b[1;34m(H, composite_basis, order, full_diagonal, commutation_relations)\u001b[0m\n\u001b[0;32m    202\u001b[0m Sk \u001b[38;5;241m=\u001b[39m S[k]\n\u001b[0;32m    203\u001b[0m \u001b[38;5;66;03m#display_dict({f\"Factorial for {k_total}\":rational_factorial[l_total - 1]})\u001b[39;00m\n\u001b[1;32m--> 204\u001b[0m new_term \u001b[38;5;241m=\u001b[39m  \u001b[43mcomposite_basis\u001b[49m\u001b[38;5;241;43m.\u001b[39;49m\u001b[43mproject\u001b[49m\u001b[43m(\u001b[49m\u001b[43mexpand_commutator\u001b[49m\u001b[43m(\u001b[49m\u001b[43mCommutator\u001b[49m\u001b[43m(\u001b[49m\u001b[43mprev_term\u001b[49m\u001b[43m,\u001b[49m\u001b[43m \u001b[49m\u001b[43mSk\u001b[49m\u001b[43m)\u001b[49m\u001b[43m)\u001b[49m\u001b[38;5;241;43m.\u001b[39;49m\u001b[43mdoit\u001b[49m\u001b[43m(\u001b[49m\u001b[43m)\u001b[49m\u001b[43m)\u001b[49m\u001b[38;5;241;43m.\u001b[39;49m\u001b[43msimplify\u001b[49m\u001b[43m(\u001b[49m\u001b[43m)\u001b[49m\u001b[38;5;241m.\u001b[39mexpand()\n\u001b[0;32m    205\u001b[0m \u001b[38;5;66;03m#display_dict({f'New term  {k_total}': new_term})\u001b[39;00m\n\u001b[0;32m    206\u001b[0m \n\u001b[0;32m    207\u001b[0m \u001b[38;5;66;03m#print(\"-\".center(200, \"-\"))\u001b[39;00m\n\u001b[0;32m    209\u001b[0m elementes_ordered[k_total] \u001b[38;5;241m=\u001b[39m new_term\n",
      "File \u001b[1;32mc:\\Users\\reascoir\\AppData\\Local\\miniconda3\\Lib\\site-packages\\sympy\\core\\basic.py:1853\u001b[0m, in \u001b[0;36mBasic.simplify\u001b[1;34m(self, **kwargs)\u001b[0m\n\u001b[0;32m   1851\u001b[0m \u001b[38;5;250m\u001b[39m\u001b[38;5;124;03m\"\"\"See the simplify function in sympy.simplify\"\"\"\u001b[39;00m\n\u001b[0;32m   1852\u001b[0m \u001b[38;5;28;01mfrom\u001b[39;00m \u001b[38;5;21;01msympy\u001b[39;00m\u001b[38;5;21;01m.\u001b[39;00m\u001b[38;5;21;01msimplify\u001b[39;00m\u001b[38;5;21;01m.\u001b[39;00m\u001b[38;5;21;01msimplify\u001b[39;00m \u001b[38;5;28;01mimport\u001b[39;00m simplify\n\u001b[1;32m-> 1853\u001b[0m \u001b[38;5;28;01mreturn\u001b[39;00m \u001b[43msimplify\u001b[49m\u001b[43m(\u001b[49m\u001b[38;5;28;43mself\u001b[39;49m\u001b[43m,\u001b[49m\u001b[43m \u001b[49m\u001b[38;5;241;43m*\u001b[39;49m\u001b[38;5;241;43m*\u001b[39;49m\u001b[43mkwargs\u001b[49m\u001b[43m)\u001b[49m\n",
      "File \u001b[1;32mc:\\Users\\reascoir\\AppData\\Local\\miniconda3\\Lib\\site-packages\\sympy\\simplify\\simplify.py:645\u001b[0m, in \u001b[0;36msimplify\u001b[1;34m(expr, ratio, measure, rational, inverse, doit, **kwargs)\u001b[0m\n\u001b[0;32m    643\u001b[0m expr \u001b[38;5;241m=\u001b[39m Mul(\u001b[38;5;241m*\u001b[39mpowsimp(expr)\u001b[38;5;241m.\u001b[39mas_content_primitive())\n\u001b[0;32m    644\u001b[0m _e \u001b[38;5;241m=\u001b[39m cancel(expr)\n\u001b[1;32m--> 645\u001b[0m expr1 \u001b[38;5;241m=\u001b[39m shorter(_e, \u001b[43m_mexpand\u001b[49m\u001b[43m(\u001b[49m\u001b[43m_e\u001b[49m\u001b[43m)\u001b[49m\u001b[38;5;241;43m.\u001b[39;49m\u001b[43mcancel\u001b[49m\u001b[43m(\u001b[49m\u001b[43m)\u001b[49m)  \u001b[38;5;66;03m# issue 6829\u001b[39;00m\n\u001b[0;32m    646\u001b[0m expr2 \u001b[38;5;241m=\u001b[39m shorter(together(expr, deep\u001b[38;5;241m=\u001b[39m\u001b[38;5;28;01mTrue\u001b[39;00m), together(expr1, deep\u001b[38;5;241m=\u001b[39m\u001b[38;5;28;01mTrue\u001b[39;00m))\n\u001b[0;32m    648\u001b[0m \u001b[38;5;28;01mif\u001b[39;00m ratio \u001b[38;5;129;01mis\u001b[39;00m S\u001b[38;5;241m.\u001b[39mInfinity:\n",
      "File \u001b[1;32mc:\\Users\\reascoir\\AppData\\Local\\miniconda3\\Lib\\site-packages\\sympy\\core\\expr.py:3791\u001b[0m, in \u001b[0;36mExpr.cancel\u001b[1;34m(self, *gens, **args)\u001b[0m\n\u001b[0;32m   3789\u001b[0m \u001b[38;5;250m\u001b[39m\u001b[38;5;124;03m\"\"\"See the cancel function in sympy.polys\"\"\"\u001b[39;00m\n\u001b[0;32m   3790\u001b[0m \u001b[38;5;28;01mfrom\u001b[39;00m \u001b[38;5;21;01msympy\u001b[39;00m\u001b[38;5;21;01m.\u001b[39;00m\u001b[38;5;21;01mpolys\u001b[39;00m\u001b[38;5;21;01m.\u001b[39;00m\u001b[38;5;21;01mpolytools\u001b[39;00m \u001b[38;5;28;01mimport\u001b[39;00m cancel\n\u001b[1;32m-> 3791\u001b[0m \u001b[38;5;28;01mreturn\u001b[39;00m \u001b[43mcancel\u001b[49m\u001b[43m(\u001b[49m\u001b[38;5;28;43mself\u001b[39;49m\u001b[43m,\u001b[49m\u001b[43m \u001b[49m\u001b[38;5;241;43m*\u001b[39;49m\u001b[43mgens\u001b[49m\u001b[43m,\u001b[49m\u001b[43m \u001b[49m\u001b[38;5;241;43m*\u001b[39;49m\u001b[38;5;241;43m*\u001b[39;49m\u001b[43margs\u001b[49m\u001b[43m)\u001b[49m\n",
      "File \u001b[1;32mc:\\Users\\reascoir\\AppData\\Local\\miniconda3\\Lib\\site-packages\\sympy\\polys\\polytools.py:6840\u001b[0m, in \u001b[0;36mcancel\u001b[1;34m(f, _signsimp, *gens, **args)\u001b[0m\n\u001b[0;32m   6838\u001b[0m     \u001b[38;5;28;01mif\u001b[39;00m f\u001b[38;5;241m.\u001b[39mis_Number \u001b[38;5;129;01mor\u001b[39;00m \u001b[38;5;28misinstance\u001b[39m(f, Relational) \u001b[38;5;129;01mor\u001b[39;00m \u001b[38;5;129;01mnot\u001b[39;00m \u001b[38;5;28misinstance\u001b[39m(f, Expr):\n\u001b[0;32m   6839\u001b[0m         \u001b[38;5;28;01mreturn\u001b[39;00m f\n\u001b[1;32m-> 6840\u001b[0m     f \u001b[38;5;241m=\u001b[39m \u001b[43mfactor_terms\u001b[49m\u001b[43m(\u001b[49m\u001b[43mf\u001b[49m\u001b[43m,\u001b[49m\u001b[43m \u001b[49m\u001b[43mradical\u001b[49m\u001b[38;5;241;43m=\u001b[39;49m\u001b[38;5;28;43;01mTrue\u001b[39;49;00m\u001b[43m)\u001b[49m\n\u001b[0;32m   6841\u001b[0m     p, q \u001b[38;5;241m=\u001b[39m f\u001b[38;5;241m.\u001b[39mas_numer_denom()\n\u001b[0;32m   6843\u001b[0m \u001b[38;5;28;01melif\u001b[39;00m \u001b[38;5;28mlen\u001b[39m(f) \u001b[38;5;241m==\u001b[39m \u001b[38;5;241m2\u001b[39m:\n",
      "File \u001b[1;32mc:\\Users\\reascoir\\AppData\\Local\\miniconda3\\Lib\\site-packages\\sympy\\core\\exprtools.py:1267\u001b[0m, in \u001b[0;36mfactor_terms\u001b[1;34m(expr, radical, clear, fraction, sign)\u001b[0m\n\u001b[0;32m   1265\u001b[0m     \u001b[38;5;28;01mreturn\u001b[39;00m rv\n\u001b[0;32m   1266\u001b[0m expr \u001b[38;5;241m=\u001b[39m sympify(expr)\n\u001b[1;32m-> 1267\u001b[0m \u001b[38;5;28;01mreturn\u001b[39;00m \u001b[43mdo\u001b[49m\u001b[43m(\u001b[49m\u001b[43mexpr\u001b[49m\u001b[43m)\u001b[49m\n",
      "File \u001b[1;32mc:\\Users\\reascoir\\AppData\\Local\\miniconda3\\Lib\\site-packages\\sympy\\core\\exprtools.py:1242\u001b[0m, in \u001b[0;36mfactor_terms.<locals>.do\u001b[1;34m(expr)\u001b[0m\n\u001b[0;32m   1240\u001b[0m cont, p \u001b[38;5;241m=\u001b[39m expr\u001b[38;5;241m.\u001b[39mas_content_primitive(radical\u001b[38;5;241m=\u001b[39mradical, clear\u001b[38;5;241m=\u001b[39mclear)\n\u001b[0;32m   1241\u001b[0m \u001b[38;5;28;01mif\u001b[39;00m p\u001b[38;5;241m.\u001b[39mis_Add:\n\u001b[1;32m-> 1242\u001b[0m     list_args \u001b[38;5;241m=\u001b[39m [\u001b[43mdo\u001b[49m\u001b[43m(\u001b[49m\u001b[43ma\u001b[49m\u001b[43m)\u001b[49m \u001b[38;5;28;01mfor\u001b[39;00m a \u001b[38;5;129;01min\u001b[39;00m Add\u001b[38;5;241m.\u001b[39mmake_args(p)]\n\u001b[0;32m   1243\u001b[0m     \u001b[38;5;66;03m# get a common negative (if there) which gcd_terms does not remove\u001b[39;00m\n\u001b[0;32m   1244\u001b[0m     \u001b[38;5;28;01mif\u001b[39;00m \u001b[38;5;129;01mnot\u001b[39;00m \u001b[38;5;28many\u001b[39m(a\u001b[38;5;241m.\u001b[39mas_coeff_Mul()[\u001b[38;5;241m0\u001b[39m]\u001b[38;5;241m.\u001b[39mextract_multiplicatively(\u001b[38;5;241m-\u001b[39m\u001b[38;5;241m1\u001b[39m) \u001b[38;5;129;01mis\u001b[39;00m \u001b[38;5;28;01mNone\u001b[39;00m\n\u001b[0;32m   1245\u001b[0m                \u001b[38;5;28;01mfor\u001b[39;00m a \u001b[38;5;129;01min\u001b[39;00m list_args):\n",
      "File \u001b[1;32mc:\\Users\\reascoir\\AppData\\Local\\miniconda3\\Lib\\site-packages\\sympy\\core\\exprtools.py:1263\u001b[0m, in \u001b[0;36mfactor_terms.<locals>.do\u001b[1;34m(expr)\u001b[0m\n\u001b[0;32m   1257\u001b[0m     p \u001b[38;5;241m=\u001b[39m gcd_terms(p,\n\u001b[0;32m   1258\u001b[0m         isprimitive\u001b[38;5;241m=\u001b[39m\u001b[38;5;28;01mTrue\u001b[39;00m,\n\u001b[0;32m   1259\u001b[0m         clear\u001b[38;5;241m=\u001b[39mclear,\n\u001b[0;32m   1260\u001b[0m         fraction\u001b[38;5;241m=\u001b[39mfraction)\u001b[38;5;241m.\u001b[39mxreplace(special)\n\u001b[0;32m   1261\u001b[0m \u001b[38;5;28;01melif\u001b[39;00m p\u001b[38;5;241m.\u001b[39margs:\n\u001b[0;32m   1262\u001b[0m     p \u001b[38;5;241m=\u001b[39m p\u001b[38;5;241m.\u001b[39mfunc(\n\u001b[1;32m-> 1263\u001b[0m         \u001b[38;5;241m*\u001b[39m[\u001b[43mdo\u001b[49m\u001b[43m(\u001b[49m\u001b[43ma\u001b[49m\u001b[43m)\u001b[49m \u001b[38;5;28;01mfor\u001b[39;00m a \u001b[38;5;129;01min\u001b[39;00m p\u001b[38;5;241m.\u001b[39margs])\n\u001b[0;32m   1264\u001b[0m rv \u001b[38;5;241m=\u001b[39m _keep_coeff(cont, p, clear\u001b[38;5;241m=\u001b[39mclear, sign\u001b[38;5;241m=\u001b[39msign)\n\u001b[0;32m   1265\u001b[0m \u001b[38;5;28;01mreturn\u001b[39;00m rv\n",
      "File \u001b[1;32mc:\\Users\\reascoir\\AppData\\Local\\miniconda3\\Lib\\site-packages\\sympy\\core\\exprtools.py:1230\u001b[0m, in \u001b[0;36mfactor_terms.<locals>.do\u001b[1;34m(expr)\u001b[0m\n\u001b[0;32m   1227\u001b[0m \u001b[38;5;28;01mif\u001b[39;00m expr\u001b[38;5;241m.\u001b[39mis_Pow \u001b[38;5;129;01mor\u001b[39;00m expr\u001b[38;5;241m.\u001b[39mis_Function \u001b[38;5;129;01mor\u001b[39;00m \\\n\u001b[0;32m   1228\u001b[0m         is_iterable \u001b[38;5;129;01mor\u001b[39;00m \u001b[38;5;129;01mnot\u001b[39;00m \u001b[38;5;28mhasattr\u001b[39m(expr, \u001b[38;5;124m'\u001b[39m\u001b[38;5;124margs_cnc\u001b[39m\u001b[38;5;124m'\u001b[39m):\n\u001b[0;32m   1229\u001b[0m     args \u001b[38;5;241m=\u001b[39m expr\u001b[38;5;241m.\u001b[39margs\n\u001b[1;32m-> 1230\u001b[0m     newargs \u001b[38;5;241m=\u001b[39m \u001b[38;5;28mtuple\u001b[39m([\u001b[43mdo\u001b[49m\u001b[43m(\u001b[49m\u001b[43mi\u001b[49m\u001b[43m)\u001b[49m \u001b[38;5;28;01mfor\u001b[39;00m i \u001b[38;5;129;01min\u001b[39;00m args])\n\u001b[0;32m   1231\u001b[0m     \u001b[38;5;28;01mif\u001b[39;00m newargs \u001b[38;5;241m==\u001b[39m args:\n\u001b[0;32m   1232\u001b[0m         \u001b[38;5;28;01mreturn\u001b[39;00m expr\n",
      "File \u001b[1;32mc:\\Users\\reascoir\\AppData\\Local\\miniconda3\\Lib\\site-packages\\sympy\\core\\exprtools.py:1257\u001b[0m, in \u001b[0;36mfactor_terms.<locals>.do\u001b[1;34m(expr)\u001b[0m\n\u001b[0;32m   1255\u001b[0m     \u001b[38;5;66;03m# rebuild p not worrying about the order which gcd_terms will fix\u001b[39;00m\n\u001b[0;32m   1256\u001b[0m     p \u001b[38;5;241m=\u001b[39m Add\u001b[38;5;241m.\u001b[39m_from_args(list_args)\n\u001b[1;32m-> 1257\u001b[0m     p \u001b[38;5;241m=\u001b[39m \u001b[43mgcd_terms\u001b[49m\u001b[43m(\u001b[49m\u001b[43mp\u001b[49m\u001b[43m,\u001b[49m\n\u001b[0;32m   1258\u001b[0m \u001b[43m        \u001b[49m\u001b[43misprimitive\u001b[49m\u001b[38;5;241;43m=\u001b[39;49m\u001b[38;5;28;43;01mTrue\u001b[39;49;00m\u001b[43m,\u001b[49m\n\u001b[0;32m   1259\u001b[0m \u001b[43m        \u001b[49m\u001b[43mclear\u001b[49m\u001b[38;5;241;43m=\u001b[39;49m\u001b[43mclear\u001b[49m\u001b[43m,\u001b[49m\n\u001b[0;32m   1260\u001b[0m \u001b[43m        \u001b[49m\u001b[43mfraction\u001b[49m\u001b[38;5;241;43m=\u001b[39;49m\u001b[43mfraction\u001b[49m\u001b[43m)\u001b[49m\u001b[38;5;241m.\u001b[39mxreplace(special)\n\u001b[0;32m   1261\u001b[0m \u001b[38;5;28;01melif\u001b[39;00m p\u001b[38;5;241m.\u001b[39margs:\n\u001b[0;32m   1262\u001b[0m     p \u001b[38;5;241m=\u001b[39m p\u001b[38;5;241m.\u001b[39mfunc(\n\u001b[0;32m   1263\u001b[0m         \u001b[38;5;241m*\u001b[39m[do(a) \u001b[38;5;28;01mfor\u001b[39;00m a \u001b[38;5;129;01min\u001b[39;00m p\u001b[38;5;241m.\u001b[39margs])\n",
      "File \u001b[1;32mc:\\Users\\reascoir\\AppData\\Local\\miniconda3\\Lib\\site-packages\\sympy\\core\\exprtools.py:1068\u001b[0m, in \u001b[0;36mgcd_terms\u001b[1;34m(terms, isprimitive, clear, fraction)\u001b[0m\n\u001b[0;32m   1066\u001b[0m     terms \u001b[38;5;241m=\u001b[39m sympify(terms)\n\u001b[0;32m   1067\u001b[0m terms, reps \u001b[38;5;241m=\u001b[39m mask(terms)\n\u001b[1;32m-> 1068\u001b[0m cont, numer, denom \u001b[38;5;241m=\u001b[39m \u001b[43m_gcd_terms\u001b[49m\u001b[43m(\u001b[49m\u001b[43mterms\u001b[49m\u001b[43m,\u001b[49m\u001b[43m \u001b[49m\u001b[43misprimitive\u001b[49m\u001b[43m,\u001b[49m\u001b[43m \u001b[49m\u001b[43mfraction\u001b[49m\u001b[43m)\u001b[49m\n\u001b[0;32m   1069\u001b[0m numer \u001b[38;5;241m=\u001b[39m numer\u001b[38;5;241m.\u001b[39mxreplace(reps)\n\u001b[0;32m   1070\u001b[0m coeff, factors \u001b[38;5;241m=\u001b[39m cont\u001b[38;5;241m.\u001b[39mas_coeff_Mul()\n",
      "File \u001b[1;32mc:\\Users\\reascoir\\AppData\\Local\\miniconda3\\Lib\\site-packages\\sympy\\core\\exprtools.py:953\u001b[0m, in \u001b[0;36m_gcd_terms\u001b[1;34m(terms, isprimitive, fraction)\u001b[0m\n\u001b[0;32m    950\u001b[0m     cont \u001b[38;5;241m=\u001b[39m cont\u001b[38;5;241m.\u001b[39mgcd(term)\n\u001b[0;32m    952\u001b[0m \u001b[38;5;28;01mfor\u001b[39;00m i, term \u001b[38;5;129;01min\u001b[39;00m \u001b[38;5;28menumerate\u001b[39m(terms):\n\u001b[1;32m--> 953\u001b[0m     terms[i] \u001b[38;5;241m=\u001b[39m \u001b[43mterm\u001b[49m\u001b[38;5;241;43m.\u001b[39;49m\u001b[43mquo\u001b[49m\u001b[43m(\u001b[49m\u001b[43mcont\u001b[49m\u001b[43m)\u001b[49m\n\u001b[0;32m    955\u001b[0m \u001b[38;5;28;01mif\u001b[39;00m fraction:\n\u001b[0;32m    956\u001b[0m     denom \u001b[38;5;241m=\u001b[39m terms[\u001b[38;5;241m0\u001b[39m]\u001b[38;5;241m.\u001b[39mdenom\n",
      "File \u001b[1;32mc:\\Users\\reascoir\\AppData\\Local\\miniconda3\\Lib\\site-packages\\sympy\\core\\exprtools.py:868\u001b[0m, in \u001b[0;36mTerm.quo\u001b[1;34m(self, other)\u001b[0m\n\u001b[0;32m    867\u001b[0m \u001b[38;5;28;01mdef\u001b[39;00m \u001b[38;5;21mquo\u001b[39m(\u001b[38;5;28mself\u001b[39m, other):  \u001b[38;5;66;03m# Term\u001b[39;00m\n\u001b[1;32m--> 868\u001b[0m     \u001b[38;5;28;01mreturn\u001b[39;00m \u001b[38;5;28;43mself\u001b[39;49m\u001b[38;5;241;43m.\u001b[39;49m\u001b[43mmul\u001b[49m\u001b[43m(\u001b[49m\u001b[43mother\u001b[49m\u001b[38;5;241;43m.\u001b[39;49m\u001b[43minv\u001b[49m\u001b[43m(\u001b[49m\u001b[43m)\u001b[49m\u001b[43m)\u001b[49m\n",
      "File \u001b[1;32mc:\\Users\\reascoir\\AppData\\Local\\miniconda3\\Lib\\site-packages\\sympy\\core\\exprtools.py:858\u001b[0m, in \u001b[0;36mTerm.mul\u001b[1;34m(self, other)\u001b[0m\n\u001b[0;32m    856\u001b[0m coeff \u001b[38;5;241m=\u001b[39m \u001b[38;5;28mself\u001b[39m\u001b[38;5;241m.\u001b[39mcoeff\u001b[38;5;241m*\u001b[39mother\u001b[38;5;241m.\u001b[39mcoeff\n\u001b[0;32m    857\u001b[0m numer \u001b[38;5;241m=\u001b[39m \u001b[38;5;28mself\u001b[39m\u001b[38;5;241m.\u001b[39mnumer\u001b[38;5;241m.\u001b[39mmul(other\u001b[38;5;241m.\u001b[39mnumer)\n\u001b[1;32m--> 858\u001b[0m denom \u001b[38;5;241m=\u001b[39m \u001b[38;5;28;43mself\u001b[39;49m\u001b[38;5;241;43m.\u001b[39;49m\u001b[43mdenom\u001b[49m\u001b[38;5;241;43m.\u001b[39;49m\u001b[43mmul\u001b[49m\u001b[43m(\u001b[49m\u001b[43mother\u001b[49m\u001b[38;5;241;43m.\u001b[39;49m\u001b[43mdenom\u001b[49m\u001b[43m)\u001b[49m\n\u001b[0;32m    860\u001b[0m numer, denom \u001b[38;5;241m=\u001b[39m numer\u001b[38;5;241m.\u001b[39mnormal(denom)\n\u001b[0;32m    862\u001b[0m \u001b[38;5;28;01mreturn\u001b[39;00m Term(coeff, numer, denom)\n",
      "File \u001b[1;32mc:\\Users\\reascoir\\AppData\\Local\\miniconda3\\Lib\\site-packages\\sympy\\core\\exprtools.py:484\u001b[0m, in \u001b[0;36mFactors.mul\u001b[1;34m(self, other)\u001b[0m\n\u001b[0;32m    480\u001b[0m             \u001b[38;5;28;01mcontinue\u001b[39;00m\n\u001b[0;32m    482\u001b[0m     factors[factor] \u001b[38;5;241m=\u001b[39m exp\n\u001b[1;32m--> 484\u001b[0m \u001b[38;5;28;01mreturn\u001b[39;00m \u001b[43mFactors\u001b[49m\u001b[43m(\u001b[49m\u001b[43mfactors\u001b[49m\u001b[43m)\u001b[49m\n",
      "File \u001b[1;32mc:\\Users\\reascoir\\AppData\\Local\\miniconda3\\Lib\\site-packages\\sympy\\core\\exprtools.py:324\u001b[0m, in \u001b[0;36mFactors.__init__\u001b[1;34m(self, factors)\u001b[0m\n\u001b[0;32m    322\u001b[0m \u001b[38;5;28;01mif\u001b[39;00m \u001b[38;5;28misinstance\u001b[39m(factors, Factors):\n\u001b[0;32m    323\u001b[0m     factors \u001b[38;5;241m=\u001b[39m factors\u001b[38;5;241m.\u001b[39mfactors\u001b[38;5;241m.\u001b[39mcopy()\n\u001b[1;32m--> 324\u001b[0m \u001b[38;5;28;01melif\u001b[39;00m \u001b[43mfactors\u001b[49m\u001b[43m \u001b[49m\u001b[38;5;129;43;01min\u001b[39;49;00m\u001b[43m \u001b[49m\u001b[43m(\u001b[49m\u001b[38;5;28;43;01mNone\u001b[39;49;00m\u001b[43m,\u001b[49m\u001b[43m \u001b[49m\u001b[43mS\u001b[49m\u001b[38;5;241;43m.\u001b[39;49m\u001b[43mOne\u001b[49m\u001b[43m)\u001b[49m:\n\u001b[0;32m    325\u001b[0m     factors \u001b[38;5;241m=\u001b[39m {}\n\u001b[0;32m    326\u001b[0m \u001b[38;5;28;01melif\u001b[39;00m factors \u001b[38;5;129;01mis\u001b[39;00m S\u001b[38;5;241m.\u001b[39mZero \u001b[38;5;129;01mor\u001b[39;00m factors \u001b[38;5;241m==\u001b[39m \u001b[38;5;241m0\u001b[39m:\n",
      "File \u001b[1;32mc:\\Users\\reascoir\\AppData\\Local\\miniconda3\\Lib\\site-packages\\sympy\\core\\numbers.py:2254\u001b[0m, in \u001b[0;36mInteger.__eq__\u001b[1;34m(self, other)\u001b[0m\n\u001b[0;32m   2252\u001b[0m \u001b[38;5;28;01melif\u001b[39;00m \u001b[38;5;28misinstance\u001b[39m(other, Integer):\n\u001b[0;32m   2253\u001b[0m     \u001b[38;5;28;01mreturn\u001b[39;00m (\u001b[38;5;28mself\u001b[39m\u001b[38;5;241m.\u001b[39mp \u001b[38;5;241m==\u001b[39m other\u001b[38;5;241m.\u001b[39mp)\n\u001b[1;32m-> 2254\u001b[0m \u001b[38;5;28;01mreturn\u001b[39;00m \u001b[43mRational\u001b[49m\u001b[38;5;241;43m.\u001b[39;49m\u001b[38;5;21;43m__eq__\u001b[39;49m\u001b[43m(\u001b[49m\u001b[38;5;28;43mself\u001b[39;49m\u001b[43m,\u001b[49m\u001b[43m \u001b[49m\u001b[43mother\u001b[49m\u001b[43m)\u001b[49m\n",
      "File \u001b[1;32mc:\\Users\\reascoir\\AppData\\Local\\miniconda3\\Lib\\site-packages\\sympy\\core\\numbers.py:1880\u001b[0m, in \u001b[0;36mRational.__eq__\u001b[1;34m(self, other)\u001b[0m\n\u001b[0;32m   1878\u001b[0m \u001b[38;5;28;01mdef\u001b[39;00m \u001b[38;5;21m__eq__\u001b[39m(\u001b[38;5;28mself\u001b[39m, other):\n\u001b[0;32m   1879\u001b[0m     \u001b[38;5;28;01mtry\u001b[39;00m:\n\u001b[1;32m-> 1880\u001b[0m         other \u001b[38;5;241m=\u001b[39m \u001b[43m_sympify\u001b[49m\u001b[43m(\u001b[49m\u001b[43mother\u001b[49m\u001b[43m)\u001b[49m\n\u001b[0;32m   1881\u001b[0m     \u001b[38;5;28;01mexcept\u001b[39;00m SympifyError:\n\u001b[0;32m   1882\u001b[0m         \u001b[38;5;28;01mreturn\u001b[39;00m \u001b[38;5;28mNotImplemented\u001b[39m\n",
      "File \u001b[1;32mc:\\Users\\reascoir\\AppData\\Local\\miniconda3\\Lib\\site-packages\\sympy\\core\\sympify.py:526\u001b[0m, in \u001b[0;36m_sympify\u001b[1;34m(a)\u001b[0m\n\u001b[0;32m    500\u001b[0m \u001b[38;5;28;01mdef\u001b[39;00m \u001b[38;5;21m_sympify\u001b[39m(a):\n\u001b[0;32m    501\u001b[0m \u001b[38;5;250m    \u001b[39m\u001b[38;5;124;03m\"\"\"\u001b[39;00m\n\u001b[0;32m    502\u001b[0m \u001b[38;5;124;03m    Short version of :func:`~.sympify` for internal usage for ``__add__`` and\u001b[39;00m\n\u001b[0;32m    503\u001b[0m \u001b[38;5;124;03m    ``__eq__`` methods where it is ok to allow some things (like Python\u001b[39;00m\n\u001b[1;32m   (...)\u001b[0m\n\u001b[0;32m    524\u001b[0m \n\u001b[0;32m    525\u001b[0m \u001b[38;5;124;03m    \"\"\"\u001b[39;00m\n\u001b[1;32m--> 526\u001b[0m     \u001b[38;5;28;01mreturn\u001b[39;00m \u001b[43msympify\u001b[49m\u001b[43m(\u001b[49m\u001b[43ma\u001b[49m\u001b[43m,\u001b[49m\u001b[43m \u001b[49m\u001b[43mstrict\u001b[49m\u001b[38;5;241;43m=\u001b[39;49m\u001b[38;5;28;43;01mTrue\u001b[39;49;00m\u001b[43m)\u001b[49m\n",
      "File \u001b[1;32mc:\\Users\\reascoir\\AppData\\Local\\miniconda3\\Lib\\site-packages\\sympy\\core\\sympify.py:381\u001b[0m, in \u001b[0;36msympify\u001b[1;34m(a, locals, convert_xor, strict, rational, evaluate)\u001b[0m\n\u001b[0;32m    379\u001b[0m         conv \u001b[38;5;241m=\u001b[39m _sympy_converter\u001b[38;5;241m.\u001b[39mget(superclass)\n\u001b[0;32m    380\u001b[0m     \u001b[38;5;28;01mif\u001b[39;00m conv \u001b[38;5;129;01mis\u001b[39;00m \u001b[38;5;129;01mnot\u001b[39;00m \u001b[38;5;28;01mNone\u001b[39;00m:\n\u001b[1;32m--> 381\u001b[0m         \u001b[38;5;28;01mreturn\u001b[39;00m \u001b[43mconv\u001b[49m\u001b[43m(\u001b[49m\u001b[43ma\u001b[49m\u001b[43m)\u001b[49m\n\u001b[0;32m    383\u001b[0m \u001b[38;5;28;01mif\u001b[39;00m \u001b[38;5;28mcls\u001b[39m \u001b[38;5;129;01mis\u001b[39;00m \u001b[38;5;28mtype\u001b[39m(\u001b[38;5;28;01mNone\u001b[39;00m):\n\u001b[0;32m    384\u001b[0m     \u001b[38;5;28;01mif\u001b[39;00m strict:\n",
      "File \u001b[1;32mc:\\Users\\reascoir\\AppData\\Local\\miniconda3\\Lib\\site-packages\\sympy\\core\\containers.py:332\u001b[0m, in \u001b[0;36m<lambda>\u001b[1;34m(d)\u001b[0m\n\u001b[0;32m    329\u001b[0m     \u001b[38;5;21m__hash__\u001b[39m : Callable[[Basic], Any] \u001b[38;5;241m=\u001b[39m Basic\u001b[38;5;241m.\u001b[39m\u001b[38;5;21m__hash__\u001b[39m\n\u001b[0;32m    331\u001b[0m \u001b[38;5;66;03m# this handles dict, defaultdict, OrderedDict\u001b[39;00m\n\u001b[1;32m--> 332\u001b[0m _sympy_converter[\u001b[38;5;28mdict\u001b[39m] \u001b[38;5;241m=\u001b[39m \u001b[38;5;28;01mlambda\u001b[39;00m d: \u001b[43mDict\u001b[49m\u001b[43m(\u001b[49m\u001b[38;5;241;43m*\u001b[39;49m\u001b[43md\u001b[49m\u001b[38;5;241;43m.\u001b[39;49m\u001b[43mitems\u001b[49m\u001b[43m(\u001b[49m\u001b[43m)\u001b[49m\u001b[43m)\u001b[49m\n\u001b[0;32m    334\u001b[0m \u001b[38;5;28;01mclass\u001b[39;00m \u001b[38;5;21;01mOrderedSet\u001b[39;00m(MutableSet):\n\u001b[0;32m    335\u001b[0m     \u001b[38;5;28;01mdef\u001b[39;00m \u001b[38;5;21m__init__\u001b[39m(\u001b[38;5;28mself\u001b[39m, iterable\u001b[38;5;241m=\u001b[39m\u001b[38;5;28;01mNone\u001b[39;00m):\n",
      "File \u001b[1;32mc:\\Users\\reascoir\\AppData\\Local\\miniconda3\\Lib\\site-packages\\sympy\\core\\containers.py:262\u001b[0m, in \u001b[0;36mDict.__new__\u001b[1;34m(cls, *args)\u001b[0m\n\u001b[0;32m    260\u001b[0m \u001b[38;5;28;01melse\u001b[39;00m:\n\u001b[0;32m    261\u001b[0m     \u001b[38;5;28;01mraise\u001b[39;00m \u001b[38;5;167;01mTypeError\u001b[39;00m(\u001b[38;5;124m'\u001b[39m\u001b[38;5;124mPass Dict args as Dict((k1, v1), ...) or Dict(\u001b[39m\u001b[38;5;124m{\u001b[39m\u001b[38;5;124mk1: v1, ...})\u001b[39m\u001b[38;5;124m'\u001b[39m)\n\u001b[1;32m--> 262\u001b[0m elements \u001b[38;5;241m=\u001b[39m \u001b[38;5;28;43mfrozenset\u001b[39;49m\u001b[43m(\u001b[49m\u001b[43mitems\u001b[49m\u001b[43m)\u001b[49m\n\u001b[0;32m    263\u001b[0m obj \u001b[38;5;241m=\u001b[39m Basic\u001b[38;5;241m.\u001b[39m\u001b[38;5;21m__new__\u001b[39m(\u001b[38;5;28mcls\u001b[39m, \u001b[38;5;241m*\u001b[39mordered(items))\n\u001b[0;32m    264\u001b[0m obj\u001b[38;5;241m.\u001b[39melements \u001b[38;5;241m=\u001b[39m elements\n",
      "File \u001b[1;32mc:\\Users\\reascoir\\AppData\\Local\\miniconda3\\Lib\\site-packages\\sympy\\core\\containers.py:109\u001b[0m, in \u001b[0;36mTuple.__hash__\u001b[1;34m(self)\u001b[0m\n\u001b[0;32m    108\u001b[0m \u001b[38;5;28;01mdef\u001b[39;00m \u001b[38;5;21m__hash__\u001b[39m(\u001b[38;5;28mself\u001b[39m):\n\u001b[1;32m--> 109\u001b[0m     \u001b[38;5;28;01mreturn\u001b[39;00m \u001b[38;5;28;43mhash\u001b[39;49m\u001b[43m(\u001b[49m\u001b[38;5;28;43mself\u001b[39;49m\u001b[38;5;241;43m.\u001b[39;49m\u001b[43margs\u001b[49m\u001b[43m)\u001b[49m\n",
      "\u001b[1;31mKeyboardInterrupt\u001b[0m: "
     ]
    }
   ],
   "source": [
    "sol= solver(H, Finite, order=4, full_diagonal=True, commutation_relations=commutation_relations)\n",
    "sol[0]"
   ]
  },
  {
   "cell_type": "code",
   "execution_count": null,
   "metadata": {},
   "outputs": [],
   "source": []
  }
 ],
 "metadata": {
  "kernelspec": {
   "display_name": "Python 3 (ipykernel)",
   "language": "python",
   "name": "python3"
  },
  "language_info": {
   "codemirror_mode": {
    "name": "ipython",
    "version": 3
   },
   "file_extension": ".py",
   "mimetype": "text/x-python",
   "name": "python",
   "nbconvert_exporter": "python",
   "pygments_lexer": "ipython3",
   "version": "3.11.5"
  }
 },
 "nbformat": 4,
 "nbformat_minor": 2
}
